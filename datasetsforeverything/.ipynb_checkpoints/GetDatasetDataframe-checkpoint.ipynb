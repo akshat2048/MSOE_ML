{
 "cells": [
  {
   "cell_type": "code",
   "execution_count": 1,
   "metadata": {},
   "outputs": [],
   "source": [
    "import os\n",
    "import pandas as pd"
   ]
  },
  {
   "cell_type": "code",
   "execution_count": 12,
   "metadata": {},
   "outputs": [],
   "source": [
    "# I just picked two random diseases and used them as normal and abnormal\n",
    "\n",
    "NAME_OF_TRAIN_FOLDER_CONTAINING_NORMAL_CLASSES = '/Volumes/90OL67YGN/images/train/Pneumonia'\n",
    "NAME_OF_TRAIN_FOLDER_CONTAINING_ABNORMAL_CLASSES = '/Volumes/90OL67YGN/images/train/Pneumothorax'\n",
    "\n",
    "lst_of_files_and_classes = []"
   ]
  },
  {
   "cell_type": "code",
   "execution_count": 13,
   "metadata": {},
   "outputs": [],
   "source": [
    "for root, dirs, files in os.walk('/Volumes/90OL67YGN/images/train'):\n",
    "    for file in files:\n",
    "        if (root == NAME_OF_TRAIN_FOLDER_CONTAINING_NORMAL_CLASSES):\n",
    "            lst_of_files_and_classes.append((os.path.join(root, file), 0))\n",
    "        elif (root == NAME_OF_TRAIN_FOLDER_CONTAINING_ABNORMAL_CLASSES):\n",
    "            lst_of_files_and_classes.append((os.path.join(root, file), 1))"
   ]
  },
  {
   "cell_type": "code",
   "execution_count": 14,
   "metadata": {},
   "outputs": [
    {
     "name": "stdout",
     "output_type": "stream",
     "text": [
      "[('/Volumes/90OL67YGN/images/train/Pneumonia/00000499_008.png', 0), ('/Volumes/90OL67YGN/images/train/Pneumonia/00001182_004.png', 0), ('/Volumes/90OL67YGN/images/train/Pneumonia/00000893_000.png', 0), ('/Volumes/90OL67YGN/images/train/Pneumonia/00001021_000.png', 0), ('/Volumes/90OL67YGN/images/train/Pneumonia/00001317_002.png', 0), ('/Volumes/90OL67YGN/images/train/Pneumonia/00001018_005.png', 0), ('/Volumes/90OL67YGN/images/train/Pneumonia/00000798_025.png', 0), ('/Volumes/90OL67YGN/images/train/Pneumonia/00000193_019.png', 0), ('/Volumes/90OL67YGN/images/train/Pneumonia/00000963_007.png', 0), ('/Volumes/90OL67YGN/images/train/Pneumonia/00001162_000.png', 0), ('/Volumes/90OL67YGN/images/train/Pneumonia/00000061_015.png', 0), ('/Volumes/90OL67YGN/images/train/Pneumonia/00000583_045.png', 0), ('/Volumes/90OL67YGN/images/train/Pneumonia/00000144_001.png', 0), ('/Volumes/90OL67YGN/images/train/Pneumonia/00000218_001.png', 0), ('/Volumes/90OL67YGN/images/train/Pneumonia/00001247_011.png', 0), ('/Volumes/90OL67YGN/images/train/Pneumonia/00000261_002.png', 0), ('/Volumes/90OL67YGN/images/train/Pneumonia/00000310_001.png', 0), ('/Volumes/90OL67YGN/images/train/Pneumonia/00000165_001.png', 0), ('/Volumes/90OL67YGN/images/train/Pneumonia/Pneumonia_original_00000310_001.png_e049af0e-9e9a-45f4-aef0-68abca28da64.png', 0), ('/Volumes/90OL67YGN/images/train/Pneumonia/Pneumonia_original_00001247_011.png_c3ec476e-d02d-41fe-98bf-915c223bcc3e.png', 0), ('/Volumes/90OL67YGN/images/train/Pneumonia/Pneumonia_original_00000165_001.png_cb7c616d-bd9b-45fd-88cc-d9dd0a6a9a4f.png', 0), ('/Volumes/90OL67YGN/images/train/Pneumonia/Pneumonia_original_00000061_015.png_6e71e117-e8f9-4bdf-b29e-eb215b27c5a9.png', 0), ('/Volumes/90OL67YGN/images/train/Pneumonia/Pneumonia_original_00001162_000.png_402fe037-db33-4192-872f-ac6707cd6b80.png', 0), ('/Volumes/90OL67YGN/images/train/Pneumonia/Pneumonia_original_00001162_000.png_d1bcbaea-cacd-463e-b66d-fc1ea5c75a84.png', 0), ('/Volumes/90OL67YGN/images/train/Pneumonia/Pneumonia_original_00000144_001.png_297672de-0bc5-442c-ba15-9aabaf1448c5.png', 0), ('/Volumes/90OL67YGN/images/train/Pneumonia/Pneumonia_original_00001317_002.png_fc87c5fd-eecb-44ee-a4b2-4d184ea1c952.png', 0), ('/Volumes/90OL67YGN/images/train/Pneumonia/Pneumonia_original_00000144_001.png_e77a14e9-cff2-4415-aa3c-6d2791c74b56.png', 0), ('/Volumes/90OL67YGN/images/train/Pneumonia/Pneumonia_original_00001317_002.png_afc9f0ad-f500-45d9-afbe-76e23d7a7d8f.png', 0), ('/Volumes/90OL67YGN/images/train/Pneumothorax/00000491_011.png', 1), ('/Volumes/90OL67YGN/images/train/Pneumothorax/00000468_006.png', 1), ('/Volumes/90OL67YGN/images/train/Pneumothorax/00000013_020.png', 1), ('/Volumes/90OL67YGN/images/train/Pneumothorax/00000859_002.png', 1), ('/Volumes/90OL67YGN/images/train/Pneumothorax/00000404_002.png', 1), ('/Volumes/90OL67YGN/images/train/Pneumothorax/00000416_006.png', 1), ('/Volumes/90OL67YGN/images/train/Pneumothorax/00001170_041.png', 1), ('/Volumes/90OL67YGN/images/train/Pneumothorax/00000468_011.png', 1), ('/Volumes/90OL67YGN/images/train/Pneumothorax/00000013_011.png', 1), ('/Volumes/90OL67YGN/images/train/Pneumothorax/00000013_039.png', 1), ('/Volumes/90OL67YGN/images/train/Pneumothorax/00000832_004.png', 1), ('/Volumes/90OL67YGN/images/train/Pneumothorax/00000643_005.png', 1), ('/Volumes/90OL67YGN/images/train/Pneumothorax/00001006_000.png', 1), ('/Volumes/90OL67YGN/images/train/Pneumothorax/00000468_016.png', 1), ('/Volumes/90OL67YGN/images/train/Pneumothorax/00000261_004.png', 1), ('/Volumes/90OL67YGN/images/train/Pneumothorax/00000467_013.png', 1), ('/Volumes/90OL67YGN/images/train/Pneumothorax/00000417_005.png', 1), ('/Volumes/90OL67YGN/images/train/Pneumothorax/00001170_023.png', 1), ('/Volumes/90OL67YGN/images/train/Pneumothorax/00000827_017.png', 1), ('/Volumes/90OL67YGN/images/train/Pneumothorax/00000502_006.png', 1), ('/Volumes/90OL67YGN/images/train/Pneumothorax/00001170_037.png', 1), ('/Volumes/90OL67YGN/images/train/Pneumothorax/00001006_019.png', 1), ('/Volumes/90OL67YGN/images/train/Pneumothorax/00000416_007.png', 1), ('/Volumes/90OL67YGN/images/train/Pneumothorax/00000744_004.png', 1), ('/Volumes/90OL67YGN/images/train/Pneumothorax/00000090_009.png', 1), ('/Volumes/90OL67YGN/images/train/Pneumothorax/00001170_028.png', 1), ('/Volumes/90OL67YGN/images/train/Pneumothorax/00000013_012.png', 1), ('/Volumes/90OL67YGN/images/train/Pneumothorax/00001006_024.png', 1), ('/Volumes/90OL67YGN/images/train/Pneumothorax/00000832_005.png', 1), ('/Volumes/90OL67YGN/images/train/Pneumothorax/00000493_000.png', 1), ('/Volumes/90OL67YGN/images/train/Pneumothorax/00000116_012.png', 1), ('/Volumes/90OL67YGN/images/train/Pneumothorax/00000643_006.png', 1), ('/Volumes/90OL67YGN/images/train/Pneumothorax/00001006_001.png', 1), ('/Volumes/90OL67YGN/images/train/Pneumothorax/00000368_003.png', 1), ('/Volumes/90OL67YGN/images/train/Pneumothorax/00000467_014.png', 1), ('/Volumes/90OL67YGN/images/train/Pneumothorax/00000296_000.png', 1), ('/Volumes/90OL67YGN/images/train/Pneumothorax/00000416_003.png', 1), ('/Volumes/90OL67YGN/images/train/Pneumothorax/00001248_036.png', 1), ('/Volumes/90OL67YGN/images/train/Pneumothorax/00000118_009.png', 1), ('/Volumes/90OL67YGN/images/train/Pneumothorax/00001170_024.png', 1), ('/Volumes/90OL67YGN/images/train/Pneumothorax/00000491_013.png', 1), ('/Volumes/90OL67YGN/images/train/Pneumothorax/00001006_020.png', 1), ('/Volumes/90OL67YGN/images/train/Pneumothorax/00000013_036.png', 1), ('/Volumes/90OL67YGN/images/train/Pneumothorax/00001170_015.png', 1), ('/Volumes/90OL67YGN/images/train/Pneumothorax/00001170_029.png', 1), ('/Volumes/90OL67YGN/images/train/Pneumothorax/00000372_002.png', 1), ('/Volumes/90OL67YGN/images/train/Pneumothorax/00000013_013.png', 1), ('/Volumes/90OL67YGN/images/train/Pneumothorax/00001029_002.png', 1), ('/Volumes/90OL67YGN/images/train/Pneumothorax/00000118_005.png', 1), ('/Volumes/90OL67YGN/images/train/Pneumothorax/00001194_000.png', 1), ('/Volumes/90OL67YGN/images/train/Pneumothorax/00001170_034.png', 1), ('/Volumes/90OL67YGN/images/train/Pneumothorax/00000103_006.png', 1), ('/Volumes/90OL67YGN/images/train/Pneumothorax/00000643_007.png', 1), ('/Volumes/90OL67YGN/images/train/Pneumothorax/00000231_003.png', 1), ('/Volumes/90OL67YGN/images/train/Pneumothorax/00000468_018.png', 1), ('/Volumes/90OL67YGN/images/train/Pneumothorax/00000118_010.png', 1), ('/Volumes/90OL67YGN/images/train/Pneumothorax/00000416_004.png', 1), ('/Volumes/90OL67YGN/images/train/Pneumothorax/00000608_003.png', 1), ('/Volumes/90OL67YGN/images/train/Pneumothorax/00001202_004.png', 1), ('/Volumes/90OL67YGN/images/train/Pneumothorax/00001194_005.png', 1), ('/Volumes/90OL67YGN/images/train/Pneumothorax/00001170_039.png', 1), ('/Volumes/90OL67YGN/images/train/Pneumothorax/00000865_000.png', 1), ('/Volumes/90OL67YGN/images/train/Pneumothorax/00000285_005.png', 1), ('/Volumes/90OL67YGN/images/train/Pneumothorax/00000758_002.png', 1), ('/Volumes/90OL67YGN/images/train/Pneumothorax/00000732_002.png', 1), ('/Volumes/90OL67YGN/images/train/Pneumothorax/00001170_030.png', 1), ('/Volumes/90OL67YGN/images/train/Pneumothorax/00000468_014.png', 1), ('/Volumes/90OL67YGN/images/train/Pneumothorax/00000372_003.png', 1), ('/Volumes/90OL67YGN/images/train/Pneumothorax/00000547_006.png', 1), ('/Volumes/90OL67YGN/images/train/Pneumothorax/00001029_003.png', 1), ('/Volumes/90OL67YGN/images/train/Pneumothorax/00001170_035.png', 1), ('/Volumes/90OL67YGN/images/train/Pneumothorax/00000631_004.png', 1), ('/Volumes/90OL67YGN/images/train/Pneumothorax/00000275_003.png', 1), ('/Volumes/90OL67YGN/images/train/Pneumothorax/00000013_033.png', 1), ('/Volumes/90OL67YGN/images/train/Pneumothorax/00000118_011.png', 1), ('/Volumes/90OL67YGN/images/train/Pneumothorax/00000296_002.png', 1), ('/Volumes/90OL67YGN/images/train/Pneumothorax/00000827_020.png', 1), ('/Volumes/90OL67YGN/images/train/Pneumothorax/00000416_005.png', 1), ('/Volumes/90OL67YGN/images/train/Pneumothorax/00001170_012.png', 1), ('/Volumes/90OL67YGN/images/train/Pneumothorax/00001170_040.png', 1), ('/Volumes/90OL67YGN/images/train/Pneumothorax/00000246_008.png', 1), ('/Volumes/90OL67YGN/images/train/Pneumothorax/00001286_005.png', 1), ('/Volumes/90OL67YGN/images/train/Pneumothorax/00000865_001.png', 1), ('/Volumes/90OL67YGN/images/train/Pneumothorax/00001006_022.png', 1), ('/Volumes/90OL67YGN/images/train/Pneumothorax/00000285_006.png', 1), ('/Volumes/90OL67YGN/images/train/Pneumothorax/00000103_003.png', 1), ('/Volumes/90OL67YGN/images/train/Pneumothorax/00000211_023.png', 1), ('/Volumes/90OL67YGN/images/train/Pneumothorax/00000322_010.png', 1), ('/Volumes/90OL67YGN/images/train/Pneumothorax/00000071_001.png', 1), ('/Volumes/90OL67YGN/images/train/Pneumothorax/00001170_036.png', 1), ('/Volumes/90OL67YGN/images/train/Pneumothorax/Pneumothorax_original_00001170_041.png_b320aa29-8c35-493f-9ed4-951f106913f1.png', 1), ('/Volumes/90OL67YGN/images/train/Pneumothorax/Pneumothorax_original_00000643_007.png_8df76664-8333-4982-8524-6b5d1a36d009.png', 1), ('/Volumes/90OL67YGN/images/train/Pneumothorax/Pneumothorax_original_00000467_013.png_27dc20bf-e1e9-446d-97f9-ef6f114e4b47.png', 1), ('/Volumes/90OL67YGN/images/train/Pneumothorax/Pneumothorax_original_00000368_003.png_9fc28f68-7f6a-4f1d-a348-214cddfd3129.png', 1), ('/Volumes/90OL67YGN/images/train/Pneumothorax/Pneumothorax_original_00001170_028.png_b8acc8d6-339e-457c-a533-3049a9586693.png', 1), ('/Volumes/90OL67YGN/images/train/Pneumothorax/Pneumothorax_original_00001248_036.png_dc7f6444-deab-4997-89d3-05ad926565ed.png', 1), ('/Volumes/90OL67YGN/images/train/Pneumothorax/Pneumothorax_original_00000468_014.png_4741d3e6-3855-43a9-84b2-cf843158bd35.png', 1), ('/Volumes/90OL67YGN/images/train/Pneumothorax/Pneumothorax_original_00000211_023.png_49f78c07-8932-4dce-8d00-8eddb403cd2e.png', 1), ('/Volumes/90OL67YGN/images/train/Pneumothorax/Pneumothorax_original_00000372_002.png_53ff35ac-2fb6-4e62-b9c1-752b48120ba7.png', 1), ('/Volumes/90OL67YGN/images/train/Pneumothorax/Pneumothorax_original_00000468_018.png_15b96b8b-1be3-4237-b633-3c0aa40f063e.png', 1)]\n"
     ]
    }
   ],
   "source": [
    "print(lst_of_files_and_classes)"
   ]
  },
  {
   "cell_type": "code",
   "execution_count": 15,
   "metadata": {},
   "outputs": [],
   "source": [
    "df = pd.DataFrame(lst_of_files_and_classes, columns =['filename', 'label'])"
   ]
  },
  {
   "cell_type": "code",
   "execution_count": 16,
   "metadata": {},
   "outputs": [
    {
     "data": {
      "text/html": [
       "<div>\n",
       "<style scoped>\n",
       "    .dataframe tbody tr th:only-of-type {\n",
       "        vertical-align: middle;\n",
       "    }\n",
       "\n",
       "    .dataframe tbody tr th {\n",
       "        vertical-align: top;\n",
       "    }\n",
       "\n",
       "    .dataframe thead th {\n",
       "        text-align: right;\n",
       "    }\n",
       "</style>\n",
       "<table border=\"1\" class=\"dataframe\">\n",
       "  <thead>\n",
       "    <tr style=\"text-align: right;\">\n",
       "      <th></th>\n",
       "      <th>filename</th>\n",
       "      <th>label</th>\n",
       "    </tr>\n",
       "  </thead>\n",
       "  <tbody>\n",
       "    <tr>\n",
       "      <th>0</th>\n",
       "      <td>/Volumes/90OL67YGN/images/train/Pneumonia/0000...</td>\n",
       "      <td>0</td>\n",
       "    </tr>\n",
       "    <tr>\n",
       "      <th>1</th>\n",
       "      <td>/Volumes/90OL67YGN/images/train/Pneumonia/0000...</td>\n",
       "      <td>0</td>\n",
       "    </tr>\n",
       "    <tr>\n",
       "      <th>2</th>\n",
       "      <td>/Volumes/90OL67YGN/images/train/Pneumonia/0000...</td>\n",
       "      <td>0</td>\n",
       "    </tr>\n",
       "    <tr>\n",
       "      <th>3</th>\n",
       "      <td>/Volumes/90OL67YGN/images/train/Pneumonia/0000...</td>\n",
       "      <td>0</td>\n",
       "    </tr>\n",
       "    <tr>\n",
       "      <th>4</th>\n",
       "      <td>/Volumes/90OL67YGN/images/train/Pneumonia/0000...</td>\n",
       "      <td>0</td>\n",
       "    </tr>\n",
       "  </tbody>\n",
       "</table>\n",
       "</div>"
      ],
      "text/plain": [
       "                                            filename  label\n",
       "0  /Volumes/90OL67YGN/images/train/Pneumonia/0000...      0\n",
       "1  /Volumes/90OL67YGN/images/train/Pneumonia/0000...      0\n",
       "2  /Volumes/90OL67YGN/images/train/Pneumonia/0000...      0\n",
       "3  /Volumes/90OL67YGN/images/train/Pneumonia/0000...      0\n",
       "4  /Volumes/90OL67YGN/images/train/Pneumonia/0000...      0"
      ]
     },
     "execution_count": 16,
     "metadata": {},
     "output_type": "execute_result"
    }
   ],
   "source": [
    "df.head()"
   ]
  },
  {
   "cell_type": "code",
   "execution_count": null,
   "metadata": {},
   "outputs": [],
   "source": []
  }
 ],
 "metadata": {
  "kernelspec": {
   "display_name": "Python 3 (ipykernel)",
   "language": "python",
   "name": "python3"
  },
  "language_info": {
   "codemirror_mode": {
    "name": "ipython",
    "version": 3
   },
   "file_extension": ".py",
   "mimetype": "text/x-python",
   "name": "python",
   "nbconvert_exporter": "python",
   "pygments_lexer": "ipython3",
   "version": "3.8.12"
  },
  "vscode": {
   "interpreter": {
    "hash": "f4232e35a17d310af1bb18ab8d5062a10cff20e52b686e5d270dd17948a21a21"
   }
  }
 },
 "nbformat": 4,
 "nbformat_minor": 2
}
