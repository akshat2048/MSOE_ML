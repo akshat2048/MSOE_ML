{
 "cells": [
  {
   "cell_type": "code",
   "execution_count": null,
   "metadata": {},
   "outputs": [
    {
     "ename": "",
     "evalue": "",
     "output_type": "error",
     "traceback": [
      "\u001b[1;31mFailed to start the Kernel. \n",
      "spawn /conda ENOENT. \n",
      "View Jupyter <a href='command:jupyter.viewOutput'>log</a> for further details."
     ]
    }
   ],
   "source": [
    "\"\"\"\n",
    "\n",
    "This Jupyter Notebook will recursively trace out the provided directory, scan for image files, and then invert them. This will NOT create a new copy of the images, so make sure you do that first.\n",
    "\n",
    "---\n",
    "\n",
    "Set DIRECTORY_WITH_IMAGES_TO_INVERT to the path where the images are located\n",
    "\n",
    "For example:\n",
    "\n",
    "    DIRECTORY_WITH_IMAGES_TO_INVERT = \"/Users/akshatchannashetti/Downloads/test\"\n",
    "    - test\n",
    "        - AP\n",
    "        - L\n",
    "        - PA\n",
    "            - 1.png\n",
    "            - 2.png\n",
    "    \n",
    "\n",
    "\"\"\"\n",
    "\n",
    "DIRECTORY_WITH_IMAGES_TO_INVERT = \"/Volumes/90OL67YGN/images\""
   ]
  },
  {
   "cell_type": "code",
   "execution_count": null,
   "metadata": {},
   "outputs": [],
   "source": [
    "import os\n",
    "from PIL import Image, ImageEnhance"
   ]
  },
  {
   "cell_type": "code",
   "execution_count": null,
   "metadata": {},
   "outputs": [],
   "source": [
    "def calculate_brightness(image):\n",
    "\n",
    "    greyscale_image = image.convert('L')\n",
    "    histogram = greyscale_image.histogram()\n",
    "    pixels = sum(histogram)\n",
    "    brightness = scale = len(histogram)\n",
    "\n",
    "    for index in range(0, scale):\n",
    "\n",
    "        ratio = histogram[index] / pixels\n",
    "        brightness += ratio * (-scale + index)\n",
    "    return 1 if brightness == 255 else brightness / scale\n",
    "\n",
    "def brightness_factor_calculator(brightness_level, brightness_average):\n",
    "    brightness_factor = brightness_average - brightness_level\n",
    "    readjustment_factor = 0\n",
    "    if brightness_factor < 0:\n",
    "        readjustment_factor = 1 - brightness_factor\n",
    "    elif brightness_factor > 0:\n",
    "        readjustment_factor = 1 + brightness_factor\n",
    "    else:\n",
    "        readjustment_factor = 1\n",
    "    return readjustment_factor"
   ]
  },
  {
   "cell_type": "code",
   "execution_count": null,
   "metadata": {},
   "outputs": [],
   "source": [
    "\"\"\"\n",
    "\n",
    "Essentially you will calculate the average brightness of all the images in a directory, then you will adjust the brightness of all the images in that directory by that average.\n",
    "\n",
    "\"\"\"\n",
    "\n",
    "brightness = []\n",
    "counter = 0\n",
    "\n",
    "for root, dirs, fileBucket in os.walk(DIRECTORY_WITH_IMAGES_TO_INVERT):\n",
    "    for file in fileBucket:\n",
    "        if (file.endswith(\".png\") or file.endswith(\".PNG\") or file.endswith(\".jpg\") or file.endswith(\".JPG\") or file.endswith(\".jpeg\") or file.endswith(\".JPEG\")) and not file.startswith(\".\"):\n",
    "            print(\"Calculating brightness for image: \" + file)\n",
    "            image = Image.open(os.path.join(root, file))\n",
    "            brightness.append(calculate_brightness(image))\n",
    "            counter += 1\n",
    "\n",
    "brightness_average = sum(brightness) / counter\n",
    "counter = 0\n",
    "\n",
    "\n",
    "for root, dirs, fileBucket in os.walk(DIRECTORY_WITH_IMAGES_TO_INVERT):\n",
    "    for file in fileBucket:\n",
    "        if (file.endswith(\".png\") or file.endswith(\".PNG\") or file.endswith(\".jpg\") or file.endswith(\".JPG\") or file.endswith(\".jpeg\") or file.endswith(\".JPEG\")) and not file.startswith(\".\"):\n",
    "            image = Image.open(os.path.join(root, file))\n",
    "            brightness_i = brightness[counter]\n",
    "            brightness_factor = brightness_factor_calculator(brightness_i, brightness_average)\n",
    "            print(\"Adjusting brightness for image: \" + file + \" by factor: \" + str(brightness_factor))\n",
    "            output = ImageEnhance.Brightness(image).enhance(brightness_factor)\n",
    "            os.remove(os.path.join(root, file))\n",
    "            output.save(os.path.join(root, file))"
   ]
  },
  {
   "cell_type": "code",
   "execution_count": null,
   "metadata": {},
   "outputs": [],
   "source": []
  }
 ],
 "metadata": {
  "interpreter": {
   "hash": "f4232e35a17d310af1bb18ab8d5062a10cff20e52b686e5d270dd17948a21a21"
  },
  "kernelspec": {
   "display_name": "Python 3.8.12 ('apple_tensorflow')",
   "language": "python",
   "name": "python3"
  },
  "language_info": {
   "name": "python",
   "version": "3.8.12"
  },
  "orig_nbformat": 4
 },
 "nbformat": 4,
 "nbformat_minor": 2
}
