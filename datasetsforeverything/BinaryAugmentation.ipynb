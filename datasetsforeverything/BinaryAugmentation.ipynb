{
 "cells": [
  {
   "cell_type": "code",
   "execution_count": 1,
   "metadata": {},
   "outputs": [],
   "source": [
    "import os\n",
    "import AugmentationPipeline"
   ]
  },
  {
   "cell_type": "markdown",
   "metadata": {},
   "source": [
    "# Form a testing and training directory"
   ]
  },
  {
   "cell_type": "code",
   "execution_count": 2,
   "metadata": {},
   "outputs": [],
   "source": [
    "### Insert train and test directory here\n",
    "\n",
    "TRAINING_DIRECTORY = '/Volumes/90OL67YGN/fake_train'\n",
    "TESTING_DIRECTORY = '/Volumes/90OL67YGN/fake_test'\n",
    "\n",
    "### If your subfolder names are not the ones below, change them here\n",
    "NORMAL_FOLDER_NAME = 'normal'\n",
    "ABNORMAL_FOLDER_NAME = 'abnormal'"
   ]
  },
  {
   "cell_type": "code",
   "execution_count": 3,
   "metadata": {},
   "outputs": [],
   "source": [
    "for folder in os.listdir(TRAINING_DIRECTORY):\n",
    "    if folder != '.DS_Store':\n",
    "        os.makedirs(os.path.join(TESTING_DIRECTORY, folder))"
   ]
  },
  {
   "cell_type": "code",
   "execution_count": null,
   "metadata": {},
   "outputs": [],
   "source": [
    "sourcepath = TRAIN_DIRECTORY"
   ]
  },
  {
   "cell_type": "code",
   "execution_count": null,
   "metadata": {},
   "outputs": [],
   "source": [
    "# get a list of files in directory MSOE_ML/datasetsforeverything/sample/normal\n",
    "normal_files = os.listdir(sourcepath + '/'+ NORMAL_FOLDER_NAME + '/')\n",
    "# print('Normal images:', normal_files)\n",
    "\n",
    "# get a list of files in directory MSOE_ML/datasetsforeverything/sample/abnormal\n",
    "abnormal_files = os.listdir( sourcepath + '/' + ABNORMAL_FOLDER_NAME + '/')\n",
    "# print('Abnormal images:', abnormal_files)"
   ]
  },
  {
   "cell_type": "code",
   "execution_count": null,
   "metadata": {},
   "outputs": [],
   "source": [
    "# randomly select 2 images from the normal images\n",
    "normal_images_to_transfer = random.sample(normal_files, math.floor(0.2*len(normal_files)))\n",
    "\n",
    "# randomly select 2 images from the abnormal images\n",
    "abnormal_images_to_transfer = random.sample(abnormal_files, math.floor(0.2*len(abnormal_files)))"
   ]
  },
  {
   "cell_type": "code",
   "execution_count": null,
   "metadata": {},
   "outputs": [],
   "source": [
    "# move these images to a folder called MSOE_ML/datasetsforeverything/sampletest/normal\n",
    "for image in normal_images_to_transfer:\n",
    "    sp = os.path.join(sourcepath + '/'+ NORMAL_FOLDER_NAME + '/', image)\n",
    "    destpath = TEST_DIRECTORY + '/'+ NORMAL_FOLDER_NAME + '/'\n",
    "    shutil.move(sp, destpath)\n",
    "\n",
    "# move these images to a folder called MSOE_ML/datasetsforeverything/sampletest/abnormal\n",
    "for image in abnormal_images_to_transfer:\n",
    "    sp = os.path.join(sourcepath + '/'+ ABNORMAL_FOLDER_NAME + '/', image)\n",
    "    destpath = TEST_DIRECTORY + '/'+ ABNORMAL_FOLDER_NAME + '/'\n",
    "    shutil.move(sp, destpath)"
   ]
  },
  {
   "cell_type": "markdown",
   "metadata": {},
   "source": [
    "# Balanced Augmentation"
   ]
  },
  {
   "cell_type": "code",
   "execution_count": null,
   "metadata": {},
   "outputs": [],
   "source": [
    "num_of_images = 0\n",
    "\n",
    "if len(os.listdir(os.path.join(TRAINING_DIRECTORY, '/'+ ABNORMAL_FOLDER_NAME + '/'))) > len(os.listdir(os.path.join(TRAINING_DIRECTORY, '/'+ NORMAL_FOLDER_NAME + '/'))):\n",
    "    num_of_images = len(os.listdir(os.path.join(TRAINING_DIRECTORY, '/'+ ABNORMAL_FOLDER_NAME + '/'))) - len(os.listdir(os.path.join(TRAINING_DIRECTORY, '/'+ NORMAL_FOLDER_NAME + '/')))\n",
    "else:\n",
    "    num_of_images = len(os.listdir(os.path.join(TRAINING_DIRECTORY, '/'+ NORMAL_FOLDER_NAME + '/'))) - len(os.listdir(os.path.join(TRAINING_DIRECTORY, '/'+ ABNORMAL_FOLDER_NAME + '/')))\n",
    "\n",
    "for folder in os.listdir(TRAINING_DIRECTORY):\n",
    "    if folder != '.DS_Store':\n",
    "        AugmentationPipeline.AugmentationPipeline(os.path.join(TRAINING_DIRECTORY, folder), num_of_images)"
   ]
  },
  {
   "cell_type": "markdown",
   "metadata": {},
   "source": [
    "# Important Notes\n",
    "\n",
    "Remember that the augmented data is now only in your training directory. Make sure that when you run model you set augmenting data = True. Make sure that when you run model you set the TEST_DIRECTORY in environmentsettings.py to the correct folder name"
   ]
  }
 ],
 "metadata": {
  "interpreter": {
   "hash": "f4232e35a17d310af1bb18ab8d5062a10cff20e52b686e5d270dd17948a21a21"
  },
  "kernelspec": {
   "display_name": "Python 3.8.12 ('apple_tensorflow')",
   "language": "python",
   "name": "python3"
  },
  "language_info": {
   "codemirror_mode": {
    "name": "ipython",
    "version": 3
   },
   "file_extension": ".py",
   "mimetype": "text/x-python",
   "name": "python",
   "nbconvert_exporter": "python",
   "pygments_lexer": "ipython3",
   "version": "3.8.12"
  },
  "orig_nbformat": 4
 },
 "nbformat": 4,
 "nbformat_minor": 2
}
