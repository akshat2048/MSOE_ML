{
 "cells": [
  {
   "cell_type": "code",
   "execution_count": 13,
   "metadata": {},
   "outputs": [],
   "source": [
    "import os\n",
    "import AugmentationPipeline\n",
    "import random\n",
    "import math\n",
    "import shutil\n"
   ]
  },
  {
   "cell_type": "markdown",
   "metadata": {},
   "source": [
    "# Form a testing and training directory"
   ]
  },
  {
   "cell_type": "code",
   "execution_count": 2,
   "metadata": {},
   "outputs": [],
   "source": [
    "### Insert train and test directory here\n",
    "\n",
    "TRAINING_DIRECTORY = '/Volumes/90OL67YGN/trainL'\n",
    "TESTING_DIRECTORY = '/Volumes/90OL67YGN/testL'\n",
    "\n",
    "### If your subfolder names are not the ones below, change them here\n",
    "NORMAL_FOLDER_NAME = 'normal'\n",
    "ABNORMAL_FOLDER_NAME = 'abnormal'"
   ]
  },
  {
   "cell_type": "code",
   "execution_count": 3,
   "metadata": {},
   "outputs": [],
   "source": [
    "for folder in os.listdir(TRAINING_DIRECTORY):\n",
    "    if folder != '.DS_Store':\n",
    "        os.makedirs(os.path.join(TESTING_DIRECTORY, folder))"
   ]
  },
  {
   "cell_type": "code",
   "execution_count": 6,
   "metadata": {},
   "outputs": [],
   "source": [
    "sourcepath = TRAINING_DIRECTORY"
   ]
  },
  {
   "cell_type": "code",
   "execution_count": 7,
   "metadata": {},
   "outputs": [],
   "source": [
    "# get a list of files in directory MSOE_ML/datasetsforeverything/sample/normal\n",
    "normal_files = os.listdir(sourcepath + '/'+ NORMAL_FOLDER_NAME + '/')\n",
    "# print('Normal images:', normal_files)\n",
    "\n",
    "# get a list of files in directory MSOE_ML/datasetsforeverything/sample/abnormal\n",
    "abnormal_files = os.listdir( sourcepath + '/' + ABNORMAL_FOLDER_NAME + '/')\n",
    "# print('Abnormal images:', abnormal_files)"
   ]
  },
  {
   "cell_type": "code",
   "execution_count": 11,
   "metadata": {},
   "outputs": [],
   "source": [
    "# randomly select 2 images from the normal images\n",
    "normal_images_to_transfer = random.sample(normal_files, math.floor(0.2*len(normal_files)))\n",
    "\n",
    "# randomly select 2 images from the abnormal images\n",
    "abnormal_images_to_transfer = random.sample(abnormal_files, math.floor(0.2*len(abnormal_files)))"
   ]
  },
  {
   "cell_type": "code",
   "execution_count": 14,
   "metadata": {},
   "outputs": [],
   "source": [
    "# move these images to a folder called MSOE_ML/datasetsforeverything/sampletest/normal\n",
    "for image in normal_images_to_transfer:\n",
    "    sp = os.path.join(sourcepath + '/'+ NORMAL_FOLDER_NAME + '/', image)\n",
    "    destpath = TESTING_DIRECTORY + '/'+ NORMAL_FOLDER_NAME + '/'\n",
    "    shutil.move(sp, destpath)\n",
    "\n",
    "# move these images to a folder called MSOE_ML/datasetsforeverything/sampletest/abnormal\n",
    "for image in abnormal_images_to_transfer:\n",
    "    sp = os.path.join(sourcepath + '/'+ ABNORMAL_FOLDER_NAME + '/', image)\n",
    "    destpath = TESTING_DIRECTORY + '/'+ ABNORMAL_FOLDER_NAME + '/'\n",
    "    shutil.move(sp, destpath)"
   ]
  },
  {
   "cell_type": "markdown",
   "metadata": {},
   "source": [
    "# Balanced Augmentation"
   ]
  },
  {
   "cell_type": "code",
   "execution_count": 19,
   "metadata": {},
   "outputs": [
    {
     "name": "stdout",
     "output_type": "stream",
     "text": [
      "Initialised with 21888 image(s) found.\n",
      "Output directory set to /Volumes/90OL67YGN/trainL/abnormal/output."
     ]
    },
    {
     "name": "stderr",
     "output_type": "stream",
     "text": [
      "Processing <PIL.Image.Image image mode=L size=320x320 at 0x126BB6190>:  32%|███▏      | 5550/17562 [01:15<02:42, 73.71 Samples/s]                   \n"
     ]
    },
    {
     "ename": "KeyboardInterrupt",
     "evalue": "",
     "output_type": "error",
     "traceback": [
      "\u001b[0;31m---------------------------------------------------------------------------\u001b[0m",
      "\u001b[0;31mKeyboardInterrupt\u001b[0m                         Traceback (most recent call last)",
      "\u001b[1;32m/Users/akshatchannashetti/Documents/VSCode_Projects/MSOE_ML/datasetsforeverything/BinaryAugmentation.ipynb Cell 10'\u001b[0m in \u001b[0;36m<module>\u001b[0;34m\u001b[0m\n\u001b[1;32m      <a href='vscode-notebook-cell:/Users/akshatchannashetti/Documents/VSCode_Projects/MSOE_ML/datasetsforeverything/BinaryAugmentation.ipynb#ch0000009?line=2'>3</a>\u001b[0m \u001b[39mif\u001b[39;00m \u001b[39mlen\u001b[39m(os\u001b[39m.\u001b[39mlistdir(os\u001b[39m.\u001b[39mpath\u001b[39m.\u001b[39mjoin(TRAINING_DIRECTORY, ABNORMAL_FOLDER_NAME))) \u001b[39m>\u001b[39m \u001b[39mlen\u001b[39m(os\u001b[39m.\u001b[39mlistdir(os\u001b[39m.\u001b[39mpath\u001b[39m.\u001b[39mjoin(TRAINING_DIRECTORY,NORMAL_FOLDER_NAME))):\n\u001b[1;32m      <a href='vscode-notebook-cell:/Users/akshatchannashetti/Documents/VSCode_Projects/MSOE_ML/datasetsforeverything/BinaryAugmentation.ipynb#ch0000009?line=3'>4</a>\u001b[0m     num_of_images \u001b[39m=\u001b[39m \u001b[39mlen\u001b[39m(os\u001b[39m.\u001b[39mlistdir(os\u001b[39m.\u001b[39mpath\u001b[39m.\u001b[39mjoin(TRAINING_DIRECTORY, ABNORMAL_FOLDER_NAME))) \u001b[39m-\u001b[39m \u001b[39mlen\u001b[39m(os\u001b[39m.\u001b[39mlistdir(os\u001b[39m.\u001b[39mpath\u001b[39m.\u001b[39mjoin(TRAINING_DIRECTORY, NORMAL_FOLDER_NAME)))\n\u001b[0;32m----> <a href='vscode-notebook-cell:/Users/akshatchannashetti/Documents/VSCode_Projects/MSOE_ML/datasetsforeverything/BinaryAugmentation.ipynb#ch0000009?line=4'>5</a>\u001b[0m     AugmentationPipeline\u001b[39m.\u001b[39;49maugmentation_pipeline(os\u001b[39m.\u001b[39;49mpath\u001b[39m.\u001b[39;49mjoin(TRAINING_DIRECTORY, ABNORMAL_FOLDER_NAME), num_of_images)\n\u001b[1;32m      <a href='vscode-notebook-cell:/Users/akshatchannashetti/Documents/VSCode_Projects/MSOE_ML/datasetsforeverything/BinaryAugmentation.ipynb#ch0000009?line=5'>6</a>\u001b[0m \u001b[39melse\u001b[39;00m:\n\u001b[1;32m      <a href='vscode-notebook-cell:/Users/akshatchannashetti/Documents/VSCode_Projects/MSOE_ML/datasetsforeverything/BinaryAugmentation.ipynb#ch0000009?line=6'>7</a>\u001b[0m     num_of_images \u001b[39m=\u001b[39m \u001b[39mlen\u001b[39m(os\u001b[39m.\u001b[39mlistdir(os\u001b[39m.\u001b[39mpath\u001b[39m.\u001b[39mjoin(TRAINING_DIRECTORY, NORMAL_FOLDER_NAME))) \u001b[39m-\u001b[39m \u001b[39mlen\u001b[39m(os\u001b[39m.\u001b[39mlistdir(os\u001b[39m.\u001b[39mpath\u001b[39m.\u001b[39mjoin(TRAINING_DIRECTORY, ABNORMAL_FOLDER_NAME)))\n",
      "File \u001b[0;32m~/Documents/VSCode_Projects/MSOE_ML/datasetsforeverything/AugmentationPipeline.py:20\u001b[0m, in \u001b[0;36maugmentation_pipeline\u001b[0;34m(DIRECTORY, NUMBER_TO_SAMPLE)\u001b[0m\n\u001b[1;32m      <a href='file:///Users/akshatchannashetti/Documents/VSCode_Projects/MSOE_ML/datasetsforeverything/AugmentationPipeline.py?line=8'>9</a>\u001b[0m p\u001b[39m.\u001b[39mrotate(\n\u001b[1;32m     <a href='file:///Users/akshatchannashetti/Documents/VSCode_Projects/MSOE_ML/datasetsforeverything/AugmentationPipeline.py?line=9'>10</a>\u001b[0m     probability\u001b[39m=\u001b[39m\u001b[39m0.5\u001b[39m,\n\u001b[1;32m     <a href='file:///Users/akshatchannashetti/Documents/VSCode_Projects/MSOE_ML/datasetsforeverything/AugmentationPipeline.py?line=10'>11</a>\u001b[0m     max_left_rotation\u001b[39m=\u001b[39m\u001b[39m15\u001b[39m,\n\u001b[1;32m     <a href='file:///Users/akshatchannashetti/Documents/VSCode_Projects/MSOE_ML/datasetsforeverything/AugmentationPipeline.py?line=11'>12</a>\u001b[0m     max_right_rotation\u001b[39m=\u001b[39m\u001b[39m15\u001b[39m\n\u001b[1;32m     <a href='file:///Users/akshatchannashetti/Documents/VSCode_Projects/MSOE_ML/datasetsforeverything/AugmentationPipeline.py?line=12'>13</a>\u001b[0m )\n\u001b[1;32m     <a href='file:///Users/akshatchannashetti/Documents/VSCode_Projects/MSOE_ML/datasetsforeverything/AugmentationPipeline.py?line=13'>14</a>\u001b[0m p\u001b[39m.\u001b[39mzoom(\n\u001b[1;32m     <a href='file:///Users/akshatchannashetti/Documents/VSCode_Projects/MSOE_ML/datasetsforeverything/AugmentationPipeline.py?line=14'>15</a>\u001b[0m     probability\u001b[39m=\u001b[39m\u001b[39m0.5\u001b[39m,\n\u001b[1;32m     <a href='file:///Users/akshatchannashetti/Documents/VSCode_Projects/MSOE_ML/datasetsforeverything/AugmentationPipeline.py?line=15'>16</a>\u001b[0m     min_factor\u001b[39m=\u001b[39m\u001b[39m1.05\u001b[39m,\n\u001b[1;32m     <a href='file:///Users/akshatchannashetti/Documents/VSCode_Projects/MSOE_ML/datasetsforeverything/AugmentationPipeline.py?line=16'>17</a>\u001b[0m     max_factor\u001b[39m=\u001b[39m\u001b[39m1.25\u001b[39m\n\u001b[1;32m     <a href='file:///Users/akshatchannashetti/Documents/VSCode_Projects/MSOE_ML/datasetsforeverything/AugmentationPipeline.py?line=17'>18</a>\u001b[0m )\n\u001b[0;32m---> <a href='file:///Users/akshatchannashetti/Documents/VSCode_Projects/MSOE_ML/datasetsforeverything/AugmentationPipeline.py?line=19'>20</a>\u001b[0m p\u001b[39m.\u001b[39;49msample(NUMBER_TO_SAMPLE)\n\u001b[1;32m     <a href='file:///Users/akshatchannashetti/Documents/VSCode_Projects/MSOE_ML/datasetsforeverything/AugmentationPipeline.py?line=21'>22</a>\u001b[0m \u001b[39mfor\u001b[39;00m file \u001b[39min\u001b[39;00m os\u001b[39m.\u001b[39mlistdir(os\u001b[39m.\u001b[39mpath\u001b[39m.\u001b[39mjoin(DIRECTORY, \u001b[39m'\u001b[39m\u001b[39moutput\u001b[39m\u001b[39m'\u001b[39m)):\n\u001b[1;32m     <a href='file:///Users/akshatchannashetti/Documents/VSCode_Projects/MSOE_ML/datasetsforeverything/AugmentationPipeline.py?line=22'>23</a>\u001b[0m     shutil\u001b[39m.\u001b[39mmove(os\u001b[39m.\u001b[39mpath\u001b[39m.\u001b[39mjoin(DIRECTORY, \u001b[39m'\u001b[39m\u001b[39moutput\u001b[39m\u001b[39m'\u001b[39m, file), DIRECTORY)\n",
      "File \u001b[0;32m~/miniforge3/envs/apple_tensorflow/lib/python3.8/site-packages/Augmentor/Pipeline.py:364\u001b[0m, in \u001b[0;36mPipeline.sample\u001b[0;34m(self, n, multi_threaded)\u001b[0m\n\u001b[1;32m    <a href='file:///Users/akshatchannashetti/miniforge3/envs/apple_tensorflow/lib/python3.8/site-packages/Augmentor/Pipeline.py?line=361'>362</a>\u001b[0m \u001b[39mwith\u001b[39;00m tqdm(total\u001b[39m=\u001b[39m\u001b[39mlen\u001b[39m(augmentor_images), desc\u001b[39m=\u001b[39m\u001b[39m\"\u001b[39m\u001b[39mExecuting Pipeline\u001b[39m\u001b[39m\"\u001b[39m, unit\u001b[39m=\u001b[39m\u001b[39m\"\u001b[39m\u001b[39m Samples\u001b[39m\u001b[39m\"\u001b[39m) \u001b[39mas\u001b[39;00m progress_bar:\n\u001b[1;32m    <a href='file:///Users/akshatchannashetti/miniforge3/envs/apple_tensorflow/lib/python3.8/site-packages/Augmentor/Pipeline.py?line=362'>363</a>\u001b[0m     \u001b[39mwith\u001b[39;00m ThreadPoolExecutor(max_workers\u001b[39m=\u001b[39m\u001b[39mNone\u001b[39;00m) \u001b[39mas\u001b[39;00m executor:\n\u001b[0;32m--> <a href='file:///Users/akshatchannashetti/miniforge3/envs/apple_tensorflow/lib/python3.8/site-packages/Augmentor/Pipeline.py?line=363'>364</a>\u001b[0m         \u001b[39mfor\u001b[39;00m result \u001b[39min\u001b[39;00m executor\u001b[39m.\u001b[39mmap(\u001b[39mself\u001b[39m, augmentor_images):\n\u001b[1;32m    <a href='file:///Users/akshatchannashetti/miniforge3/envs/apple_tensorflow/lib/python3.8/site-packages/Augmentor/Pipeline.py?line=364'>365</a>\u001b[0m             progress_bar\u001b[39m.\u001b[39mset_description(\u001b[39m\"\u001b[39m\u001b[39mProcessing \u001b[39m\u001b[39m%s\u001b[39;00m\u001b[39m\"\u001b[39m \u001b[39m%\u001b[39m result)\n\u001b[1;32m    <a href='file:///Users/akshatchannashetti/miniforge3/envs/apple_tensorflow/lib/python3.8/site-packages/Augmentor/Pipeline.py?line=365'>366</a>\u001b[0m             progress_bar\u001b[39m.\u001b[39mupdate(\u001b[39m1\u001b[39m)\n",
      "File \u001b[0;32m~/miniforge3/envs/apple_tensorflow/lib/python3.8/concurrent/futures/_base.py:619\u001b[0m, in \u001b[0;36mExecutor.map.<locals>.result_iterator\u001b[0;34m()\u001b[0m\n\u001b[1;32m    <a href='file:///Users/akshatchannashetti/miniforge3/envs/apple_tensorflow/lib/python3.8/concurrent/futures/_base.py?line=615'>616</a>\u001b[0m \u001b[39mwhile\u001b[39;00m fs:\n\u001b[1;32m    <a href='file:///Users/akshatchannashetti/miniforge3/envs/apple_tensorflow/lib/python3.8/concurrent/futures/_base.py?line=616'>617</a>\u001b[0m     \u001b[39m# Careful not to keep a reference to the popped future\u001b[39;00m\n\u001b[1;32m    <a href='file:///Users/akshatchannashetti/miniforge3/envs/apple_tensorflow/lib/python3.8/concurrent/futures/_base.py?line=617'>618</a>\u001b[0m     \u001b[39mif\u001b[39;00m timeout \u001b[39mis\u001b[39;00m \u001b[39mNone\u001b[39;00m:\n\u001b[0;32m--> <a href='file:///Users/akshatchannashetti/miniforge3/envs/apple_tensorflow/lib/python3.8/concurrent/futures/_base.py?line=618'>619</a>\u001b[0m         \u001b[39myield\u001b[39;00m fs\u001b[39m.\u001b[39;49mpop()\u001b[39m.\u001b[39;49mresult()\n\u001b[1;32m    <a href='file:///Users/akshatchannashetti/miniforge3/envs/apple_tensorflow/lib/python3.8/concurrent/futures/_base.py?line=619'>620</a>\u001b[0m     \u001b[39melse\u001b[39;00m:\n\u001b[1;32m    <a href='file:///Users/akshatchannashetti/miniforge3/envs/apple_tensorflow/lib/python3.8/concurrent/futures/_base.py?line=620'>621</a>\u001b[0m         \u001b[39myield\u001b[39;00m fs\u001b[39m.\u001b[39mpop()\u001b[39m.\u001b[39mresult(end_time \u001b[39m-\u001b[39m time\u001b[39m.\u001b[39mmonotonic())\n",
      "File \u001b[0;32m~/miniforge3/envs/apple_tensorflow/lib/python3.8/concurrent/futures/_base.py:439\u001b[0m, in \u001b[0;36mFuture.result\u001b[0;34m(self, timeout)\u001b[0m\n\u001b[1;32m    <a href='file:///Users/akshatchannashetti/miniforge3/envs/apple_tensorflow/lib/python3.8/concurrent/futures/_base.py?line=435'>436</a>\u001b[0m \u001b[39melif\u001b[39;00m \u001b[39mself\u001b[39m\u001b[39m.\u001b[39m_state \u001b[39m==\u001b[39m FINISHED:\n\u001b[1;32m    <a href='file:///Users/akshatchannashetti/miniforge3/envs/apple_tensorflow/lib/python3.8/concurrent/futures/_base.py?line=436'>437</a>\u001b[0m     \u001b[39mreturn\u001b[39;00m \u001b[39mself\u001b[39m\u001b[39m.\u001b[39m__get_result()\n\u001b[0;32m--> <a href='file:///Users/akshatchannashetti/miniforge3/envs/apple_tensorflow/lib/python3.8/concurrent/futures/_base.py?line=438'>439</a>\u001b[0m \u001b[39mself\u001b[39;49m\u001b[39m.\u001b[39;49m_condition\u001b[39m.\u001b[39;49mwait(timeout)\n\u001b[1;32m    <a href='file:///Users/akshatchannashetti/miniforge3/envs/apple_tensorflow/lib/python3.8/concurrent/futures/_base.py?line=440'>441</a>\u001b[0m \u001b[39mif\u001b[39;00m \u001b[39mself\u001b[39m\u001b[39m.\u001b[39m_state \u001b[39min\u001b[39;00m [CANCELLED, CANCELLED_AND_NOTIFIED]:\n\u001b[1;32m    <a href='file:///Users/akshatchannashetti/miniforge3/envs/apple_tensorflow/lib/python3.8/concurrent/futures/_base.py?line=441'>442</a>\u001b[0m     \u001b[39mraise\u001b[39;00m CancelledError()\n",
      "File \u001b[0;32m~/miniforge3/envs/apple_tensorflow/lib/python3.8/threading.py:302\u001b[0m, in \u001b[0;36mCondition.wait\u001b[0;34m(self, timeout)\u001b[0m\n\u001b[1;32m    <a href='file:///Users/akshatchannashetti/miniforge3/envs/apple_tensorflow/lib/python3.8/threading.py?line=299'>300</a>\u001b[0m \u001b[39mtry\u001b[39;00m:    \u001b[39m# restore state no matter what (e.g., KeyboardInterrupt)\u001b[39;00m\n\u001b[1;32m    <a href='file:///Users/akshatchannashetti/miniforge3/envs/apple_tensorflow/lib/python3.8/threading.py?line=300'>301</a>\u001b[0m     \u001b[39mif\u001b[39;00m timeout \u001b[39mis\u001b[39;00m \u001b[39mNone\u001b[39;00m:\n\u001b[0;32m--> <a href='file:///Users/akshatchannashetti/miniforge3/envs/apple_tensorflow/lib/python3.8/threading.py?line=301'>302</a>\u001b[0m         waiter\u001b[39m.\u001b[39;49macquire()\n\u001b[1;32m    <a href='file:///Users/akshatchannashetti/miniforge3/envs/apple_tensorflow/lib/python3.8/threading.py?line=302'>303</a>\u001b[0m         gotit \u001b[39m=\u001b[39m \u001b[39mTrue\u001b[39;00m\n\u001b[1;32m    <a href='file:///Users/akshatchannashetti/miniforge3/envs/apple_tensorflow/lib/python3.8/threading.py?line=303'>304</a>\u001b[0m     \u001b[39melse\u001b[39;00m:\n",
      "\u001b[0;31mKeyboardInterrupt\u001b[0m: "
     ]
    }
   ],
   "source": [
    "num_of_images = 0\n",
    "\n",
    "if len(os.listdir(os.path.join(TRAINING_DIRECTORY, ABNORMAL_FOLDER_NAME))) > len(os.listdir(os.path.join(TRAINING_DIRECTORY,NORMAL_FOLDER_NAME))):\n",
    "    num_of_images = len(os.listdir(os.path.join(TRAINING_DIRECTORY, ABNORMAL_FOLDER_NAME))) - len(os.listdir(os.path.join(TRAINING_DIRECTORY, NORMAL_FOLDER_NAME)))\n",
    "    AugmentationPipeline.augmentation_pipeline(os.path.join(TRAINING_DIRECTORY, ABNORMAL_FOLDER_NAME), num_of_images)\n",
    "else:\n",
    "    num_of_images = len(os.listdir(os.path.join(TRAINING_DIRECTORY, NORMAL_FOLDER_NAME))) - len(os.listdir(os.path.join(TRAINING_DIRECTORY, ABNORMAL_FOLDER_NAME)))\n",
    "    AugmentationPipeline.augmentation_pipeline(os.path.join(TRAINING_DIRECTORY, NORMAL_FOLDER_NAME), num_of_images)"
   ]
  },
  {
   "cell_type": "markdown",
   "metadata": {},
   "source": [
    "# Important Notes\n",
    "\n",
    "**Make sure you check the normal and abnormal training directories. They may have a folder called \"output\" that contains the augmented images. Make sure you move the images into the regular directory and delete the output folder.**\n",
    "\n",
    "Remember that the augmented data is now only in your training directory. Make sure that when you run model you set augmenting data = True. Make sure that when you run model you set the TEST_DIRECTORY in environmentsettings.py to the correct folder name"
   ]
  }
 ],
 "metadata": {
  "interpreter": {
   "hash": "f4232e35a17d310af1bb18ab8d5062a10cff20e52b686e5d270dd17948a21a21"
  },
  "kernelspec": {
   "display_name": "Python 3.8.12 ('apple_tensorflow')",
   "language": "python",
   "name": "python3"
  },
  "language_info": {
   "codemirror_mode": {
    "name": "ipython",
    "version": 3
   },
   "file_extension": ".py",
   "mimetype": "text/x-python",
   "name": "python",
   "nbconvert_exporter": "python",
   "pygments_lexer": "ipython3",
   "version": "3.8.12"
  },
  "orig_nbformat": 4
 },
 "nbformat": 4,
 "nbformat_minor": 2
}
