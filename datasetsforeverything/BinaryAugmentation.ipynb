{
 "cells": [
  {
   "cell_type": "code",
   "execution_count": 13,
   "metadata": {},
   "outputs": [],
   "source": [
    "import os\n",
    "import AugmentationPipeline\n",
    "import random\n",
    "import math\n",
    "import shutil\n"
   ]
  },
  {
   "cell_type": "markdown",
   "metadata": {},
   "source": [
    "# Form a testing and training directory"
   ]
  },
  {
   "cell_type": "code",
   "execution_count": 2,
   "metadata": {},
   "outputs": [],
   "source": [
    "\"\"\"\n",
    "\n",
    "Set to file path where the AP or PA directories are located\n",
    "\n",
    "For example, if your directory looks like '/Users/akshatchannashetti/Downloads/train/AP/normal', then set the path to '/Users/akshatchannashetti/Downloads/train/AP'\n",
    "\n",
    "You will have to run this JN again for every orientation (AP, PA, L)\n",
    "\n",
    "\"\"\"\n",
    "\n",
    "TRAINING_DIRECTORY = '/Users/akshatchannashetti/Downloads/train/AP'\n",
    "TESTING_DIRECTORY = '/Users/akshatchannashetti/Downloads/test/AP'\n",
    "\n",
    "### If your subfolder names are not the ones below, change them here\n",
    "NORMAL_FOLDER_NAME = 'normal'\n",
    "ABNORMAL_FOLDER_NAME = 'abnormal'"
   ]
  },
  {
   "cell_type": "markdown",
   "metadata": {},
   "source": [
    "# Balanced Augmentation"
   ]
  },
  {
   "cell_type": "code",
   "execution_count": 27,
   "metadata": {},
   "outputs": [
    {
     "name": "stdout",
     "output_type": "stream",
     "text": [
      "Initialised with 21450 image(s) found.\n",
      "Output directory set to /Volumes/90OL67YGN/trainL/normal/output."
     ]
    },
    {
     "name": "stderr",
     "output_type": "stream",
     "text": [
      "Processing <PIL.Image.Image image mode=L size=320x431 at 0x114CE9A00>: 100%|██████████| 5596/5596 [00:57<00:00, 97.62 Samples/s]                   \n"
     ]
    }
   ],
   "source": [
    "num_of_images = 0\n",
    "\n",
    "if len(os.listdir(os.path.join(TRAINING_DIRECTORY, ABNORMAL_FOLDER_NAME))) > len(os.listdir(os.path.join(TRAINING_DIRECTORY,NORMAL_FOLDER_NAME))):\n",
    "    num_of_images = len(os.listdir(os.path.join(TRAINING_DIRECTORY, ABNORMAL_FOLDER_NAME))) - len(os.listdir(os.path.join(TRAINING_DIRECTORY, NORMAL_FOLDER_NAME)))\n",
    "    AugmentationPipeline.augmentation_pipeline(os.path.join(TRAINING_DIRECTORY, NORMAL_FOLDER_NAME), num_of_images)\n",
    "else:\n",
    "    num_of_images = len(os.listdir(os.path.join(TRAINING_DIRECTORY, NORMAL_FOLDER_NAME))) - len(os.listdir(os.path.join(TRAINING_DIRECTORY, ABNORMAL_FOLDER_NAME)))\n",
    "    AugmentationPipeline.augmentation_pipeline(os.path.join(TRAINING_DIRECTORY, ABNORMAL_FOLDER_NAME), num_of_images)"
   ]
  },
  {
   "cell_type": "code",
   "execution_count": 28,
   "metadata": {},
   "outputs": [
    {
     "name": "stdout",
     "output_type": "stream",
     "text": [
      "27047\n",
      "27047\n"
     ]
    }
   ],
   "source": [
    "print(len(os.listdir(os.path.join(TRAINING_DIRECTORY, NORMAL_FOLDER_NAME))))\n",
    "print(len(os.listdir(os.path.join(TRAINING_DIRECTORY, ABNORMAL_FOLDER_NAME))))"
   ]
  },
  {
   "cell_type": "markdown",
   "metadata": {},
   "source": [
    "# Important Notes\n",
    "\n",
    "**Make sure you check the normal and abnormal training directories. They may have a folder called \"output\" that contains the augmented images. Make sure you move the images into the regular directory and delete the output folder.**\n",
    "\n",
    "Remember that the augmented data is now only in your training directory. Make sure that when you run model you set augmenting data = True. Make sure that when you run model you set the TEST_DIRECTORY in environmentsettings.py to the correct folder name"
   ]
  }
 ],
 "metadata": {
  "interpreter": {
   "hash": "f4232e35a17d310af1bb18ab8d5062a10cff20e52b686e5d270dd17948a21a21"
  },
  "kernelspec": {
   "display_name": "Python 3.8.12 ('apple_tensorflow')",
   "language": "python",
   "name": "python3"
  },
  "language_info": {
   "codemirror_mode": {
    "name": "ipython",
    "version": 3
   },
   "file_extension": ".py",
   "mimetype": "text/x-python",
   "name": "python",
   "nbconvert_exporter": "python",
   "pygments_lexer": "ipython3",
   "version": "3.8.12"
  },
  "orig_nbformat": 4
 },
 "nbformat": 4,
 "nbformat_minor": 2
}
