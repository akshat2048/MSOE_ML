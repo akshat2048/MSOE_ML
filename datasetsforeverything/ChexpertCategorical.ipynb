{
 "cells": [
  {
   "cell_type": "code",
   "execution_count": 39,
   "metadata": {},
   "outputs": [],
   "source": [
    "import pandas as pd\n",
    "import os"
   ]
  },
  {
   "cell_type": "code",
   "execution_count": 41,
   "metadata": {},
   "outputs": [],
   "source": [
    "\"\"\"\n",
    "\n",
    "Set to file path where CheXper-v1.0-small is located\n",
    "\n",
    "For example, if your directory looks like '/Users/tperera/documents/XRayData/CheXper-v1.0-small', then set the path to '/Users/tperera/documents/XRayData'\n",
    "\n",
    "\"\"\"\n",
    "\n",
    "PATH_TO_CHEXPERT_DOWNLOADS = \"C:/Users/samee/Downloads/Chexpert-Categorical-Single\""
   ]
  },
  {
   "cell_type": "code",
   "execution_count": 42,
   "metadata": {},
   "outputs": [],
   "source": [
    "# read in chexpert_train.csv\n",
    "chexpert_train = pd.read_csv('chexpert_train.csv')"
   ]
  },
  {
   "cell_type": "code",
   "execution_count": 43,
   "metadata": {},
   "outputs": [],
   "source": [
    "# remove people with support devices\n",
    "\n",
    "chexpert_train.drop(chexpert_train[chexpert_train['Support Devices'] == 1].index, inplace=True)"
   ]
  },
  {
   "cell_type": "code",
   "execution_count": 44,
   "metadata": {},
   "outputs": [],
   "source": [
    "# remove children (under 18)\n",
    "chexpert_train.drop(chexpert_train[chexpert_train['Age'] < 18].index, inplace=True)"
   ]
  },
  {
   "cell_type": "code",
   "execution_count": 45,
   "metadata": {},
   "outputs": [
    {
     "data": {
      "text/plain": [
       "Index(['No Finding', 'Enlarged Cardiomediastinum', 'Cardiomegaly',\n",
       "       'Lung Opacity', 'Lung Lesion', 'Edema', 'Consolidation', 'Pneumonia',\n",
       "       'Atelectasis', 'Pneumothorax', 'Pleural Effusion', 'Pleural Other',\n",
       "       'Fracture'],\n",
       "      dtype='object')"
      ]
     },
     "execution_count": 45,
     "metadata": {},
     "output_type": "execute_result"
    }
   ],
   "source": [
    "cols = chexpert_train.columns[5:-1]\n",
    "cols"
   ]
  },
  {
   "cell_type": "markdown",
   "metadata": {},
   "source": [
    "# The below cell removes patient data of patients with multiple conditions."
   ]
  },
  {
   "cell_type": "code",
   "execution_count": 46,
   "metadata": {},
   "outputs": [],
   "source": [
    "for index, row in chexpert_train.iterrows():\n",
    "    numberOf1s = 0\n",
    "    for column in cols:\n",
    "        if row[column] == 1.0:\n",
    "            numberOf1s += 1\n",
    "    if numberOf1s > 1:\n",
    "        chexpert_train.drop(index, inplace=True)\n",
    "        # print(\"Dropped this row: \", index)"
   ]
  },
  {
   "cell_type": "code",
   "execution_count": 47,
   "metadata": {},
   "outputs": [],
   "source": [
    "for index, row in chexpert_train.iterrows():\n",
    "    if row['Frontal/Lateral'] == 'Lateral':\n",
    "        chexpert_train.drop(index, inplace=True)"
   ]
  },
  {
   "cell_type": "code",
   "execution_count": 48,
   "metadata": {},
   "outputs": [],
   "source": [
    "for index, row in chexpert_train[chexpert_train['AP/PA'] == 'LL'].iterrows():\n",
    "    chexpert_train.drop(index, inplace=True)\n",
    "chexpert_train.drop(201068, inplace=True)"
   ]
  },
  {
   "cell_type": "code",
   "execution_count": 51,
   "metadata": {},
   "outputs": [],
   "source": [
    "# create all the folders\n",
    "\n",
    "for disease in chexpert_train.columns[5:-1]:\n",
    "    if not os.path.exists(os.path.join(PATH_TO_CHEXPERT_DOWNLOADS, disease)):\n",
    "        os.makedirs(os.path.join(PATH_TO_CHEXPERT_DOWNLOADS, disease))"
   ]
  },
  {
   "cell_type": "markdown",
   "metadata": {},
   "source": [
    "## Duplication strategy"
   ]
  },
  {
   "cell_type": "code",
   "execution_count": 52,
   "metadata": {},
   "outputs": [],
   "source": [
    "for disease in chexpert_train.columns[5:-1]:\n",
    "    imageNum = 0\n",
    "    for file in chexpert_train[chexpert_train[disease] == 1.0]['Path'].to_list():\n",
    "        imageNum += 1\n",
    "        proj = chexpert_train[chexpert_train['Path'] == file]['AP/PA'].to_list()[0]\n",
    "        os.rename(os.path.join(PATH_TO_CHEXPERT_DOWNLOADS, file), os.path.join(PATH_TO_CHEXPERT_DOWNLOADS, 'Train' + proj, disease, disease + ' ' + str(imageNum) + '.jpg'))"
   ]
  }
 ],
 "metadata": {
  "interpreter": {
   "hash": "1e533507eb76cbfb81c75639bacc8f460941550716639a402c578975cb3ec022"
  },
  "kernelspec": {
   "display_name": "Python 3.9.0 ('deeplearningkeras')",
   "language": "python",
   "name": "python3"
  },
  "language_info": {
   "codemirror_mode": {
    "name": "ipython",
    "version": 3
   },
   "file_extension": ".py",
   "mimetype": "text/x-python",
   "name": "python",
   "nbconvert_exporter": "python",
   "pygments_lexer": "ipython3",
   "version": "3.9.0"
  }
 },
 "nbformat": 4,
 "nbformat_minor": 2
}
