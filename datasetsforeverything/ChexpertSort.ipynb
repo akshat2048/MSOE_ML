{
 "cells": [
  {
   "cell_type": "code",
   "execution_count": 106,
   "metadata": {},
   "outputs": [],
   "source": [
    "import pandas as pd\n",
    "import shutil\n",
    "import os\n",
    "import random\n",
    "import math\n",
    "import glob"
   ]
  },
  {
   "cell_type": "code",
   "execution_count": 107,
   "metadata": {},
   "outputs": [
    {
     "name": "stdout",
     "output_type": "stream",
     "text": [
      "Multiple outputs per cell\n"
     ]
    }
   ],
   "source": [
    "from IPython.core.interactiveshell import InteractiveShell\n",
    "InteractiveShell.ast_node_interactivity = \"all\"\n",
    "\n",
    "print(\"Multiple outputs per cell\")"
   ]
  },
  {
   "cell_type": "code",
   "execution_count": 108,
   "metadata": {},
   "outputs": [],
   "source": [
    "images = pd.read_csv('train.csv')"
   ]
  },
  {
   "cell_type": "code",
   "execution_count": 109,
   "metadata": {},
   "outputs": [],
   "source": [
    "images = images[images['Support Devices'] != 1]\n",
    "images = images[images['Support Devices'] != 0]\n",
    "images['Classification'] = images['No Finding'] == 1.0\n",
    "normal_images = images[images['Classification'] == True]\n",
    "abnormal_images = images[images['Classification'] == False]"
   ]
  },
  {
   "cell_type": "code",
   "execution_count": 113,
   "metadata": {},
   "outputs": [],
   "source": [
    "# variables to determine the source and destination paths\n",
    "sourcepath = 'C:/Users/samee/Downloads/CheXpert-v1.0-small-binary/CheXpert-v1.0-small/train' # no need to put a forward slash at the front of directory name\n",
    "source = 'C:/Users/samee/Downloads/CheXpert-v1.0-small-binary' # YOU NEED TO HAVE THIS PATH CORRECT OR DEAL WITH THE PROBLEMS URSELF\n",
    "TEST_DIRECTORY = 'C:/Users/samee/Downloads/CheXpert-v1.0-small-binary/CheXpert-v1.0-small/valid'\n",
    "x = len(source) + 27"
   ]
  },
  {
   "cell_type": "code",
   "execution_count": 114,
   "metadata": {},
   "outputs": [],
   "source": [
    "if not os.path.exists(sourcepath + '/trainAP'):\n",
    "    os.makedirs(sourcepath + '/trainAP')\n",
    "\n",
    "if not os.path.exists(sourcepath + '/trainPA'):\n",
    "    os.makedirs(sourcepath + '/trainPA')\n",
    "\n",
    "if not os.path.exists(sourcepath + '/trainL'):\n",
    "    os.makedirs(sourcepath + '/trainL')\n",
    "#Test\n",
    "if not os.path.exists(TEST_DIRECTORY + '/testAP'):\n",
    "    os.makedirs(TEST_DIRECTORY + '/testAP')\n",
    "\n",
    "if not os.path.exists(TEST_DIRECTORY + '/testPA'):\n",
    "    os.makedirs(TEST_DIRECTORY + '/testPA')\n",
    "\n",
    "if not os.path.exists(TEST_DIRECTORY + '/testL'):\n",
    "    os.makedirs(TEST_DIRECTORY + '/testL')\n",
    "#AP Normal Abnormal\n",
    "if not os.path.exists(TEST_DIRECTORY + '/testAP/normal'):\n",
    "    os.makedirs(TEST_DIRECTORY + '/testAP/normal')\n",
    "\n",
    "if not os.path.exists(TEST_DIRECTORY + '/testAP/abnormal'):\n",
    "    os.makedirs(TEST_DIRECTORY + '/testAP/abnormal')\n",
    "\n",
    "if not os.path.exists(sourcepath + '/trainAP/normal'):\n",
    "    os.makedirs(sourcepath + '/trainAP/normal')\n",
    "\n",
    "if not os.path.exists(sourcepath + '/trainAP/abnormal'):\n",
    "    os.makedirs(sourcepath + '/trainAP/abnormal')\n",
    "#Lateral Normal Abnormal\n",
    "if not os.path.exists(TEST_DIRECTORY + '/testL/normal'):\n",
    "    os.makedirs(TEST_DIRECTORY + '/testL/normal')\n",
    "\n",
    "if not os.path.exists(TEST_DIRECTORY + '/testL/abnormal'):\n",
    "    os.makedirs(TEST_DIRECTORY + '/testL/abnormal')\n",
    "\n",
    "if not os.path.exists(sourcepath + '/trainL/normal'):\n",
    "    os.makedirs(sourcepath + '/trainL/normal')\n",
    "\n",
    "if not os.path.exists(sourcepath + '/trainL/abnormal'):\n",
    "    os.makedirs(sourcepath + '/trainL/abnormal')\n",
    "#PA Normal Abnormal\n",
    "if not os.path.exists(TEST_DIRECTORY + '/testPA/normal'):\n",
    "    os.makedirs(TEST_DIRECTORY + '/testPA/normal')\n",
    "\n",
    "if not os.path.exists(TEST_DIRECTORY + '/testPA/abnormal'):\n",
    "    os.makedirs(TEST_DIRECTORY + '/testPA/abnormal')\n",
    "\n",
    "if not os.path.exists(sourcepath + '/trainPA/normal'):\n",
    "    os.makedirs(sourcepath + '/trainPA/normal')\n",
    "\n",
    "if not os.path.exists(sourcepath + '/trainPA/abnormal'):\n",
    "    os.makedirs(sourcepath + '/trainPA/abnormal')"
   ]
  },
  {
   "cell_type": "code",
   "execution_count": 115,
   "metadata": {},
   "outputs": [],
   "source": [
    "directory = os.listdir(sourcepath)\n",
    "#Lateral\n",
    "for fileName in images[(images['Classification'] == True) & (images['Frontal/Lateral'] == 'Lateral')]['Path']:\n",
    "    #normal lateral\n",
    "    substring = fileName[26:]\n",
    "    filename = os.path.join(source, fileName)\n",
    "    filename = filename.replace('\\\\','/')\n",
    "    substring = substring.replace('/','_')\n",
    "    file = filename[0:x] + 'trainL/normal/' + substring\n",
    "    # rename will move it\n",
    "    os.rename(filename, file)\n",
    "for fileName in images[(images['Classification'] == False) & (images['Frontal/Lateral'] == 'Lateral')]['Path']:\n",
    "    #abnormal lateral\n",
    "    substring = fileName[26:]\n",
    "    filename = os.path.join(source, fileName)\n",
    "    substring = substring.replace('/','_')\n",
    "    file = filename[0:x] + 'trainL/abnormal/' + substring\n",
    "    # rename will move it\n",
    "    os.rename(filename, file)\n",
    "#AP\n",
    "for fileName in images[(images['Classification'] == True) & (images['AP/PA'] == 'AP')]['Path']:\n",
    "    #normalAP\n",
    "    substring = fileName[26:]\n",
    "    filename = os.path.join(source, fileName)\n",
    "    substring = substring.replace('/','_')\n",
    "    file = filename[0:x] + 'trainAP/normal/' + substring\n",
    "    # rename will move it\n",
    "    os.rename(filename, file)\n",
    "for fileName in images[(images['Classification'] == False) & (images['AP/PA'] == 'AP')]['Path']:\n",
    "    #abnormalAP\n",
    "    substring = fileName[26:]\n",
    "    filename = os.path.join(source, fileName)\n",
    "    substring = substring.replace('/','_')\n",
    "    file = filename[0:x] + 'trainAP/abnormal/' + substring\n",
    "    # rename will move it\n",
    "    os.rename(filename, file)\n",
    "\n",
    "#PA\n",
    "for fileName in images[(images['Classification'] == True) & (images['AP/PA'] == 'PA')]['Path']:\n",
    "    #normalPA\n",
    "    substring = fileName[26:]\n",
    "    filename = os.path.join(source, fileName)\n",
    "    substring = substring.replace('/','_')\n",
    "    file = filename[0:x] + 'trainPA/normal/' + substring\n",
    "    # rename will move it\n",
    "    os.rename(filename, file)\n",
    "for fileName in images[(images['Classification'] == False) & (images['AP/PA'] == 'PA')]['Path']:\n",
    "    #abnormalPA\n",
    "    substring = fileName[26:]\n",
    "    filename = os.path.join(source, fileName)\n",
    "    substring = substring.replace('/','_')\n",
    "    file = filename[0:x] + 'trainPA/abnormal/' + substring\n",
    "    # rename will move it\n",
    "    os.rename(filename, file)"
   ]
  }
 ],
 "metadata": {
  "interpreter": {
   "hash": "f856784eb8dcf2d3e4c52606edc4be4ac4edabe0d9c38c60452d6d6a5cc1135f"
  },
  "kernelspec": {
   "display_name": "Python 3.9.0 ('deeplearningkeras')",
   "language": "python",
   "name": "python3"
  },
  "language_info": {
   "codemirror_mode": {
    "name": "ipython",
    "version": 3
   },
   "file_extension": ".py",
   "mimetype": "text/x-python",
   "name": "python",
   "nbconvert_exporter": "python",
   "pygments_lexer": "ipython3",
   "version": "3.9.0"
  },
  "orig_nbformat": 4
 },
 "nbformat": 4,
 "nbformat_minor": 2
}
