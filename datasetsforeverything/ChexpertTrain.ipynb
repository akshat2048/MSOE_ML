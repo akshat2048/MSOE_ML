{
 "cells": [
  {
   "cell_type": "code",
   "execution_count": 2,
   "metadata": {
    "collapsed": true
   },
   "outputs": [],
   "source": [
    "import pandas as pd\n",
    "import shutil\n",
    "import os\n",
    "import random\n",
    "import math"
   ]
  },
  {
   "cell_type": "code",
   "execution_count": 3,
   "metadata": {
    "collapsed": false,
    "pycharm": {
     "name": "#%%\n"
    }
   },
   "outputs": [],
   "source": [
    "# variables to determine the source and destination paths\n",
    "sourcepath = '/Users/tperera/documents/XRayData/CheXpert-v1.0-small/train/' # no need to put a forward slash at the front of directory name\n",
    "source = '/Users/tperera/documents/XRayData/' # YOU NEED TO HAVE THIS PATH CORRECT OR DEAL WITH THE PROBLEMS URSELF\n",
    "TEST_DIRECTORY = '/Users/tperera/documents/XRayData/CheXpert-v1.0-small/valid/'\n",
    "x = len(source) + 26"
   ]
  },
  {
   "cell_type": "code",
   "execution_count": 4,
   "metadata": {
    "collapsed": false,
    "pycharm": {
     "name": "#%%\n"
    }
   },
   "outputs": [],
   "source": [
    "# check if directory exists\n",
    "# Regular Abnormal Normal\n",
    "if not os.path.exists(TEST_DIRECTORY + '/normal'):\n",
    "    os.makedirs(TEST_DIRECTORY + '/normal')\n",
    "\n",
    "if not os.path.exists(TEST_DIRECTORY + '/abnormal'):\n",
    "    os.makedirs(TEST_DIRECTORY + '/abnormal')\n",
    "\n",
    "if not os.path.exists(sourcepath + '/normal'):\n",
    "    os.makedirs(sourcepath + '/normal')\n",
    "\n",
    "if not os.path.exists(sourcepath + '/abnormal'):\n",
    "    os.makedirs(sourcepath + '/abnormal')\n",
    "#Train\n",
    "if not os.path.exists(sourcepath + '/trainAP'):\n",
    "    os.makedirs(sourcepath + '/trainAP')\n",
    "\n",
    "if not os.path.exists(sourcepath + '/trainPA'):\n",
    "    os.makedirs(sourcepath + '/trainPA')\n",
    "\n",
    "if not os.path.exists(sourcepath + '/trainL'):\n",
    "    os.makedirs(sourcepath + '/trainL')\n",
    "#Test\n",
    "if not os.path.exists(TEST_DIRECTORY + '/testAP'):\n",
    "    os.makedirs(TEST_DIRECTORY + '/testAP')\n",
    "\n",
    "if not os.path.exists(TEST_DIRECTORY + '/testPA'):\n",
    "    os.makedirs(TEST_DIRECTORY + '/testPA')\n",
    "\n",
    "if not os.path.exists(TEST_DIRECTORY + '/testL'):\n",
    "    os.makedirs(TEST_DIRECTORY + '/testL')\n",
    "#AP Normal Abnormal\n",
    "if not os.path.exists(TEST_DIRECTORY + '/testAP/normal'):\n",
    "    os.makedirs(TEST_DIRECTORY + '/testAP/normal')\n",
    "\n",
    "if not os.path.exists(TEST_DIRECTORY + '/testAP/abnormal'):\n",
    "    os.makedirs(TEST_DIRECTORY + '/testAP/abnormal')\n",
    "\n",
    "if not os.path.exists(sourcepath + '/trainAP/normal'):\n",
    "    os.makedirs(sourcepath + '/trainAP/normal')\n",
    "\n",
    "if not os.path.exists(sourcepath + '/trainAP/abnormal'):\n",
    "    os.makedirs(sourcepath + '/trainAP/abnormal')\n",
    "#Lateral Normal Abnormal\n",
    "if not os.path.exists(TEST_DIRECTORY + '/testL/normal'):\n",
    "    os.makedirs(TEST_DIRECTORY + '/testL/normal')\n",
    "\n",
    "if not os.path.exists(TEST_DIRECTORY + '/testL/abnormal'):\n",
    "    os.makedirs(TEST_DIRECTORY + '/testL/abnormal')\n",
    "\n",
    "if not os.path.exists(sourcepath + '/trainL/normal'):\n",
    "    os.makedirs(sourcepath + '/trainL/normal')\n",
    "\n",
    "if not os.path.exists(sourcepath + '/trainL/abnormal'):\n",
    "    os.makedirs(sourcepath + '/trainL/abnormal')\n",
    "#PA Normal Abnormal\n",
    "if not os.path.exists(TEST_DIRECTORY + '/testPA/normal'):\n",
    "    os.makedirs(TEST_DIRECTORY + '/testPA/normal')\n",
    "\n",
    "if not os.path.exists(TEST_DIRECTORY + '/testPA/abnormal'):\n",
    "    os.makedirs(TEST_DIRECTORY + '/testPA/abnormal')\n",
    "\n",
    "if not os.path.exists(sourcepath + '/trainPA/normal'):\n",
    "    os.makedirs(sourcepath + '/trainPA/normal')\n",
    "\n",
    "if not os.path.exists(sourcepath + '/trainPA/abnormal'):\n",
    "    os.makedirs(sourcepath + '/trainPA/abnormal')\n"
   ]
  },
  {
   "cell_type": "code",
   "execution_count": 5,
   "metadata": {
    "collapsed": false,
    "pycharm": {
     "name": "#%%\n"
    }
   },
   "outputs": [],
   "source": [
    "# read in data and inspect it\n",
    "images = pd.read_csv('train.csv')"
   ]
  },
  {
   "cell_type": "code",
   "execution_count": 39,
   "metadata": {
    "collapsed": false,
    "pycharm": {
     "name": "#%%\n"
    }
   },
   "outputs": [
    {
     "data": {
      "text/plain": [
       "dtype('float64')"
      ]
     },
     "execution_count": 39,
     "metadata": {},
     "output_type": "execute_result"
    }
   ],
   "source": [
    "# Add change for lateral or whatever"
   ]
  },
  {
   "cell_type": "code",
   "execution_count": 6,
   "metadata": {
    "collapsed": false,
    "pycharm": {
     "name": "#%%\n"
    }
   },
   "outputs": [
    {
     "name": "stdout",
     "output_type": "stream",
     "text": [
      "                                                 Path     Sex  Age  \\\n",
      "0   CheXpert-v1.0-small/train/patient00001/study1/...  Female   68   \n",
      "1   CheXpert-v1.0-small/train/patient00002/study2/...  Female   87   \n",
      "2   CheXpert-v1.0-small/train/patient00002/study1/...  Female   83   \n",
      "3   CheXpert-v1.0-small/train/patient00002/study1/...  Female   83   \n",
      "4   CheXpert-v1.0-small/train/patient00003/study1/...    Male   41   \n",
      "5   CheXpert-v1.0-small/train/patient00004/study1/...  Female   20   \n",
      "6   CheXpert-v1.0-small/train/patient00004/study1/...  Female   20   \n",
      "7   CheXpert-v1.0-small/train/patient00005/study1/...    Male   33   \n",
      "8   CheXpert-v1.0-small/train/patient00005/study1/...    Male   33   \n",
      "9   CheXpert-v1.0-small/train/patient00005/study2/...    Male   33   \n",
      "10  CheXpert-v1.0-small/train/patient00005/study2/...    Male   33   \n",
      "11  CheXpert-v1.0-small/train/patient00006/study1/...  Female   42   \n",
      "12  CheXpert-v1.0-small/train/patient00007/study1/...    Male   69   \n",
      "13  CheXpert-v1.0-small/train/patient00007/study2/...    Male   69   \n",
      "14  CheXpert-v1.0-small/train/patient00008/study1/...    Male   81   \n",
      "\n",
      "   Frontal/Lateral AP/PA  No Finding  Enlarged Cardiomediastinum  \\\n",
      "0          Frontal    AP         1.0                         NaN   \n",
      "1          Frontal    AP         NaN                         NaN   \n",
      "2          Frontal    AP         NaN                         NaN   \n",
      "3          Lateral   NaN         NaN                         NaN   \n",
      "4          Frontal    AP         NaN                         NaN   \n",
      "5          Frontal    PA         1.0                         0.0   \n",
      "6          Lateral   NaN         1.0                         0.0   \n",
      "7          Frontal    PA         1.0                         NaN   \n",
      "8          Lateral   NaN         1.0                         NaN   \n",
      "9          Frontal    AP         NaN                         NaN   \n",
      "10         Frontal    AP         NaN                         NaN   \n",
      "11         Frontal    AP         1.0                         0.0   \n",
      "12         Frontal    AP         NaN                         NaN   \n",
      "13         Frontal    AP         NaN                         1.0   \n",
      "14         Frontal    AP         NaN                         NaN   \n",
      "\n",
      "    Cardiomegaly  Lung Opacity  Lung Lesion  Edema  Consolidation  Pneumonia  \\\n",
      "0            NaN           NaN          NaN    NaN            NaN        NaN   \n",
      "1           -1.0           1.0          NaN   -1.0           -1.0        NaN   \n",
      "2            NaN           1.0          NaN    NaN           -1.0        NaN   \n",
      "3            NaN           1.0          NaN    NaN           -1.0        NaN   \n",
      "4            NaN           NaN          NaN    1.0            NaN        NaN   \n",
      "5            NaN           NaN          NaN    NaN            0.0        NaN   \n",
      "6            NaN           NaN          NaN    NaN            0.0        NaN   \n",
      "7            0.0           NaN          NaN    NaN            0.0        NaN   \n",
      "8            0.0           NaN          NaN    NaN            0.0        NaN   \n",
      "9            NaN           NaN          NaN    NaN            NaN        NaN   \n",
      "10           NaN           NaN          NaN    NaN            NaN        NaN   \n",
      "11           NaN           NaN          NaN    NaN            NaN        NaN   \n",
      "12           1.0           1.0          NaN    NaN            NaN        NaN   \n",
      "13           NaN           1.0          NaN    NaN            NaN        NaN   \n",
      "14           NaN           1.0          NaN    NaN            NaN        NaN   \n",
      "\n",
      "    Atelectasis  Pneumothorax  Pleural Effusion  Pleural Other  Fracture  \\\n",
      "0           NaN           0.0               NaN            NaN       NaN   \n",
      "1          -1.0           NaN              -1.0            NaN       1.0   \n",
      "2           NaN           NaN               NaN            NaN       1.0   \n",
      "3           NaN           NaN               NaN            NaN       1.0   \n",
      "4           NaN           0.0               NaN            NaN       NaN   \n",
      "5           NaN           NaN               0.0            NaN       NaN   \n",
      "6           NaN           NaN               0.0            NaN       NaN   \n",
      "7           NaN           NaN               0.0            NaN       NaN   \n",
      "8           NaN           NaN               0.0            NaN       NaN   \n",
      "9           NaN           1.0               NaN            NaN       NaN   \n",
      "10          NaN           1.0               NaN            NaN       NaN   \n",
      "11          NaN           NaN               0.0            NaN       NaN   \n",
      "12          1.0           1.0               0.0            NaN       0.0   \n",
      "13          1.0           0.0               0.0            NaN       0.0   \n",
      "14          NaN           NaN               1.0            NaN       NaN   \n",
      "\n",
      "    Support Devices  Classification  \n",
      "0               1.0            True  \n",
      "1               NaN           False  \n",
      "2               NaN           False  \n",
      "3               NaN           False  \n",
      "4               NaN           False  \n",
      "5               NaN            True  \n",
      "6               NaN            True  \n",
      "7               1.0            True  \n",
      "8               1.0            True  \n",
      "9               NaN           False  \n",
      "10              NaN           False  \n",
      "11              NaN            True  \n",
      "12              1.0           False  \n",
      "13              1.0           False  \n",
      "14              1.0           False  \n"
     ]
    }
   ],
   "source": [
    "images['Classification'] = images['No Finding'] == 1.0\n",
    "\n",
    "print(images.head(15))"
   ]
  },
  {
   "cell_type": "code",
   "execution_count": 7,
   "metadata": {
    "collapsed": false,
    "pycharm": {
     "name": "#%%\n"
    }
   },
   "outputs": [
    {
     "name": "stdout",
     "output_type": "stream",
     "text": [
      "0         True\n",
      "5         True\n",
      "6         True\n",
      "7         True\n",
      "8         True\n",
      "          ... \n",
      "223388    True\n",
      "223389    True\n",
      "223391    True\n",
      "223402    True\n",
      "223413    True\n",
      "Name: Classification, Length: 22381, dtype: bool\n",
      "1         False\n",
      "2         False\n",
      "3         False\n",
      "4         False\n",
      "9         False\n",
      "          ...  \n",
      "223408    False\n",
      "223409    False\n",
      "223410    False\n",
      "223411    False\n",
      "223412    False\n",
      "Name: Classification, Length: 201033, dtype: bool\n"
     ]
    }
   ],
   "source": [
    "# get a list of images with a classification of 'normal'\n",
    "normal_images = images[images['Classification'] == True]\n",
    "print(normal_images.Classification)\n",
    "\n",
    "# get a list of images with a classification of 'abnormal'\n",
    "abnormal_images = images[images['Classification'] == False]\n",
    "print(abnormal_images.Classification)"
   ]
  },
  {
   "cell_type": "code",
   "execution_count": 9,
   "outputs": [
    {
     "data": {
      "text/plain": "                                                     Path     Sex  Age  \\\n223411  CheXpert-v1.0-small/train/patient64538/study1/...  Female    0   \n223412  CheXpert-v1.0-small/train/patient64539/study1/...  Female    0   \n223413  CheXpert-v1.0-small/train/patient64540/study1/...  Female    0   \n\n       Frontal/Lateral AP/PA  No Finding  Enlarged Cardiomediastinum  \\\n223411         Frontal    AP         NaN                         NaN   \n223412         Frontal    AP         NaN                         NaN   \n223413         Frontal    AP         1.0                         NaN   \n\n        Cardiomegaly  Lung Opacity  Lung Lesion  Edema  Consolidation  \\\n223411           NaN           NaN          NaN   -1.0            NaN   \n223412           1.0           1.0          NaN    NaN            NaN   \n223413           NaN           NaN          NaN    NaN            NaN   \n\n        Pneumonia  Atelectasis  Pneumothorax  Pleural Effusion  Pleural Other  \\\n223411        NaN          NaN           NaN               NaN            NaN   \n223412       -1.0          1.0           0.0               NaN            NaN   \n223413        NaN          NaN           0.0               NaN            NaN   \n\n        Fracture  Support Devices  Classification  \n223411       NaN              NaN           False  \n223412       NaN              0.0           False  \n223413       NaN              NaN            True  ",
      "text/html": "<div>\n<style scoped>\n    .dataframe tbody tr th:only-of-type {\n        vertical-align: middle;\n    }\n\n    .dataframe tbody tr th {\n        vertical-align: top;\n    }\n\n    .dataframe thead th {\n        text-align: right;\n    }\n</style>\n<table border=\"1\" class=\"dataframe\">\n  <thead>\n    <tr style=\"text-align: right;\">\n      <th></th>\n      <th>Path</th>\n      <th>Sex</th>\n      <th>Age</th>\n      <th>Frontal/Lateral</th>\n      <th>AP/PA</th>\n      <th>No Finding</th>\n      <th>Enlarged Cardiomediastinum</th>\n      <th>Cardiomegaly</th>\n      <th>Lung Opacity</th>\n      <th>Lung Lesion</th>\n      <th>Edema</th>\n      <th>Consolidation</th>\n      <th>Pneumonia</th>\n      <th>Atelectasis</th>\n      <th>Pneumothorax</th>\n      <th>Pleural Effusion</th>\n      <th>Pleural Other</th>\n      <th>Fracture</th>\n      <th>Support Devices</th>\n      <th>Classification</th>\n    </tr>\n  </thead>\n  <tbody>\n    <tr>\n      <th>223411</th>\n      <td>CheXpert-v1.0-small/train/patient64538/study1/...</td>\n      <td>Female</td>\n      <td>0</td>\n      <td>Frontal</td>\n      <td>AP</td>\n      <td>NaN</td>\n      <td>NaN</td>\n      <td>NaN</td>\n      <td>NaN</td>\n      <td>NaN</td>\n      <td>-1.0</td>\n      <td>NaN</td>\n      <td>NaN</td>\n      <td>NaN</td>\n      <td>NaN</td>\n      <td>NaN</td>\n      <td>NaN</td>\n      <td>NaN</td>\n      <td>NaN</td>\n      <td>False</td>\n    </tr>\n    <tr>\n      <th>223412</th>\n      <td>CheXpert-v1.0-small/train/patient64539/study1/...</td>\n      <td>Female</td>\n      <td>0</td>\n      <td>Frontal</td>\n      <td>AP</td>\n      <td>NaN</td>\n      <td>NaN</td>\n      <td>1.0</td>\n      <td>1.0</td>\n      <td>NaN</td>\n      <td>NaN</td>\n      <td>NaN</td>\n      <td>-1.0</td>\n      <td>1.0</td>\n      <td>0.0</td>\n      <td>NaN</td>\n      <td>NaN</td>\n      <td>NaN</td>\n      <td>0.0</td>\n      <td>False</td>\n    </tr>\n    <tr>\n      <th>223413</th>\n      <td>CheXpert-v1.0-small/train/patient64540/study1/...</td>\n      <td>Female</td>\n      <td>0</td>\n      <td>Frontal</td>\n      <td>AP</td>\n      <td>1.0</td>\n      <td>NaN</td>\n      <td>NaN</td>\n      <td>NaN</td>\n      <td>NaN</td>\n      <td>NaN</td>\n      <td>NaN</td>\n      <td>NaN</td>\n      <td>NaN</td>\n      <td>0.0</td>\n      <td>NaN</td>\n      <td>NaN</td>\n      <td>NaN</td>\n      <td>NaN</td>\n      <td>True</td>\n    </tr>\n  </tbody>\n</table>\n</div>"
     },
     "execution_count": 9,
     "metadata": {},
     "output_type": "execute_result"
    }
   ],
   "source": [
    "images[(images['Age'] < 18)]\n",
    "# There are three x-rays under 0 get rid if needed"
   ],
   "metadata": {
    "collapsed": false,
    "pycharm": {
     "name": "#%%\n"
    }
   }
  },
  {
   "cell_type": "code",
   "execution_count": 12,
   "metadata": {
    "collapsed": false,
    "pycharm": {
     "name": "#%%\n"
    }
   },
   "outputs": [],
   "source": [
    "#Train Assign"
   ]
  },
  {
   "cell_type": "code",
   "execution_count": 10,
   "metadata": {
    "collapsed": false,
    "pycharm": {
     "name": "#%%\n"
    }
   },
   "outputs": [],
   "source": [
    "directory = os.listdir(sourcepath)\n",
    "#Lateral\n",
    "for fileName in images[(images['Classification'] == True) & (images['Frontal/Lateral'] == 'Lateral')]['Path']:\n",
    "    #normal lateral\n",
    "    substring = fileName[26:]\n",
    "    filename = os.path.join(source, fileName)\n",
    "    substring = substring.replace('/','_')\n",
    "    file = filename[0:x] + 'trainL/normal/' + substring\n",
    "    # rename will move it\n",
    "    os.rename(filename, file)\n",
    "for fileName in images[(images['Classification'] == False) & (images['Frontal/Lateral'] == 'Lateral')]['Path']:\n",
    "    #abnormal lateral\n",
    "    substring = fileName[26:]\n",
    "    filename = os.path.join(source, fileName)\n",
    "    substring = substring.replace('/','_')\n",
    "    file = filename[0:x] + 'trainL/abnormal/' + substring\n",
    "    # rename will move it\n",
    "    os.rename(filename, file)\n",
    "#AP\n",
    "for fileName in images[(images['Classification'] == True) & (images['AP/PA'] == 'AP')]['Path']:\n",
    "    #normalAP\n",
    "    substring = fileName[26:]\n",
    "    filename = os.path.join(source, fileName)\n",
    "    substring = substring.replace('/','_')\n",
    "    file = filename[0:x] + 'trainAP/normal/' + substring\n",
    "    # rename will move it\n",
    "    os.rename(filename, file)\n",
    "for fileName in images[(images['Classification'] == False) & (images['AP/PA'] == 'AP')]['Path']:\n",
    "    #abnormalAP\n",
    "    substring = fileName[26:]\n",
    "    filename = os.path.join(source, fileName)\n",
    "    substring = substring.replace('/','_')\n",
    "    file = filename[0:x] + 'trainAP/abnormal/' + substring\n",
    "    # rename will move it\n",
    "    os.rename(filename, file)\n",
    "\n",
    "#PA\n",
    "for fileName in images[(images['Classification'] == True) & (images['AP/PA'] == 'PA')]['Path']:\n",
    "    #normalPA\n",
    "    substring = fileName[26:]\n",
    "    filename = os.path.join(source, fileName)\n",
    "    substring = substring.replace('/','_')\n",
    "    file = filename[0:x] + 'trainPA/normal/' + substring\n",
    "    # rename will move it\n",
    "    os.rename(filename, file)\n",
    "for fileName in images[(images['Classification'] == False) & (images['AP/PA'] == 'PA')]['Path']:\n",
    "    #abnormalPA\n",
    "    substring = fileName[26:]\n",
    "    filename = os.path.join(source, fileName)\n",
    "    substring = substring.replace('/','_')\n",
    "    file = filename[0:x] + 'trainPA/abnormal/' + substring\n",
    "    # rename will move it\n",
    "    os.rename(filename, file)"
   ]
  },
  {
   "cell_type": "code",
   "execution_count": null,
   "metadata": {
    "collapsed": false,
    "pycharm": {
     "name": "#%%\n"
    }
   },
   "outputs": [],
   "source": [
    "#Valid Part"
   ]
  },
  {
   "cell_type": "code",
   "execution_count": 11,
   "metadata": {
    "collapsed": false,
    "pycharm": {
     "name": "#%%\n"
    }
   },
   "outputs": [],
   "source": [
    "imagesV = pd.read_csv('valid.csv')"
   ]
  },
  {
   "cell_type": "code",
   "execution_count": 12,
   "metadata": {
    "collapsed": false,
    "pycharm": {
     "name": "#%%\n"
    }
   },
   "outputs": [
    {
     "name": "stdout",
     "output_type": "stream",
     "text": [
      "                                                 Path     Sex  Age  \\\n",
      "0   CheXpert-v1.0-small/train/patient00001/study1/...  Female   68   \n",
      "1   CheXpert-v1.0-small/train/patient00002/study2/...  Female   87   \n",
      "2   CheXpert-v1.0-small/train/patient00002/study1/...  Female   83   \n",
      "3   CheXpert-v1.0-small/train/patient00002/study1/...  Female   83   \n",
      "4   CheXpert-v1.0-small/train/patient00003/study1/...    Male   41   \n",
      "5   CheXpert-v1.0-small/train/patient00004/study1/...  Female   20   \n",
      "6   CheXpert-v1.0-small/train/patient00004/study1/...  Female   20   \n",
      "7   CheXpert-v1.0-small/train/patient00005/study1/...    Male   33   \n",
      "8   CheXpert-v1.0-small/train/patient00005/study1/...    Male   33   \n",
      "9   CheXpert-v1.0-small/train/patient00005/study2/...    Male   33   \n",
      "10  CheXpert-v1.0-small/train/patient00005/study2/...    Male   33   \n",
      "11  CheXpert-v1.0-small/train/patient00006/study1/...  Female   42   \n",
      "12  CheXpert-v1.0-small/train/patient00007/study1/...    Male   69   \n",
      "13  CheXpert-v1.0-small/train/patient00007/study2/...    Male   69   \n",
      "14  CheXpert-v1.0-small/train/patient00008/study1/...    Male   81   \n",
      "\n",
      "   Frontal/Lateral AP/PA  No Finding  Enlarged Cardiomediastinum  \\\n",
      "0          Frontal    AP         1.0                         NaN   \n",
      "1          Frontal    AP         NaN                         NaN   \n",
      "2          Frontal    AP         NaN                         NaN   \n",
      "3          Lateral   NaN         NaN                         NaN   \n",
      "4          Frontal    AP         NaN                         NaN   \n",
      "5          Frontal    PA         1.0                         0.0   \n",
      "6          Lateral   NaN         1.0                         0.0   \n",
      "7          Frontal    PA         1.0                         NaN   \n",
      "8          Lateral   NaN         1.0                         NaN   \n",
      "9          Frontal    AP         NaN                         NaN   \n",
      "10         Frontal    AP         NaN                         NaN   \n",
      "11         Frontal    AP         1.0                         0.0   \n",
      "12         Frontal    AP         NaN                         NaN   \n",
      "13         Frontal    AP         NaN                         1.0   \n",
      "14         Frontal    AP         NaN                         NaN   \n",
      "\n",
      "    Cardiomegaly  Lung Opacity  Lung Lesion  Edema  Consolidation  Pneumonia  \\\n",
      "0            NaN           NaN          NaN    NaN            NaN        NaN   \n",
      "1           -1.0           1.0          NaN   -1.0           -1.0        NaN   \n",
      "2            NaN           1.0          NaN    NaN           -1.0        NaN   \n",
      "3            NaN           1.0          NaN    NaN           -1.0        NaN   \n",
      "4            NaN           NaN          NaN    1.0            NaN        NaN   \n",
      "5            NaN           NaN          NaN    NaN            0.0        NaN   \n",
      "6            NaN           NaN          NaN    NaN            0.0        NaN   \n",
      "7            0.0           NaN          NaN    NaN            0.0        NaN   \n",
      "8            0.0           NaN          NaN    NaN            0.0        NaN   \n",
      "9            NaN           NaN          NaN    NaN            NaN        NaN   \n",
      "10           NaN           NaN          NaN    NaN            NaN        NaN   \n",
      "11           NaN           NaN          NaN    NaN            NaN        NaN   \n",
      "12           1.0           1.0          NaN    NaN            NaN        NaN   \n",
      "13           NaN           1.0          NaN    NaN            NaN        NaN   \n",
      "14           NaN           1.0          NaN    NaN            NaN        NaN   \n",
      "\n",
      "    Atelectasis  Pneumothorax  Pleural Effusion  Pleural Other  Fracture  \\\n",
      "0           NaN           0.0               NaN            NaN       NaN   \n",
      "1          -1.0           NaN              -1.0            NaN       1.0   \n",
      "2           NaN           NaN               NaN            NaN       1.0   \n",
      "3           NaN           NaN               NaN            NaN       1.0   \n",
      "4           NaN           0.0               NaN            NaN       NaN   \n",
      "5           NaN           NaN               0.0            NaN       NaN   \n",
      "6           NaN           NaN               0.0            NaN       NaN   \n",
      "7           NaN           NaN               0.0            NaN       NaN   \n",
      "8           NaN           NaN               0.0            NaN       NaN   \n",
      "9           NaN           1.0               NaN            NaN       NaN   \n",
      "10          NaN           1.0               NaN            NaN       NaN   \n",
      "11          NaN           NaN               0.0            NaN       NaN   \n",
      "12          1.0           1.0               0.0            NaN       0.0   \n",
      "13          1.0           0.0               0.0            NaN       0.0   \n",
      "14          NaN           NaN               1.0            NaN       NaN   \n",
      "\n",
      "    Support Devices  Classification  \n",
      "0               1.0            True  \n",
      "1               NaN           False  \n",
      "2               NaN           False  \n",
      "3               NaN           False  \n",
      "4               NaN           False  \n",
      "5               NaN            True  \n",
      "6               NaN            True  \n",
      "7               1.0            True  \n",
      "8               1.0            True  \n",
      "9               NaN           False  \n",
      "10              NaN           False  \n",
      "11              NaN            True  \n",
      "12              1.0           False  \n",
      "13              1.0           False  \n",
      "14              1.0           False  \n"
     ]
    }
   ],
   "source": [
    "imagesV['Classification'] = imagesV['No Finding'] == 1.0\n",
    "\n",
    "print(images.head(15))"
   ]
  },
  {
   "cell_type": "code",
   "execution_count": 14,
   "outputs": [
    {
     "data": {
      "text/plain": "Empty DataFrame\nColumns: [Path, Sex, Age, Frontal/Lateral, AP/PA, No Finding, Enlarged Cardiomediastinum, Cardiomegaly, Lung Opacity, Lung Lesion, Edema, Consolidation, Pneumonia, Atelectasis, Pneumothorax, Pleural Effusion, Pleural Other, Fracture, Support Devices, Classification]\nIndex: []",
      "text/html": "<div>\n<style scoped>\n    .dataframe tbody tr th:only-of-type {\n        vertical-align: middle;\n    }\n\n    .dataframe tbody tr th {\n        vertical-align: top;\n    }\n\n    .dataframe thead th {\n        text-align: right;\n    }\n</style>\n<table border=\"1\" class=\"dataframe\">\n  <thead>\n    <tr style=\"text-align: right;\">\n      <th></th>\n      <th>Path</th>\n      <th>Sex</th>\n      <th>Age</th>\n      <th>Frontal/Lateral</th>\n      <th>AP/PA</th>\n      <th>No Finding</th>\n      <th>Enlarged Cardiomediastinum</th>\n      <th>Cardiomegaly</th>\n      <th>Lung Opacity</th>\n      <th>Lung Lesion</th>\n      <th>Edema</th>\n      <th>Consolidation</th>\n      <th>Pneumonia</th>\n      <th>Atelectasis</th>\n      <th>Pneumothorax</th>\n      <th>Pleural Effusion</th>\n      <th>Pleural Other</th>\n      <th>Fracture</th>\n      <th>Support Devices</th>\n      <th>Classification</th>\n    </tr>\n  </thead>\n  <tbody>\n  </tbody>\n</table>\n</div>"
     },
     "execution_count": 14,
     "metadata": {},
     "output_type": "execute_result"
    }
   ],
   "source": [
    "imagesV[(imagesV['Age'] < 18)]\n",
    "# 0 test cases where patients are under 18"
   ],
   "metadata": {
    "collapsed": false,
    "pycharm": {
     "name": "#%%\n"
    }
   }
  },
  {
   "cell_type": "code",
   "execution_count": 21,
   "metadata": {
    "collapsed": false,
    "pycharm": {
     "name": "#%%\n"
    }
   },
   "outputs": [
    {
     "data": {
      "text/plain": [
       "26"
      ]
     },
     "execution_count": 21,
     "metadata": {},
     "output_type": "execute_result"
    }
   ],
   "source": [
    "len('CheXpert-v1.0-small/valid/')"
   ]
  },
  {
   "cell_type": "code",
   "execution_count": 13,
   "metadata": {
    "collapsed": false,
    "pycharm": {
     "name": "#%%\n"
    }
   },
   "outputs": [],
   "source": [
    "#Valid Assign"
   ]
  },
  {
   "cell_type": "code",
   "execution_count": 22,
   "metadata": {
    "collapsed": false,
    "pycharm": {
     "name": "#%%\n"
    }
   },
   "outputs": [],
   "source": [
    "directory = os.listdir(sourcepath)\n",
    "#Lateral\n",
    "for fileName in imagesV[(imagesV['Classification'] == True) & (imagesV['Frontal/Lateral'] == 'Lateral')]['Path']:\n",
    "    #normal lateral\n",
    "    substring = fileName[26:]\n",
    "    filename = os.path.join(source, fileName)\n",
    "    substring = substring.replace('/','_')\n",
    "    file = filename[0:x] + 'testL/normal/' + substring\n",
    "    # rename will move it\n",
    "    os.rename(filename, file)\n",
    "for fileName in imagesV[(imagesV['Classification'] == False) & (imagesV['Frontal/Lateral'] == 'Lateral')]['Path']:\n",
    "    #abnormal lateral\n",
    "    substring = fileName[26:]\n",
    "    filename = os.path.join(source, fileName)\n",
    "    substring = substring.replace('/','_')\n",
    "    file = filename[0:x] + 'testL/abnormal/' + substring\n",
    "    # rename will move it\n",
    "    os.rename(filename, file)\n",
    "#AP\n",
    "for fileName in imagesV[(imagesV['Classification'] == True) & (imagesV['AP/PA'] == 'AP')]['Path']:\n",
    "    #normalAP\n",
    "    substring = fileName[26:]\n",
    "    filename = os.path.join(source, fileName)\n",
    "    substring = substring.replace('/','_')\n",
    "    file = filename[0:x] + 'testAP/normal/' + substring\n",
    "    # rename will move it\n",
    "    os.rename(filename, file)\n",
    "for fileName in imagesV[(imagesV['Classification'] == False) & (imagesV['AP/PA'] == 'AP')]['Path']:\n",
    "    #abnormalAP\n",
    "    substring = fileName[26:]\n",
    "    filename = os.path.join(source, fileName)\n",
    "    substring = substring.replace('/','_')\n",
    "    file = filename[0:x] + 'testAP/abnormal/' + substring\n",
    "    # rename will move it\n",
    "    os.rename(filename, file)\n",
    "\n",
    "#PA\n",
    "for fileName in imagesV[(imagesV['Classification'] == True) & (imagesV['AP/PA'] == 'PA')]['Path']:\n",
    "    #normalPA\n",
    "    substring = fileName[26:]\n",
    "    filename = os.path.join(source, fileName)\n",
    "    substring = substring.replace('/','_')\n",
    "    file = filename[0:x] + 'testPA/normal/' + substring\n",
    "    # rename will move it\n",
    "    os.rename(filename, file)\n",
    "for fileName in imagesV[(imagesV['Classification'] == False) & (imagesV['AP/PA'] == 'PA')]['Path']:\n",
    "    #abnormalPA\n",
    "    substring = fileName[26:]\n",
    "    filename = os.path.join(source, fileName)\n",
    "    substring = substring.replace('/','_')\n",
    "    file = filename[0:x] + 'testPA/abnormal/' + substring\n",
    "    # rename will move it\n",
    "    os.rename(filename, file)"
   ]
  },
  {
   "cell_type": "code",
   "execution_count": 50,
   "metadata": {
    "collapsed": false,
    "pycharm": {
     "name": "#%%\n"
    }
   },
   "outputs": [
    {
     "ename": "IndentationError",
     "evalue": "unexpected indent (4401672.py, line 5)",
     "output_type": "error",
     "traceback": [
      "\u001B[0;36m  File \u001B[0;32m\"/var/folders/j7/8zsx6_cd4b92mcd1725mk8pr0000gr/T/ipykernel_5994/4401672.py\"\u001B[0;36m, line \u001B[0;32m5\u001B[0m\n\u001B[0;31m    destpath = sourcepath + '/normal/'\u001B[0m\n\u001B[0m    ^\u001B[0m\n\u001B[0;31mIndentationError\u001B[0m\u001B[0;31m:\u001B[0m unexpected indent\n"
     ]
    }
   ],
   "source": [
    "# General Abnormal Normal - DONT RUN IF DOING DIFFERENT TYPES\n",
    "print(sourcepath)\n",
    "\n",
    "for fileName in images[images['Classification'] == True]['Path']:\n",
    "    sp = os.path.join(source, fileName)\n",
    "    destpath = sourcepath + 'normal/'\n",
    "    shutil.move(sp, destpath)\n",
    "for fileName in images[images['Classification'] == False]['Path']:\n",
    "    sp = os.path.join(source, fileName)\n",
    "    destpath = sourcepath + 'abnormal/'\n",
    "    shutil.move(sp, destpath)"
   ]
  },
  {
   "cell_type": "code",
   "execution_count": null,
   "metadata": {
    "collapsed": false,
    "pycharm": {
     "name": "#%%\n"
    }
   },
   "outputs": [],
   "source": []
  }
 ],
 "metadata": {
  "kernelspec": {
   "display_name": "Python 3",
   "language": "python",
   "name": "python3"
  },
  "language_info": {
   "codemirror_mode": {
    "name": "ipython",
    "version": 2
   },
   "file_extension": ".py",
   "mimetype": "text/x-python",
   "name": "python",
   "nbconvert_exporter": "python",
   "pygments_lexer": "ipython2",
   "version": "3.8.12"
  }
 },
 "nbformat": 4,
 "nbformat_minor": 0
}