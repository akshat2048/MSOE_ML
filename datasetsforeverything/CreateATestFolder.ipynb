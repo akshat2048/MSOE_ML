{
 "cells": [
  {
   "cell_type": "code",
   "execution_count": null,
   "metadata": {},
   "outputs": [],
   "source": [
    "import pandas\n",
    "import os"
   ]
  },
  {
   "cell_type": "code",
   "execution_count": null,
   "metadata": {},
   "outputs": [],
   "source": [
    "\"\"\"\n",
    "\n",
    "Set to file path where CheXper-v1.0-small is located\n",
    "\n",
    "For example, if your directory looks like '/Users/tperera/documents/XRayData/CheXper-v1.0-small', then set the path to '/Users/tperera/documents/XRayData'\n",
    "\n",
    "\"\"\"\n",
    "\n",
    "PATH_TO_CHEXPERT_DOWNLOADS = \"/Users/tperera/documents/XRayData\"\n",
    "\n",
    "if not os.path.exists(PATH_TO_CHEXPERT_DOWNLOADS + '/test'):\n",
    "    os.makedirs(PATH_TO_CHEXPERT_DOWNLOADS + '/test/PA/abnormal')\n",
    "    os.makedirs(PATH_TO_CHEXPERT_DOWNLOADS + '/test/PA/normal')\n",
    "    os.makedirs(PATH_TO_CHEXPERT_DOWNLOADS + '/test/AP/abnormal')\n",
    "    os.makedirs(PATH_TO_CHEXPERT_DOWNLOADS + '/test/AP/normal')\n",
    "    os.makedirs(PATH_TO_CHEXPERT_DOWNLOADS + '/test/L/abnormal')\n",
    "    os.makedirs(PATH_TO_CHEXPERT_DOWNLOADS + '/test/L/normal')\n",
    "\n",
    "PATH_TO_NORMAL_TRAIN_DIRECTORY_PA = os.path.join(PATH_TO_CHEXPERT_DOWNLOADS + '/test/PA/normal')\n",
    "PATH_TO_ABNORMAL_TRAIN_DIRECTORY_PA = os.path.join(PATH_TO_CHEXPERT_DOWNLOADS + '/test/PA/abnormal')\n",
    "PATH_TO_NORMAL_TRAIN_DIRECTORY_AP = os.path.join(PATH_TO_CHEXPERT_DOWNLOADS + '/test/AP/normal')\n",
    "PATH_TO_ABNORMAL_TRAIN_DIRECTORY_AP = os.path.join(PATH_TO_CHEXPERT_DOWNLOADS + '/test/AP/abnormal')\n",
    "PATH_TO_NORMAL_TRAIN_DIRECTORY_L = os.path.join(PATH_TO_CHEXPERT_DOWNLOADS + '/test/L/normal')\n",
    "PATH_TO_ABNORMAL_TRAIN_DIRECTORY_L = os.path.join(PATH_TO_CHEXPERT_DOWNLOADS + '/test/L/abnormal')"
   ]
  }
 ],
 "metadata": {
  "language_info": {
   "name": "python"
  },
  "orig_nbformat": 4
 },
 "nbformat": 4,
 "nbformat_minor": 2
}
