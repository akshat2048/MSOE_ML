{
 "cells": [
  {
   "cell_type": "code",
   "execution_count": 5,
   "metadata": {},
   "outputs": [],
   "source": [
    "import random\n",
    "import os\n",
    "import shutil\n",
    "import math"
   ]
  },
  {
   "cell_type": "code",
   "execution_count": 7,
   "metadata": {},
   "outputs": [],
   "source": [
    "VALIDATION_RATIO = 0.2"
   ]
  },
  {
   "cell_type": "code",
   "execution_count": 14,
   "metadata": {},
   "outputs": [],
   "source": [
    "\"\"\"\n",
    "\n",
    "Set to file path where CheXper-v1.0-small is located\n",
    "\n",
    "For example, if your directory looks like '/Users/akshatchannashetti/Downloads/CheXper-v1.0-small', then set the path to '/Users/akshatchannashetti/Downloads'\n",
    "\n",
    "\"\"\"\n",
    "\n",
    "PATH_TO_CHEXPERT_DOWNLOADS = \"/Users/akshatchannashetti/Downloads\"\n",
    "\n",
    "if not os.path.exists(PATH_TO_CHEXPERT_DOWNLOADS + '/test'):\n",
    "    os.makedirs(PATH_TO_CHEXPERT_DOWNLOADS + '/test/PA/abnormal')\n",
    "    os.makedirs(PATH_TO_CHEXPERT_DOWNLOADS + '/test/PA/normal')\n",
    "    os.makedirs(PATH_TO_CHEXPERT_DOWNLOADS + '/test/AP/abnormal')\n",
    "    os.makedirs(PATH_TO_CHEXPERT_DOWNLOADS + '/test/AP/normal')\n",
    "    os.makedirs(PATH_TO_CHEXPERT_DOWNLOADS + '/test/L/abnormal')\n",
    "    os.makedirs(PATH_TO_CHEXPERT_DOWNLOADS + '/test/L/normal')\n",
    "\n",
    "PATH_TO_NORMAL_TRAIN_DIRECTORY_PA = os.path.join(PATH_TO_CHEXPERT_DOWNLOADS + '/train/PA/normal')\n",
    "PATH_TO_ABNORMAL_TRAIN_DIRECTORY_PA = os.path.join(PATH_TO_CHEXPERT_DOWNLOADS + '/train/PA/abnormal')\n",
    "PATH_TO_NORMAL_TRAIN_DIRECTORY_AP = os.path.join(PATH_TO_CHEXPERT_DOWNLOADS + '/train/AP/normal')\n",
    "PATH_TO_ABNORMAL_TRAIN_DIRECTORY_AP = os.path.join(PATH_TO_CHEXPERT_DOWNLOADS + '/train/AP/abnormal')\n",
    "PATH_TO_NORMAL_TRAIN_DIRECTORY_L = os.path.join(PATH_TO_CHEXPERT_DOWNLOADS + '/train/L/normal')\n",
    "PATH_TO_ABNORMAL_TRAIN_DIRECTORY_L = os.path.join(PATH_TO_CHEXPERT_DOWNLOADS + '/train/L/abnormal')"
   ]
  },
  {
   "cell_type": "code",
   "execution_count": 26,
   "metadata": {},
   "outputs": [
    {
     "name": "stdout",
     "output_type": "stream",
     "text": [
      "['1.txt']\n",
      "['2.txt']\n",
      "['3.txt']\n",
      "['3.txt']\n",
      "['1.txt']\n",
      "['3.txt']\n"
     ]
    }
   ],
   "source": [
    "# randomly select 20% of files from each of the folders and add them to the test folder\n",
    "for folder in [PATH_TO_ABNORMAL_TRAIN_DIRECTORY_AP, PATH_TO_ABNORMAL_TRAIN_DIRECTORY_L, PATH_TO_ABNORMAL_TRAIN_DIRECTORY_PA, PATH_TO_NORMAL_TRAIN_DIRECTORY_AP, PATH_TO_NORMAL_TRAIN_DIRECTORY_PA, PATH_TO_NORMAL_TRAIN_DIRECTORY_L]:\n",
    "    # randomly select 20% of the files\n",
    "    \n",
    "    files = random.sample(os.listdir(folder), math.floor(len(os.listdir(folder)) * VALIDATION_RATIO))\n",
    "    for file in files:\n",
    "        _ = shutil.move(os.path.join(folder, file), folder.replace('train', 'test'))"
   ]
  }
 ],
 "metadata": {
  "interpreter": {
   "hash": "f4232e35a17d310af1bb18ab8d5062a10cff20e52b686e5d270dd17948a21a21"
  },
  "kernelspec": {
   "display_name": "Python 3.8.12 ('apple_tensorflow')",
   "language": "python",
   "name": "python3"
  },
  "language_info": {
   "codemirror_mode": {
    "name": "ipython",
    "version": 3
   },
   "file_extension": ".py",
   "mimetype": "text/x-python",
   "name": "python",
   "nbconvert_exporter": "python",
   "pygments_lexer": "ipython3",
   "version": "3.8.12"
  },
  "orig_nbformat": 4
 },
 "nbformat": 4,
 "nbformat_minor": 2
}
