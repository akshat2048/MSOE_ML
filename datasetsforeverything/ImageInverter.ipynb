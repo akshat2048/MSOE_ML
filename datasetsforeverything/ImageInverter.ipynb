{
 "cells": [
  {
   "cell_type": "code",
   "execution_count": 1,
   "metadata": {},
   "outputs": [],
   "source": [
    "import os\n",
    "from PIL import Image, ImageOps"
   ]
  },
  {
   "cell_type": "code",
   "execution_count": 2,
   "metadata": {},
   "outputs": [],
   "source": [
    "DIRECTORY_WITH_IMAGES_TO_INVERT = \"\"\n",
    "DIRECTORY_TO_SAVE_INVERTED_IMAGES = \"\""
   ]
  },
  {
   "cell_type": "code",
   "execution_count": null,
   "metadata": {},
   "outputs": [],
   "source": [
    "for file in os.listdir(DIRECTORY_WITH_IMAGES_TO_INVERT):\n",
    "    image = Image.open(os.path.join(DIRECTORY_WITH_IMAGES_TO_INVERT, file))\n",
    "    inverted_image = ImageOps.invert(image)\n",
    "    inverted_image.save(os.path.join(DIRECTORY_TO_SAVE_INVERTED_IMAGES, 'inverted_' + file))"
   ]
  }
 ],
 "metadata": {
  "interpreter": {
   "hash": "f4232e35a17d310af1bb18ab8d5062a10cff20e52b686e5d270dd17948a21a21"
  },
  "kernelspec": {
   "display_name": "Python 3.8.12 ('apple_tensorflow')",
   "language": "python",
   "name": "python3"
  },
  "language_info": {
   "codemirror_mode": {
    "name": "ipython",
    "version": 3
   },
   "file_extension": ".py",
   "mimetype": "text/x-python",
   "name": "python",
   "nbconvert_exporter": "python",
   "pygments_lexer": "ipython3",
   "version": "3.8.12"
  },
  "orig_nbformat": 4
 },
 "nbformat": 4,
 "nbformat_minor": 2
}
