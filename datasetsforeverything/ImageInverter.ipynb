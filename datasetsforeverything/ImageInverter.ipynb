{
 "cells": [
  {
   "cell_type": "code",
   "execution_count": 1,
   "metadata": {},
   "outputs": [],
   "source": [
    "import os\n",
    "from PIL import Image, ImageOps"
   ]
  },
  {
   "cell_type": "code",
   "execution_count": 5,
   "metadata": {},
   "outputs": [],
   "source": [
    "\"\"\"\n",
    "\n",
    "This Jupyter Notebook will recursively trace out the provided directory, scan for image files, and then invert them. This will NOT create a new copy of the images, so make sure you do that first.\n",
    "\n",
    "---\n",
    "\n",
    "Set DIRECTORY_WITH_IMAGES_TO_INVERT to the path where the images are located\n",
    "\n",
    "For example:\n",
    "\n",
    "    DIRECTORY_WITH_IMAGES_TO_INVERT = \"/Users/akshatchannashetti/Downloads/test\"\n",
    "    - test\n",
    "        - AP\n",
    "        - L\n",
    "        - PA\n",
    "            - 1.png\n",
    "            - 2.png\n",
    "    \n",
    "\n",
    "\"\"\"\n",
    "\n",
    "DIRECTORY_WITH_IMAGES_TO_INVERT = \"/Users/akshatchannashetti/Downloads/test\""
   ]
  },
  {
   "cell_type": "code",
   "execution_count": 16,
   "metadata": {},
   "outputs": [
    {
     "name": "stdout",
     "output_type": "stream",
     "text": [
      "Inverting image: IMG_2415.PNG\n",
      "Inverting image: pfp.JPG\n",
      "Inverting image: 246703.image0.png\n"
     ]
    }
   ],
   "source": [
    "for root, dirs, fileBucket in os.walk(DIRECTORY_WITH_IMAGES_TO_INVERT):\n",
    "    for file in fileBucket:\n",
    "        if file.endswith(\".png\") or file.endswith(\".PNG\") or file.endswith(\".jpg\") or file.endswith(\".JPG\") or file.endswith(\".jpeg\") or file.endswith(\".JPEG\"):\n",
    "            print(\"Inverting image: \" + file)\n",
    "            image = Image.open(os.path.join(root, file))\n",
    "            inverted_image = ImageOps.invert(image.convert('RGB'))\n",
    "            os.remove(os.path.join(root, file))\n",
    "            inverted_image.save(os.path.join(root, file))"
   ]
  }
 ],
 "metadata": {
  "interpreter": {
   "hash": "f4232e35a17d310af1bb18ab8d5062a10cff20e52b686e5d270dd17948a21a21"
  },
  "kernelspec": {
   "display_name": "Python 3.8.12 ('apple_tensorflow')",
   "language": "python",
   "name": "python3"
  },
  "language_info": {
   "codemirror_mode": {
    "name": "ipython",
    "version": 3
   },
   "file_extension": ".py",
   "mimetype": "text/x-python",
   "name": "python",
   "nbconvert_exporter": "python",
   "pygments_lexer": "ipython3",
   "version": "3.8.12"
  },
  "orig_nbformat": 4
 },
 "nbformat": 4,
 "nbformat_minor": 2
}
