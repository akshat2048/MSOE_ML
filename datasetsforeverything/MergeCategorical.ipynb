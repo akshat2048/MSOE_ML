{
 "cells": [
  {
   "cell_type": "code",
   "execution_count": 48,
   "metadata": {},
   "outputs": [],
   "source": [
    "import os\n",
    "import shutil\n",
    "import random"
   ]
  },
  {
   "cell_type": "code",
   "execution_count": 34,
   "metadata": {},
   "outputs": [],
   "source": [
    "\"\"\"\n",
    "\n",
    "If your folders look like \n",
    "\n",
    "- NIH_FOLDER\n",
    "    - No Finding\n",
    "    - Finding\n",
    "    - etc.\n",
    "\n",
    "- Chexpert_FOLDER\n",
    "    - No Finding\n",
    "    - Finding\n",
    "    - etc.\n",
    "\n",
    "\"\"\"\n",
    "\n",
    "PATH_TO_NIH_FOLDERS = \"C:/Users/samee/Downloads/NIH-Single/NIH/TrainPA\"\n",
    "PATH_TO_CHEXPERT_FOLDERS = \"C:/Users/samee/Downloads/Chexpert-Categorical-Single/TrainPA\"\n",
    "PATH_TO_FINAL_FOLDERS = \"C:/Users/samee/Downloads/Combined-Categorical-Single/Train/TrainPA\"\n",
    "\n",
    "if not os.path.exists(PATH_TO_FINAL_FOLDERS):\n",
    "    os.mkdir(PATH_TO_FINAL_FOLDERS)"
   ]
  },
  {
   "cell_type": "code",
   "execution_count": 35,
   "metadata": {},
   "outputs": [],
   "source": [
    "#recursively merge two folders including subfolders\n",
    "def mergefolders(root_src_dir, root_dst_dir):\n",
    "    for src_dir, dirs, files in os.walk(root_src_dir):\n",
    "        dst_dir = src_dir.replace(root_src_dir, root_dst_dir, 1)\n",
    "        if not os.path.exists(dst_dir):\n",
    "            os.makedirs(dst_dir)\n",
    "        for file_ in files:\n",
    "            src_file = os.path.join(src_dir, file_)\n",
    "            dst_file = os.path.join(dst_dir, file_)\n",
    "            if os.path.exists(dst_file):\n",
    "                os.remove(dst_file)\n",
    "            shutil.copy(src_file, dst_dir)"
   ]
  },
  {
   "cell_type": "code",
   "execution_count": 36,
   "metadata": {},
   "outputs": [],
   "source": [
    "# Merge No Finding and No finding \n",
    "if not os.path.exists(os.path.join(PATH_TO_FINAL_FOLDERS, \"No Finding\")):\n",
    "    os.makedirs(os.path.join(PATH_TO_FINAL_FOLDERS, \"No Finding\"))\n",
    "\n",
    "mergefolders(os.path.join(PATH_TO_NIH_FOLDERS, 'No Finding'), os.path.join(PATH_TO_FINAL_FOLDERS, 'No Finding'))\n",
    "mergefolders(os.path.join(PATH_TO_CHEXPERT_FOLDERS, 'No Finding'), os.path.join(PATH_TO_FINAL_FOLDERS, 'No Finding'))"
   ]
  },
  {
   "cell_type": "code",
   "execution_count": 37,
   "metadata": {},
   "outputs": [],
   "source": [
    "# Merge Cardiomegaly Enlarged Cardiomediastinal and Cardiomegaly\n",
    "if not os.path.exists(os.path.join(PATH_TO_FINAL_FOLDERS, \"Cardiomegaly\")):\n",
    "    os.makedirs(os.path.join(PATH_TO_FINAL_FOLDERS, \"Cardiomegaly\"))\n",
    "\n",
    "mergefolders(os.path.join(PATH_TO_NIH_FOLDERS, 'Cardiomegaly'), os.path.join(PATH_TO_FINAL_FOLDERS, 'Cardiomegaly'))\n",
    "mergefolders(os.path.join(PATH_TO_CHEXPERT_FOLDERS, 'Enlarged Cardiomediastinum'), os.path.join(PATH_TO_FINAL_FOLDERS, 'Cardiomegaly'))"
   ]
  },
  {
   "cell_type": "code",
   "execution_count": 38,
   "metadata": {},
   "outputs": [],
   "source": [
    "# Merge Edema, Pneumothorax, Atelectasis\n",
    "\n",
    "if not os.path.exists(os.path.join(PATH_TO_FINAL_FOLDERS, \"Edema\")):\n",
    "    os.makedirs(os.path.join(PATH_TO_FINAL_FOLDERS, \"Edema\"))\n",
    "if not os.path.exists(os.path.join(PATH_TO_FINAL_FOLDERS, \"Pneumothorax\")):\n",
    "    os.makedirs(os.path.join(PATH_TO_FINAL_FOLDERS, \"Pneumothorax\"))\n",
    "if not os.path.exists(os.path.join(PATH_TO_FINAL_FOLDERS, \"Atelectasis\")):\n",
    "    os.makedirs(os.path.join(PATH_TO_FINAL_FOLDERS, \"Atelectasis\"))\n",
    "\n",
    "mergefolders(os.path.join(PATH_TO_NIH_FOLDERS, 'Edema'), os.path.join(PATH_TO_FINAL_FOLDERS, 'Edema'))\n",
    "mergefolders(os.path.join(PATH_TO_CHEXPERT_FOLDERS, 'Edema'), os.path.join(PATH_TO_FINAL_FOLDERS, 'Edema'))\n",
    "mergefolders(os.path.join(PATH_TO_NIH_FOLDERS, 'Pneumothorax'), os.path.join(PATH_TO_FINAL_FOLDERS, 'Pneumothorax'))\n",
    "mergefolders(os.path.join(PATH_TO_CHEXPERT_FOLDERS, 'Pneumothorax'), os.path.join(PATH_TO_FINAL_FOLDERS, 'Pneumothorax'))\n",
    "mergefolders(os.path.join(PATH_TO_NIH_FOLDERS, 'Atelectasis'), os.path.join(PATH_TO_FINAL_FOLDERS, 'Atelectasis'))\n",
    "mergefolders(os.path.join(PATH_TO_CHEXPERT_FOLDERS, 'Atelectasis'), os.path.join(PATH_TO_FINAL_FOLDERS, 'Atelectasis'))"
   ]
  },
  {
   "cell_type": "code",
   "execution_count": 39,
   "metadata": {},
   "outputs": [],
   "source": [
    "# Merge Consolidation and Pneumonia into Pneumonia\n",
    "\n",
    "if not os.path.exists(os.path.join(PATH_TO_FINAL_FOLDERS, \"Pneumonia\")):\n",
    "    os.makedirs(os.path.join(PATH_TO_FINAL_FOLDERS, \"Pneumonia\"))\n",
    "\n",
    "mergefolders(os.path.join(PATH_TO_NIH_FOLDERS, 'Consolidation'), os.path.join(PATH_TO_FINAL_FOLDERS, 'Pneumonia'))\n",
    "mergefolders(os.path.join(PATH_TO_CHEXPERT_FOLDERS, 'Consolidation'), os.path.join(PATH_TO_FINAL_FOLDERS, 'Pneumonia'))\n",
    "mergefolders(os.path.join(PATH_TO_NIH_FOLDERS, 'Pnemonia'), os.path.join(PATH_TO_FINAL_FOLDERS, 'Pneumonia'))\n",
    "mergefolders(os.path.join(PATH_TO_CHEXPERT_FOLDERS, 'Pnemonia'), os.path.join(PATH_TO_FINAL_FOLDERS, 'Pneumonia'))"
   ]
  },
  {
   "cell_type": "code",
   "execution_count": 40,
   "metadata": {},
   "outputs": [],
   "source": [
    "# Under Chexpert Create a Lung Opacity/Lesion combine both Lung Opacity and Lung Lesion\n",
    "if not os.path.exists(os.path.join(PATH_TO_FINAL_FOLDERS, \"Lung LesionAndOpacity\")):\n",
    "    os.makedirs(os.path.join(PATH_TO_FINAL_FOLDERS, \"Lung LesionAndOpacity\"))\n",
    "\n",
    "mergefolders(os.path.join(PATH_TO_CHEXPERT_FOLDERS, 'Lung Opacity'), os.path.join(PATH_TO_FINAL_FOLDERS, \"Lung LesionAndOpacity\"))\n",
    "# os.rename(os.path.join(PATH_TO_CHEXPERT_FOLDERS, 'Lung Lesion'), os.path.join(PATH_TO_FINAL_FOLDERS, \"Lung LesionAndOpacity\"))\n",
    "\n",
    "# Then take duplicates for each category of Mass, Nodule, Fibrosis, Pleural Thickening, Infiltration and merge with the above category\n",
    "for file in os.listdir(os.path.join(PATH_TO_NIH_FOLDERS, 'Mass')):\n",
    "    shutil.copy(os.path.join(PATH_TO_NIH_FOLDERS, 'Mass', file), os.path.join(PATH_TO_FINAL_FOLDERS, \"Lung LesionAndOpacity\"))\n",
    "for file in os.listdir(os.path.join(PATH_TO_NIH_FOLDERS, 'Nodule')):\n",
    "    shutil.copy(os.path.join(PATH_TO_NIH_FOLDERS, 'Nodule', file), os.path.join(PATH_TO_FINAL_FOLDERS, \"Lung LesionAndOpacity\"))\n",
    "for file in os.listdir(os.path.join(PATH_TO_NIH_FOLDERS, 'Fibrosis')):\n",
    "    shutil.copy(os.path.join(PATH_TO_NIH_FOLDERS, 'Fibrosis', file), os.path.join(PATH_TO_FINAL_FOLDERS, \"Lung LesionAndOpacity\"))\n",
    "for file in os.listdir(os.path.join(PATH_TO_NIH_FOLDERS, 'Pleural_Thickening')):\n",
    "    shutil.copy(os.path.join(PATH_TO_NIH_FOLDERS, 'Pleural_Thickening', file), os.path.join(PATH_TO_FINAL_FOLDERS, \"Lung LesionAndOpacity\"))\n",
    "for file in os.listdir(os.path.join(PATH_TO_NIH_FOLDERS, 'Infiltration')):\n",
    "    shutil.copy(os.path.join(PATH_TO_NIH_FOLDERS, 'Infiltration', file), os.path.join(PATH_TO_FINAL_FOLDERS, \"Lung LesionAndOpacity\"))"
   ]
  },
  {
   "cell_type": "code",
   "execution_count": 41,
   "metadata": {},
   "outputs": [],
   "source": [
    "# Merge Mass and Nodule originals into one larger category\n",
    "\n",
    "if not os.path.exists(os.path.join(PATH_TO_FINAL_FOLDERS, \"Mass and Nodule\")):\n",
    "    os.makedirs(os.path.join(PATH_TO_FINAL_FOLDERS, \"Mass and Nodule\"))\n",
    "\n",
    "mergefolders(os.path.join(PATH_TO_NIH_FOLDERS, 'Mass'), os.path.join(PATH_TO_FINAL_FOLDERS, \"Mass and Nodule\"))\n",
    "mergefolders(os.path.join(PATH_TO_NIH_FOLDERS, 'Nodule'), os.path.join(PATH_TO_FINAL_FOLDERS, \"Mass and Nodule\"))"
   ]
  },
  {
   "cell_type": "code",
   "execution_count": 42,
   "metadata": {},
   "outputs": [],
   "source": [
    "# Merge Fibrosis, Pleural_Thickening, Infiltration into final folder\n",
    "if not os.path.exists(os.path.join(PATH_TO_FINAL_FOLDERS, \"Fibrosis\")):\n",
    "    os.makedirs(os.path.join(PATH_TO_FINAL_FOLDERS, \"Fibrosis\"))\n",
    "if not os.path.exists(os.path.join(PATH_TO_FINAL_FOLDERS, \"Pleural_Thickening\")):\n",
    "    os.makedirs(os.path.join(PATH_TO_FINAL_FOLDERS, \"Pleural_Thickening\"))\n",
    "if not os.path.exists(os.path.join(PATH_TO_FINAL_FOLDERS, \"Infiltration\")):\n",
    "    os.makedirs(os.path.join(PATH_TO_FINAL_FOLDERS, \"Infiltration\"))\n",
    "\n",
    "mergefolders(os.path.join(PATH_TO_NIH_FOLDERS, 'Fibrosis'), os.path.join(PATH_TO_FINAL_FOLDERS, \"Fibrosis\"))\n",
    "mergefolders(os.path.join(PATH_TO_NIH_FOLDERS, 'Pleural_Thickening'), os.path.join(PATH_TO_FINAL_FOLDERS, \"Pleural_Thickening\"))\n",
    "mergefolders(os.path.join(PATH_TO_NIH_FOLDERS, 'Infiltration'), os.path.join(PATH_TO_FINAL_FOLDERS, \"Infiltration\"))"
   ]
  },
  {
   "cell_type": "code",
   "execution_count": 43,
   "metadata": {},
   "outputs": [],
   "source": [
    "# merge effusion and pleural effusion\n",
    "if not os.path.exists(os.path.join(PATH_TO_FINAL_FOLDERS, \"Effusion\")):\n",
    "    os.makedirs(os.path.join(PATH_TO_FINAL_FOLDERS, \"Effusion\"))\n",
    "\n",
    "mergefolders(os.path.join(PATH_TO_NIH_FOLDERS, 'Effusion'), os.path.join(PATH_TO_FINAL_FOLDERS, \"Effusion\"))\n",
    "mergefolders(os.path.join(PATH_TO_CHEXPERT_FOLDERS, 'Pleural Effusion'), os.path.join(PATH_TO_FINAL_FOLDERS, \"Effusion\"))"
   ]
  },
  {
   "cell_type": "code",
   "execution_count": 44,
   "metadata": {},
   "outputs": [],
   "source": [
    "# merge Fracture from Chexpert, Hernia from NIH, and Pleural Other from Chexpert into final folders\n",
    "if not os.path.exists(os.path.join(PATH_TO_FINAL_FOLDERS, \"Fracture\")):\n",
    "    os.makedirs(os.path.join(PATH_TO_FINAL_FOLDERS, \"Fracture\"))\n",
    "if not os.path.exists(os.path.join(PATH_TO_FINAL_FOLDERS, \"Hernia\")):\n",
    "    os.makedirs(os.path.join(PATH_TO_FINAL_FOLDERS, \"Hernia\"))\n",
    "if not os.path.exists(os.path.join(PATH_TO_FINAL_FOLDERS, \"Pleural Other\")):\n",
    "    os.makedirs(os.path.join(PATH_TO_FINAL_FOLDERS, \"Pleural Other\"))\n",
    "\n",
    "mergefolders(os.path.join(PATH_TO_CHEXPERT_FOLDERS, 'Fracture'), os.path.join(PATH_TO_FINAL_FOLDERS, \"Fracture\"))\n",
    "mergefolders(os.path.join(PATH_TO_NIH_FOLDERS, 'Hernia'), os.path.join(PATH_TO_FINAL_FOLDERS, \"Hernia\"))\n",
    "mergefolders(os.path.join(PATH_TO_CHEXPERT_FOLDERS, 'Pleural Other'), os.path.join(PATH_TO_FINAL_FOLDERS, \"Pleural Other\"))"
   ]
  },
  {
   "cell_type": "code",
   "execution_count": 45,
   "metadata": {},
   "outputs": [],
   "source": [
    "# merge NIH Emphysema into final folder\n",
    "if not os.path.exists(os.path.join(PATH_TO_FINAL_FOLDERS, \"Emphysema\")):\n",
    "    os.makedirs(os.path.join(PATH_TO_FINAL_FOLDERS, \"Emphysema\"))\n",
    "\n",
    "mergefolders(os.path.join(PATH_TO_NIH_FOLDERS, 'Emphysema'), os.path.join(PATH_TO_FINAL_FOLDERS, 'Emphysema'))"
   ]
  },
  {
   "cell_type": "code",
   "execution_count": 47,
   "metadata": {},
   "outputs": [],
   "source": [
    "for disease in os.listdir(PATH_TO_FINAL_FOLDERS):\n",
    "    i = 0\n",
    "    for file in os.listdir(os.path.join(PATH_TO_FINAL_FOLDERS, disease)):\n",
    "        i += 1\n",
    "        imageType = file[-4:]\n",
    "        os.rename(os.path.join(PATH_TO_FINAL_FOLDERS, disease, file), os.path.join(PATH_TO_FINAL_FOLDERS, disease, disease + ' ' + str(i) + imageType))"
   ]
  },
  {
   "cell_type": "markdown",
   "metadata": {},
   "source": [
    "# MAKE VALID SET"
   ]
  },
  {
   "cell_type": "code",
   "execution_count": 61,
   "metadata": {},
   "outputs": [],
   "source": [
    "trainPath = 'C:\\\\Users\\\\samee\\\\Downloads\\\\Combined-Categorical-Single\\\\Train'\n",
    "validPath = 'C:\\\\Users\\\\samee\\\\Downloads\\\\Combined-Categorical-Single\\\\Valid'\n",
    "for proj in os.listdir(trainPath):\n",
    "    for disease in os.listdir(os.path.join(trainPath, proj)):\n",
    "        if not os.path.exists(os.path.join(validPath, 'Valid' + proj[-2:], disease)):\n",
    "            os.makedirs(os.path.join(validPath, 'Valid' + proj[-2:], disease))\n",
    "        amt = round(float(len(os.listdir(os.path.join(trainPath, proj, disease)))) / 5)\n",
    "        for file in random.sample(os.listdir(os.path.join(trainPath, proj, disease)), amt):\n",
    "            initial = os.path.join(trainPath, proj, disease, file)\n",
    "            final = os.path.join(validPath, 'Valid' + proj[-2:], disease, file)\n",
    "            os.rename(initial, final)"
   ]
  }
 ],
 "metadata": {
  "interpreter": {
   "hash": "1e533507eb76cbfb81c75639bacc8f460941550716639a402c578975cb3ec022"
  },
  "kernelspec": {
   "display_name": "Python 3.9.0 ('deeplearningkeras')",
   "language": "python",
   "name": "python3"
  },
  "language_info": {
   "codemirror_mode": {
    "name": "ipython",
    "version": 3
   },
   "file_extension": ".py",
   "mimetype": "text/x-python",
   "name": "python",
   "nbconvert_exporter": "python",
   "pygments_lexer": "ipython3",
   "version": "3.9.0"
  },
  "orig_nbformat": 4
 },
 "nbformat": 4,
 "nbformat_minor": 2
}
