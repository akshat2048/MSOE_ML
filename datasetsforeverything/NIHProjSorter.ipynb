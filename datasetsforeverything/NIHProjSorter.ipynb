{
 "cells": [
  {
   "cell_type": "code",
   "execution_count": 1,
   "metadata": {},
   "outputs": [],
   "source": [
    "import pandas as pd\n",
    "import shutil\n",
    "import os\n",
    "import random\n",
    "import math\n",
    "import glob"
   ]
  },
  {
   "cell_type": "code",
   "execution_count": 2,
   "metadata": {},
   "outputs": [
    {
     "name": "stdout",
     "output_type": "stream",
     "text": [
      "Multiple outputs per cell\n"
     ]
    }
   ],
   "source": [
    "from IPython.core.interactiveshell import InteractiveShell\n",
    "InteractiveShell.ast_node_interactivity = \"all\"\n",
    "\n",
    "print(\"Multiple outputs per cell\")"
   ]
  },
  {
   "cell_type": "markdown",
   "metadata": {},
   "source": [
    "# Splitting into AP and PA for training"
   ]
  },
  {
   "cell_type": "code",
   "execution_count": 3,
   "metadata": {},
   "outputs": [],
   "source": [
    "NIH = 'C:/Users/samee/Downloads/NIH-Proj-Binary'"
   ]
  },
  {
   "cell_type": "code",
   "execution_count": 4,
   "metadata": {},
   "outputs": [],
   "source": [
    "if not os.path.exists(NIH + '/Train'):\n",
    "    os.makedirs(NIH + '/Train')\n",
    "if not os.path.exists(NIH + '/Valid'):\n",
    "    os.makedirs(NIH + '/Valid')"
   ]
  },
  {
   "cell_type": "code",
   "execution_count": 17,
   "metadata": {},
   "outputs": [],
   "source": [
    "train_directory = 'C:/Users/samee/Downloads/CheXpert-v1.0-small-binary/CheXpert-v1.0-small/train'\n",
    "test_directory = 'C:/Users/samee/Downloads/CheXpert-v1.0-small-binary/CheXpert-v1.0-small/valid'\n",
    "image_directory = 'C:/Users/samee/Downloads/NIH-Proj-Binary/NIH/NIH'"
   ]
  },
  {
   "cell_type": "code",
   "execution_count": 6,
   "metadata": {},
   "outputs": [],
   "source": [
    "if not os.path.exists(train_directory + '/TrainAP'):\n",
    "    os.makedirs(train_directory + '/TrainAP')\n",
    "if not os.path.exists(train_directory + '/TrainPA'):\n",
    "    os.makedirs(train_directory + '/TrainPA')\n",
    "if not os.path.exists(test_directory + '/ValidAP'):\n",
    "    os.makedirs(test_directory + '/ValidAP')\n",
    "if not os.path.exists(test_directory + '/ValidPA'):\n",
    "    os.makedirs(test_directory + '/ValidPA')\n",
    "if not os.path.exists(train_directory + '/TrainAP/Abnormal'):\n",
    "    os.makedirs(train_directory + '/TrainAP/Abnormal')\n",
    "if not os.path.exists(train_directory + '/TrainAP/Normal'):\n",
    "    os.makedirs(train_directory + '/TrainAP/Normal')\n",
    "if not os.path.exists(train_directory + '/TrainPA/Abnormal'):\n",
    "    os.makedirs(train_directory + '/TrainPA/Abnormal')\n",
    "if not os.path.exists(train_directory + '/TrainPA/Normal'):\n",
    "    os.makedirs(train_directory + '/TrainPA/Normal')\n",
    "if not os.path.exists(test_directory + '/ValidAP/Abnormal'):\n",
    "    os.makedirs(test_directory + '/ValidAP/Abnormal')\n",
    "if not os.path.exists(test_directory + '/ValidAP/Normal'):\n",
    "    os.makedirs(test_directory + '/ValidAP/Normal')\n",
    "if not os.path.exists(test_directory + '/ValidPA/Abnormal'):\n",
    "    os.makedirs(test_directory + '/ValidPA/Abnormal')\n",
    "if not os.path.exists(test_directory + '/ValidPA/Normal'):\n",
    "    os.makedirs(test_directory + '/ValidPA/Normal')"
   ]
  },
  {
   "cell_type": "code",
   "execution_count": 7,
   "metadata": {},
   "outputs": [],
   "source": [
    "images = pd.read_csv('NIH.csv')"
   ]
  },
  {
   "cell_type": "code",
   "execution_count": 8,
   "metadata": {},
   "outputs": [],
   "source": [
    "images['Classification'] = images['Finding Labels'].str.contains('No Finding')\n",
    "normal_images = images[images['Classification'] == True]\n",
    "abnormal_images = images[images['Classification'] == False]"
   ]
  },
  {
   "cell_type": "code",
   "execution_count": 9,
   "metadata": {},
   "outputs": [],
   "source": [
    "for image in os.listdir(image_directory):\n",
    "    position = images[images['Image Index'] == image]['View Position'].values[0]\n",
    "    if image in normal_images['Image Index'].to_list():\n",
    "        initial = image_directory + '/' + image\n",
    "        final = train_directory + '/Train' + position + '/Normal/' + image \n",
    "        os.rename(initial, final)\n",
    "    elif image in abnormal_images['Image Index'].to_list():\n",
    "        initial = image_directory + '/' + image\n",
    "        final = train_directory + '/Train' + position + '/Abnormal/' + image\n",
    "        os.rename(initial, final)"
   ]
  },
  {
   "cell_type": "markdown",
   "metadata": {},
   "source": [
    "# Making a valid set"
   ]
  },
  {
   "cell_type": "code",
   "execution_count": 18,
   "metadata": {},
   "outputs": [
    {
     "data": {
      "text/plain": [
       "4784"
      ]
     },
     "execution_count": 18,
     "metadata": {},
     "output_type": "execute_result"
    },
    {
     "data": {
      "text/plain": [
       "1100"
      ]
     },
     "execution_count": 18,
     "metadata": {},
     "output_type": "execute_result"
    }
   ],
   "source": [
    "# round(len(os.listdir(train_directory + '/TrainAP/Abnormal')) * 0.2)\n",
    "# round(len(os.listdir(train_directory + '/TrainAP/Normal')) * 0.2)\n",
    "round(len(os.listdir(train_directory + '/TrainPA/Abnormal')) * 0.2)\n",
    "round(len(os.listdir(train_directory + '/TrainPA/Normal')) * 0.2)"
   ]
  },
  {
   "cell_type": "code",
   "execution_count": 19,
   "metadata": {},
   "outputs": [],
   "source": [
    "# a = random.sample(os.listdir(train_directory + '/TrainAP/Abnormal'), round(len(os.listdir(train_directory + '/TrainAP/Abnormal')) * 0.2))\n",
    "# b = random.sample(os.listdir(train_directory + '/TrainAP/Normal'), round(len(os.listdir(train_directory + '/TrainAP/Normal')) * 0.2))\n",
    "c = random.sample(os.listdir(train_directory + '/TrainPA/Abnormal'), round(len(os.listdir(train_directory + '/TrainPA/Abnormal')) * 0.2))\n",
    "d = random.sample(os.listdir(train_directory + '/TrainPA/Normal'), round(len(os.listdir(train_directory + '/TrainPA/Normal')) * 0.2))"
   ]
  },
  {
   "cell_type": "code",
   "execution_count": 20,
   "metadata": {},
   "outputs": [],
   "source": [
    "# for image in a:\n",
    "#     initial = train_directory + '/TrainAP/Abnormal/' + image\n",
    "#     final = test_directory + '/ValidAP/Abnormal/' + image\n",
    "#     os.rename(initial, final)\n",
    "# for image in b:\n",
    "#     initial = train_directory + '/TrainAP/Normal/' + image\n",
    "#     final = test_directory + '/ValidAP/Normal/' + image\n",
    "#     os.rename(initial, final)\n",
    "for image in c:\n",
    "    initial = train_directory + '/TrainPA/Abnormal/' + image\n",
    "    final = test_directory + '/testPA/Abnormal/' + image\n",
    "    os.rename(initial, final)\n",
    "for image in d:\n",
    "    initial = train_directory + '/TrainPA/Normal/' + image\n",
    "    final = test_directory + '/testPA/Normal/' + image\n",
    "    os.rename(initial, final)"
   ]
  }
 ],
 "metadata": {
  "interpreter": {
   "hash": "f856784eb8dcf2d3e4c52606edc4be4ac4edabe0d9c38c60452d6d6a5cc1135f"
  },
  "kernelspec": {
   "display_name": "Python 3.9.0 ('deeplearningkeras')",
   "language": "python",
   "name": "python3"
  },
  "language_info": {
   "codemirror_mode": {
    "name": "ipython",
    "version": 3
   },
   "file_extension": ".py",
   "mimetype": "text/x-python",
   "name": "python",
   "nbconvert_exporter": "python",
   "pygments_lexer": "ipython3",
   "version": "3.9.0"
  },
  "orig_nbformat": 4
 },
 "nbformat": 4,
 "nbformat_minor": 2
}
