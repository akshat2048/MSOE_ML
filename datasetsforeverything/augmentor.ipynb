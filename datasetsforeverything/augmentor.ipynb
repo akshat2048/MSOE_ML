{
 "cells": [
  {
   "cell_type": "code",
   "execution_count": 1,
   "metadata": {},
   "outputs": [],
   "source": [
    "# import pandas, shutil, os\n",
    "import pandas as pd\n",
    "import shutil\n",
    "import os\n",
    "import random\n",
    "import math\n",
    "import glob\n",
    "import Augmentor\n",
    "import AugmentationPipeline\n",
    "import ResizeImages"
   ]
  },
  {
   "cell_type": "code",
   "execution_count": 2,
   "metadata": {},
   "outputs": [
    {
     "name": "stdout",
     "output_type": "stream",
     "text": [
      "Multiple outputs per cell\n"
     ]
    }
   ],
   "source": [
    "# allow multiple output per cell\n",
    "from IPython.core.interactiveshell import InteractiveShell\n",
    "InteractiveShell.ast_node_interactivity = \"all\"\n",
    "\n",
    "print(\"Multiple outputs per cell\")"
   ]
  },
  {
   "cell_type": "code",
   "execution_count": 3,
   "metadata": {},
   "outputs": [],
   "source": [
    "# variables to determine the source and destination paths\n",
    "TRAIN_DIRECTORY = 'C:/Users/samee/Downloads/Combined-Binary/Train/TrainAP' # no need to put a forward slash at the front of directory name\n",
    "\n",
    "TEST_DIRECTORY = 'C:/Users/samee/Downloads/Combined-Binary/Valid/ValidAP'\n",
    "\n",
    "NUMBER_OF_SAMPLES_PER_CLASS = 0"
   ]
  },
  {
   "cell_type": "code",
   "execution_count": 7,
   "metadata": {},
   "outputs": [],
   "source": [
    "training_data = pd.DataFrame(columns=['Disease', 'Count'])"
   ]
  },
  {
   "cell_type": "code",
   "execution_count": 8,
   "metadata": {},
   "outputs": [],
   "source": [
    "# go through each folder in the training directory\n",
    "for folder in glob.glob(f'{TRAIN_DIRECTORY}/*'):\n",
    "    f = folder[::-1]\n",
    "    f = f.replace('\\\\', '/')\n",
    "    f = f[:f.index('/')]\n",
    "    f = f[::-1]\n",
    "\n",
    "    # get number of files in the folder\n",
    "    count = len(os.listdir(folder))\n",
    "\n",
    "    # add this data to the dataframe\n",
    "    training_data = training_data.append({'Disease': f, 'Count': count}, ignore_index=True)"
   ]
  },
  {
   "cell_type": "code",
   "execution_count": 9,
   "metadata": {},
   "outputs": [
    {
     "data": {
      "text/html": [
       "<div>\n",
       "<style scoped>\n",
       "    .dataframe tbody tr th:only-of-type {\n",
       "        vertical-align: middle;\n",
       "    }\n",
       "\n",
       "    .dataframe tbody tr th {\n",
       "        vertical-align: top;\n",
       "    }\n",
       "\n",
       "    .dataframe thead th {\n",
       "        text-align: right;\n",
       "    }\n",
       "</style>\n",
       "<table border=\"1\" class=\"dataframe\">\n",
       "  <thead>\n",
       "    <tr style=\"text-align: right;\">\n",
       "      <th></th>\n",
       "      <th>Disease</th>\n",
       "      <th>Count</th>\n",
       "    </tr>\n",
       "  </thead>\n",
       "  <tbody>\n",
       "    <tr>\n",
       "      <th>0</th>\n",
       "      <td>Abnormal</td>\n",
       "      <td>61335</td>\n",
       "    </tr>\n",
       "    <tr>\n",
       "      <th>1</th>\n",
       "      <td>Normal</td>\n",
       "      <td>20895</td>\n",
       "    </tr>\n",
       "  </tbody>\n",
       "</table>\n",
       "</div>"
      ],
      "text/plain": [
       "    Disease  Count\n",
       "0  Abnormal  61335\n",
       "1    Normal  20895"
      ]
     },
     "execution_count": 9,
     "metadata": {},
     "output_type": "execute_result"
    }
   ],
   "source": [
    "training_data.sort_values(by=['Count'], ascending=False, inplace=True)\n",
    "training_data"
   ]
  },
  {
   "cell_type": "code",
   "execution_count": 10,
   "metadata": {},
   "outputs": [
    {
     "name": "stdout",
     "output_type": "stream",
     "text": [
      "Initialised with 20894 image(s) found.\n",
      "Output directory set to C:/Users/samee/Downloads/Combined-Binary/Train/TrainAP/Normal\\output."
     ]
    },
    {
     "name": "stderr",
     "output_type": "stream",
     "text": [
      "Processing <PIL.Image.Image image mode=L size=320x320 at 0x1ED31B1B310>: 100%|██████████| 40000/40000 [04:56<00:00, 134.90 Samples/s]                   \n"
     ]
    }
   ],
   "source": [
    "# abn = len(os.listdir(TRAIN_DIRECTORY + '/Abnormal'))\n",
    "# norm = len(os.listdir(TRAIN_DIRECTORY + '/Normal'))\n",
    "# factor = abn / norm\n",
    "# amount = (factor - 1) * norm\n",
    "AugmentationPipeline.augmentation_pipeline(TRAIN_DIRECTORY + '/Normal', 40000)"
   ]
  },
  {
   "cell_type": "code",
   "execution_count": 13,
   "metadata": {},
   "outputs": [
    {
     "name": "stdout",
     "output_type": "stream",
     "text": [
      "C:/Users/samee/Downloads/Combined-Binary/Train/TrainAP\\Abnormal\n",
      "C:/Users/samee/Downloads/Combined-Binary/Train/TrainAP\\Normal\n"
     ]
    }
   ],
   "source": [
    "for folder in glob.glob(f'{TRAIN_DIRECTORY}/*'):\n",
    "    f = folder[::-1]\n",
    "    f = f.replace('\\\\', '/')\n",
    "    f = f[:f.index('/')]\n",
    "    f = f[::-1]\n",
    "\n",
    "    print(folder)\n",
    "\n",
    "    abn = len(os.listdir(TRAIN_DIRECTORY + '/Abnormal'))\n",
    "    norm = len(os.listdir(TRAIN_DIRECTORY + '/Abnormal'))\n",
    "\n",
    "    # NUMBER_OF_SAMPLES_PER_CLASS[0] = int(NUMBER_OF_SAMPLES_PER_CLASS[0])\n",
    "    # if 'Normal' in f:\n",
    "    #     AugmentationPipeline.augmentation_pipeline(folder, NUMBER_OF_SAMPLES_PER_CLASS[0])\n",
    "    # NUMBER_OF_SAMPLES_PER_CLASS = 0"
   ]
  },
  {
   "cell_type": "markdown",
   "metadata": {},
   "source": [
    "# Resize Images Below"
   ]
  },
  {
   "cell_type": "code",
   "execution_count": 8,
   "metadata": {},
   "outputs": [],
   "source": [
    "# delete all folders to prevent a IsDirectory error\n",
    "for folder in glob.glob(f'{TRAIN_DIRECTORY}/*/'):\n",
    "    for folder2 in glob.glob(f'{folder}/*/'):\n",
    "        os.rmdir(folder2)\n",
    "\n"
   ]
  },
  {
   "cell_type": "code",
   "execution_count": 9,
   "metadata": {},
   "outputs": [],
   "source": [
    "for folder in glob.glob(f'{TRAIN_DIRECTORY}/*/'):\n",
    "    f = folder[::-1]\n",
    "    f = f[f.index('/')+1:]\n",
    "    f = f[:f.index('/')]\n",
    "    f = f[::-1]\n",
    "\n",
    "    ResizeImages.resize_images(folder)"
   ]
  },
  {
   "cell_type": "markdown",
   "metadata": {},
   "source": [
    "# Delete all augmented images"
   ]
  },
  {
   "cell_type": "code",
   "execution_count": 6,
   "metadata": {},
   "outputs": [],
   "source": [
    "for file in os.listdir(TRAIN_DIRECTORY + '/Normal'):\n",
    "    if 'Normal' in file:\n",
    "        os.remove(TRAIN_DIRECTORY + '/Normal/' + file)"
   ]
  }
 ],
 "metadata": {
  "interpreter": {
   "hash": "f4232e35a17d310af1bb18ab8d5062a10cff20e52b686e5d270dd17948a21a21"
  },
  "kernelspec": {
   "display_name": "Python 3.8.12 64-bit ('apple_tensorflow': conda)",
   "language": "python",
   "name": "python3"
  },
  "language_info": {
   "codemirror_mode": {
    "name": "ipython",
    "version": 3
   },
   "file_extension": ".py",
   "mimetype": "text/x-python",
   "name": "python",
   "nbconvert_exporter": "python",
   "pygments_lexer": "ipython3",
   "version": "3.9.0"
  },
  "orig_nbformat": 4
 },
 "nbformat": 4,
 "nbformat_minor": 2
}
