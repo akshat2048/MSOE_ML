{
 "cells": [
  {
   "cell_type": "code",
   "execution_count": 32,
   "metadata": {},
   "outputs": [],
   "source": [
    "# import pandas, shutil, os\n",
    "import pandas as pd\n",
    "import shutil\n",
    "import os\n",
    "import random\n",
    "import math\n",
    "import glob\n",
    "import Augmentor\n",
    "import AugmentationPipeline\n",
    "import ResizeImages"
   ]
  },
  {
   "cell_type": "code",
   "execution_count": 33,
   "metadata": {},
   "outputs": [
    {
     "name": "stdout",
     "output_type": "stream",
     "text": [
      "Multiple outputs per cell\n"
     ]
    }
   ],
   "source": [
    "# allow multiple output per cell\n",
    "from IPython.core.interactiveshell import InteractiveShell\n",
    "InteractiveShell.ast_node_interactivity = \"all\"\n",
    "\n",
    "print(\"Multiple outputs per cell\")"
   ]
  },
  {
   "cell_type": "code",
   "execution_count": 34,
   "metadata": {},
   "outputs": [],
   "source": [
    "# variables to determine the source and destination paths\n",
    "TRAIN_DIRECTORY = 'C:/Users/samee/Downloads/CheXpert-v1.0-small-categorical/CheXpert-v1.0-small/train/Frontal' # no need to put a forward slash at the front of directory name\n",
    "\n",
    "TEST_DIRECTORY = 'C:/Users/samee/Downloads/CheXpert-v1.0-small-categorical/CheXpert-v1.0-small/valid/Frontal'\n",
    "\n",
    "NUMBER_OF_SAMPLES_PER_CLASS = 0"
   ]
  },
  {
   "cell_type": "code",
   "execution_count": 43,
   "metadata": {},
   "outputs": [],
   "source": [
    "training_data = pd.DataFrame(columns=['Disease', 'Count'])"
   ]
  },
  {
   "cell_type": "code",
   "execution_count": 44,
   "metadata": {},
   "outputs": [],
   "source": [
    "# go through each folder in the training directory\n",
    "for folder in glob.glob(f'{TRAIN_DIRECTORY}/*'):\n",
    "    f = folder[::-1]\n",
    "    f = f.replace('\\\\', '/')\n",
    "    f = f[:f.index('/')]\n",
    "    f = f[::-1]\n",
    "\n",
    "    # get number of files in the folder\n",
    "    count = len(os.listdir(folder))\n",
    "\n",
    "    # add this data to the dataframe\n",
    "    training_data = training_data.append({'Disease': f, 'Count': count}, ignore_index=True)"
   ]
  },
  {
   "cell_type": "code",
   "execution_count": 45,
   "metadata": {},
   "outputs": [
    {
     "data": {
      "text/html": [
       "<div>\n",
       "<style scoped>\n",
       "    .dataframe tbody tr th:only-of-type {\n",
       "        vertical-align: middle;\n",
       "    }\n",
       "\n",
       "    .dataframe tbody tr th {\n",
       "        vertical-align: top;\n",
       "    }\n",
       "\n",
       "    .dataframe thead th {\n",
       "        text-align: right;\n",
       "    }\n",
       "</style>\n",
       "<table border=\"1\" class=\"dataframe\">\n",
       "  <thead>\n",
       "    <tr style=\"text-align: right;\">\n",
       "      <th></th>\n",
       "      <th>Disease</th>\n",
       "      <th>Count</th>\n",
       "    </tr>\n",
       "  </thead>\n",
       "  <tbody>\n",
       "    <tr>\n",
       "      <th>3</th>\n",
       "      <td>Edema</td>\n",
       "      <td>24016</td>\n",
       "    </tr>\n",
       "    <tr>\n",
       "      <th>7</th>\n",
       "      <td>Lung Opacity</td>\n",
       "      <td>24016</td>\n",
       "    </tr>\n",
       "    <tr>\n",
       "      <th>9</th>\n",
       "      <td>Pleural Effusion</td>\n",
       "      <td>24016</td>\n",
       "    </tr>\n",
       "    <tr>\n",
       "      <th>8</th>\n",
       "      <td>No Finding</td>\n",
       "      <td>24015</td>\n",
       "    </tr>\n",
       "    <tr>\n",
       "      <th>12</th>\n",
       "      <td>Pneumothorax</td>\n",
       "      <td>17951</td>\n",
       "    </tr>\n",
       "    <tr>\n",
       "      <th>0</th>\n",
       "      <td>Atelectasis</td>\n",
       "      <td>16481</td>\n",
       "    </tr>\n",
       "    <tr>\n",
       "      <th>1</th>\n",
       "      <td>Cardiomegaly</td>\n",
       "      <td>11916</td>\n",
       "    </tr>\n",
       "    <tr>\n",
       "      <th>2</th>\n",
       "      <td>Consolidation</td>\n",
       "      <td>8006</td>\n",
       "    </tr>\n",
       "    <tr>\n",
       "      <th>5</th>\n",
       "      <td>Fracture</td>\n",
       "      <td>7681</td>\n",
       "    </tr>\n",
       "    <tr>\n",
       "      <th>4</th>\n",
       "      <td>Enlarged Cardiomediastinum</td>\n",
       "      <td>6581</td>\n",
       "    </tr>\n",
       "    <tr>\n",
       "      <th>11</th>\n",
       "      <td>Pneumonia</td>\n",
       "      <td>4708</td>\n",
       "    </tr>\n",
       "    <tr>\n",
       "      <th>6</th>\n",
       "      <td>Lung Lesion</td>\n",
       "      <td>4461</td>\n",
       "    </tr>\n",
       "    <tr>\n",
       "      <th>10</th>\n",
       "      <td>Pleural Other</td>\n",
       "      <td>3817</td>\n",
       "    </tr>\n",
       "  </tbody>\n",
       "</table>\n",
       "</div>"
      ],
      "text/plain": [
       "                       Disease  Count\n",
       "3                        Edema  24016\n",
       "7                 Lung Opacity  24016\n",
       "9             Pleural Effusion  24016\n",
       "8                   No Finding  24015\n",
       "12                Pneumothorax  17951\n",
       "0                  Atelectasis  16481\n",
       "1                 Cardiomegaly  11916\n",
       "2                Consolidation   8006\n",
       "5                     Fracture   7681\n",
       "4   Enlarged Cardiomediastinum   6581\n",
       "11                   Pneumonia   4708\n",
       "6                  Lung Lesion   4461\n",
       "10               Pleural Other   3817"
      ]
     },
     "execution_count": 45,
     "metadata": {},
     "output_type": "execute_result"
    }
   ],
   "source": [
    "training_data.sort_values(by=['Count'], ascending=False, inplace=True)\n",
    "training_data"
   ]
  },
  {
   "cell_type": "code",
   "execution_count": 42,
   "metadata": {},
   "outputs": [
    {
     "name": "stdout",
     "output_type": "stream",
     "text": [
      "Initialised with 346 image(s) found.\n",
      "Output directory set to C:/Users/samee/Downloads/CheXpert-v1.0-small-categorical/CheXpert-v1.0-small/train/Frontal\\Pleural Other\\output."
     ]
    },
    {
     "name": "stderr",
     "output_type": "stream",
     "text": [
      "Processing <PIL.JpegImagePlugin.JpegImageFile image mode=L size=389x320 at 0x1FE662F4670>: 100%|██████████| 3470/3470 [00:07<00:00, 462.20 Samples/s] \n"
     ]
    },
    {
     "name": "stdout",
     "output_type": "stream",
     "text": [
      "Initialised with 427 image(s) found.\n",
      "Output directory set to C:/Users/samee/Downloads/CheXpert-v1.0-small-categorical/CheXpert-v1.0-small/train/Frontal\\Pneumonia\\output."
     ]
    },
    {
     "name": "stderr",
     "output_type": "stream",
     "text": [
      "Processing <PIL.Image.Image image mode=L size=320x320 at 0x1FE666252B0>: 100%|██████████| 4280/4280 [00:09<00:00, 448.82 Samples/s]                   \n"
     ]
    }
   ],
   "source": [
    "for folder in glob.glob(f'{TRAIN_DIRECTORY}/*'):\n",
    "    f = folder[::-1]\n",
    "    f = f.replace('\\\\', '/')\n",
    "    f = f[:f.index('/')]\n",
    "    f = f[::-1]\n",
    "    \n",
    "    dis = training_data[training_data['Disease'] == f]['Count'].values\n",
    "    no_find = training_data[training_data['Disease'] == 'No Finding']['Count'].values\n",
    "    factor = no_find/dis\n",
    "    if factor <= 6:\n",
    "        continue\n",
    "    else:\n",
    "        NUMBER_OF_SAMPLES_PER_CLASS = 10 * dis\n",
    "    NUMBER_OF_SAMPLES_PER_CLASS[0] = int(NUMBER_OF_SAMPLES_PER_CLASS[0])\n",
    "    if 'Pleural Other' in f or 'Pneumonia' in f:\n",
    "        AugmentationPipeline.augmentation_pipeline(folder, NUMBER_OF_SAMPLES_PER_CLASS[0])\n",
    "    NUMBER_OF_SAMPLES_PER_CLASS = 0"
   ]
  },
  {
   "cell_type": "markdown",
   "metadata": {},
   "source": [
    "# Resize Images Below"
   ]
  },
  {
   "cell_type": "code",
   "execution_count": 8,
   "metadata": {},
   "outputs": [],
   "source": [
    "# delete all folders to prevent a IsDirectory error\n",
    "for folder in glob.glob(f'{TRAIN_DIRECTORY}/*/'):\n",
    "    for folder2 in glob.glob(f'{folder}/*/'):\n",
    "        os.rmdir(folder2)\n",
    "\n"
   ]
  },
  {
   "cell_type": "code",
   "execution_count": 9,
   "metadata": {},
   "outputs": [],
   "source": [
    "for folder in glob.glob(f'{TRAIN_DIRECTORY}/*/'):\n",
    "    f = folder[::-1]\n",
    "    f = f[f.index('/')+1:]\n",
    "    f = f[:f.index('/')]\n",
    "    f = f[::-1]\n",
    "\n",
    "    ResizeImages.resize_images(folder)"
   ]
  }
 ],
 "metadata": {
  "interpreter": {
   "hash": "f4232e35a17d310af1bb18ab8d5062a10cff20e52b686e5d270dd17948a21a21"
  },
  "kernelspec": {
   "display_name": "Python 3.8.12 64-bit ('apple_tensorflow': conda)",
   "language": "python",
   "name": "python3"
  },
  "language_info": {
   "codemirror_mode": {
    "name": "ipython",
    "version": 3
   },
   "file_extension": ".py",
   "mimetype": "text/x-python",
   "name": "python",
   "nbconvert_exporter": "python",
   "pygments_lexer": "ipython3",
   "version": "3.9.0"
  },
  "orig_nbformat": 4
 },
 "nbformat": 4,
 "nbformat_minor": 2
}
