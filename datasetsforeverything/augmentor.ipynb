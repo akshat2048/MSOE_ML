{
 "cells": [
  {
   "cell_type": "code",
   "execution_count": 1,
   "metadata": {},
   "outputs": [],
   "source": [
    "# import pandas, shutil, os\n",
    "import pandas as pd\n",
    "import shutil\n",
    "import os\n",
    "import random\n",
    "import math\n",
    "import glob\n",
    "import Augmentor\n",
    "import AugmentationPipeline\n",
    "# import ResizeImages"
   ]
  },
  {
   "cell_type": "code",
   "execution_count": 2,
   "metadata": {},
   "outputs": [
    {
     "name": "stdout",
     "output_type": "stream",
     "text": [
      "Multiple outputs per cell\n"
     ]
    }
   ],
   "source": [
    "# allow multiple output per cell\n",
    "from IPython.core.interactiveshell import InteractiveShell\n",
    "InteractiveShell.ast_node_interactivity = \"all\"\n",
    "\n",
    "print(\"Multiple outputs per cell\")"
   ]
  },
  {
   "cell_type": "code",
   "execution_count": null,
   "metadata": {},
   "outputs": [],
   "source": [
    "# variables to determine the source and destination paths\n",
    "TRAIN_DIRECTORY = 'C:/Users/samee/Downloads/Crop_Test/Train/TrainPA' # no need to put a forward slash at the front of directory name\n",
    "\n",
    "specific_disease = 'C:/Users/samee/Downloads/Crop_Test/Train/TrainPA/Lung_LesionAndOpacity'\n",
    "\n",
    "TEST_DIRECTORY = 'C:/Users/samee/Downloads/Crop_Test/Valid/ValidPA'\n",
    "\n",
    "NUMBER_OF_SAMPLES_PER_CLASS = 0"
   ]
  },
  {
   "cell_type": "code",
   "execution_count": null,
   "metadata": {},
   "outputs": [],
   "source": [
    "training_data = pd.DataFrame(columns=['Disease', 'Count'])"
   ]
  },
  {
   "cell_type": "code",
   "execution_count": null,
   "metadata": {},
   "outputs": [],
   "source": [
    "# go through each folder in the training directory\n",
    "for folder in glob.glob(f'{TRAIN_DIRECTORY}/*'):\n",
    "    f = folder[::-1]\n",
    "    f = f.replace('\\\\', '/')\n",
    "    f = f[:f.index('/')]\n",
    "    f = f[::-1]\n",
    "\n",
    "    # get number of files in the folder\n",
    "    count = len(os.listdir(folder))\n",
    "\n",
    "    # add this data to the dataframe\n",
    "    training_data = training_data.append({'Disease': f, 'Count': count}, ignore_index=True)"
   ]
  },
  {
   "cell_type": "code",
   "execution_count": null,
   "metadata": {},
   "outputs": [],
   "source": [
    "training_data.sort_values(by=['Count'], ascending=False, inplace=True)\n",
    "training_data"
   ]
  },
  {
   "cell_type": "code",
   "execution_count": null,
   "metadata": {},
   "outputs": [],
   "source": [
    "# abn = len(os.listdir(TRAIN_DIRECTORY + '/Abnormal'))\n",
    "# norm = len(os.listdir(TRAIN_DIRECTORY + '/Normal'))\n",
    "# factor = abn / norm\n",
    "# amount = (factor - 1) * norm\n",
    "AugmentationPipeline.augmentation_pipeline(TRAIN_DIRECTORY + '/Pneumonia', 1500)"
   ]
  },
  {
   "cell_type": "markdown",
   "metadata": {},
   "source": [
    "# MOVING FILES"
   ]
  },
  {
   "cell_type": "code",
   "execution_count": 3,
   "metadata": {},
   "outputs": [],
   "source": [
    "TRAIN_DIRECTORY = 'C:/Users/samee/Downloads/Crop_Test/Train/TrainPA' # no need to put a forward slash at the front of directory name\n",
    "train = 'C:/Users/samee/Downloads/Crop_Test/Train'\n",
    "valid = 'C:/Users/samee/Downloads/Crop_Test/Valid'\n",
    "specific_disease = 'C:/Users/samee/Downloads/Crop_Test/Train/TrainPA/Fracture'\n",
    "specific_disease_valid = 'C:/Users/samee/Downloads/Crop_Test/Valid/ValidPA/Fracture'\n",
    "TEST_DIRECTORY = 'C:/Users/samee/Downloads/Crop_Test/Valid/ValidPA'\n",
    "new_disease = 'Fracture'\n",
    "diff_director = 'C:\\\\Users\\\\samee\\\\Downloads\\\\AP+PAfracture'"
   ]
  },
  {
   "cell_type": "markdown",
   "metadata": {},
   "source": [
    "Moving Normal"
   ]
  },
  {
   "cell_type": "code",
   "execution_count": null,
   "metadata": {},
   "outputs": [],
   "source": [
    "for file in os.listdir(TRAIN_DIRECTORY + '/No_Finding 2.0'):\n",
    "    og = os.path.join(TRAIN_DIRECTORY, 'No_Finding 2.0', file)\n",
    "    final = os.path.join(TRAIN_DIRECTORY, 'No_Finding', file)\n",
    "    os.rename(og, final)"
   ]
  },
  {
   "cell_type": "code",
   "execution_count": 11,
   "metadata": {},
   "outputs": [],
   "source": [
    "percent = (len(os.listdir(TRAIN_DIRECTORY + '/No_Finding')) - len(os.listdir(specific_disease)))/len(os.listdir(TRAIN_DIRECTORY + '/No_Finding'))\n",
    "sample = random.sample(os.listdir(TRAIN_DIRECTORY + '/No_Finding'), round(len(os.listdir(TRAIN_DIRECTORY + '/No_Finding')) * percent))\n",
    "for file in sample:\n",
    "    og = os.path.join(TRAIN_DIRECTORY, 'No_Finding', file)\n",
    "    final = os.path.join(TRAIN_DIRECTORY, 'No_Finding 2.0', file)\n",
    "    os.rename(og, final)"
   ]
  },
  {
   "cell_type": "markdown",
   "metadata": {},
   "source": [
    "Deleting augmented images"
   ]
  },
  {
   "cell_type": "code",
   "execution_count": null,
   "metadata": {},
   "outputs": [],
   "source": [
    "for image in os.listdir(specific_disease):\n",
    "    if 25 < len(image):\n",
    "        os.remove(os.path.join(specific_disease, image))"
   ]
  },
  {
   "cell_type": "markdown",
   "metadata": {},
   "source": [
    "VALID NORMAL MOVING"
   ]
  },
  {
   "cell_type": "code",
   "execution_count": 42,
   "metadata": {},
   "outputs": [],
   "source": [
    "for file in os.listdir(valid + '/Normal 2.1'):\n",
    "    og = os.path.join(valid, 'Normal 2.1', file)\n",
    "    final = os.path.join(TEST_DIRECTORY, 'No_Finding', file)\n",
    "    os.rename(og, final)"
   ]
  },
  {
   "cell_type": "code",
   "execution_count": 14,
   "metadata": {},
   "outputs": [],
   "source": [
    "percent = (len(os.listdir(TEST_DIRECTORY + '/No_Finding')) - len(os.listdir(specific_disease_valid)))/len(os.listdir(TEST_DIRECTORY + '/No_Finding'))\n",
    "sample = random.sample(os.listdir(TEST_DIRECTORY + '/No_Finding'), round(len(os.listdir(TEST_DIRECTORY + '/No_Finding')) * percent))\n",
    "for file in sample:\n",
    "    og = os.path.join(TEST_DIRECTORY, 'No_Finding', file)\n",
    "    final = os.path.join(valid, 'Normal 2.1', file)\n",
    "    os.rename(og, final)"
   ]
  },
  {
   "cell_type": "markdown",
   "metadata": {},
   "source": [
    "Moving 2.0s back"
   ]
  },
  {
   "cell_type": "code",
   "execution_count": null,
   "metadata": {},
   "outputs": [],
   "source": [
    "for folder in os.listdir(os.path.join(train, '2.0s')):\n",
    "    disease = folder[:-4]\n",
    "    for file in os.listdir(os.path.join(train, '2.0s', folder)):\n",
    "        os.rename(os.path.join(train, '2.0s', folder, file), os.path.join(TRAIN_DIRECTORY, disease, file))"
   ]
  },
  {
   "cell_type": "markdown",
   "metadata": {},
   "source": [
    "Combining all diseases"
   ]
  },
  {
   "cell_type": "code",
   "execution_count": null,
   "metadata": {},
   "outputs": [],
   "source": [
    "for folder in os.listdir(os.path.join(train, 'Spare')):\n",
    "    for file in os.listdir(os.path.join(train, 'Spare', folder)):\n",
    "        os.rename(os.path.join(train, 'Spare', folder, file), os.path.join(TRAIN_DIRECTORY, 'Abnormal', file))"
   ]
  },
  {
   "cell_type": "code",
   "execution_count": null,
   "metadata": {},
   "outputs": [],
   "source": [
    "for folder in os.listdir(os.path.join(valid, 'Spare')):\n",
    "    for file in os.listdir(os.path.join(valid, 'Spare', folder)):\n",
    "        os.rename(os.path.join(valid, 'Spare', folder, file), os.path.join(TEST_DIRECTORY, 'Abnormal', file))"
   ]
  },
  {
   "cell_type": "markdown",
   "metadata": {},
   "source": [
    "Taking out specific disease from All"
   ]
  },
  {
   "cell_type": "code",
   "execution_count": null,
   "metadata": {},
   "outputs": [],
   "source": [
    "for file in os.listdir(os.path.join(train, 'Abnormal')):\n",
    "    disease = file[:file.index(' ')]\n",
    "    if new_disease in disease:\n",
    "        if not os.path.exists(TRAIN_DIRECTORY + '/' + disease):\n",
    "            os.makedirs(TRAIN_DIRECTORY + '/' + disease)\n",
    "        os.rename(os.path.join(train, 'Abnormal', file), os.path.join(TRAIN_DIRECTORY, new_disease, file))"
   ]
  },
  {
   "cell_type": "code",
   "execution_count": 39,
   "metadata": {},
   "outputs": [],
   "source": [
    "for file in os.listdir(os.path.join(valid, 'Abnormal')):\n",
    "    disease = file[:file.index(' ')]\n",
    "    if new_disease in disease:\n",
    "        if not os.path.exists(TEST_DIRECTORY + '/' + disease):\n",
    "            os.makedirs(TEST_DIRECTORY + '/' + disease)\n",
    "        os.rename(os.path.join(valid, 'Abnormal', file), os.path.join(TEST_DIRECTORY, new_disease, file))"
   ]
  },
  {
   "cell_type": "markdown",
   "metadata": {},
   "source": [
    "AP + PA Joining"
   ]
  },
  {
   "cell_type": "code",
   "execution_count": 6,
   "metadata": {},
   "outputs": [],
   "source": [
    "x = 359\n",
    "for file in os.listdir(specific_disease):\n",
    "    x+=1\n",
    "    _ = shutil.copy(os.path.join(specific_disease, file), os.path.join(diff_director, 'Train', 'Fracture', 'Fracture ' + str(x) + '.png'))\n",
    "x = 90\n",
    "for file in os.listdir(specific_disease_valid):\n",
    "    x+=1\n",
    "    _ = shutil.copy(os.path.join(specific_disease_valid, file), os.path.join(diff_director, 'Valid', 'Fracture', 'Fracture ' + str(x) + '.png'))"
   ]
  },
  {
   "cell_type": "code",
   "execution_count": 19,
   "metadata": {},
   "outputs": [],
   "source": [
    "path = 'C:/Users/samee/Downloads/Crop_Test_Inverted/Valid/ValidAP/No_Finding'\n",
    "x = 90\n",
    "for file in os.listdir(path):\n",
    "    x += 1\n",
    "    _ = shutil.copy(os.path.join(path, file), os.path.join(diff_director, 'Valid', 'No_Finding', 'No_Finding ' + str(x) + '.png'))"
   ]
  },
  {
   "cell_type": "markdown",
   "metadata": {},
   "source": [
    "KFold Copy disease to diff folder"
   ]
  },
  {
   "cell_type": "code",
   "execution_count": 14,
   "metadata": {},
   "outputs": [
    {
     "data": {
      "text/plain": [
       "449"
      ]
     },
     "execution_count": 14,
     "metadata": {},
     "output_type": "execute_result"
    }
   ],
   "source": [
    "x = 0\n",
    "for file in os.listdir(specific_disease):\n",
    "    x += 1\n",
    "    _ = shutil.copy(os.path.join(specific_disease, file), os.path.join(diff_director, 'Fracture', 'Fracture ' + str(x) + '.png'))\n",
    "\n",
    "for file in os.listdir(specific_disease_valid):\n",
    "    x += 1\n",
    "    _ = shutil.copy(os.path.join(specific_disease_valid, file), os.path.join(diff_director, 'Fracture', 'Fracture ' + str(x) + '.png'))\n",
    "x"
   ]
  },
  {
   "cell_type": "code",
   "execution_count": 10,
   "metadata": {},
   "outputs": [],
   "source": [
    "for file in os.listdir(os.path.join(TEST_DIRECTORY, 'No_Finding')):\n",
    "    _ = shutil.copy(os.path.join(TEST_DIRECTORY, 'No_Finding', file), os.path.join(diff_director, 'Normal', file))\n",
    "for file in os.listdir(os.path.join(TRAIN_DIRECTORY, 'No_Finding')):\n",
    "    _ = shutil.copy(os.path.join(TRAIN_DIRECTORY, 'No_Finding', file), os.path.join(diff_director, 'Normal', file))"
   ]
  },
  {
   "cell_type": "markdown",
   "metadata": {},
   "source": [
    "Random"
   ]
  },
  {
   "cell_type": "code",
   "execution_count": 12,
   "metadata": {},
   "outputs": [],
   "source": [
    "new = 'C:\\\\Users\\\\samee\\\\Downloads\\\\MIMIC\\\\Train\\\\Fracture'\n",
    "new2 = 'C:\\\\Users\\\\samee\\\\Downloads\\\\MIMIC\\\\Valid\\\\Fracture'\n",
    "x = 0\n",
    "for file in os.listdir(new):\n",
    "    x += 1\n",
    "    _ = os.rename(os.path.join(new, file), os.path.join(new, 'Fracture ' + str(x) + '.png'))"
   ]
  },
  {
   "cell_type": "code",
   "execution_count": 49,
   "metadata": {},
   "outputs": [],
   "source": [
    "no_fin = random.sample(os.listdir(new), 286)\n",
    "for file in no_fin:\n",
    "    os.rename(os.path.join(new, file), os.path.join(new2, file))"
   ]
  },
  {
   "cell_type": "code",
   "execution_count": 46,
   "metadata": {},
   "outputs": [],
   "source": [
    "a = 'C:\\\\Users\\\\samee\\\\Downloads\\\\Crop_Test\\\\Valid\\\\ValidPA\\\\Fracture'\n",
    "for file in os.listdir(a):\n",
    "    disease = file[:file.index(' ')]\n",
    "    if disease == 'Fracture':\n",
    "        _ = shutil.copy(os.path.join(a, file), os.path.join(new, file))"
   ]
  },
  {
   "cell_type": "code",
   "execution_count": 14,
   "metadata": {},
   "outputs": [],
   "source": [
    "new = 'C:\\\\Users\\\\samee\\\\Downloads\\\\MIMIC\\\\Train\\\\Fracture'\n",
    "new2 = 'C:\\\\Users\\\\samee\\\\Downloads\\\\MIMIC\\\\Valid\\\\Fracture'\n",
    "\n",
    "no_fin = random.sample(os.listdir(new), 286)\n",
    "for file in no_fin:\n",
    "    os.rename(os.path.join(new, file), os.path.join(new2, file))"
   ]
  },
  {
   "cell_type": "code",
   "execution_count": 13,
   "metadata": {},
   "outputs": [],
   "source": [
    "for i in os.listdir(new2):\n",
    "    os.rename(os.path.join(new2, i), os.path.join(new, i))"
   ]
  }
 ],
 "metadata": {
  "interpreter": {
   "hash": "1e533507eb76cbfb81c75639bacc8f460941550716639a402c578975cb3ec022"
  },
  "kernelspec": {
   "display_name": "Python 3.9.0 ('deeplearningkeras')",
   "language": "python",
   "name": "python3"
  },
  "language_info": {
   "codemirror_mode": {
    "name": "ipython",
    "version": 3
   },
   "file_extension": ".py",
   "mimetype": "text/x-python",
   "name": "python",
   "nbconvert_exporter": "python",
   "pygments_lexer": "ipython3",
   "version": "3.9.0"
  },
  "orig_nbformat": 4
 },
 "nbformat": 4,
 "nbformat_minor": 2
}
