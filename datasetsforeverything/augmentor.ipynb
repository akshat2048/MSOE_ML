{
 "cells": [
  {
   "cell_type": "code",
   "execution_count": 1,
   "metadata": {},
   "outputs": [],
   "source": [
    "# import pandas, shutil, os\n",
    "import pandas as pd\n",
    "import shutil\n",
    "import os\n",
    "import random\n",
    "import math\n",
    "import glob\n",
    "import Augmentor\n",
    "import AugmentationPipeline\n",
    "import ResizeImages"
   ]
  },
  {
   "cell_type": "code",
   "execution_count": 2,
   "metadata": {},
   "outputs": [
    {
     "name": "stdout",
     "output_type": "stream",
     "text": [
      "Multiple outputs per cell\n"
     ]
    }
   ],
   "source": [
    "# allow multiple output per cell\n",
    "from IPython.core.interactiveshell import InteractiveShell\n",
    "InteractiveShell.ast_node_interactivity = \"all\"\n",
    "\n",
    "print(\"Multiple outputs per cell\")"
   ]
  },
  {
   "cell_type": "code",
   "execution_count": 13,
   "metadata": {},
   "outputs": [],
   "source": [
    "# variables to determine the source and destination paths\n",
    "TRAIN_DIRECTORY = 'C:/Users/samee/Downloads/Saturated-Binary-Single/Train/TrainPA' # no need to put a forward slash at the front of directory name\n",
    "\n",
    "specific_disease = 'C:/Users/samee/Downloads/Saturated-Binary-Single/Train/TrainPA/Pneumonia'\n",
    "\n",
    "TEST_DIRECTORY = 'C:/Users/samee/Downloads/Saturated-Binary-Single/Valid/ValidPA'\n",
    "\n",
    "NUMBER_OF_SAMPLES_PER_CLASS = 0"
   ]
  },
  {
   "cell_type": "code",
   "execution_count": 12,
   "metadata": {},
   "outputs": [
    {
     "name": "stdout",
     "output_type": "stream",
     "text": [
      "2074\n",
      "466\n"
     ]
    }
   ],
   "source": [
    "for i in os.listdir(TRAIN_DIRECTORY):\n",
    "    print(len(os.listdir(os.path.join(TRAIN_DIRECTORY, i))))"
   ]
  },
  {
   "cell_type": "code",
   "execution_count": 17,
   "metadata": {},
   "outputs": [],
   "source": [
    "training_data = pd.DataFrame(columns=['Disease', 'Count'])"
   ]
  },
  {
   "cell_type": "code",
   "execution_count": 18,
   "metadata": {},
   "outputs": [],
   "source": [
    "# go through each folder in the training directory\n",
    "for folder in glob.glob(f'{TRAIN_DIRECTORY}/*'):\n",
    "    f = folder[::-1]\n",
    "    f = f.replace('\\\\', '/')\n",
    "    f = f[:f.index('/')]\n",
    "    f = f[::-1]\n",
    "\n",
    "    # get number of files in the folder\n",
    "    count = len(os.listdir(folder))\n",
    "\n",
    "    # add this data to the dataframe\n",
    "    training_data = training_data.append({'Disease': f, 'Count': count}, ignore_index=True)"
   ]
  },
  {
   "cell_type": "code",
   "execution_count": 19,
   "metadata": {},
   "outputs": [
    {
     "data": {
      "text/html": [
       "<div>\n",
       "<style scoped>\n",
       "    .dataframe tbody tr th:only-of-type {\n",
       "        vertical-align: middle;\n",
       "    }\n",
       "\n",
       "    .dataframe tbody tr th {\n",
       "        vertical-align: top;\n",
       "    }\n",
       "\n",
       "    .dataframe thead th {\n",
       "        text-align: right;\n",
       "    }\n",
       "</style>\n",
       "<table border=\"1\" class=\"dataframe\">\n",
       "  <thead>\n",
       "    <tr style=\"text-align: right;\">\n",
       "      <th></th>\n",
       "      <th>Disease</th>\n",
       "      <th>Count</th>\n",
       "    </tr>\n",
       "  </thead>\n",
       "  <tbody>\n",
       "    <tr>\n",
       "      <th>0</th>\n",
       "      <td>Normal</td>\n",
       "      <td>2074</td>\n",
       "    </tr>\n",
       "    <tr>\n",
       "      <th>1</th>\n",
       "      <td>Pneumonia</td>\n",
       "      <td>1967</td>\n",
       "    </tr>\n",
       "  </tbody>\n",
       "</table>\n",
       "</div>"
      ],
      "text/plain": [
       "     Disease Count\n",
       "0     Normal  2074\n",
       "1  Pneumonia  1967"
      ]
     },
     "execution_count": 19,
     "metadata": {},
     "output_type": "execute_result"
    }
   ],
   "source": [
    "training_data.sort_values(by=['Count'], ascending=False, inplace=True)\n",
    "training_data"
   ]
  },
  {
   "cell_type": "code",
   "execution_count": 16,
   "metadata": {},
   "outputs": [
    {
     "name": "stdout",
     "output_type": "stream",
     "text": [
      "Initialised with 466 image(s) found.\n",
      "Output directory set to C:/Users/samee/Downloads/Saturated-Binary-Single/Train/TrainPA/Pneumonia\\output."
     ]
    },
    {
     "name": "stderr",
     "output_type": "stream",
     "text": [
      "Processing <PIL.Image.Image image mode=L size=320x320 at 0x21A05587070>: 100%|██████████| 1500/1500 [00:03<00:00, 390.03 Samples/s]                   \n"
     ]
    }
   ],
   "source": [
    "# abn = len(os.listdir(TRAIN_DIRECTORY + '/Abnormal'))\n",
    "# norm = len(os.listdir(TRAIN_DIRECTORY + '/Normal'))\n",
    "# factor = abn / norm\n",
    "# amount = (factor - 1) * norm\n",
    "AugmentationPipeline.augmentation_pipeline(TRAIN_DIRECTORY + '/Pneumonia', 1500)"
   ]
  },
  {
   "cell_type": "markdown",
   "metadata": {},
   "source": [
    "Moving Normal"
   ]
  },
  {
   "cell_type": "code",
   "execution_count": 9,
   "metadata": {},
   "outputs": [],
   "source": [
    "percent = (len(os.listdir(TRAIN_DIRECTORY + '/Normal')) - len(os.listdir(specific_disease)))/len(os.listdir(TRAIN_DIRECTORY + '/Normal'))\n",
    "sample = random.sample(os.listdir(TRAIN_DIRECTORY + '/Normal'), round(len(os.listdir(TRAIN_DIRECTORY + '/Normal')) * percent))\n",
    "for file in sample:\n",
    "    og = os.path.join(TRAIN_DIRECTORY, 'Normal', file)\n",
    "    final = os.path.join(TRAIN_DIRECTORY, 'Normal 2.0', file)\n",
    "    os.rename(og, final)"
   ]
  },
  {
   "cell_type": "markdown",
   "metadata": {},
   "source": [
    "Deleting augmented images"
   ]
  },
  {
   "cell_type": "code",
   "execution_count": 6,
   "metadata": {},
   "outputs": [],
   "source": [
    "for image in os.listdir(specific_disease):\n",
    "    if 25 < len(image):\n",
    "        os.remove(os.path.join(specific_disease, image))"
   ]
  },
  {
   "cell_type": "markdown",
   "metadata": {},
   "source": [
    "VALID NORMAL MOVING"
   ]
  },
  {
   "cell_type": "code",
   "execution_count": 14,
   "metadata": {},
   "outputs": [],
   "source": [
    "percent = (len(os.listdir(TEST_DIRECTORY + '/Normal')) - 116)/len(os.listdir(TEST_DIRECTORY + '/Normal'))\n",
    "sample = random.sample(os.listdir(TEST_DIRECTORY + '/Normal'), round(len(os.listdir(TEST_DIRECTORY + '/Normal')) * percent))\n",
    "for file in sample:\n",
    "    og = os.path.join(TEST_DIRECTORY, 'Normal', file)\n",
    "    final = os.path.join(TEST_DIRECTORY, 'Normal 2.1', file)\n",
    "    os.rename(og, final)"
   ]
  },
  {
   "cell_type": "markdown",
   "metadata": {},
   "source": [
    "USELESS"
   ]
  },
  {
   "cell_type": "code",
   "execution_count": 13,
   "metadata": {},
   "outputs": [
    {
     "name": "stdout",
     "output_type": "stream",
     "text": [
      "C:/Users/samee/Downloads/Combined-Binary/Train/TrainAP\\Abnormal\n",
      "C:/Users/samee/Downloads/Combined-Binary/Train/TrainAP\\Normal\n"
     ]
    }
   ],
   "source": [
    "for folder in glob.glob(f'{TRAIN_DIRECTORY}/*'):\n",
    "    f = folder[::-1]\n",
    "    f = f.replace('\\\\', '/')\n",
    "    f = f[:f.index('/')]\n",
    "    f = f[::-1]\n",
    "\n",
    "    print(folder)\n",
    "\n",
    "    abn = len(os.listdir(TRAIN_DIRECTORY + '/Abnormal'))\n",
    "    norm = len(os.listdir(TRAIN_DIRECTORY + '/Abnormal'))\n",
    "\n",
    "    # NUMBER_OF_SAMPLES_PER_CLASS[0] = int(NUMBER_OF_SAMPLES_PER_CLASS[0])\n",
    "    # if 'Normal' in f:\n",
    "    #     AugmentationPipeline.augmentation_pipeline(folder, NUMBER_OF_SAMPLES_PER_CLASS[0])\n",
    "    # NUMBER_OF_SAMPLES_PER_CLASS = 0"
   ]
  },
  {
   "cell_type": "markdown",
   "metadata": {},
   "source": [
    "# Resize Images Below"
   ]
  },
  {
   "cell_type": "code",
   "execution_count": 8,
   "metadata": {},
   "outputs": [],
   "source": [
    "# delete all folders to prevent a IsDirectory error\n",
    "for folder in glob.glob(f'{TRAIN_DIRECTORY}/*/'):\n",
    "    for folder2 in glob.glob(f'{folder}/*/'):\n",
    "        os.rmdir(folder2)\n",
    "\n"
   ]
  },
  {
   "cell_type": "code",
   "execution_count": 9,
   "metadata": {},
   "outputs": [],
   "source": [
    "for folder in glob.glob(f'{TRAIN_DIRECTORY}/*/'):\n",
    "    f = folder[::-1]\n",
    "    f = f[f.index('/')+1:]\n",
    "    f = f[:f.index('/')]\n",
    "    f = f[::-1]\n",
    "\n",
    "    ResizeImages.resize_images(folder)"
   ]
  },
  {
   "cell_type": "markdown",
   "metadata": {},
   "source": [
    "# Delete all augmented images"
   ]
  },
  {
   "cell_type": "code",
   "execution_count": 6,
   "metadata": {},
   "outputs": [],
   "source": [
    "for file in os.listdir(TRAIN_DIRECTORY + '/Normal'):\n",
    "    if 'Normal' in file:\n",
    "        os.remove(TRAIN_DIRECTORY + '/Normal/' + file)"
   ]
  }
 ],
 "metadata": {
  "interpreter": {
   "hash": "1e533507eb76cbfb81c75639bacc8f460941550716639a402c578975cb3ec022"
  },
  "kernelspec": {
   "display_name": "Python 3.9.0 ('deeplearningkeras')",
   "language": "python",
   "name": "python3"
  },
  "language_info": {
   "codemirror_mode": {
    "name": "ipython",
    "version": 3
   },
   "file_extension": ".py",
   "mimetype": "text/x-python",
   "name": "python",
   "nbconvert_exporter": "python",
   "pygments_lexer": "ipython3",
   "version": "3.9.0"
  },
  "orig_nbformat": 4
 },
 "nbformat": 4,
 "nbformat_minor": 2
}
