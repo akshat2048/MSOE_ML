{
 "cells": [
  {
   "cell_type": "code",
   "execution_count": 1,
   "metadata": {},
   "outputs": [],
   "source": [
    "# import pandas, shutil, os\n",
    "import pandas as pd\n",
    "import shutil\n",
    "import os\n",
    "import random\n",
    "import math\n",
    "import glob\n",
    "import Augmentor\n",
    "import AugmentationPipeline\n",
    "import ResizeImages"
   ]
  },
  {
   "cell_type": "code",
   "execution_count": 2,
   "metadata": {},
   "outputs": [
    {
     "name": "stdout",
     "output_type": "stream",
     "text": [
      "Multiple outputs per cell\n"
     ]
    }
   ],
   "source": [
    "# allow multiple output per cell\n",
    "from IPython.core.interactiveshell import InteractiveShell\n",
    "InteractiveShell.ast_node_interactivity = \"all\"\n",
    "\n",
    "print(\"Multiple outputs per cell\")"
   ]
  },
  {
   "cell_type": "code",
   "execution_count": 3,
   "metadata": {},
   "outputs": [],
   "source": [
    "# variables to determine the source and destination paths\n",
    "TRAIN_DIRECTORY = 'C:/Users/akash/Desktop/Akash/MSOEML/NIH_data/images' # no need to put a forward slash at the front of directory name\n",
    "\n",
    "TEST_DIRECTORY = 'C:/Users/akash/Desktop/Akash/MSOEML/NIH_data/imagesTest'\n",
    "\n",
    "IMAGE_MULTIPLIER_FACTOR = 0"
   ]
  },
  {
   "cell_type": "code",
   "execution_count": 4,
   "metadata": {},
   "outputs": [],
   "source": [
    "training_data = pd.DataFrame(columns=['Disease', 'Count'])"
   ]
  },
  {
   "cell_type": "code",
   "execution_count": 5,
   "metadata": {},
   "outputs": [
    {
     "name": "stderr",
     "output_type": "stream",
     "text": [
      "C:\\Users\\akash\\AppData\\Local\\Temp\\ipykernel_52804\\4158700242.py:12: FutureWarning: The frame.append method is deprecated and will be removed from pandas in a future version. Use pandas.concat instead.\n",
      "  training_data = training_data.append({'Disease': f, 'Count': count}, ignore_index=True)\n",
      "C:\\Users\\akash\\AppData\\Local\\Temp\\ipykernel_52804\\4158700242.py:12: FutureWarning: The frame.append method is deprecated and will be removed from pandas in a future version. Use pandas.concat instead.\n",
      "  training_data = training_data.append({'Disease': f, 'Count': count}, ignore_index=True)\n",
      "C:\\Users\\akash\\AppData\\Local\\Temp\\ipykernel_52804\\4158700242.py:12: FutureWarning: The frame.append method is deprecated and will be removed from pandas in a future version. Use pandas.concat instead.\n",
      "  training_data = training_data.append({'Disease': f, 'Count': count}, ignore_index=True)\n",
      "C:\\Users\\akash\\AppData\\Local\\Temp\\ipykernel_52804\\4158700242.py:12: FutureWarning: The frame.append method is deprecated and will be removed from pandas in a future version. Use pandas.concat instead.\n",
      "  training_data = training_data.append({'Disease': f, 'Count': count}, ignore_index=True)\n",
      "C:\\Users\\akash\\AppData\\Local\\Temp\\ipykernel_52804\\4158700242.py:12: FutureWarning: The frame.append method is deprecated and will be removed from pandas in a future version. Use pandas.concat instead.\n",
      "  training_data = training_data.append({'Disease': f, 'Count': count}, ignore_index=True)\n",
      "C:\\Users\\akash\\AppData\\Local\\Temp\\ipykernel_52804\\4158700242.py:12: FutureWarning: The frame.append method is deprecated and will be removed from pandas in a future version. Use pandas.concat instead.\n",
      "  training_data = training_data.append({'Disease': f, 'Count': count}, ignore_index=True)\n",
      "C:\\Users\\akash\\AppData\\Local\\Temp\\ipykernel_52804\\4158700242.py:12: FutureWarning: The frame.append method is deprecated and will be removed from pandas in a future version. Use pandas.concat instead.\n",
      "  training_data = training_data.append({'Disease': f, 'Count': count}, ignore_index=True)\n",
      "C:\\Users\\akash\\AppData\\Local\\Temp\\ipykernel_52804\\4158700242.py:12: FutureWarning: The frame.append method is deprecated and will be removed from pandas in a future version. Use pandas.concat instead.\n",
      "  training_data = training_data.append({'Disease': f, 'Count': count}, ignore_index=True)\n",
      "C:\\Users\\akash\\AppData\\Local\\Temp\\ipykernel_52804\\4158700242.py:12: FutureWarning: The frame.append method is deprecated and will be removed from pandas in a future version. Use pandas.concat instead.\n",
      "  training_data = training_data.append({'Disease': f, 'Count': count}, ignore_index=True)\n",
      "C:\\Users\\akash\\AppData\\Local\\Temp\\ipykernel_52804\\4158700242.py:12: FutureWarning: The frame.append method is deprecated and will be removed from pandas in a future version. Use pandas.concat instead.\n",
      "  training_data = training_data.append({'Disease': f, 'Count': count}, ignore_index=True)\n",
      "C:\\Users\\akash\\AppData\\Local\\Temp\\ipykernel_52804\\4158700242.py:12: FutureWarning: The frame.append method is deprecated and will be removed from pandas in a future version. Use pandas.concat instead.\n",
      "  training_data = training_data.append({'Disease': f, 'Count': count}, ignore_index=True)\n",
      "C:\\Users\\akash\\AppData\\Local\\Temp\\ipykernel_52804\\4158700242.py:12: FutureWarning: The frame.append method is deprecated and will be removed from pandas in a future version. Use pandas.concat instead.\n",
      "  training_data = training_data.append({'Disease': f, 'Count': count}, ignore_index=True)\n",
      "C:\\Users\\akash\\AppData\\Local\\Temp\\ipykernel_52804\\4158700242.py:12: FutureWarning: The frame.append method is deprecated and will be removed from pandas in a future version. Use pandas.concat instead.\n",
      "  training_data = training_data.append({'Disease': f, 'Count': count}, ignore_index=True)\n",
      "C:\\Users\\akash\\AppData\\Local\\Temp\\ipykernel_52804\\4158700242.py:12: FutureWarning: The frame.append method is deprecated and will be removed from pandas in a future version. Use pandas.concat instead.\n",
      "  training_data = training_data.append({'Disease': f, 'Count': count}, ignore_index=True)\n",
      "C:\\Users\\akash\\AppData\\Local\\Temp\\ipykernel_52804\\4158700242.py:12: FutureWarning: The frame.append method is deprecated and will be removed from pandas in a future version. Use pandas.concat instead.\n",
      "  training_data = training_data.append({'Disease': f, 'Count': count}, ignore_index=True)\n"
     ]
    }
   ],
   "source": [
    "# go through each folder in the training directory\n",
    "for folder in glob.glob(f'{TRAIN_DIRECTORY}/*/'):\n",
    "    f = folder[::-1]\n",
    "    f = f[f.index('/')+1:]\n",
    "    f = f[:f.index('/')]\n",
    "    f = f[::-1]\n",
    "    \n",
    "    # get number of files in the folder\n",
    "    count = len(os.listdir(folder))\n",
    "\n",
    "    # add this data to the dataframe\n",
    "    training_data = training_data.append({'Disease': f, 'Count': count}, ignore_index=True)"
   ]
  },
  {
   "cell_type": "code",
   "execution_count": 6,
   "metadata": {},
   "outputs": [
    {
     "data": {
      "text/html": [
       "<div>\n",
       "<style scoped>\n",
       "    .dataframe tbody tr th:only-of-type {\n",
       "        vertical-align: middle;\n",
       "    }\n",
       "\n",
       "    .dataframe tbody tr th {\n",
       "        vertical-align: top;\n",
       "    }\n",
       "\n",
       "    .dataframe thead th {\n",
       "        text-align: right;\n",
       "    }\n",
       "</style>\n",
       "<table border=\"1\" class=\"dataframe\">\n",
       "  <thead>\n",
       "    <tr style=\"text-align: right;\">\n",
       "      <th></th>\n",
       "      <th>Disease</th>\n",
       "      <th>Count</th>\n",
       "    </tr>\n",
       "  </thead>\n",
       "  <tbody>\n",
       "    <tr>\n",
       "      <th>10</th>\n",
       "      <td>NIH_data</td>\n",
       "      <td>2754</td>\n",
       "    </tr>\n",
       "    <tr>\n",
       "      <th>8</th>\n",
       "      <td>NIH_data</td>\n",
       "      <td>417</td>\n",
       "    </tr>\n",
       "    <tr>\n",
       "      <th>0</th>\n",
       "      <td>NIH_data</td>\n",
       "      <td>192</td>\n",
       "    </tr>\n",
       "    <tr>\n",
       "      <th>4</th>\n",
       "      <td>NIH_data</td>\n",
       "      <td>156</td>\n",
       "    </tr>\n",
       "    <tr>\n",
       "      <th>11</th>\n",
       "      <td>NIH_data</td>\n",
       "      <td>106</td>\n",
       "    </tr>\n",
       "    <tr>\n",
       "      <th>6</th>\n",
       "      <td>NIH_data</td>\n",
       "      <td>94</td>\n",
       "    </tr>\n",
       "    <tr>\n",
       "      <th>14</th>\n",
       "      <td>NIH_data</td>\n",
       "      <td>90</td>\n",
       "    </tr>\n",
       "    <tr>\n",
       "      <th>1</th>\n",
       "      <td>NIH_data</td>\n",
       "      <td>71</td>\n",
       "    </tr>\n",
       "    <tr>\n",
       "      <th>2</th>\n",
       "      <td>NIH_data</td>\n",
       "      <td>64</td>\n",
       "    </tr>\n",
       "    <tr>\n",
       "      <th>12</th>\n",
       "      <td>NIH_data</td>\n",
       "      <td>62</td>\n",
       "    </tr>\n",
       "    <tr>\n",
       "      <th>9</th>\n",
       "      <td>NIH_data</td>\n",
       "      <td>60</td>\n",
       "    </tr>\n",
       "    <tr>\n",
       "      <th>5</th>\n",
       "      <td>NIH_data</td>\n",
       "      <td>55</td>\n",
       "    </tr>\n",
       "    <tr>\n",
       "      <th>3</th>\n",
       "      <td>NIH_data</td>\n",
       "      <td>18</td>\n",
       "    </tr>\n",
       "    <tr>\n",
       "      <th>13</th>\n",
       "      <td>NIH_data</td>\n",
       "      <td>18</td>\n",
       "    </tr>\n",
       "    <tr>\n",
       "      <th>7</th>\n",
       "      <td>NIH_data</td>\n",
       "      <td>17</td>\n",
       "    </tr>\n",
       "  </tbody>\n",
       "</table>\n",
       "</div>"
      ],
      "text/plain": [
       "     Disease Count\n",
       "10  NIH_data  2754\n",
       "8   NIH_data   417\n",
       "0   NIH_data   192\n",
       "4   NIH_data   156\n",
       "11  NIH_data   106\n",
       "6   NIH_data    94\n",
       "14  NIH_data    90\n",
       "1   NIH_data    71\n",
       "2   NIH_data    64\n",
       "12  NIH_data    62\n",
       "9   NIH_data    60\n",
       "5   NIH_data    55\n",
       "3   NIH_data    18\n",
       "13  NIH_data    18\n",
       "7   NIH_data    17"
      ]
     },
     "execution_count": 6,
     "metadata": {},
     "output_type": "execute_result"
    }
   ],
   "source": [
    "training_data.sort_values(by=['Count'], ascending=False, inplace=True)\n",
    "training_data"
   ]
  },
  {
   "cell_type": "code",
   "execution_count": 7,
   "metadata": {},
   "outputs": [
    {
     "name": "stdout",
     "output_type": "stream",
     "text": [
      "Initialised with 192 image(s) found.\n",
      "Output directory set to C:/Users/akash/Desktop/Akash/MSOEML/NIH_data/images\\Atelectasis\\output."
     ]
    },
    {
     "name": "stderr",
     "output_type": "stream",
     "text": [
      "Processing <PIL.Image.Image image mode=L size=1024x1024 at 0x2228625DC10>: 100%|██████████| 192/192 [00:04<00:00, 46.43 Samples/s]                   \n"
     ]
    },
    {
     "name": "stdout",
     "output_type": "stream",
     "text": [
      "Initialised with 71 image(s) found.\n",
      "Output directory set to C:/Users/akash/Desktop/Akash/MSOEML/NIH_data/images\\Cardiomegaly\\output."
     ]
    },
    {
     "name": "stderr",
     "output_type": "stream",
     "text": [
      "Processing <PIL.Image.Image image mode=L size=1024x1024 at 0x2228624C220>: 100%|██████████| 71/71 [00:01<00:00, 47.77 Samples/s]                \n"
     ]
    },
    {
     "name": "stdout",
     "output_type": "stream",
     "text": [
      "Initialised with 64 image(s) found.\n",
      "Output directory set to C:/Users/akash/Desktop/Akash/MSOEML/NIH_data/images\\Consolidation\\output."
     ]
    },
    {
     "name": "stderr",
     "output_type": "stream",
     "text": [
      "Processing <PIL.Image.Image image mode=L size=1024x1024 at 0x22286245640>: 100%|██████████| 64/64 [00:01<00:00, 44.48 Samples/s]                \n"
     ]
    },
    {
     "name": "stdout",
     "output_type": "stream",
     "text": [
      "Initialised with 18 image(s) found.\n",
      "Output directory set to C:/Users/akash/Desktop/Akash/MSOEML/NIH_data/images\\Edema\\output."
     ]
    },
    {
     "name": "stderr",
     "output_type": "stream",
     "text": [
      "Processing <PIL.Image.Image image mode=L size=1024x1024 at 0x22281FEC520>: 100%|██████████| 18/18 [00:00<00:00, 31.19 Samples/s]               \n"
     ]
    },
    {
     "name": "stdout",
     "output_type": "stream",
     "text": [
      "Initialised with 156 image(s) found.\n",
      "Output directory set to C:/Users/akash/Desktop/Akash/MSOEML/NIH_data/images\\Effusion\\output."
     ]
    },
    {
     "name": "stderr",
     "output_type": "stream",
     "text": [
      "Processing <PIL.Image.Image image mode=L size=1024x1024 at 0x22284BCCF10>: 100%|██████████| 156/156 [00:03<00:00, 49.80 Samples/s]                \n"
     ]
    },
    {
     "name": "stdout",
     "output_type": "stream",
     "text": [
      "Initialised with 55 image(s) found.\n",
      "Output directory set to C:/Users/akash/Desktop/Akash/MSOEML/NIH_data/images\\Emphysema\\output."
     ]
    },
    {
     "name": "stderr",
     "output_type": "stream",
     "text": [
      "Processing <PIL.Image.Image image mode=L size=1024x1024 at 0x22284B7F4F0>: 100%|██████████| 55/55 [00:01<00:00, 44.01 Samples/s]                \n"
     ]
    },
    {
     "name": "stdout",
     "output_type": "stream",
     "text": [
      "Initialised with 94 image(s) found.\n",
      "Output directory set to C:/Users/akash/Desktop/Akash/MSOEML/NIH_data/images\\Fibrosis\\output."
     ]
    },
    {
     "name": "stderr",
     "output_type": "stream",
     "text": [
      "Processing <PIL.Image.Image image mode=L size=1024x1024 at 0x22284A734C0>: 100%|██████████| 94/94 [00:01<00:00, 53.41 Samples/s]                   \n"
     ]
    },
    {
     "name": "stdout",
     "output_type": "stream",
     "text": [
      "Initialised with 17 image(s) found.\n",
      "Output directory set to C:/Users/akash/Desktop/Akash/MSOEML/NIH_data/images\\Hernia\\output."
     ]
    },
    {
     "name": "stderr",
     "output_type": "stream",
     "text": [
      "Processing <PIL.Image.Image image mode=L size=1024x1024 at 0x2228623C220>: 100%|██████████| 17/17 [00:00<00:00, 36.09 Samples/s]\n"
     ]
    },
    {
     "name": "stdout",
     "output_type": "stream",
     "text": [
      "Initialised with 417 image(s) found.\n",
      "Output directory set to C:/Users/akash/Desktop/Akash/MSOEML/NIH_data/images\\Infiltration\\output."
     ]
    },
    {
     "name": "stderr",
     "output_type": "stream",
     "text": [
      "Processing <PIL.Image.Image image mode=L size=1024x1024 at 0x22285A280A0>: 100%|██████████| 417/417 [00:07<00:00, 54.07 Samples/s]                \n"
     ]
    },
    {
     "name": "stdout",
     "output_type": "stream",
     "text": [
      "Initialised with 60 image(s) found.\n",
      "Output directory set to C:/Users/akash/Desktop/Akash/MSOEML/NIH_data/images\\Mass\\output."
     ]
    },
    {
     "name": "stderr",
     "output_type": "stream",
     "text": [
      "Processing <PIL.Image.Image image mode=L size=1024x1024 at 0x22285A28220>: 100%|██████████| 60/60 [00:01<00:00, 46.70 Samples/s]                \n"
     ]
    },
    {
     "name": "stdout",
     "output_type": "stream",
     "text": [
      "Initialised with 2754 image(s) found.\n",
      "Output directory set to C:/Users/akash/Desktop/Akash/MSOEML/NIH_data/images\\No Finding\\output."
     ]
    },
    {
     "name": "stderr",
     "output_type": "stream",
     "text": [
      "Processing <PIL.Image.Image image mode=L size=1024x1024 at 0x22287B713D0>: 100%|██████████| 2754/2754 [00:54<00:00, 50.21 Samples/s]                \n"
     ]
    },
    {
     "name": "stdout",
     "output_type": "stream",
     "text": [
      "Initialised with 106 image(s) found.\n",
      "Output directory set to C:/Users/akash/Desktop/Akash/MSOEML/NIH_data/images\\Nodule\\output."
     ]
    },
    {
     "name": "stderr",
     "output_type": "stream",
     "text": [
      "Processing <PIL.Image.Image image mode=L size=1024x1024 at 0x22285146790>: 100%|██████████| 106/106 [00:02<00:00, 43.93 Samples/s]               \n"
     ]
    },
    {
     "name": "stdout",
     "output_type": "stream",
     "text": [
      "Initialised with 62 image(s) found.\n",
      "Output directory set to C:/Users/akash/Desktop/Akash/MSOEML/NIH_data/images\\Pleural_Thickening\\output."
     ]
    },
    {
     "name": "stderr",
     "output_type": "stream",
     "text": [
      "Processing <PIL.Image.Image image mode=L size=1024x1024 at 0x2228515B670>: 100%|██████████| 62/62 [00:01<00:00, 46.28 Samples/s]                \n"
     ]
    },
    {
     "name": "stdout",
     "output_type": "stream",
     "text": [
      "Initialised with 18 image(s) found.\n",
      "Output directory set to C:/Users/akash/Desktop/Akash/MSOEML/NIH_data/images\\Pneumonia\\output."
     ]
    },
    {
     "name": "stderr",
     "output_type": "stream",
     "text": [
      "Processing <PIL.Image.Image image mode=L size=1024x1024 at 0x22284B6F760>: 100%|██████████| 18/18 [00:00<00:00, 43.89 Samples/s]\n"
     ]
    },
    {
     "name": "stdout",
     "output_type": "stream",
     "text": [
      "Initialised with 90 image(s) found.\n",
      "Output directory set to C:/Users/akash/Desktop/Akash/MSOEML/NIH_data/images\\Pneumothorax\\output."
     ]
    },
    {
     "name": "stderr",
     "output_type": "stream",
     "text": [
      "Processing <PIL.Image.Image image mode=L size=1024x1024 at 0x222859FB700>: 100%|██████████| 90/90 [00:01<00:00, 46.36 Samples/s]                \n"
     ]
    }
   ],
   "source": [
    "for folder in glob.glob(f'{TRAIN_DIRECTORY}/*/'):\n",
    "    f = folder[::-1]\n",
    "    f = f[f.index('/')+1:]\n",
    "    f = f[:f.index('/')]\n",
    "    f = f[::-1]\n",
    "\n",
    "    if 'No Finding' not in f:\n",
<<<<<<< Updated upstream
    "        AugmentationPipeline.augmentation_pipeline(folder, NUMBER_OF_SAMPLES_PER_CLASS*len(os.walk(folder)))"
=======
    "        AugmentationPipeline.augmentation_pipeline(folder, IMAGE_MULTIPLIER_FACTOR*len(os.walk(folder)))"
>>>>>>> Stashed changes
   ]
  },
  {
   "cell_type": "markdown",
   "metadata": {},
   "source": [
    "# Resize Images Below"
   ]
  },
  {
   "cell_type": "code",
   "execution_count": 8,
   "metadata": {},
   "outputs": [],
   "source": [
    "# delete all folders to prevent a IsDirectory error\n",
    "for folder in glob.glob(f'{TRAIN_DIRECTORY}/*/'):\n",
    "    for folder2 in glob.glob(f'{folder}/*/'):\n",
    "        os.rmdir(folder2)\n",
    "\n"
   ]
  },
  {
   "cell_type": "code",
   "execution_count": 9,
   "metadata": {},
   "outputs": [],
   "source": [
    "for folder in glob.glob(f'{TRAIN_DIRECTORY}/*/'):\n",
    "    f = folder[::-1]\n",
    "    f = f[f.index('/')+1:]\n",
    "    f = f[:f.index('/')]\n",
    "    f = f[::-1]\n",
    "\n",
    "    ResizeImages.resize_images(folder)"
   ]
  }
 ],
 "metadata": {
  "interpreter": {
   "hash": "f4232e35a17d310af1bb18ab8d5062a10cff20e52b686e5d270dd17948a21a21"
  },
  "kernelspec": {
   "display_name": "Python 3.8.12 64-bit ('apple_tensorflow': conda)",
   "language": "python",
   "name": "python3"
  },
  "language_info": {
   "codemirror_mode": {
    "name": "ipython",
    "version": 3
   },
   "file_extension": ".py",
   "mimetype": "text/x-python",
   "name": "python",
   "nbconvert_exporter": "python",
   "pygments_lexer": "ipython3",
   "version": "3.9.10"
  },
  "orig_nbformat": 4
 },
 "nbformat": 4,
 "nbformat_minor": 2
}
