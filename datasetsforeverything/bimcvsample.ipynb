{
 "cells": [
  {
   "cell_type": "code",
   "execution_count": 12,
   "metadata": {},
   "outputs": [],
   "source": [
    "# import pandas, shutil, os\n",
    "import pandas as pd\n",
    "import shutil\n",
    "import os\n",
    "import random"
   ]
  },
  {
   "cell_type": "code",
   "execution_count": 2,
   "metadata": {},
   "outputs": [],
   "source": [
    "# read in csv\n",
    "data = pd.read_csv('BIMCV_SAMPLE.csv')"
   ]
  },
  {
   "cell_type": "code",
   "execution_count": 3,
   "metadata": {},
   "outputs": [],
   "source": [
    "# get the imageIDs of images with a projection value of 'PA'\n",
    "images = data[data['Projection'] == 'PA']"
   ]
  },
  {
   "cell_type": "code",
   "execution_count": 4,
   "metadata": {},
   "outputs": [
    {
     "name": "stderr",
     "output_type": "stream",
     "text": [
      "<ipython-input-4-f393e86ca533>:1: SettingWithCopyWarning: \n",
      "A value is trying to be set on a copy of a slice from a DataFrame.\n",
      "Try using .loc[row_indexer,col_indexer] = value instead\n",
      "\n",
      "See the caveats in the documentation: https://pandas.pydata.org/pandas-docs/stable/user_guide/indexing.html#returning-a-view-versus-a-copy\n",
      "  images['Classification'] = images['Labels'].str.contains('normal')\n"
     ]
    }
   ],
   "source": [
    "images['Classification'] = images['Labels'].str.contains('normal')\n",
    "\n",
    "images.index = images['ImageID']\n",
    "\n",
    "# get a list of images with a classification of 'normal'\n",
    "normal_images = images[images['Classification'] == True]\n",
    "# print(normal_images.Classification)\n",
    "\n",
    "abnormal_images = images[images['Classification'] == False]\n",
    "# print(abnormal_images.Classification)"
   ]
  },
  {
   "cell_type": "code",
   "execution_count": 5,
   "metadata": {},
   "outputs": [
    {
     "ename": "Error",
     "evalue": "Destination path 'sample/normal/216840111366964012819207061112010316094555679_04-017-068.png' already exists",
     "output_type": "error",
     "traceback": [
      "\u001b[0;31m---------------------------------------------------------------------------\u001b[0m",
      "\u001b[0;31mError\u001b[0m                                     Traceback (most recent call last)",
      "\u001b[0;32m<ipython-input-5-33fa5bf7b1a1>\u001b[0m in \u001b[0;36m<module>\u001b[0;34m\u001b[0m\n\u001b[1;32m      2\u001b[0m         \u001b[0msourcepath\u001b[0m \u001b[0;34m=\u001b[0m \u001b[0mos\u001b[0m\u001b[0;34m.\u001b[0m\u001b[0mpath\u001b[0m\u001b[0;34m.\u001b[0m\u001b[0mjoin\u001b[0m\u001b[0;34m(\u001b[0m\u001b[0;34m'sample'\u001b[0m\u001b[0;34m,\u001b[0m \u001b[0mimage\u001b[0m\u001b[0;34m)\u001b[0m\u001b[0;34m\u001b[0m\u001b[0;34m\u001b[0m\u001b[0m\n\u001b[1;32m      3\u001b[0m         \u001b[0mdestpath\u001b[0m \u001b[0;34m=\u001b[0m \u001b[0;34m'sample/normal/'\u001b[0m\u001b[0;34m\u001b[0m\u001b[0;34m\u001b[0m\u001b[0m\n\u001b[0;32m----> 4\u001b[0;31m         \u001b[0mshutil\u001b[0m\u001b[0;34m.\u001b[0m\u001b[0mmove\u001b[0m\u001b[0;34m(\u001b[0m\u001b[0msourcepath\u001b[0m\u001b[0;34m,\u001b[0m \u001b[0mdestpath\u001b[0m\u001b[0;34m)\u001b[0m\u001b[0;34m\u001b[0m\u001b[0;34m\u001b[0m\u001b[0m\n\u001b[0m\u001b[1;32m      5\u001b[0m \u001b[0;34m\u001b[0m\u001b[0m\n\u001b[1;32m      6\u001b[0m \u001b[0;32mfor\u001b[0m \u001b[0mimage\u001b[0m \u001b[0;32min\u001b[0m \u001b[0mabnormal_images\u001b[0m\u001b[0;34m[\u001b[0m\u001b[0;34m'ImageID'\u001b[0m\u001b[0;34m]\u001b[0m\u001b[0;34m:\u001b[0m\u001b[0;34m\u001b[0m\u001b[0;34m\u001b[0m\u001b[0m\n",
      "\u001b[0;32m~/opt/anaconda3/lib/python3.8/shutil.py\u001b[0m in \u001b[0;36mmove\u001b[0;34m(src, dst, copy_function)\u001b[0m\n\u001b[1;32m    787\u001b[0m         \u001b[0mreal_dst\u001b[0m \u001b[0;34m=\u001b[0m \u001b[0mos\u001b[0m\u001b[0;34m.\u001b[0m\u001b[0mpath\u001b[0m\u001b[0;34m.\u001b[0m\u001b[0mjoin\u001b[0m\u001b[0;34m(\u001b[0m\u001b[0mdst\u001b[0m\u001b[0;34m,\u001b[0m \u001b[0m_basename\u001b[0m\u001b[0;34m(\u001b[0m\u001b[0msrc\u001b[0m\u001b[0;34m)\u001b[0m\u001b[0;34m)\u001b[0m\u001b[0;34m\u001b[0m\u001b[0;34m\u001b[0m\u001b[0m\n\u001b[1;32m    788\u001b[0m         \u001b[0;32mif\u001b[0m \u001b[0mos\u001b[0m\u001b[0;34m.\u001b[0m\u001b[0mpath\u001b[0m\u001b[0;34m.\u001b[0m\u001b[0mexists\u001b[0m\u001b[0;34m(\u001b[0m\u001b[0mreal_dst\u001b[0m\u001b[0;34m)\u001b[0m\u001b[0;34m:\u001b[0m\u001b[0;34m\u001b[0m\u001b[0;34m\u001b[0m\u001b[0m\n\u001b[0;32m--> 789\u001b[0;31m             \u001b[0;32mraise\u001b[0m \u001b[0mError\u001b[0m\u001b[0;34m(\u001b[0m\u001b[0;34m\"Destination path '%s' already exists\"\u001b[0m \u001b[0;34m%\u001b[0m \u001b[0mreal_dst\u001b[0m\u001b[0;34m)\u001b[0m\u001b[0;34m\u001b[0m\u001b[0;34m\u001b[0m\u001b[0m\n\u001b[0m\u001b[1;32m    790\u001b[0m     \u001b[0;32mtry\u001b[0m\u001b[0;34m:\u001b[0m\u001b[0;34m\u001b[0m\u001b[0;34m\u001b[0m\u001b[0m\n\u001b[1;32m    791\u001b[0m         \u001b[0mos\u001b[0m\u001b[0;34m.\u001b[0m\u001b[0mrename\u001b[0m\u001b[0;34m(\u001b[0m\u001b[0msrc\u001b[0m\u001b[0;34m,\u001b[0m \u001b[0mreal_dst\u001b[0m\u001b[0;34m)\u001b[0m\u001b[0;34m\u001b[0m\u001b[0;34m\u001b[0m\u001b[0m\n",
      "\u001b[0;31mError\u001b[0m: Destination path 'sample/normal/216840111366964012819207061112010316094555679_04-017-068.png' already exists"
     ]
    }
   ],
   "source": [
    "for image in normal_images['ImageID']:\n",
    "        sourcepath = os.path.join('sample', image)\n",
    "        destpath = 'sample/normal/'\n",
    "        shutil.move(sourcepath, destpath)\n",
    "\n",
    "for image in abnormal_images['ImageID']:\n",
    "    sourcepath = os.path.join('sample', image)\n",
    "    destpath = 'sample/abnormal'\n",
    "    shutil.move(sourcepath, destpath)"
   ]
  },
  {
   "cell_type": "markdown",
   "metadata": {},
   "source": [
    "# Only Run Below Cell if you need to create a new testing set"
   ]
  },
  {
   "cell_type": "code",
   "execution_count": 15,
   "metadata": {},
   "outputs": [
    {
     "name": "stdout",
     "output_type": "stream",
     "text": [
      "Normal images: ['216840111366964013293097335992012048173805692_01-094-011.png', '216840111366964013451228379692012269104148390_01-054-004.png', '216840111366964012819207061112010316094555679_04-017-068.png', '329608354535639464795481936214199434429_kzcyhb.png']\n",
      "Abnormal images: ['216840111366964013200840352202011315131143616_01-032-099.png', '46523715740384360192496023767246369337_veyewt.png', '216840111366964013217898866992011329134906098_01-027-105.png', '216840111366964013829543166512013358092118761_02-089-145.png', '101103270798497222826083823719046670601_jw1fu2.png', '216840111366964013307756408102012093111819763_01-114-013.png']\n"
     ]
    }
   ],
   "source": [
    "# get a list of files in directory MSOE_ML/datasetsforeverything/sample/normal\n",
    "normal_files = os.listdir('sample/normal')\n",
    "print('Normal images:', normal_files)\n",
    "\n",
    "# get a list of files in directory MSOE_ML/datasetsforeverything/sample/abnormal\n",
    "abnormal_files = os.listdir('sample/abnormal')\n",
    "print('Abnormal images:', abnormal_files)\n",
    "\n",
    "# randomly select 2 images from the normal images\n",
    "normal_images_to_transfer = random.sample(normal_files, 2)\n",
    "\n",
    "# move these images to a folder called MSOE_ML/datasetsforeverything/sampletest/normal\n",
    "for image in normal_images_to_transfer:\n",
    "    sourcepath = os.path.join('sample/normal', image)\n",
    "    destpath = 'sampletest/normal'\n",
    "    shutil.move(sourcepath, destpath)\n",
    "\n",
    "# randomly select 2 images from the abnormal images\n",
    "abnormal_images_to_transfer = random.sample(abnormal_files, 2)\n",
    "\n",
    "# move these images to a folder called MSOE_ML/datasetsforeverything/sampletest/abnormal\n",
    "for image in abnormal_images_to_transfer:\n",
    "    sourcepath = os.path.join('sample/abnormal', image)\n",
    "    destpath = 'sampletest/abnormal'\n",
    "    shutil.move(sourcepath, destpath)\n"
   ]
  }
 ],
 "metadata": {
  "interpreter": {
   "hash": "453ff05dd4df71fac274bb6d010c48c58e322df0d0e828a0a1ee2166cb910d58"
  },
  "kernelspec": {
   "display_name": "Python 3.8.8 64-bit ('base': conda)",
   "language": "python",
   "name": "python3"
  },
  "language_info": {
   "codemirror_mode": {
    "name": "ipython",
    "version": 3
   },
   "file_extension": ".py",
   "mimetype": "text/x-python",
   "name": "python",
   "nbconvert_exporter": "python",
   "pygments_lexer": "ipython3",
   "version": "3.8.8"
  },
  "orig_nbformat": 4
 },
 "nbformat": 4,
 "nbformat_minor": 2
}
