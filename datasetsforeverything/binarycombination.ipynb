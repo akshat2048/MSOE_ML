{
 "cells": [
  {
   "cell_type": "code",
   "execution_count": 1,
   "metadata": {},
   "outputs": [],
   "source": [
    "import pandas as pd\n",
    "import shutil\n",
    "import os\n",
    "import random\n",
    "import math\n",
    "import glob"
   ]
  },
  {
   "cell_type": "markdown",
   "metadata": {},
   "source": [
    "# COMBINE NIH AND CHEXPERT"
   ]
  },
  {
   "cell_type": "code",
   "execution_count": 2,
   "metadata": {},
   "outputs": [],
   "source": [
    "Chex = 'C:\\Users\\akash\\Desktop\\Akash\\MSOEML\\CheXpert\\CheXpert-v1.0-small'\n",
    "NIHB_PATH = 'C:/Users/samee/Downloads/NIH-Proj-Binary'"
   ]
  },
  {
   "cell_type": "code",
   "execution_count": 21,
   "metadata": {},
   "outputs": [
    {
     "name": "stdout",
     "output_type": "stream",
     "text": [
      "TrainAP\n",
      "Abnormal\n",
      "Normal\n",
      "TrainPA\n",
      "Abnormal\n",
      "Normal\n"
     ]
    }
   ],
   "source": [
    "for j in os.listdir(Chex + '/train'):\n",
    "    if 'trainL' in j:\n",
    "        continue\n",
    "    print(j)\n",
    "    for i in os.listdir(Chex + '/train/' + j):\n",
    "        print(i)\n",
    "        for image in os.listdir(Chex + '/train/' + j + '/' + i):\n",
    "            shutil.copy(Chex + '/train/' + j + '/' + i + '/' + image, NIHB_PATH + '/Train/' + j + '/' + i +'/' + image)"
   ]
  },
  {
   "cell_type": "markdown",
   "metadata": {},
   "source": [
    "# Make Valid set after combination"
   ]
  },
  {
   "cell_type": "code",
   "execution_count": 33,
   "metadata": {},
   "outputs": [],
   "source": [
    "for i in os.listdir(NIHB_PATH + '/Train'):\n",
    "    for j in os.listdir(NIHB_PATH + '/Train/' + i):\n",
    "        validNum = len(os.listdir(NIHB_PATH + '/Valid/Valid' + i[5:] + '/' + j))\n",
    "        totalNum = len(os.listdir(NIHB_PATH + '/Train/' + i + '/' + j)) + len(os.listdir(NIHB_PATH + '/Valid/Valid' + i[5:] + '/' + j))\n",
    "        images = random.sample(os.listdir(NIHB_PATH + '/Train/' + i + '/' + j), round((totalNum * 0.2) - validNum))\n",
    "        for k in images:\n",
    "            initial = NIHB_PATH + '/Train/' + i + '/' + j + '/' + k\n",
    "            final = NIHB_PATH + '/Valid/Valid' + i[5:] + '/' + j + '/' + k\n",
    "            os.rename(initial, final)\n"
   ]
  }
 ],
 "metadata": {
  "interpreter": {
   "hash": "f856784eb8dcf2d3e4c52606edc4be4ac4edabe0d9c38c60452d6d6a5cc1135f"
  },
  "kernelspec": {
   "display_name": "Python 3.9.0 ('deeplearningkeras')",
   "language": "python",
   "name": "python3"
  },
  "language_info": {
   "codemirror_mode": {
    "name": "ipython",
    "version": 3
   },
   "file_extension": ".py",
   "mimetype": "text/x-python",
   "name": "python",
   "nbconvert_exporter": "python",
   "pygments_lexer": "ipython3",
   "version": "3.9.0"
  },
  "orig_nbformat": 4
 },
 "nbformat": 4,
 "nbformat_minor": 2
}
