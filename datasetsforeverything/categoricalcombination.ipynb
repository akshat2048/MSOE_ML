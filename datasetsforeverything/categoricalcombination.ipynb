{
 "cells": [
  {
   "cell_type": "code",
   "execution_count": 1,
   "metadata": {},
   "outputs": [],
   "source": [
    "import pandas as pd\n",
    "import shutil\n",
    "import os\n",
    "import random\n",
    "import math\n",
    "import glob"
   ]
  },
  {
   "cell_type": "code",
   "execution_count": 2,
   "metadata": {},
   "outputs": [],
   "source": [
    "trainpath = 'C:/Users/samee/Downloads/Combined-Categorical/Train/TrainPA'\n",
    "validpath = 'C:/Users/samee/Downloads/Combined-Categorical/Valid/ValidPA'"
   ]
  },
  {
   "cell_type": "code",
   "execution_count": 3,
   "metadata": {},
   "outputs": [],
   "source": [
    "for folder in os.listdir(trainpath):\n",
    "    if not os.path.exists(validpath + '/' + folder):\n",
    "        os.makedirs(validpath + '/' + folder)\n",
    "    images = random.sample(os.listdir(trainpath + '/' + folder), round(len(os.listdir(trainpath + '/' + folder)) * 0.2))\n",
    "    for file in images:\n",
    "        initial = trainpath + '/' + folder + '/' + file\n",
    "        final = validpath + '/' + folder + '/' + file\n",
    "        os.rename(initial, final)"
   ]
  }
 ],
 "metadata": {
  "interpreter": {
   "hash": "f856784eb8dcf2d3e4c52606edc4be4ac4edabe0d9c38c60452d6d6a5cc1135f"
  },
  "kernelspec": {
   "display_name": "Python 3.9.0 ('deeplearningkeras')",
   "language": "python",
   "name": "python3"
  },
  "language_info": {
   "codemirror_mode": {
    "name": "ipython",
    "version": 3
   },
   "file_extension": ".py",
   "mimetype": "text/x-python",
   "name": "python",
   "nbconvert_exporter": "python",
   "pygments_lexer": "ipython3",
   "version": "3.9.0"
  },
  "orig_nbformat": 4
 },
 "nbformat": 4,
 "nbformat_minor": 2
}
