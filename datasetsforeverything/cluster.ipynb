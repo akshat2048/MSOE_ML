{
 "cells": [
  {
   "cell_type": "code",
   "execution_count": 1,
   "metadata": {},
   "outputs": [],
   "source": [
    "# from environmentsettings import setting_categorical\n",
    "# for loading/processing the images  \n",
    "import tensorflow as tf\n",
    "from keras.preprocessing.image import load_img \n",
    "from keras.preprocessing.image import img_to_array \n",
    "from keras.applications.vgg16 import preprocess_input \n",
    "from keras.applications.mobilenet import preprocess_input\n",
    "\n",
    "# models \n",
    "\n",
    "from keras.applications.vgg16 import VGG16\n",
    "\n",
    "from keras.models import Model\n",
    "\n",
    "# clustering and dimension reduction\n",
    "from sklearn.cluster import KMeans\n",
    "from sklearn.decomposition import PCA\n",
    "\n",
    "# for everything else\n",
    "import os\n",
    "import numpy as np\n",
    "import matplotlib.pyplot as plt\n",
    "from random import randint\n",
    "import pandas as pd\n",
    "import pickle\n",
    "from collections import Counter\n",
    "import re"
   ]
  },
  {
   "cell_type": "code",
   "execution_count": 2,
   "metadata": {},
   "outputs": [
    {
     "name": "stdout",
     "output_type": "stream",
     "text": [
      "Multiple outputs per cell\n"
     ]
    }
   ],
   "source": [
    "# allow multiple output per cell\n",
    "from IPython.core.interactiveshell import InteractiveShell\n",
    "InteractiveShell.ast_node_interactivity = \"all\"\n",
    "\n",
    "print(\"Multiple outputs per cell\")"
   ]
  },
  {
   "cell_type": "code",
   "execution_count": 3,
   "metadata": {},
   "outputs": [],
   "source": [
    "images = pd.read_csv('C:/Users/samee/Documents/GitHub/MSOE_ML/datasetsforeverything/NIH.csv')\n",
    "images.drop(images[images['Finding Labels'].str.contains('\\|')].index, inplace=True)"
   ]
  },
  {
   "cell_type": "code",
   "execution_count": 4,
   "metadata": {},
   "outputs": [],
   "source": [
    "#SET THESE TWO PLS\n",
    "path = r\"C:/Users/samee/Downloads/Saturated-Binary-Single/Train/TrainPA\"\n",
    "p = r\"C:/Users/samee/Documents/Imagine Cup Saved Models/Thevindu Cluster\"\n",
    "# change the working directory to the path where the images are located\n",
    "os.chdir(path)\n",
    "\n",
    "xrays = {}\n",
    "temp = []\n",
    "for disease in os.listdir(path):\n",
    "    for file in os.listdir(path + \"/\" + disease):\n",
    "        if file.endswith(\".png\"):\n",
    "            temp.append(file)\n",
    "    xrays[disease] = temp\n",
    "    temp = []\n",
    "\n",
    "#model = tf.keras.applications.mobilenet.MobileNet()\n",
    "#model = Model(inputs = model.inputs, outputs = model.layer[-1].output)\n",
    "            \n",
    "model = VGG16()\n",
    "model = Model(inputs = model.inputs, outputs = model.layers[-2].output)"
   ]
  },
  {
   "cell_type": "code",
   "execution_count": 5,
   "metadata": {},
   "outputs": [],
   "source": [
    "def extract_features(file, model):\n",
    "    # load the image as a 224x224 array\n",
    "    img = load_img(file, target_size=(224,224))\n",
    "    # convert from 'PIL.Image.Image' to numpy array\n",
    "    img = np.array(img) \n",
    "    # reshape the data for the model reshape(num_of_samples, dim 1, dim 2, channels)\n",
    "    reshaped_img = img.reshape(1,224,224,3) \n",
    "    # prepare image for model\n",
    "\n",
    "    imgx = preprocess_input(reshaped_img)\n",
    "    #imgx = tf.keras.applications.mobilenet.preprocess_input(reshaped_img)\n",
    "    \n",
    "       \n",
    "    features = model.predict(imgx, use_multiprocessing=True)\n",
    "    return features"
   ]
  },
  {
   "cell_type": "code",
   "execution_count": 6,
   "metadata": {},
   "outputs": [
    {
     "data": {
      "text/plain": [
       "PCA(n_components=100, random_state=69)"
      ]
     },
     "execution_count": 6,
     "metadata": {},
     "output_type": "execute_result"
    }
   ],
   "source": [
    "data = {}\n",
    "\n",
    "\n",
    "# lop through each image in the dataset\n",
    "for disease, xray_list in xrays.items():\n",
    "    # try to extract the features and update the dictionary\n",
    "    for xray in xray_list:\n",
    "        try:\n",
    "            feat = extract_features(os.path.join(path, disease, xray),model)\n",
    "            data[xray] = feat\n",
    "        # if something fails, save the extracted features as a pickle file (optional)\n",
    "        except:\n",
    "            with open(p,'wb') as file:\n",
    "                pickle.dump(data,file)\n",
    "          \n",
    " \n",
    "# get a list of the filenames\n",
    "filenames = np.array(list(data.keys()))\n",
    "\n",
    "# get a list of just the features\n",
    "feat = np.array(list(data.values()))\n",
    "\n",
    "# reshape so that there are x images of 4096 vectors\n",
    "feat = feat.reshape(-1,4096)\n",
    "\n",
    "# get the unique labels (from the flower_labels.csv)\n",
    "# df = pd.read_csv('flower_labels.csv')\n",
    "# label = df['label'].tolist()\n",
    "# unique_labels = list(set(label))\n",
    "\n",
    "# reduce the amount of dimensions in the feature vector\n",
    "pca = PCA(n_components=100, random_state=69)\n",
    "pca.fit(feat)\n",
    "x = pca.transform(feat)"
   ]
  },
  {
   "cell_type": "code",
   "execution_count": 7,
   "metadata": {},
   "outputs": [
    {
     "data": {
      "text/plain": [
       "KMeans(n_clusters=2, random_state=69)"
      ]
     },
     "execution_count": 7,
     "metadata": {},
     "output_type": "execute_result"
    }
   ],
   "source": [
    "#10\n",
    "kmeans = KMeans(n_clusters=2, random_state=69)\n",
    "kmeans.fit(x)\n",
    "\n",
    "# holds the cluster id and the images { id: [images] }\n",
    "groups = {}\n",
    "for file, cluster in zip(filenames,kmeans.labels_):\n",
    "    if cluster not in groups.keys():\n",
    "        groups[cluster] = []\n",
    "        groups[cluster].append(file)\n",
    "    else:\n",
    "        groups[cluster].append(file)"
   ]
  },
  {
   "cell_type": "code",
   "execution_count": 8,
   "metadata": {},
   "outputs": [],
   "source": [
    "def view_cluster(cluster):\n",
    "    plt.figure(figsize = (25,25));\n",
    "    # gets the list of filenames for a cluster\n",
    "    files = groups[cluster]\n",
    "    # only allow up to 30 images to be shown at a time\n",
    "    if len(files) > 30:\n",
    "        print(f\"Clipping cluster size from {len(files)} to 30\")\n",
    "        files = files[:29]\n",
    "    # plot each image in the cluster\n",
    "    for index, file in enumerate(files):\n",
    "        # image = images[images['Image Index'] == file]['Finding Labels'].values[0]\n",
    "        # print(image)\n",
    "        disease = re.search(r'^[^\\d]*', file).group()[:-1]\n",
    "        plt.subplot(10,10,index+1);\n",
    "        img = load_img(os.path.join(path, disease, file))\n",
    "        img = np.array(img)\n",
    "        plt.imshow(img)\n",
    "        plt.axis('off')\n"
   ]
  },
  {
   "cell_type": "code",
   "execution_count": 9,
   "metadata": {},
   "outputs": [
    {
     "name": "stdout",
     "output_type": "stream",
     "text": [
      "Clipping cluster size from 272 to 30\n"
     ]
    },
    {
     "ename": "FileNotFoundError",
     "evalue": "[Errno 2] No such file or directory: 'C:/Users/samee/Downloads/Saturated-Binary-Single/Train/TrainPA\\\\No Finding\\\\No Finding 1005.png'",
     "output_type": "error",
     "traceback": [
      "\u001b[1;31m---------------------------------------------------------------------------\u001b[0m",
      "\u001b[1;31mFileNotFoundError\u001b[0m                         Traceback (most recent call last)",
      "\u001b[1;32mc:\\Users\\samee\\Documents\\GitHub\\MSOE_ML\\datasetsforeverything\\cluster.ipynb Cell 9'\u001b[0m in \u001b[0;36m<module>\u001b[1;34m\u001b[0m\n\u001b[0;32m      <a href='vscode-notebook-cell:/c%3A/Users/samee/Documents/GitHub/MSOE_ML/datasetsforeverything/cluster.ipynb#ch0000008?line=0'>1</a>\u001b[0m \u001b[39m#10\u001b[39;00m\n\u001b[0;32m      <a href='vscode-notebook-cell:/c%3A/Users/samee/Documents/GitHub/MSOE_ML/datasetsforeverything/cluster.ipynb#ch0000008?line=1'>2</a>\u001b[0m \u001b[39mfor\u001b[39;00m i \u001b[39min\u001b[39;00m \u001b[39mrange\u001b[39m(\u001b[39m2\u001b[39m):\n\u001b[1;32m----> <a href='vscode-notebook-cell:/c%3A/Users/samee/Documents/GitHub/MSOE_ML/datasetsforeverything/cluster.ipynb#ch0000008?line=2'>3</a>\u001b[0m     view_cluster(i)\n",
      "\u001b[1;32mc:\\Users\\samee\\Documents\\GitHub\\MSOE_ML\\datasetsforeverything\\cluster.ipynb Cell 8'\u001b[0m in \u001b[0;36mview_cluster\u001b[1;34m(cluster)\u001b[0m\n\u001b[0;32m     <a href='vscode-notebook-cell:/c%3A/Users/samee/Documents/GitHub/MSOE_ML/datasetsforeverything/cluster.ipynb#ch0000007?line=12'>13</a>\u001b[0m disease \u001b[39m=\u001b[39m re\u001b[39m.\u001b[39msearch(\u001b[39mr\u001b[39m\u001b[39m'\u001b[39m\u001b[39m^[^\u001b[39m\u001b[39m\\\u001b[39m\u001b[39md]*\u001b[39m\u001b[39m'\u001b[39m, file)\u001b[39m.\u001b[39mgroup()[:\u001b[39m-\u001b[39m\u001b[39m1\u001b[39m]\n\u001b[0;32m     <a href='vscode-notebook-cell:/c%3A/Users/samee/Documents/GitHub/MSOE_ML/datasetsforeverything/cluster.ipynb#ch0000007?line=13'>14</a>\u001b[0m plt\u001b[39m.\u001b[39msubplot(\u001b[39m10\u001b[39m,\u001b[39m10\u001b[39m,index\u001b[39m+\u001b[39m\u001b[39m1\u001b[39m);\n\u001b[1;32m---> <a href='vscode-notebook-cell:/c%3A/Users/samee/Documents/GitHub/MSOE_ML/datasetsforeverything/cluster.ipynb#ch0000007?line=14'>15</a>\u001b[0m img \u001b[39m=\u001b[39m load_img(os\u001b[39m.\u001b[39;49mpath\u001b[39m.\u001b[39;49mjoin(path, disease, file))\n\u001b[0;32m     <a href='vscode-notebook-cell:/c%3A/Users/samee/Documents/GitHub/MSOE_ML/datasetsforeverything/cluster.ipynb#ch0000007?line=15'>16</a>\u001b[0m img \u001b[39m=\u001b[39m np\u001b[39m.\u001b[39marray(img)\n\u001b[0;32m     <a href='vscode-notebook-cell:/c%3A/Users/samee/Documents/GitHub/MSOE_ML/datasetsforeverything/cluster.ipynb#ch0000007?line=16'>17</a>\u001b[0m plt\u001b[39m.\u001b[39mimshow(img)\n",
      "File \u001b[1;32mc:\\Users\\samee\\anaconda3\\envs\\deeplearningkeras\\lib\\site-packages\\keras\\preprocessing\\image.py:313\u001b[0m, in \u001b[0;36mload_img\u001b[1;34m(path, grayscale, color_mode, target_size, interpolation)\u001b[0m\n\u001b[0;32m    <a href='file:///c%3A/Users/samee/anaconda3/envs/deeplearningkeras/lib/site-packages/keras/preprocessing/image.py?line=276'>277</a>\u001b[0m \u001b[39m@keras_export\u001b[39m(\u001b[39m'\u001b[39m\u001b[39mkeras.utils.load_img\u001b[39m\u001b[39m'\u001b[39m,\n\u001b[0;32m    <a href='file:///c%3A/Users/samee/anaconda3/envs/deeplearningkeras/lib/site-packages/keras/preprocessing/image.py?line=277'>278</a>\u001b[0m               \u001b[39m'\u001b[39m\u001b[39mkeras.preprocessing.image.load_img\u001b[39m\u001b[39m'\u001b[39m)\n\u001b[0;32m    <a href='file:///c%3A/Users/samee/anaconda3/envs/deeplearningkeras/lib/site-packages/keras/preprocessing/image.py?line=278'>279</a>\u001b[0m \u001b[39mdef\u001b[39;00m \u001b[39mload_img\u001b[39m(path, grayscale\u001b[39m=\u001b[39m\u001b[39mFalse\u001b[39;00m, color_mode\u001b[39m=\u001b[39m\u001b[39m'\u001b[39m\u001b[39mrgb\u001b[39m\u001b[39m'\u001b[39m, target_size\u001b[39m=\u001b[39m\u001b[39mNone\u001b[39;00m,\n\u001b[0;32m    <a href='file:///c%3A/Users/samee/anaconda3/envs/deeplearningkeras/lib/site-packages/keras/preprocessing/image.py?line=279'>280</a>\u001b[0m              interpolation\u001b[39m=\u001b[39m\u001b[39m'\u001b[39m\u001b[39mnearest\u001b[39m\u001b[39m'\u001b[39m):\n\u001b[0;32m    <a href='file:///c%3A/Users/samee/anaconda3/envs/deeplearningkeras/lib/site-packages/keras/preprocessing/image.py?line=280'>281</a>\u001b[0m   \u001b[39m\"\"\"Loads an image into PIL format.\u001b[39;00m\n\u001b[0;32m    <a href='file:///c%3A/Users/samee/anaconda3/envs/deeplearningkeras/lib/site-packages/keras/preprocessing/image.py?line=281'>282</a>\u001b[0m \n\u001b[0;32m    <a href='file:///c%3A/Users/samee/anaconda3/envs/deeplearningkeras/lib/site-packages/keras/preprocessing/image.py?line=282'>283</a>\u001b[0m \u001b[39m  Usage:\u001b[39;00m\n\u001b[1;32m   (...)\u001b[0m\n\u001b[0;32m    <a href='file:///c%3A/Users/samee/anaconda3/envs/deeplearningkeras/lib/site-packages/keras/preprocessing/image.py?line=310'>311</a>\u001b[0m \u001b[39m      ValueError: if interpolation method is not supported.\u001b[39;00m\n\u001b[0;32m    <a href='file:///c%3A/Users/samee/anaconda3/envs/deeplearningkeras/lib/site-packages/keras/preprocessing/image.py?line=311'>312</a>\u001b[0m \u001b[39m  \"\"\"\u001b[39;00m\n\u001b[1;32m--> <a href='file:///c%3A/Users/samee/anaconda3/envs/deeplearningkeras/lib/site-packages/keras/preprocessing/image.py?line=312'>313</a>\u001b[0m   \u001b[39mreturn\u001b[39;00m image\u001b[39m.\u001b[39;49mload_img(path, grayscale\u001b[39m=\u001b[39;49mgrayscale, color_mode\u001b[39m=\u001b[39;49mcolor_mode,\n\u001b[0;32m    <a href='file:///c%3A/Users/samee/anaconda3/envs/deeplearningkeras/lib/site-packages/keras/preprocessing/image.py?line=313'>314</a>\u001b[0m                         target_size\u001b[39m=\u001b[39;49mtarget_size, interpolation\u001b[39m=\u001b[39;49minterpolation)\n",
      "File \u001b[1;32mc:\\Users\\samee\\anaconda3\\envs\\deeplearningkeras\\lib\\site-packages\\keras_preprocessing\\image\\utils.py:113\u001b[0m, in \u001b[0;36mload_img\u001b[1;34m(path, grayscale, color_mode, target_size, interpolation)\u001b[0m\n\u001b[0;32m    <a href='file:///c%3A/Users/samee/anaconda3/envs/deeplearningkeras/lib/site-packages/keras_preprocessing/image/utils.py?line=109'>110</a>\u001b[0m \u001b[39mif\u001b[39;00m pil_image \u001b[39mis\u001b[39;00m \u001b[39mNone\u001b[39;00m:\n\u001b[0;32m    <a href='file:///c%3A/Users/samee/anaconda3/envs/deeplearningkeras/lib/site-packages/keras_preprocessing/image/utils.py?line=110'>111</a>\u001b[0m     \u001b[39mraise\u001b[39;00m \u001b[39mImportError\u001b[39;00m(\u001b[39m'\u001b[39m\u001b[39mCould not import PIL.Image. \u001b[39m\u001b[39m'\u001b[39m\n\u001b[0;32m    <a href='file:///c%3A/Users/samee/anaconda3/envs/deeplearningkeras/lib/site-packages/keras_preprocessing/image/utils.py?line=111'>112</a>\u001b[0m                       \u001b[39m'\u001b[39m\u001b[39mThe use of `load_img` requires PIL.\u001b[39m\u001b[39m'\u001b[39m)\n\u001b[1;32m--> <a href='file:///c%3A/Users/samee/anaconda3/envs/deeplearningkeras/lib/site-packages/keras_preprocessing/image/utils.py?line=112'>113</a>\u001b[0m \u001b[39mwith\u001b[39;00m \u001b[39mopen\u001b[39;49m(path, \u001b[39m'\u001b[39;49m\u001b[39mrb\u001b[39;49m\u001b[39m'\u001b[39;49m) \u001b[39mas\u001b[39;00m f:\n\u001b[0;32m    <a href='file:///c%3A/Users/samee/anaconda3/envs/deeplearningkeras/lib/site-packages/keras_preprocessing/image/utils.py?line=113'>114</a>\u001b[0m     img \u001b[39m=\u001b[39m pil_image\u001b[39m.\u001b[39mopen(io\u001b[39m.\u001b[39mBytesIO(f\u001b[39m.\u001b[39mread()))\n\u001b[0;32m    <a href='file:///c%3A/Users/samee/anaconda3/envs/deeplearningkeras/lib/site-packages/keras_preprocessing/image/utils.py?line=114'>115</a>\u001b[0m     \u001b[39mif\u001b[39;00m color_mode \u001b[39m==\u001b[39m \u001b[39m'\u001b[39m\u001b[39mgrayscale\u001b[39m\u001b[39m'\u001b[39m:\n\u001b[0;32m    <a href='file:///c%3A/Users/samee/anaconda3/envs/deeplearningkeras/lib/site-packages/keras_preprocessing/image/utils.py?line=115'>116</a>\u001b[0m         \u001b[39m# if image is not already an 8-bit, 16-bit or 32-bit grayscale image\u001b[39;00m\n\u001b[0;32m    <a href='file:///c%3A/Users/samee/anaconda3/envs/deeplearningkeras/lib/site-packages/keras_preprocessing/image/utils.py?line=116'>117</a>\u001b[0m         \u001b[39m# convert it to an 8-bit grayscale image.\u001b[39;00m\n",
      "\u001b[1;31mFileNotFoundError\u001b[0m: [Errno 2] No such file or directory: 'C:/Users/samee/Downloads/Saturated-Binary-Single/Train/TrainPA\\\\No Finding\\\\No Finding 1005.png'"
     ]
    },
    {
     "data": {
      "image/png": "[encoded data removed]",
      "text/plain": [
       "<Figure size 1800x1800 with 1 Axes>"
      ]
     },
     "metadata": {
      "needs_background": "light"
     },
     "output_type": "display_data"
    }
   ],
   "source": [
    "#10\n",
    "for i in range(2):\n",
    "    view_cluster(i)"
   ]
  },
  {
   "cell_type": "code",
   "execution_count": 11,
   "metadata": {},
   "outputs": [
    {
     "name": "stdout",
     "output_type": "stream",
     "text": [
      "dict_keys(['No Finding', 'Pneumonia'])\n",
      "No Finding    253\n",
      "Pneumonia     170\n",
      "dtype: int64\n",
      "dict_keys(['No Finding', 'Pneumonia'])\n",
      "No Finding    170\n",
      "Pneumonia     102\n",
      "dtype: int64\n"
     ]
    }
   ],
   "source": [
    "labels = []\n",
    "for cluster in groups:\n",
    "    for image in groups[cluster]:\n",
    "        image = re.search(r'^[^\\d]*', image).group()[:-1]\n",
    "        labels.append(image)\n",
    "    print(Counter(labels).keys())\n",
    "    print(pd.Series(labels).value_counts())\n",
    "    labels = []"
   ]
  },
  {
   "cell_type": "code",
   "execution_count": 12,
   "metadata": {},
   "outputs": [
    {
     "name": "stderr",
     "output_type": "stream",
     "text": [
      "c:\\Users\\samee\\anaconda3\\envs\\deeplearningkeras\\lib\\site-packages\\sklearn\\cluster\\_kmeans.py:1036: UserWarning: KMeans is known to have a memory leak on Windows with MKL, when there are less chunks than available threads. You can avoid it by setting the environment variable OMP_NUM_THREADS=3.\n",
      "  warnings.warn(\n"
     ]
    },
    {
     "data": {
      "image/png": "[encoded data removed]",
      "text/plain": [
       "<Figure size 432x432 with 1 Axes>"
      ]
     },
     "metadata": {
      "needs_background": "light"
     },
     "output_type": "display_data"
    }
   ],
   "source": [
    "  \n",
    "   \n",
    "# this is just incase you want to see which value for k might be the best \n",
    "sse = []\n",
    "list_k = list(range(1, 50))\n",
    "\n",
    "for k in list_k:\n",
    "    km = KMeans(n_clusters=k, random_state=22)\n",
    "    km.fit(x)\n",
    "    \n",
    "    sse.append(km.inertia_)\n",
    "\n",
    "# Plot sse against k\n",
    "plt.figure(figsize=(6, 6))\n",
    "plt.plot(list_k, sse)\n",
    "plt.xlabel(r'Number of clusters *k*')\n",
    "plt.ylabel('Sum of squared distance');"
   ]
  }
 ],
 "metadata": {
  "interpreter": {
   "hash": "1e533507eb76cbfb81c75639bacc8f460941550716639a402c578975cb3ec022"
  },
  "kernelspec": {
   "display_name": "Python 3.9.0 ('deeplearningkeras')",
   "language": "python",
   "name": "python3"
  },
  "language_info": {
   "codemirror_mode": {
    "name": "ipython",
    "version": 3
   },
   "file_extension": ".py",
   "mimetype": "text/x-python",
   "name": "python",
   "nbconvert_exporter": "python",
   "pygments_lexer": "ipython3",
   "version": "3.9.0"
  },
  "orig_nbformat": 4
 },
 "nbformat": 4,
 "nbformat_minor": 2
}
