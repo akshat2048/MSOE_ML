{
 "cells": [
  {
   "cell_type": "code",
   "execution_count": 54,
   "metadata": {},
   "outputs": [],
   "source": [
    "import pandas as pd\n",
    "import shutil\n",
    "import os\n",
    "import random\n",
    "import math\n",
    "import glob"
   ]
  },
  {
   "cell_type": "code",
   "execution_count": 55,
   "metadata": {},
   "outputs": [
    {
     "name": "stdout",
     "output_type": "stream",
     "text": [
      "Multiple outputs per cell\n"
     ]
    }
   ],
   "source": [
    "from IPython.core.interactiveshell import InteractiveShell\n",
    "InteractiveShell.ast_node_interactivity = \"all\"\n",
    "\n",
    "print(\"Multiple outputs per cell\")"
   ]
  },
  {
   "cell_type": "code",
   "execution_count": 56,
   "metadata": {},
   "outputs": [],
   "source": [
    "# NIHCategorical = 'C:/Users/samee/Downloads/NIH-Categorical'"
   ]
  },
  {
   "cell_type": "code",
   "execution_count": 57,
   "metadata": {},
   "outputs": [],
   "source": [
    "# shutil.copytree(NIHCategorical, 'C:/Users/samee/Downloads/NIH-Categorical-Balanced')"
   ]
  },
  {
   "cell_type": "code",
   "execution_count": 58,
   "metadata": {},
   "outputs": [],
   "source": [
    "balanced = 'C:/Users/samee/Downloads/NIH-Categorical-Balanced/NIH/PA'"
   ]
  },
  {
   "cell_type": "code",
   "execution_count": 63,
   "metadata": {},
   "outputs": [
    {
     "data": {
      "text/plain": [
       "[2210, 746, 2086, 648, 5270, 1367, 39302, 1924, 875, 1506]"
      ]
     },
     "execution_count": 63,
     "metadata": {},
     "output_type": "execute_result"
    },
    {
     "data": {
      "text/plain": [
       "['Atelectasis',\n",
       " 'Cardiomegaly',\n",
       " 'Effusion',\n",
       " 'Fibrosis',\n",
       " 'Infiltration',\n",
       " 'Mass',\n",
       " 'No Finding',\n",
       " 'Nodule',\n",
       " 'Pleural_Thickening',\n",
       " 'Pneumothorax']"
      ]
     },
     "execution_count": 63,
     "metadata": {},
     "output_type": "execute_result"
    }
   ],
   "source": [
    "files = []\n",
    "diseases = []\n",
    "for disease in os.listdir(balanced):\n",
    "    if len(os.listdir(balanced + '/' + disease)) > 640:\n",
    "        files.append(len(os.listdir(balanced + '/' + disease)))\n",
    "        diseases.append(disease)\n",
    "files\n",
    "diseases"
   ]
  },
  {
   "cell_type": "code",
   "execution_count": 64,
   "metadata": {},
   "outputs": [],
   "source": [
    "minim = min(files)\n",
    "for disease in os.listdir(balanced):\n",
    "    arr = random.sample(os.listdir(balanced + '/' + disease), minim)\n",
    "    for file in os.listdir(balanced + '/' + disease):\n",
    "        if file not in arr:\n",
    "            os.remove(balanced + '/' + disease + '/' + file)\n"
   ]
  }
 ],
 "metadata": {
  "interpreter": {
   "hash": "1e533507eb76cbfb81c75639bacc8f460941550716639a402c578975cb3ec022"
  },
  "kernelspec": {
   "display_name": "Python 3.9.0 ('deeplearningkeras')",
   "language": "python",
   "name": "python3"
  },
  "language_info": {
   "codemirror_mode": {
    "name": "ipython",
    "version": 3
   },
   "file_extension": ".py",
   "mimetype": "text/x-python",
   "name": "python",
   "nbconvert_exporter": "python",
   "pygments_lexer": "ipython3",
   "version": "3.9.0"
  },
  "orig_nbformat": 4
 },
 "nbformat": 4,
 "nbformat_minor": 2
}
