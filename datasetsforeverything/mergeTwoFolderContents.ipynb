{
 "cells": [
  {
   "cell_type": "code",
   "execution_count": 7,
   "metadata": {},
   "outputs": [],
   "source": [
    "import shutil\n",
    "import os"
   ]
  },
  {
   "cell_type": "code",
   "execution_count": 8,
   "metadata": {},
   "outputs": [],
   "source": [
    "FOLDER_1 = \"C:/Users/akash/Desktop/Akash/MSOEML/CheXpert/NIH/Abnormal/AP\"\n",
    "FOLDER_2 = \"C:/Users/akash/Desktop/Akash/MSOEML/NIH_data/AP/abnormal\""
   ]
  },
  {
   "cell_type": "code",
   "execution_count": 9,
   "metadata": {},
   "outputs": [
    {
     "ename": "FileNotFoundError",
     "evalue": "[WinError 3] The system cannot find the path specified: 'C:/Users/akash/Desktop/Akash/MSOEML/CheXpert/NIH/Abormal/AP'",
     "output_type": "error",
     "traceback": [
      "\u001b[1;31m---------------------------------------------------------------------------\u001b[0m",
      "\u001b[1;31mFileNotFoundError\u001b[0m                         Traceback (most recent call last)",
      "\u001b[1;32mc:\\Users\\akash\\Desktop\\Akash\\MSOEML\\MSOE_ML\\datasetsforeverything\\mergeTwoFolderContents.ipynb Cell 3'\u001b[0m in \u001b[0;36m<module>\u001b[1;34m\u001b[0m\n\u001b[0;32m      <a href='vscode-notebook-cell:/c%3A/Users/akash/Desktop/Akash/MSOEML/MSOE_ML/datasetsforeverything/mergeTwoFolderContents.ipynb#ch0000002?line=0'>1</a>\u001b[0m \u001b[39m# move files from folder 1 to folder 2\u001b[39;00m\n\u001b[1;32m----> <a href='vscode-notebook-cell:/c%3A/Users/akash/Desktop/Akash/MSOEML/MSOE_ML/datasetsforeverything/mergeTwoFolderContents.ipynb#ch0000002?line=1'>2</a>\u001b[0m \u001b[39mfor\u001b[39;00m file \u001b[39min\u001b[39;00m os\u001b[39m.\u001b[39;49mlistdir(FOLDER_1):\n\u001b[0;32m      <a href='vscode-notebook-cell:/c%3A/Users/akash/Desktop/Akash/MSOEML/MSOE_ML/datasetsforeverything/mergeTwoFolderContents.ipynb#ch0000002?line=2'>3</a>\u001b[0m     _ \u001b[39m=\u001b[39m shutil\u001b[39m.\u001b[39mmove(os\u001b[39m.\u001b[39mpath\u001b[39m.\u001b[39mjoin(FOLDER_1, file), FOLDER_2)\n",
      "\u001b[1;31mFileNotFoundError\u001b[0m: [WinError 3] The system cannot find the path specified: 'C:/Users/akash/Desktop/Akash/MSOEML/CheXpert/NIH/Abormal/AP'"
     ]
    }
   ],
   "source": [
    "# move files from folder 1 to folder 2\n",
    "for file in os.listdir(FOLDER_1):\n",
    "    _ = shutil.move(os.path.join(FOLDER_1, file), FOLDER_2)"
   ]
  }
 ],
 "metadata": {
  "interpreter": {
   "hash": "f4232e35a17d310af1bb18ab8d5062a10cff20e52b686e5d270dd17948a21a21"
  },
  "kernelspec": {
   "display_name": "Python 3.8.12 ('apple_tensorflow')",
   "language": "python",
   "name": "python3"
  },
  "language_info": {
   "codemirror_mode": {
    "name": "ipython",
    "version": 3
   },
   "file_extension": ".py",
   "mimetype": "text/x-python",
   "name": "python",
   "nbconvert_exporter": "python",
   "pygments_lexer": "ipython3",
   "version": "3.8.12"
  },
  "orig_nbformat": 4
 },
 "nbformat": 4,
 "nbformat_minor": 2
}
