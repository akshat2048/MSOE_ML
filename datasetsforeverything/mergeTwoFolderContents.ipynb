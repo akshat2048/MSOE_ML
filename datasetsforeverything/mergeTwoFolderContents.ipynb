{
 "cells": [
  {
   "cell_type": "code",
   "execution_count": 4,
   "metadata": {},
   "outputs": [],
   "source": [
    "import shutil\n",
    "import os"
   ]
  },
  {
   "cell_type": "code",
   "execution_count": 5,
   "metadata": {},
   "outputs": [],
   "source": [
    "FOLDER_1 = \"C:/Users/akash/Desktop/Akash/MSOEML/CheXpert/NIH/Normal/PA\"\n",
    "FOLDER_2 = \"C:/Users/akash/Desktop/Akash/MSOEML/NIH_data/PA/normal\""
   ]
  },
  {
   "cell_type": "code",
   "execution_count": 6,
   "metadata": {},
   "outputs": [],
   "source": [
    "# move files from folder 1 to folder 2\n",
    "for file in os.listdir(FOLDER_1):\n",
    "    _ = shutil.move(os.path.join(FOLDER_1, file), FOLDER_2)"
   ]
  }
 ],
 "metadata": {
  "interpreter": {
   "hash": "f4232e35a17d310af1bb18ab8d5062a10cff20e52b686e5d270dd17948a21a21"
  },
  "kernelspec": {
   "display_name": "Python 3.8.12 ('apple_tensorflow')",
   "language": "python",
   "name": "python3"
  },
  "language_info": {
   "codemirror_mode": {
    "name": "ipython",
    "version": 3
   },
   "file_extension": ".py",
   "mimetype": "text/x-python",
   "name": "python",
   "nbconvert_exporter": "python",
   "pygments_lexer": "ipython3",
   "version": "3.9.10"
  },
  "orig_nbformat": 4
 },
 "nbformat": 4,
 "nbformat_minor": 2
}
