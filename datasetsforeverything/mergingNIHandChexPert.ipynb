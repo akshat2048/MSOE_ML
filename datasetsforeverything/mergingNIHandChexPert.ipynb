{
 "cells": [
  {
   "cell_type": "code",
   "execution_count": 57,
   "metadata": {},
   "outputs": [],
   "source": [
    "# import libraries\n",
    "import numpy as np\n",
    "import pandas as pd\n",
    "import seaborn as sns\n",
    "import matplotlib.pyplot as plt"
   ]
  },
  {
   "cell_type": "code",
   "execution_count": 58,
   "metadata": {},
   "outputs": [],
   "source": [
    "chexpert = pd.read_csv('train.csv')\n",
    "nih = pd.read_csv('NIH.csv')\n"
   ]
  },
  {
   "cell_type": "code",
   "execution_count": 59,
   "metadata": {},
   "outputs": [
    {
     "name": "stdout",
     "output_type": "stream",
     "text": [
      "['No Finding', 'Enlarged Cardiomediastinum', 'Cardiomegaly', 'Lung Opacity', 'Lung Lesion', 'Edema', 'Consolidation', 'Pneumonia', 'Atelectasis', 'Pneumothorax', 'Pleural Effusion', 'Pleural Other', 'Fracture', 'Support Devices']\n",
      "Number of diseases: 14\n"
     ]
    }
   ],
   "source": [
    "# filter by images that are not normal\n",
    "chexpertlist = list(chexpert.columns[5:]) # Diseases\n",
    "print(chexpertlist)\n",
    "print(\"Number of diseases:\", str(len(chexpertlist)))"
   ]
  },
  {
   "cell_type": "markdown",
   "metadata": {},
   "source": [
    "Due to the fact that support devices are not a disease, it may be reasonable to remove them as a disease label. In addition, No Finding isn't a disease, so it can be removed."
   ]
  },
  {
   "cell_type": "code",
   "execution_count": 60,
   "metadata": {},
   "outputs": [
    {
     "name": "stdout",
     "output_type": "stream",
     "text": [
      "['Enlarged Cardiomediastinum', 'Cardiomegaly', 'Lung Opacity', 'Lung Lesion', 'Edema', 'Consolidation', 'Pneumonia', 'Atelectasis', 'Pneumothorax', 'Pleural Effusion', 'Pleural Other', 'Fracture']\n",
      "Number of diseases: 12\n"
     ]
    }
   ],
   "source": [
    "chexpertlist.remove('Support Devices')\n",
    "chexpertlist.remove('No Finding')\n",
    "\n",
    "# print hte length of the list\n",
    "print(chexpertlist)\n",
    "print(\"Number of diseases:\", str(len(chexpertlist)))"
   ]
  },
  {
   "cell_type": "code",
   "execution_count": 61,
   "metadata": {},
   "outputs": [
    {
     "name": "stdout",
     "output_type": "stream",
     "text": [
      "['No Finding', 'Infiltration', 'Atelectasis', 'Effusion', 'Nodule', 'Pneumothorax', 'Mass', 'Consolidation', 'Pleural_Thickening', 'Cardiomegaly', 'Emphysema', 'Fibrosis', 'Edema', 'Pneumonia', 'Hernia']\n",
      "Number of diseases: 15\n"
     ]
    }
   ],
   "source": [
    "nihlist = list(nih.drop(nih[nih['Finding Labels'].str.contains('\\|')].index, inplace=False)['Finding Labels'].value_counts().index)\n",
    "print(nihlist)\n",
    "print(\"Number of diseases:\", str(len(nihlist)))"
   ]
  },
  {
   "cell_type": "markdown",
   "metadata": {},
   "source": [
    "No Finding is not a disease, so it can be removed from NIH dataset as well."
   ]
  },
  {
   "cell_type": "code",
   "execution_count": 62,
   "metadata": {},
   "outputs": [
    {
     "name": "stdout",
     "output_type": "stream",
     "text": [
      "['Infiltration', 'Atelectasis', 'Effusion', 'Nodule', 'Pneumothorax', 'Mass', 'Consolidation', 'Pleural_Thickening', 'Cardiomegaly', 'Emphysema', 'Fibrosis', 'Edema', 'Pneumonia', 'Hernia']\n",
      "Number of diseases: 14\n"
     ]
    }
   ],
   "source": [
    "nihlist.remove('No Finding')\n",
    "\n",
    "print(nihlist)\n",
    "print(\"Number of diseases:\", str(len(nihlist)))"
   ]
  },
  {
   "cell_type": "code",
   "execution_count": 63,
   "metadata": {},
   "outputs": [
    {
     "name": "stdout",
     "output_type": "stream",
     "text": [
      "['Edema', 'Pneumothorax', 'Consolidation', 'Cardiomegaly', 'Atelectasis', 'Pneumonia']\n",
      "['Lung Opacity', 'Enlarged Cardiomediastinum', 'Pleural Effusion', 'Pleural Other', 'Lung Lesion', 'Fracture']\n",
      "['Emphysema', 'Mass', 'Fibrosis', 'Hernia', 'Pleural_Thickening', 'Infiltration', 'Nodule', 'Effusion']\n"
     ]
    }
   ],
   "source": [
    "commondiseases = list(set(chexpertlist).intersection(nihlist))\n",
    "noncommondiseases1 = list(set(chexpertlist).difference(nihlist))\n",
    "noncommondiseases2 = list(set(nihlist).difference(chexpertlist))\n",
    "print(commondiseases) # These diseases match up perfectly\n",
    "print(noncommondiseases1)\n",
    "print(noncommondiseases2)"
   ]
  },
  {
   "cell_type": "markdown",
   "metadata": {},
   "source": [
    "https://utswmed.org/conditions-treatments/pulmonary-nodules-and-lung-lesions/ \n",
    "\n",
    "https://www.sciencedirect.com/topics/medicine-and-dentistry/lung-lesion\n",
    "\n",
    "- The websites above appear to consider pulmonary nodules (like those in the NIH database) to be same as a lung lesion (like those in the CheXpert database)"
   ]
  },
  {
   "cell_type": "code",
   "execution_count": 64,
   "metadata": {},
   "outputs": [],
   "source": [
    "commondiseases.append('Nodule/Lung Lesion')\n",
    "noncommondiseases1.remove('Lung Lesion')\n",
    "noncommondiseases2.remove('Nodule')"
   ]
  },
  {
   "cell_type": "markdown",
   "metadata": {},
   "source": [
    "https://radiopaedia.org/articles/enlargement-of-the-cardiac-silhouette?lang=us \n",
    "\n",
    "This website explains that enlargement of the cardiac silhouette, enlarged cardiomediastinum (like in the CheXpert database) is primarily caused by cardiomegaly."
   ]
  },
  {
   "cell_type": "code",
   "execution_count": 65,
   "metadata": {},
   "outputs": [],
   "source": [
    "commondiseases.append('Cardiomegaly/Enlarged Cardiomediastinum')\n",
    "noncommondiseases1.remove('Enlarged Cardiomediastinum')"
   ]
  },
  {
   "cell_type": "markdown",
   "metadata": {},
   "source": [
    "It is reasonable to assume that the pleural effusion label in the ChexPert database is the same as the effusion label in the NIH database."
   ]
  },
  {
   "cell_type": "code",
   "execution_count": 66,
   "metadata": {},
   "outputs": [],
   "source": [
    "commondiseases.append('Effusion/Pleural Effusion')\n",
    "noncommondiseases1.remove('Pleural Effusion')\n",
    "noncommondiseases2.remove('Effusion')"
   ]
  },
  {
   "cell_type": "markdown",
   "metadata": {},
   "source": [
    "Since we know that Effusion in the NIH dataset and Pleural Effusion are the same. Thus, we know that Pleural Other probably refers to Pleural Thickening. -- Thevindu"
   ]
  },
  {
   "cell_type": "code",
   "execution_count": 67,
   "metadata": {},
   "outputs": [],
   "source": [
    "commondiseases.append('Pleural Other/Pleural Thickening')\n",
    "noncommondiseases1.remove('Pleural Other')\n",
    "noncommondiseases2.remove('Pleural_Thickening')"
   ]
  },
  {
   "cell_type": "markdown",
   "metadata": {},
   "source": [
    "Check in"
   ]
  },
  {
   "cell_type": "code",
   "execution_count": 68,
   "metadata": {},
   "outputs": [
    {
     "name": "stdout",
     "output_type": "stream",
     "text": [
      "['Edema', 'Pneumothorax', 'Consolidation', 'Cardiomegaly', 'Atelectasis', 'Pneumonia', 'Nodule/Lung Lesion', 'Cardiomegaly/Enlarged Cardiomediastinum', 'Effusion/Pleural Effusion', 'Pleural Other/Pleural Thickening']\n",
      "Number of common diseases: 10\n"
     ]
    }
   ],
   "source": [
    "# print the length of common diseases\n",
    "print(commondiseases)\n",
    "print(\"Number of common diseases:\", str(len(commondiseases)))"
   ]
  },
  {
   "cell_type": "code",
   "execution_count": 69,
   "metadata": {},
   "outputs": [
    {
     "name": "stdout",
     "output_type": "stream",
     "text": [
      "['Lung Opacity', 'Fracture']\n",
      "['Emphysema', 'Mass', 'Fibrosis', 'Hernia', 'Infiltration']\n"
     ]
    }
   ],
   "source": [
    "print(noncommondiseases1)\n",
    "print(noncommondiseases2)"
   ]
  }
 ],
 "metadata": {
  "interpreter": {
   "hash": "f4232e35a17d310af1bb18ab8d5062a10cff20e52b686e5d270dd17948a21a21"
  },
  "kernelspec": {
   "display_name": "Python 3.8.12 64-bit ('apple_tensorflow': conda)",
   "language": "python",
   "name": "python3"
  },
  "language_info": {
   "codemirror_mode": {
    "name": "ipython",
    "version": 3
   },
   "file_extension": ".py",
   "mimetype": "text/x-python",
   "name": "python",
   "nbconvert_exporter": "python",
   "pygments_lexer": "ipython3",
   "version": "3.8.12"
  },
  "orig_nbformat": 4
 },
 "nbformat": 4,
 "nbformat_minor": 2
}
