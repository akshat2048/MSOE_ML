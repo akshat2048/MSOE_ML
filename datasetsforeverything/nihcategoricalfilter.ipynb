{
 "cells": [
  {
   "cell_type": "code",
   "execution_count": 2,
   "metadata": {},
   "outputs": [],
   "source": [
    "# import pandas, shutil, os\n",
    "import pandas as pd\n",
    "import shutil\n",
    "import os\n",
    "import random\n",
    "import math\n",
    "import glob"
   ]
  },
  {
   "cell_type": "code",
   "execution_count": 3,
   "metadata": {},
   "outputs": [
    {
     "name": "stdout",
     "output_type": "stream",
     "text": [
      "Multiple outputs per cell\n"
     ]
    }
   ],
   "source": [
    "# allow multiple output per cell\n",
    "from IPython.core.interactiveshell import InteractiveShell\n",
    "InteractiveShell.ast_node_interactivity = \"all\"\n",
    "\n",
    "print(\"Multiple outputs per cell\")"
   ]
  },
  {
   "cell_type": "code",
   "execution_count": 12,
   "metadata": {},
   "outputs": [
    {
     "ename": "SyntaxError",
     "evalue": "(unicode error) 'unicodeescape' codec can't decode bytes in position 2-3: truncated \\UXXXXXXXX escape (1540382389.py, line 2)",
     "output_type": "error",
     "traceback": [
      "\u001b[1;36m  Input \u001b[1;32mIn [12]\u001b[1;36m\u001b[0m\n\u001b[1;33m    TRAIN_DIRECTORY = 'C:\\Users\\akash\\Desktop\\Akash\\MSOEML\\NIH_data\\images' # no need to put a forward slash at the front of directory name\u001b[0m\n\u001b[1;37m                                                                            ^\u001b[0m\n\u001b[1;31mSyntaxError\u001b[0m\u001b[1;31m:\u001b[0m (unicode error) 'unicodeescape' codec can't decode bytes in position 2-3: truncated \\UXXXXXXXX escape\n"
     ]
    }
   ],
   "source": [
    "# variables to determine the source and destination paths\n",
    "TRAIN_DIRECTORY = 'C:/Users/akash/Desktop/Akash/MSOEML/NIH_data/images' # no need to put a forward slash at the front of directory name\n",
    "\n",
    "TEST_DIRECTORY = 'C:/Users/akash/Desktop/Akash/MSOEML/NIH_data/imagesTest'"
   ]
  },
  {
   "cell_type": "code",
   "execution_count": 5,
   "metadata": {},
   "outputs": [],
   "source": [
    "# read in data and inspect it\n",
    "images = pd.read_csv('NIH.csv')"
   ]
  },
  {
   "cell_type": "code",
   "execution_count": 6,
   "metadata": {},
   "outputs": [
    {
     "data": {
      "text/html": [
       "<div>\n",
       "<style scoped>\n",
       "    .dataframe tbody tr th:only-of-type {\n",
       "        vertical-align: middle;\n",
       "    }\n",
       "\n",
       "    .dataframe tbody tr th {\n",
       "        vertical-align: top;\n",
       "    }\n",
       "\n",
       "    .dataframe thead th {\n",
       "        text-align: right;\n",
       "    }\n",
       "</style>\n",
       "<table border=\"1\" class=\"dataframe\">\n",
       "  <thead>\n",
       "    <tr style=\"text-align: right;\">\n",
       "      <th></th>\n",
       "      <th>Finding Labels</th>\n",
       "      <th>Follow-up #</th>\n",
       "      <th>Patient ID</th>\n",
       "      <th>Patient Age</th>\n",
       "      <th>Patient Gender</th>\n",
       "      <th>View Position</th>\n",
       "      <th>OriginalImage[Width</th>\n",
       "      <th>Height]</th>\n",
       "      <th>OriginalImagePixelSpacing[x</th>\n",
       "      <th>y]</th>\n",
       "    </tr>\n",
       "    <tr>\n",
       "      <th>Image Index</th>\n",
       "      <th></th>\n",
       "      <th></th>\n",
       "      <th></th>\n",
       "      <th></th>\n",
       "      <th></th>\n",
       "      <th></th>\n",
       "      <th></th>\n",
       "      <th></th>\n",
       "      <th></th>\n",
       "      <th></th>\n",
       "    </tr>\n",
       "  </thead>\n",
       "  <tbody>\n",
       "    <tr>\n",
       "      <th>00000001_000.png</th>\n",
       "      <td>Cardiomegaly</td>\n",
       "      <td>0</td>\n",
       "      <td>1</td>\n",
       "      <td>57</td>\n",
       "      <td>M</td>\n",
       "      <td>PA</td>\n",
       "      <td>2682</td>\n",
       "      <td>2749</td>\n",
       "      <td>0.143</td>\n",
       "      <td>0.143</td>\n",
       "    </tr>\n",
       "    <tr>\n",
       "      <th>00000001_001.png</th>\n",
       "      <td>Cardiomegaly|Emphysema</td>\n",
       "      <td>1</td>\n",
       "      <td>1</td>\n",
       "      <td>58</td>\n",
       "      <td>M</td>\n",
       "      <td>PA</td>\n",
       "      <td>2894</td>\n",
       "      <td>2729</td>\n",
       "      <td>0.143</td>\n",
       "      <td>0.143</td>\n",
       "    </tr>\n",
       "    <tr>\n",
       "      <th>00000001_002.png</th>\n",
       "      <td>Cardiomegaly|Effusion</td>\n",
       "      <td>2</td>\n",
       "      <td>1</td>\n",
       "      <td>58</td>\n",
       "      <td>M</td>\n",
       "      <td>PA</td>\n",
       "      <td>2500</td>\n",
       "      <td>2048</td>\n",
       "      <td>0.168</td>\n",
       "      <td>0.168</td>\n",
       "    </tr>\n",
       "    <tr>\n",
       "      <th>00000002_000.png</th>\n",
       "      <td>No Finding</td>\n",
       "      <td>0</td>\n",
       "      <td>2</td>\n",
       "      <td>80</td>\n",
       "      <td>M</td>\n",
       "      <td>PA</td>\n",
       "      <td>2500</td>\n",
       "      <td>2048</td>\n",
       "      <td>0.171</td>\n",
       "      <td>0.171</td>\n",
       "    </tr>\n",
       "    <tr>\n",
       "      <th>00000003_001.png</th>\n",
       "      <td>Hernia</td>\n",
       "      <td>0</td>\n",
       "      <td>3</td>\n",
       "      <td>74</td>\n",
       "      <td>F</td>\n",
       "      <td>PA</td>\n",
       "      <td>2500</td>\n",
       "      <td>2048</td>\n",
       "      <td>0.168</td>\n",
       "      <td>0.168</td>\n",
       "    </tr>\n",
       "  </tbody>\n",
       "</table>\n",
       "</div>"
      ],
      "text/plain": [
       "                          Finding Labels  Follow-up #  Patient ID  \\\n",
       "Image Index                                                         \n",
       "00000001_000.png            Cardiomegaly            0           1   \n",
       "00000001_001.png  Cardiomegaly|Emphysema            1           1   \n",
       "00000001_002.png   Cardiomegaly|Effusion            2           1   \n",
       "00000002_000.png              No Finding            0           2   \n",
       "00000003_001.png                  Hernia            0           3   \n",
       "\n",
       "                  Patient Age Patient Gender View Position  \\\n",
       "Image Index                                                  \n",
       "00000001_000.png           57              M            PA   \n",
       "00000001_001.png           58              M            PA   \n",
       "00000001_002.png           58              M            PA   \n",
       "00000002_000.png           80              M            PA   \n",
       "00000003_001.png           74              F            PA   \n",
       "\n",
       "                  OriginalImage[Width  Height]  OriginalImagePixelSpacing[x  \\\n",
       "Image Index                                                                   \n",
       "00000001_000.png                 2682     2749                        0.143   \n",
       "00000001_001.png                 2894     2729                        0.143   \n",
       "00000001_002.png                 2500     2048                        0.168   \n",
       "00000002_000.png                 2500     2048                        0.171   \n",
       "00000003_001.png                 2500     2048                        0.168   \n",
       "\n",
       "                     y]  \n",
       "Image Index              \n",
       "00000001_000.png  0.143  \n",
       "00000001_001.png  0.143  \n",
       "00000001_002.png  0.168  \n",
       "00000002_000.png  0.171  \n",
       "00000003_001.png  0.168  "
      ]
     },
     "execution_count": 6,
     "metadata": {},
     "output_type": "execute_result"
    }
   ],
   "source": [
    "# make the Image Index column as the index\n",
    "images.set_index('Image Index', inplace=True)\n",
    "images.head()"
   ]
  },
  {
   "cell_type": "code",
   "execution_count": 7,
   "metadata": {},
   "outputs": [
    {
     "data": {
      "text/plain": [
       "array(['Cardiomegaly', 'No Finding', 'Hernia', 'Infiltration', 'Nodule',\n",
       "       'Emphysema', 'Effusion', 'Atelectasis', 'Mass', 'Pneumothorax',\n",
       "       'Pleural_Thickening', 'Fibrosis', 'Consolidation', 'Edema',\n",
       "       'Pneumonia'], dtype=object)"
      ]
     },
     "execution_count": 7,
     "metadata": {},
     "output_type": "execute_result"
    }
   ],
   "source": [
    "# filter out multiple conditions & print the remaining ones\n",
    "images.drop(images[images['Finding Labels'].str.contains('\\|')].index, inplace=True)\n",
    "\n",
    "diseases = images['Finding Labels'].unique()\n",
    "diseases"
   ]
  },
  {
   "cell_type": "code",
   "execution_count": 11,
   "metadata": {},
   "outputs": [
    {
     "name": "stdout",
     "output_type": "stream",
     "text": [
      "Confirming that the directories exist\n",
      "Training Directory\n",
      "['/Volumes/90OL67YGN/images\\\\Atelectasis\\\\', '/Volumes/90OL67YGN/images\\\\Cardiomegaly\\\\', '/Volumes/90OL67YGN/images\\\\Consolidation\\\\', '/Volumes/90OL67YGN/images\\\\Edema\\\\', '/Volumes/90OL67YGN/images\\\\Effusion\\\\', '/Volumes/90OL67YGN/images\\\\Emphysema\\\\', '/Volumes/90OL67YGN/images\\\\Fibrosis\\\\', '/Volumes/90OL67YGN/images\\\\Hernia\\\\', '/Volumes/90OL67YGN/images\\\\Infiltration\\\\', '/Volumes/90OL67YGN/images\\\\Mass\\\\', '/Volumes/90OL67YGN/images\\\\No Finding\\\\', '/Volumes/90OL67YGN/images\\\\Nodule\\\\', '/Volumes/90OL67YGN/images\\\\Pleural_Thickening\\\\', '/Volumes/90OL67YGN/images\\\\Pneumonia\\\\', '/Volumes/90OL67YGN/images\\\\Pneumothorax\\\\']\n",
      "Validation Directory\n",
      "['/Volumes/90OL67YGN/imagesTest\\\\Atelectasis\\\\', '/Volumes/90OL67YGN/imagesTest\\\\Cardiomegaly\\\\', '/Volumes/90OL67YGN/imagesTest\\\\Consolidation\\\\', '/Volumes/90OL67YGN/imagesTest\\\\Edema\\\\', '/Volumes/90OL67YGN/imagesTest\\\\Effusion\\\\', '/Volumes/90OL67YGN/imagesTest\\\\Emphysema\\\\', '/Volumes/90OL67YGN/imagesTest\\\\Fibrosis\\\\', '/Volumes/90OL67YGN/imagesTest\\\\Hernia\\\\', '/Volumes/90OL67YGN/imagesTest\\\\Infiltration\\\\', '/Volumes/90OL67YGN/imagesTest\\\\Mass\\\\', '/Volumes/90OL67YGN/imagesTest\\\\No Finding\\\\', '/Volumes/90OL67YGN/imagesTest\\\\Nodule\\\\', '/Volumes/90OL67YGN/imagesTest\\\\Pleural_Thickening\\\\', '/Volumes/90OL67YGN/imagesTest\\\\Pneumonia\\\\', '/Volumes/90OL67YGN/imagesTest\\\\Pneumothorax\\\\']\n"
     ]
    }
   ],
   "source": [
    "for disease in diseases:\n",
    "    \n",
    "\n",
    "for disease in diseases:\n",
    "    if not os.path.exists(TEST_DIRECTORY + '/' + disease):\n",
    "        os.makedirs(TEST_DIRECTORY + '/' + disease)\n",
    "\n",
    "print(\"Confirming that the directories exist\")\n",
    "\n",
    "print(\"Training Directory\")\n",
    "print(glob.glob(f'{TRAIN_DIRECTORY}/*/'))\n",
    "print(\"Validation Directory\")\n",
    "print(glob.glob(f'{TEST_DIRECTORY}/*/'))"
   ]
  },
  {
   "cell_type": "code",
   "execution_count": 9,
   "metadata": {},
   "outputs": [],
   "source": [
    "for fileName in os.listdir(TRAIN_DIRECTORY):\n",
    "    if fileName in diseases:\n",
    "        continue\n",
    "    if fileName not in images.index:\n",
    "        continue\n",
    "    \n",
    "    # move the file to the appropriate directory\n",
    "    sp = os.path.join(TRAIN_DIRECTORY, fileName)\n",
    "    disease = images.loc[fileName]['Finding Labels']\n",
    "    dp = os.path.join(TRAIN_DIRECTORY, disease)\n",
    "    _ = shutil.move(sp, dp)"
   ]
  }
 ],
 "metadata": {
  "kernelspec": {
   "display_name": "Python 3.9.0 ('deeplearningkeras')",
   "language": "python",
   "name": "python3"
  },
  "language_info": {
   "codemirror_mode": {
    "name": "ipython",
    "version": 3
   },
   "file_extension": ".py",
   "mimetype": "text/x-python",
   "name": "python",
   "nbconvert_exporter": "python",
   "pygments_lexer": "ipython3",
   "version": "3.9.0"
  },
  "orig_nbformat": 4,
  "vscode": {
   "interpreter": {
    "hash": "1e533507eb76cbfb81c75639bacc8f460941550716639a402c578975cb3ec022"
   }
  }
 },
 "nbformat": 4,
 "nbformat_minor": 2
}
