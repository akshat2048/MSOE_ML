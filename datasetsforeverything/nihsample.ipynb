{
 "cells": [
  {
   "cell_type": "code",
   "execution_count": 1,
   "metadata": {},
   "outputs": [],
   "source": [
    "# import pandas, shutil, os\n",
    "import pandas as pd\n",
    "import shutil\n",
    "import os\n",
    "import random\n",
    "import math"
   ]
  },
  {
   "cell_type": "code",
   "execution_count": 3,
   "metadata": {},
   "outputs": [],
   "source": [
    "# variables to determine the source and destination paths\n",
    "sourcepath = 'C:/Users/samee/Downloads/images_001.tar/images_001/images' # no need to put a forward slash at the front of directory name\n",
    "\n",
    "TEST_DIRECTORY = 'C:/Users/samee/Downloads/images_001.tar/images_001/imagesTest'"
   ]
  },
  {
   "cell_type": "code",
   "execution_count": 4,
   "metadata": {},
   "outputs": [],
   "source": [
    "# check if directory exists \n",
    "if not os.path.exists(TEST_DIRECTORY + '/normal'):\n",
    "    os.makedirs(TEST_DIRECTORY + '/normal')\n",
    "\n",
    "if not os.path.exists(TEST_DIRECTORY + '/abnormal'):\n",
    "    os.makedirs(TEST_DIRECTORY + '/abnormal')\n",
    "\n",
    "if not os.path.exists(sourcepath + '/normal'):\n",
    "    os.makedirs(sourcepath + '/normal')\n",
    "\n",
    "if not os.path.exists(sourcepath + '/abnormal'):\n",
    "    os.makedirs(sourcepath + '/abnormal')"
   ]
  },
  {
   "cell_type": "code",
   "execution_count": 5,
   "metadata": {},
   "outputs": [],
   "source": [
    "# read in data and inspect it\n",
    "images = pd.read_csv('NIH.csv')"
   ]
  },
  {
   "cell_type": "code",
   "execution_count": 16,
   "metadata": {},
   "outputs": [],
   "source": [
    "# assume all images are frontal projections"
   ]
  },
  {
   "cell_type": "code",
   "execution_count": 6,
   "metadata": {},
   "outputs": [
    {
     "name": "stdout",
     "output_type": "stream",
     "text": [
      "        Image Index          Finding Labels  Follow-up #  Patient ID  \\\n",
      "0  00000001_000.png            Cardiomegaly            0           1   \n",
      "1  00000001_001.png  Cardiomegaly|Emphysema            1           1   \n",
      "2  00000001_002.png   Cardiomegaly|Effusion            2           1   \n",
      "3  00000002_000.png              No Finding            0           2   \n",
      "4  00000003_001.png                  Hernia            0           3   \n",
      "\n",
      "   Patient Age Patient Gender View Position  OriginalImage[Width  Height]  \\\n",
      "0           57              M            PA                 2682     2749   \n",
      "1           58              M            PA                 2894     2729   \n",
      "2           58              M            PA                 2500     2048   \n",
      "3           80              M            PA                 2500     2048   \n",
      "4           74              F            PA                 2500     2048   \n",
      "\n",
      "   OriginalImagePixelSpacing[x     y]  Classification  \n",
      "0                        0.143  0.143           False  \n",
      "1                        0.143  0.143           False  \n",
      "2                        0.168  0.168           False  \n",
      "3                        0.171  0.171            True  \n",
      "4                        0.168  0.168           False  \n"
     ]
    }
   ],
   "source": [
    "images['Classification'] = images['Finding Labels'].str.contains('No Finding')\n",
    "\n",
    "print(images.head())"
   ]
  },
  {
   "cell_type": "code",
   "execution_count": 7,
   "metadata": {},
   "outputs": [
    {
     "name": "stdout",
     "output_type": "stream",
     "text": [
      "3         True\n",
      "13        True\n",
      "14        True\n",
      "15        True\n",
      "16        True\n",
      "          ... \n",
      "112114    True\n",
      "112116    True\n",
      "112117    True\n",
      "112118    True\n",
      "112119    True\n",
      "Name: Classification, Length: 60361, dtype: bool\n",
      "0         False\n",
      "1         False\n",
      "2         False\n",
      "4         False\n",
      "5         False\n",
      "          ...  \n",
      "112097    False\n",
      "112100    False\n",
      "112106    False\n",
      "112108    False\n",
      "112115    False\n",
      "Name: Classification, Length: 51759, dtype: bool\n"
     ]
    }
   ],
   "source": [
    "# get a list of images with a classification of 'normal'\n",
    "normal_images = images[images['Classification'] == True]\n",
    "print(normal_images.Classification)\n",
    "\n",
    "# get a list of images with a classification of 'abnormal'\n",
    "abnormal_images = images[images['Classification'] == False]\n",
    "print(abnormal_images.Classification)"
   ]
  },
  {
   "cell_type": "code",
   "execution_count": 10,
   "metadata": {},
   "outputs": [
    {
     "name": "stdout",
     "output_type": "stream",
     "text": [
      "C:/Users/samee/Downloads/images_001.tar/images_001/images\n"
     ]
    }
   ],
   "source": [
    "print(sourcepath)\n",
    "directory = os.listdir(sourcepath)\n",
    "for fileName in directory:\n",
    "    if fileName in normal_images['Image Index'].tolist():\n",
    "        sp = os.path.join(sourcepath, fileName)\n",
    "        destpath = sourcepath + '/normal/'\n",
    "        shutil.move(sp, destpath)\n",
    "    elif fileName in abnormal_images['Image Index'].tolist():\n",
    "        sp = os.path.join(sourcepath, fileName)\n",
    "        destpath = sourcepath + '/abnormal/'\n",
    "        shutil.move(sp, destpath)"
   ]
  },
  {
   "cell_type": "markdown",
   "metadata": {},
   "source": [
    "# Only Run Below Cell if you need to create a new testing set"
   ]
  },
  {
   "cell_type": "code",
   "execution_count": 11,
   "metadata": {},
   "outputs": [],
   "source": [
    "# get a list of files in directory MSOE_ML/datasetsforeverything/sample/normal\n",
    "normal_files = os.listdir(sourcepath + '/normal/')\n",
    "# print('Normal images:', normal_files)\n",
    "\n",
    "# get a list of files in directory MSOE_ML/datasetsforeverything/sample/abnormal\n",
    "abnormal_files = os.listdir( sourcepath + '/abnormal/')\n",
    "# print('Abnormal images:', abnormal_files)\n"
   ]
  },
  {
   "cell_type": "code",
   "execution_count": 12,
   "metadata": {},
   "outputs": [],
   "source": [
    "# randomly select 2 images from the normal images\n",
    "normal_images_to_transfer = random.sample(normal_files, math.floor(0.2*len(normal_files)))\n",
    "\n",
    "# randomly select 2 images from the abnormal images\n",
    "abnormal_images_to_transfer = random.sample(abnormal_files, math.floor(0.2*len(abnormal_files)))"
   ]
  },
  {
   "cell_type": "code",
   "execution_count": 13,
   "metadata": {},
   "outputs": [],
   "source": [
    "# move these images to a folder called MSOE_ML/datasetsforeverything/sampletest/normal\n",
    "for image in normal_images_to_transfer:\n",
    "    sp = os.path.join(sourcepath + '/normal/', image)\n",
    "    destpath = TEST_DIRECTORY + '/normal/'\n",
    "    shutil.move(sp, destpath)\n",
    "\n",
    "# move these images to a folder called MSOE_ML/datasetsforeverything/sampletest/abnormal\n",
    "for image in abnormal_images_to_transfer:\n",
    "    sp = os.path.join(sourcepath + '/abnormal/', image)\n",
    "    destpath = TEST_DIRECTORY + '/abnormal/'\n",
    "    shutil.move(sp, destpath)"
   ]
  }
 ],
 "metadata": {
  "interpreter": {
   "hash": "453ff05dd4df71fac274bb6d010c48c58e322df0d0e828a0a1ee2166cb910d58"
  },
  "kernelspec": {
   "display_name": "Python 3.8.8 64-bit ('base': conda)",
   "language": "python",
   "name": "python3"
  },
  "language_info": {
   "codemirror_mode": {
    "name": "ipython",
    "version": 3
   },
   "file_extension": ".py",
   "mimetype": "text/x-python",
   "name": "python",
   "nbconvert_exporter": "python",
   "pygments_lexer": "ipython3",
   "version": "3.9.7"
  },
  "orig_nbformat": 4
 },
 "nbformat": 4,
 "nbformat_minor": 2
}
