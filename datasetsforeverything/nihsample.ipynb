{
 "cells": [
  {
   "cell_type": "code",
   "execution_count": 2,
   "metadata": {},
   "outputs": [],
   "source": [
    "# import pandas, shutil, os\n",
    "import pandas as pd\n",
    "import shutil\n",
    "import os\n",
    "import random\n",
    "import math"
   ]
  },
  {
   "cell_type": "code",
   "execution_count": 19,
   "metadata": {},
   "outputs": [],
   "source": [
    "# variables to determine the source and destination paths\n",
    "sourcepath = 'BIMCV-NOT-FRONTAL' # no need to put a forward slash at the front of directory name\n",
    "\n",
    "TEST_DIRECTORY = 'BIMCV-NOT-FRONTAL-TEST'"
   ]
  },
  {
   "cell_type": "code",
   "execution_count": 5,
   "metadata": {},
   "outputs": [
    {
     "name": "stdout",
     "output_type": "stream",
     "text": [
      "112119\n"
     ]
    }
   ],
   "source": [
    "# read in data and inspect it\n",
    "images = pd.read_csv('NIH.csv')"
   ]
  },
  {
   "cell_type": "code",
   "execution_count": null,
   "metadata": {},
   "outputs": [],
   "source": [
    "# assume all images are frontal projections"
   ]
  },
  {
   "cell_type": "code",
   "execution_count": 6,
   "metadata": {},
   "outputs": [
    {
     "name": "stdout",
     "output_type": "stream",
     "text": [
      "        Image Index          Finding Labels  Follow-up #  Patient ID  \\\n",
      "0  00000001_000.png            Cardiomegaly            0           1   \n",
      "1  00000001_001.png  Cardiomegaly|Emphysema            1           1   \n",
      "2  00000001_002.png   Cardiomegaly|Effusion            2           1   \n",
      "3  00000002_000.png              No Finding            0           2   \n",
      "4  00000003_001.png                  Hernia            0           3   \n",
      "\n",
      "   Patient Age Patient Gender View Position  OriginalImage[Width  Height]  \\\n",
      "0           57              M            PA                 2682     2749   \n",
      "1           58              M            PA                 2894     2729   \n",
      "2           58              M            PA                 2500     2048   \n",
      "3           80              M            PA                 2500     2048   \n",
      "4           74              F            PA                 2500     2048   \n",
      "\n",
      "   OriginalImagePixelSpacing[x     y]  Classification  \n",
      "0                        0.143  0.143           False  \n",
      "1                        0.143  0.143           False  \n",
      "2                        0.168  0.168           False  \n",
      "3                        0.171  0.171            True  \n",
      "4                        0.168  0.168           False  \n"
     ]
    }
   ],
   "source": [
    "images['Classification'] = images['Finding Labels'].str.contains('No Finding')\n",
    "\n",
    "print(images.head())"
   ]
  },
  {
   "cell_type": "code",
   "execution_count": 7,
   "metadata": {},
   "outputs": [
    {
     "name": "stdout",
     "output_type": "stream",
     "text": [
      "3         True\n",
      "13        True\n",
      "14        True\n",
      "15        True\n",
      "16        True\n",
      "          ... \n",
      "112114    True\n",
      "112116    True\n",
      "112117    True\n",
      "112118    True\n",
      "112119    True\n",
      "Name: Classification, Length: 60361, dtype: bool\n",
      "0         False\n",
      "1         False\n",
      "2         False\n",
      "4         False\n",
      "5         False\n",
      "          ...  \n",
      "112097    False\n",
      "112100    False\n",
      "112106    False\n",
      "112108    False\n",
      "112115    False\n",
      "Name: Classification, Length: 51759, dtype: bool\n"
     ]
    }
   ],
   "source": [
    "# get a list of images with a classification of 'normal'\n",
    "normal_images = images[images['Classification'] == True]\n",
    "print(normal_images.Classification)\n",
    "\n",
    "# get a list of images with a classification of 'abnormal'\n",
    "abnormal_images = images[images['Classification'] == False]\n",
    "print(abnormal_images.Classification)"
   ]
  },
  {
   "cell_type": "code",
   "execution_count": 20,
   "metadata": {},
   "outputs": [],
   "source": [
    "directory = os.listdir(sourcepath)\n",
    "\n",
    "for fileName in directory:\n",
    "    if fileName in normal_images['Image Index'].tolist():\n",
    "        sourcepath = os.path.join(sourcepath, fileName)\n",
    "        destpath = sourcepath + '/normal/'\n",
    "        shutil.move(sourcepath, destpath)\n",
    "    elif fileName in abnormal_images['Image Index'].tolist():\n",
    "        sourcepath = os.path.join(sourcepath, fileName)\n",
    "        destpath = sourcepath + '/abnormal/'\n",
    "        shutil.move(sourcepath, destpath)"
   ]
  },
  {
   "cell_type": "markdown",
   "metadata": {},
   "source": [
    "# Only Run Below Cell if you need to create a new testing set"
   ]
  },
  {
   "cell_type": "code",
   "execution_count": null,
   "metadata": {},
   "outputs": [
    {
     "name": "stdout",
     "output_type": "stream",
     "text": [
      "Normal images: ['216840111366964013293097335992012048173805692_01-094-011.png', '216840111366964013451228379692012269104148390_01-054-004.png', '216840111366964012819207061112010316094555679_04-017-068.png', '329608354535639464795481936214199434429_kzcyhb.png']\n",
      "Abnormal images: ['216840111366964013200840352202011315131143616_01-032-099.png', '46523715740384360192496023767246369337_veyewt.png', '216840111366964013217898866992011329134906098_01-027-105.png', '216840111366964013829543166512013358092118761_02-089-145.png', '101103270798497222826083823719046670601_jw1fu2.png', '216840111366964013307756408102012093111819763_01-114-013.png']\n"
     ]
    }
   ],
   "source": [
    "# get a list of files in directory MSOE_ML/datasetsforeverything/sample/normal\n",
    "normal_files = os.listdir(sourcepath + '/normal/')\n",
    "print('Normal images:', normal_files)\n",
    "\n",
    "# get a list of files in directory MSOE_ML/datasetsforeverything/sample/abnormal\n",
    "abnormal_files = os.listdir( sourcepath + '/abnormal/')\n",
    "print('Abnormal images:', abnormal_files)\n",
    "\n",
    "# randomly select 2 images from the normal images\n",
    "normal_images_to_transfer = random.sample(normal_files, math.floor(0.2*normal_images.index.max))\n",
    "\n",
    "# move these images to a folder called MSOE_ML/datasetsforeverything/sampletest/normal\n",
    "for image in normal_images_to_transfer:\n",
    "    sourcepath = os.path.join('sample/normal', image)\n",
    "    destpath = TEST_DIRECTORY + '/normal/'\n",
    "    shutil.move(sourcepath, destpath)\n",
    "\n",
    "# randomly select 2 images from the abnormal images\n",
    "abnormal_images_to_transfer = random.sample(abnormal_files, math.floor(0.2*abnormal_images.index.max))\n",
    "\n",
    "# move these images to a folder called MSOE_ML/datasetsforeverything/sampletest/abnormal\n",
    "for image in abnormal_images_to_transfer:\n",
    "    sourcepath = os.path.join('sample/abnormal', image)\n",
    "    destpath = TEST_DIRECTORY + '/abnormal/'\n",
    "    shutil.move(sourcepath, destpath)\n"
   ]
  }
 ],
 "metadata": {
  "interpreter": {
   "hash": "453ff05dd4df71fac274bb6d010c48c58e322df0d0e828a0a1ee2166cb910d58"
  },
  "kernelspec": {
   "display_name": "Python 3.8.8 64-bit ('base': conda)",
   "language": "python",
   "name": "python3"
  },
  "language_info": {
   "codemirror_mode": {
    "name": "ipython",
    "version": 3
   },
   "file_extension": ".py",
   "mimetype": "text/x-python",
   "name": "python",
   "nbconvert_exporter": "python",
   "pygments_lexer": "ipython3",
   "version": "3.8.8"
  },
  "orig_nbformat": 4
 },
 "nbformat": 4,
 "nbformat_minor": 2
}
