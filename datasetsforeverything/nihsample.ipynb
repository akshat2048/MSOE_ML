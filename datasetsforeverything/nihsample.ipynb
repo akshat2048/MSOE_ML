{
 "cells": [
  {
   "cell_type": "code",
   "execution_count": 2,
   "metadata": {},
   "outputs": [],
   "source": [
    "# import pandas, shutil, os\n",
    "import pandas as pd\n",
    "import shutil\n",
    "import os\n",
    "import random\n",
    "import math"
   ]
  },
  {
   "cell_type": "code",
   "execution_count": 3,
   "metadata": {},
   "outputs": [],
   "source": [
    "# variables to determine the source and destination paths\n",
    "sourcepath = 'C:/Users/samee/Downloads/images_001.tar/images_001/images' # no need to put a forward slash at the front of directory name\n",
    "\n",
    "TEST_DIRECTORY = 'C:/Users/samee/Downloads/images_001.tar/images_001/imagesTest'"
   ]
  },
  {
   "cell_type": "code",
   "execution_count": 4,
   "metadata": {},
   "outputs": [],
   "source": [
    "# check if directory exists \n",
    "if not os.path.exists(TEST_DIRECTORY + '/normal'):\n",
    "    os.makedirs(TEST_DIRECTORY + '/normal')\n",
    "\n",
    "if not os.path.exists(TEST_DIRECTORY + '/abnormal'):\n",
    "    os.makedirs(TEST_DIRECTORY + '/abnormal')\n",
    "\n",
    "if not os.path.exists(sourcepath + '/normal'):\n",
    "    os.makedirs(sourcepath + '/normal')\n",
    "\n",
    "if not os.path.exists(sourcepath + '/abnormal'):\n",
    "    os.makedirs(sourcepath + '/abnormal')"
   ]
  },
  {
   "cell_type": "code",
   "execution_count": 30,
   "metadata": {},
   "outputs": [],
   "source": [
    "# read in data and inspect it\n",
    "images = pd.read_csv('NIH.csv')"
   ]
  },
  {
   "cell_type": "code",
   "execution_count": 6,
   "metadata": {},
   "outputs": [
    {
     "name": "stdout",
     "output_type": "stream",
     "text": [
      "        Image Index          Finding Labels  Follow-up #  Patient ID  \\\n",
      "0  00000001_000.png            Cardiomegaly            0           1   \n",
      "1  00000001_001.png  Cardiomegaly|Emphysema            1           1   \n",
      "2  00000001_002.png   Cardiomegaly|Effusion            2           1   \n",
      "3  00000002_000.png              No Finding            0           2   \n",
      "4  00000003_001.png                  Hernia            0           3   \n",
      "\n",
      "   Patient Age Patient Gender View Position  OriginalImage[Width  Height]  \\\n",
      "0           57              M            PA                 2682     2749   \n",
      "1           58              M            PA                 2894     2729   \n",
      "2           58              M            PA                 2500     2048   \n",
      "3           80              M            PA                 2500     2048   \n",
      "4           74              F            PA                 2500     2048   \n",
      "\n",
      "   OriginalImagePixelSpacing[x     y]  Classification  \n",
      "0                        0.143  0.143           False  \n",
      "1                        0.143  0.143           False  \n",
      "2                        0.168  0.168           False  \n",
      "3                        0.171  0.171            True  \n",
      "4                        0.168  0.168           False  \n"
     ]
    }
   ],
   "source": [
    "images['Classification'] = images['Finding Labels'].str.contains('No Finding')\n",
    "\n",
    "print(images.head())"
   ]
  },
  {
   "cell_type": "code",
   "execution_count": 7,
   "metadata": {},
   "outputs": [
    {
     "name": "stdout",
     "output_type": "stream",
     "text": [
      "3         True\n",
      "13        True\n",
      "14        True\n",
      "15        True\n",
      "16        True\n",
      "          ... \n",
      "112114    True\n",
      "112116    True\n",
      "112117    True\n",
      "112118    True\n",
      "112119    True\n",
      "Name: Classification, Length: 60361, dtype: bool\n",
      "0         False\n",
      "1         False\n",
      "2         False\n",
      "4         False\n",
      "5         False\n",
      "          ...  \n",
      "112097    False\n",
      "112100    False\n",
      "112106    False\n",
      "112108    False\n",
      "112115    False\n",
      "Name: Classification, Length: 51759, dtype: bool\n"
     ]
    }
   ],
   "source": [
    "# get a list of images with a classification of 'normal'\n",
    "normal_images = images[images['Classification'] == True]\n",
    "print(normal_images.Classification)\n",
    "\n",
    "# get a list of images with a classification of 'abnormal'\n",
    "abnormal_images = images[images['Classification'] == False]\n",
    "print(abnormal_images.Classification)"
   ]
  },
  {
   "cell_type": "code",
   "execution_count": 10,
   "metadata": {},
   "outputs": [
    {
     "name": "stdout",
     "output_type": "stream",
     "text": [
      "C:/Users/samee/Downloads/images_001.tar/images_001/images\n"
     ]
    }
   ],
   "source": [
    "print(sourcepath)\n",
    "directory = os.listdir(sourcepath)\n",
    "for fileName in directory:\n",
    "    if fileName in normal_images['Image Index'].tolist():\n",
    "        sp = os.path.join(sourcepath, fileName)\n",
    "        destpath = sourcepath + '/normal/'\n",
    "        shutil.move(sp, destpath)\n",
    "    elif fileName in abnormal_images['Image Index'].tolist():\n",
    "        sp = os.path.join(sourcepath, fileName)\n",
    "        destpath = sourcepath + '/abnormal/'\n",
    "        shutil.move(sp, destpath)"
   ]
  },
  {
   "cell_type": "markdown",
   "metadata": {},
   "source": [
    "# Categorical Sorting"
   ]
  },
  {
   "cell_type": "code",
   "execution_count": 31,
   "metadata": {},
   "outputs": [],
   "source": [
    "sourcepath = 'C:/Users/samee/Downloads/images_001_categorical.tar/images_001/images' # no need to put a forward slash at the front of directory name\n",
    "\n",
    "TEST_DIRECTORY = 'C:/Users/samee/Downloads/images_001_categorical.tar/images_001/imagesTest'"
   ]
  },
  {
   "cell_type": "code",
   "execution_count": 33,
   "metadata": {},
   "outputs": [],
   "source": [
    "images = images[images['Finding Labels'].str.contains('\\|') != True]"
   ]
  },
  {
   "cell_type": "code",
   "execution_count": 34,
   "metadata": {},
   "outputs": [],
   "source": [
    "\n",
    "for i in images['Finding Labels'].unique():\n",
    "    if not os.path.exists(TEST_DIRECTORY + '/' + i):\n",
    "        os.makedirs(TEST_DIRECTORY + '/' + i)\n",
    "    if not os.path.exists(sourcepath + '/' + i):\n",
    "        os.makedirs(sourcepath + '/' + i)"
   ]
  },
  {
   "cell_type": "code",
   "execution_count": 23,
   "metadata": {},
   "outputs": [],
   "source": [
    "No_Finding = images[images['Finding Labels'] == 'No Finding']\n",
    "Infiltration = images[images['Finding Labels'] == 'Infiltration']\n",
    "Atelectasis = images[images['Finding Labels'] == 'Atelectasis']\n",
    "Effusion = images[images['Finding Labels'] == 'Effusion']\n",
    "Nodule = images[images['Finding Labels'] == 'Nodule']\n",
    "Pneumothorax = images[images['Finding Labels'] == 'Pneumothorax']\n",
    "Mass = images[images['Finding Labels'] == 'Mass']\n",
    "Consolidation = images[images['Finding Labels'] == 'Consolidation']\n",
    "Pleural_Thickening = images[images['Finding Labels'] == 'Pleural_Thickening']\n",
    "Cardiomegaly = images[images['Finding Labels'] == 'Cardiomegaly']\n",
    "Emphysema = images[images['Finding Labels'] == 'Emphysema']\n",
    "Fibrosis = images[images['Finding Labels'] == 'Fibrosis']\n",
    "Edema = images[images['Finding Labels'] == 'Edema']\n",
    "Pneumonia = images[images['Finding Labels'] == 'Pneumonia']\n",
    "Hernia = images[images['Finding Labels'] == 'Hernia']"
   ]
  },
  {
   "cell_type": "code",
   "execution_count": 35,
   "metadata": {},
   "outputs": [
    {
     "name": "stdout",
     "output_type": "stream",
     "text": [
      "C:/Users/samee/Downloads/images_001_categorical.tar/images_001/images\n"
     ]
    }
   ],
   "source": [
    "print(sourcepath)\n",
    "directory = os.listdir(sourcepath)\n",
    "for fileName in directory:\n",
    "    if fileName in No_Finding['Image Index'].tolist():\n",
    "        sp = os.path.join(sourcepath, fileName)\n",
    "        destpath = sourcepath + '/No Finding/'\n",
    "        shutil.move(sp, destpath)\n",
    "    elif fileName in Infiltration['Image Index'].tolist():\n",
    "        sp = os.path.join(sourcepath, fileName)\n",
    "        destpath = sourcepath + '/Infiltration/'\n",
    "        shutil.move(sp, destpath)\n",
    "    elif fileName in Atelectasis['Image Index'].tolist():\n",
    "        sp = os.path.join(sourcepath, fileName)\n",
    "        destpath = sourcepath + '/Atelectasis/'\n",
    "        shutil.move(sp, destpath)\n",
    "    elif fileName in Effusion['Image Index'].tolist():\n",
    "        sp = os.path.join(sourcepath, fileName)\n",
    "        destpath = sourcepath + '/Effusion/'\n",
    "        shutil.move(sp, destpath)\n",
    "    elif fileName in Nodule['Image Index'].tolist():\n",
    "        sp = os.path.join(sourcepath, fileName)\n",
    "        destpath = sourcepath + '/Nodule/'\n",
    "        shutil.move(sp, destpath)\n",
    "    elif fileName in Pneumothorax['Image Index'].tolist():\n",
    "        sp = os.path.join(sourcepath, fileName)\n",
    "        destpath = sourcepath + '/Pneumothorax/'\n",
    "        shutil.move(sp, destpath)\n",
    "    elif fileName in Mass['Image Index'].tolist():\n",
    "        sp = os.path.join(sourcepath, fileName)\n",
    "        destpath = sourcepath + '/Mass/'\n",
    "        shutil.move(sp, destpath)\n",
    "    elif fileName in Consolidation['Image Index'].tolist():\n",
    "        sp = os.path.join(sourcepath, fileName)\n",
    "        destpath = sourcepath + '/Consolidation/'\n",
    "        shutil.move(sp, destpath)\n",
    "    elif fileName in Pleural_Thickening['Image Index'].tolist():\n",
    "        sp = os.path.join(sourcepath, fileName)\n",
    "        destpath = sourcepath + '/Pleural_Thickening/'\n",
    "        shutil.move(sp, destpath)\n",
    "    elif fileName in Cardiomegaly['Image Index'].tolist():\n",
    "        sp = os.path.join(sourcepath, fileName)\n",
    "        destpath = sourcepath + '/Cardiomegaly/'\n",
    "        shutil.move(sp, destpath)\n",
    "    elif fileName in Emphysema['Image Index'].tolist():\n",
    "        sp = os.path.join(sourcepath, fileName)\n",
    "        destpath = sourcepath + '/Emphysema/'\n",
    "        shutil.move(sp, destpath)\n",
    "    elif fileName in Fibrosis['Image Index'].tolist():\n",
    "        sp = os.path.join(sourcepath, fileName)\n",
    "        destpath = sourcepath + '/Fibrosis/'\n",
    "        shutil.move(sp, destpath)\n",
    "    elif fileName in Edema['Image Index'].tolist():\n",
    "        sp = os.path.join(sourcepath, fileName)\n",
    "        destpath = sourcepath + '/Edema/'\n",
    "        shutil.move(sp, destpath)\n",
    "    elif fileName in Pneumonia['Image Index'].tolist():\n",
    "        sp = os.path.join(sourcepath, fileName)\n",
    "        destpath = sourcepath + '/Pneumonia/'\n",
    "        shutil.move(sp, destpath)\n",
    "    elif fileName in Hernia['Image Index'].tolist():\n",
    "        sp = os.path.join(sourcepath, fileName)\n",
    "        destpath = sourcepath + '/Hernia/'\n",
    "        shutil.move(sp, destpath)"
   ]
  },
  {
   "cell_type": "markdown",
   "metadata": {},
   "source": [
    "# Only Run Below Cell if you need to create a new testing set"
   ]
  },
  {
   "cell_type": "code",
   "execution_count": 37,
   "metadata": {},
   "outputs": [],
   "source": [
    "No_Finding = os.listdir(sourcepath + '/No Finding/')\n",
    "Infiltration = os.listdir( sourcepath + '/Infiltration/')\n",
    "Atelectasis = os.listdir(sourcepath + '/Atelectasis/')\n",
    "Effusion = os.listdir( sourcepath + '/Effusion/')\n",
    "Nodule = os.listdir(sourcepath + '/Nodule/')\n",
    "Pneumothorax = os.listdir( sourcepath + '/Pneumothorax/')\n",
    "Mass = os.listdir(sourcepath + '/Mass/')\n",
    "Consolidation = os.listdir( sourcepath + '/Consolidation/')\n",
    "Pleural_Thickening = os.listdir(sourcepath + '/Pleural_Thickening/')\n",
    "Cardiomegaly = os.listdir( sourcepath + '/Cardiomegaly/')\n",
    "Emphysema = os.listdir(sourcepath + '/Emphysema/')\n",
    "Fibrosis = os.listdir( sourcepath + '/Fibrosis/')\n",
    "Edema = os.listdir(sourcepath + '/Edema/')\n",
    "Pneumonia = os.listdir( sourcepath + '/Pneumonia/')\n",
    "Hernia = os.listdir( sourcepath + '/Hernia/')"
   ]
  },
  {
   "cell_type": "code",
   "execution_count": 38,
   "metadata": {},
   "outputs": [],
   "source": [
    "# randomly select 2 images from the normal images\n",
    "No_Finding1 = random.sample(No_Finding, math.floor(0.2*len(No_Finding)))\n",
    "Infiltration1 = random.sample(Infiltration, math.floor(0.2*len(Infiltration)))\n",
    "Atelectasis1 = random.sample(Atelectasis, math.floor(0.2*len(Atelectasis)))\n",
    "Effusion1 = random.sample(Effusion, math.floor(0.2*len(Effusion)))\n",
    "Nodule1 = random.sample(Nodule, math.floor(0.2*len(Nodule)))\n",
    "Pneumothorax1 = random.sample(Pneumothorax, math.floor(0.2*len(Pneumothorax)))\n",
    "Mass1 = random.sample(Mass, math.floor(0.2*len(Mass)))\n",
    "Consolidation1 = random.sample(Consolidation, math.floor(0.2*len(Consolidation)))\n",
    "Pleural_Thickening1 = random.sample(Pleural_Thickening, math.floor(0.2*len(Pleural_Thickening)))\n",
    "Cardiomegaly1 = random.sample(Cardiomegaly, math.floor(0.2*len(Cardiomegaly)))\n",
    "Emphysema1 = random.sample(Emphysema, math.floor(0.2*len(Emphysema)))\n",
    "Fibrosis1 = random.sample(Fibrosis, math.floor(0.2*len(Fibrosis)))\n",
    "Edema1 = random.sample(Edema, math.floor(0.2*len(Edema)))\n",
    "Pneumonia1 = random.sample(Pneumonia, math.floor(0.2*len(Pneumonia)))\n",
    "Hernia1 = random.sample(Hernia, math.floor(0.2*len(Hernia)))"
   ]
  },
  {
   "cell_type": "code",
   "execution_count": 39,
   "metadata": {},
   "outputs": [],
   "source": [
    "# move these images to a folder called MSOE_ML/datasetsforeverything/sampletest/normal\n",
    "for image in No_Finding1:\n",
    "    sp = os.path.join(sourcepath + '/No Finding/', image)\n",
    "    destpath = TEST_DIRECTORY + '/No Finding/'\n",
    "    shutil.move(sp, destpath)\n",
    "\n",
    "# move these images to a folder called MSOE_ML/datasetsforeverything/sampletest/normal\n",
    "for image in Infiltration1:\n",
    "    sp = os.path.join(sourcepath + '/Infiltration/', image)\n",
    "    destpath = TEST_DIRECTORY + '/Infiltration/'\n",
    "    shutil.move(sp, destpath)\n",
    "\n",
    "# move these images to a folder called MSOE_ML/datasetsforeverything/sampletest/normal\n",
    "for image in Atelectasis1:\n",
    "    sp = os.path.join(sourcepath + '/Atelectasis/', image)\n",
    "    destpath = TEST_DIRECTORY + '/Atelectasis/'\n",
    "    shutil.move(sp, destpath)\n",
    "\n",
    "# move these images to a folder called MSOE_ML/datasetsforeverything/sampletest/normal\n",
    "for image in Effusion1:\n",
    "    sp = os.path.join(sourcepath + '/Effusion/', image)\n",
    "    destpath = TEST_DIRECTORY + '/Effusion/'\n",
    "    shutil.move(sp, destpath)\n",
    "\n",
    "# move these images to a folder called MSOE_ML/datasetsforeverything/sampletest/normal\n",
    "for image in Nodule1:\n",
    "    sp = os.path.join(sourcepath + '/Nodule/', image)\n",
    "    destpath = TEST_DIRECTORY + '/Nodule/'\n",
    "    shutil.move(sp, destpath)\n",
    "\n",
    "# move these images to a folder called MSOE_ML/datasetsforeverything/sampletest/normal\n",
    "for image in Pneumothorax1:\n",
    "    sp = os.path.join(sourcepath + '/Pneumothorax/', image)\n",
    "    destpath = TEST_DIRECTORY + '/Pneumothorax/'\n",
    "    shutil.move(sp, destpath)\n",
    "\n",
    "# move these images to a folder called MSOE_ML/datasetsforeverything/sampletest/normal\n",
    "for image in Mass1:\n",
    "    sp = os.path.join(sourcepath + '/Mass/', image)\n",
    "    destpath = TEST_DIRECTORY + '/Mass/'\n",
    "    shutil.move(sp, destpath)\n",
    "\n",
    "# move these images to a folder called MSOE_ML/datasetsforeverything/sampletest/normal\n",
    "for image in Consolidation1:\n",
    "    sp = os.path.join(sourcepath + '/Consolidation/', image)\n",
    "    destpath = TEST_DIRECTORY + '/Consolidation/'\n",
    "    shutil.move(sp, destpath)\n",
    "\n",
    "# move these images to a folder called MSOE_ML/datasetsforeverything/sampletest/normal\n",
    "for image in Pleural_Thickening1:\n",
    "    sp = os.path.join(sourcepath + '/Pleural_Thickening/', image)\n",
    "    destpath = TEST_DIRECTORY + '/Pleural_Thickening/'\n",
    "    shutil.move(sp, destpath)\n",
    "\n",
    "# move these images to a folder called MSOE_ML/datasetsforeverything/sampletest/normal\n",
    "for image in Cardiomegaly1:\n",
    "    sp = os.path.join(sourcepath + '/Cardiomegaly/', image)\n",
    "    destpath = TEST_DIRECTORY + '/Cardiomegaly/'\n",
    "    shutil.move(sp, destpath)\n",
    "\n",
    "# move these images to a folder called MSOE_ML/datasetsforeverything/sampletest/normal\n",
    "for image in Emphysema1:\n",
    "    sp = os.path.join(sourcepath + '/Emphysema/', image)\n",
    "    destpath = TEST_DIRECTORY + '/Emphysema/'\n",
    "    shutil.move(sp, destpath)\n",
    "\n",
    "# move these images to a folder called MSOE_ML/datasetsforeverything/sampletest/normal\n",
    "for image in Fibrosis1:\n",
    "    sp = os.path.join(sourcepath + '/Fibrosis/', image)\n",
    "    destpath = TEST_DIRECTORY + '/Fibrosis/'\n",
    "    shutil.move(sp, destpath)\n",
    "\n",
    "# move these images to a folder called MSOE_ML/datasetsforeverything/sampletest/normal\n",
    "for image in Edema1:\n",
    "    sp = os.path.join(sourcepath + '/Edema/', image)\n",
    "    destpath = TEST_DIRECTORY + '/Edema/'\n",
    "    shutil.move(sp, destpath)\n",
    "\n",
    "# move these images to a folder called MSOE_ML/datasetsforeverything/sampletest/normal\n",
    "for image in Pneumonia1:\n",
    "    sp = os.path.join(sourcepath + '/Pneumonia/', image)\n",
    "    destpath = TEST_DIRECTORY + '/Pneumonia/'\n",
    "    shutil.move(sp, destpath)\n",
    "\n",
    "# move these images to a folder called MSOE_ML/datasetsforeverything/sampletest/normal\n",
    "for image in Hernia1:\n",
    "    sp = os.path.join(sourcepath + '/Hernia/', image)\n",
    "    destpath = TEST_DIRECTORY + '/Hernia/'\n",
    "    shutil.move(sp, destpath)"
   ]
  }
 ],
 "metadata": {
  "interpreter": {
   "hash": "453ff05dd4df71fac274bb6d010c48c58e322df0d0e828a0a1ee2166cb910d58"
  },
  "kernelspec": {
   "display_name": "Python 3.8.8 64-bit ('base': conda)",
   "language": "python",
   "name": "python3"
  },
  "language_info": {
   "codemirror_mode": {
    "name": "ipython",
    "version": 3
   },
   "file_extension": ".py",
   "mimetype": "text/x-python",
   "name": "python",
   "nbconvert_exporter": "python",
   "pygments_lexer": "ipython3",
   "version": "3.8.12"
  },
  "orig_nbformat": 4
 },
 "nbformat": 4,
 "nbformat_minor": 2
}
