{
 "cells": [
  {
   "cell_type": "code",
   "execution_count": 1,
   "metadata": {},
   "outputs": [],
   "source": [
    "import pandas as pd\n",
    "import shutil\n",
    "import os\n",
    "import random\n",
    "import math\n",
    "import glob"
   ]
  },
  {
   "cell_type": "code",
   "execution_count": 7,
   "metadata": {},
   "outputs": [],
   "source": [
    "combined = \"C:/Users/samee/Downloads/Combined-Binary-Single/Train\"\n",
    "valid = \"C:/Users/samee/Downloads/Combined-Binary-Single/Valid\"\n",
    "nameOfDisease = 'Infiltration'"
   ]
  },
  {
   "cell_type": "code",
   "execution_count": null,
   "metadata": {},
   "outputs": [],
   "source": [
    "for disease in os.listdir(os.path.join(combined, 'TrainPA')):\n",
    "    print(len(os.listdir(os.path.join(combined, 'TrainPA', disease))))"
   ]
  },
  {
   "cell_type": "code",
   "execution_count": 8,
   "metadata": {},
   "outputs": [],
   "source": [
    "for disease in os.listdir(os.path.join(combined, 'TrainPA')):\n",
    "    if disease != nameOfDisease and disease != 'Normal':\n",
    "        shutil.move(os.path.join(combined, 'TrainPA', disease), os.path.join(combined))"
   ]
  },
  {
   "cell_type": "code",
   "execution_count": 9,
   "metadata": {},
   "outputs": [],
   "source": [
    "for disease in os.listdir(os.path.join(valid, 'ValidPA')):\n",
    "    if disease != nameOfDisease and disease != 'Normal':\n",
    "        shutil.move(os.path.join(valid, 'ValidPA', disease), os.path.join(valid))"
   ]
  }
 ],
 "metadata": {
  "interpreter": {
   "hash": "1e533507eb76cbfb81c75639bacc8f460941550716639a402c578975cb3ec022"
  },
  "kernelspec": {
   "display_name": "Python 3.9.0 ('deeplearningkeras')",
   "language": "python",
   "name": "python3"
  },
  "language_info": {
   "codemirror_mode": {
    "name": "ipython",
    "version": 3
   },
   "file_extension": ".py",
   "mimetype": "text/x-python",
   "name": "python",
   "nbconvert_exporter": "python",
   "pygments_lexer": "ipython3",
   "version": "3.9.0"
  },
  "orig_nbformat": 4
 },
 "nbformat": 4,
 "nbformat_minor": 2
}
