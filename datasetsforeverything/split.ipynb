{
 "cells": [
  {
   "cell_type": "code",
   "execution_count": 4,
   "metadata": {},
   "outputs": [],
   "source": [
    "# import pandas, shutil, os\n",
    "import pandas as pd\n",
    "import shutil\n",
    "import os\n",
    "import numpy as np\n",
    "import random\n",
    "import math"
   ]
  },
  {
   "cell_type": "code",
   "execution_count": 5,
   "metadata": {},
   "outputs": [
    {
     "name": "stdout",
     "output_type": "stream",
     "text": [
      "Multiple outputs per cell\n"
     ]
    }
   ],
   "source": [
    "# allow multiple output per cell\n",
    "from IPython.core.interactiveshell import InteractiveShell\n",
    "InteractiveShell.ast_node_interactivity = \"all\"\n",
    "\n",
    "print(\"Multiple outputs per cell\")"
   ]
  },
  {
   "cell_type": "code",
   "execution_count": 7,
   "metadata": {},
   "outputs": [],
   "source": [
    "VALIDATION_RATIO = 0.2"
   ]
  },
  {
   "cell_type": "code",
   "execution_count": 18,
   "metadata": {},
   "outputs": [],
   "source": [
    "# TRAIN_ABNORMAL = 'C:/Users/akash/Desktop/Akash/MSOEML/NIH_data/Infiltration/train/Abnormal'\n",
    "# TEST_ABNORMAL = 'C:/Users/akash/Desktop/Akash/MSOEML/NIH_data/Infiltration/train/Abnormal'\n",
    "\n",
    "# #randomly move 20% of the files in TRAIN_ABNORMAL to TEST_ABNORMAL\n",
    "\n",
    "# for folder in TRAIN_ABNORMAL:\n",
    "#     files = random.sample(os.listdir(folder), math.floor(len(os.listdir(folder)) * VALIDATION_RATIO))\n",
    "#     for file in files:\n",
    "#         _ = shutil.move(os.path.join(folder, file), folder.replace('train', 'test'))\n",
    "\n"
   ]
  },
  {
   "cell_type": "code",
   "execution_count": null,
   "metadata": {},
   "outputs": [],
   "source": [
    "import numpy as np\n",
    "import os\n",
    "import shutil\n",
    "\n",
    "ori_path = 'C:/Users/akash/Desktop/Akash/MSOEML/NIH_data/Infiltration/train/Abnormal'\n",
    "des_path = 'C:/Users/akash/Desktop/Akash/MSOEML/NIH_data/Infiltration/test/Abnormal'\n",
    "# list all files in dir\n",
    "files = os.listdir(ori_path)\n",
    "\n",
    "# select 20% of files randomly\n",
    "random_files = np.random.choice(files, size=int(len(files) * 0.2), replace=False)\n",
    "\n",
    "#renaming index\n",
    "ii = 1\n",
    "\n",
    "for x in random_files:\n",
    "    src = os.path.join(ori_path,x)\n",
    "    des = os.path.join(des_path,str(ii)+\".png\")\n",
    "    shutil.move(src,des)\n",
    "    ii+=1"
   ]
  },
  {
   "cell_type": "code",
   "execution_count": null,
   "metadata": {},
   "outputs": [],
   "source": [
    "import numpy as np\n",
    "import os\n",
    "import shutil\n",
    "\n",
    "ori_path = 'C:/Users/akash/Desktop/Akash/MSOEML/NIH_data/Infiltration/train/Normal'\n",
    "des_path = 'C:/Users/akash/Desktop/Akash/MSOEML/NIH_data/Infiltration/test/Normal'\n",
    "# list all files in dir\n",
    "files = os.listdir(ori_path)\n",
    "\n",
    "# select 20% of files randomly\n",
    "random_files = np.random.choice(files, size=int(len(files) * 0.2), replace=False)\n",
    "\n",
    "#renaming index\n",
    "ii = 1\n",
    "\n",
    "for x in random_files:\n",
    "    src = os.path.join(ori_path,x)\n",
    "    des = os.path.join(des_path,str(ii)+\".png\")\n",
    "    shutil.move(src,des)\n",
    "    ii+=1"
   ]
  }
 ],
 "metadata": {
  "interpreter": {
   "hash": "5d39e36d4447a80e72100ed6184e90232095d8a5e71c7a8d98de08f9140f1d8f"
  },
  "kernelspec": {
   "display_name": "Python 3.9.10 ('deeplearningKeras')",
   "language": "python",
   "name": "python3"
  },
  "language_info": {
   "codemirror_mode": {
    "name": "ipython",
    "version": 3
   },
   "file_extension": ".py",
   "mimetype": "text/x-python",
   "name": "python",
   "nbconvert_exporter": "python",
   "pygments_lexer": "ipython3",
   "version": "3.9.10"
  },
  "orig_nbformat": 4
 },
 "nbformat": 4,
 "nbformat_minor": 2
}
