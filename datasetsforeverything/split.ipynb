{
 "cells": [
  {
   "cell_type": "code",
   "execution_count": 4,
   "metadata": {},
   "outputs": [],
   "source": [
    "# import pandas, shutil, os\n",
    "import pandas as pd\n",
    "import shutil\n",
    "import os\n",
    "import numpy as np\n",
    "import random\n",
    "import math"
   ]
  },
  {
   "cell_type": "code",
   "execution_count": 5,
   "metadata": {},
   "outputs": [
    {
     "name": "stdout",
     "output_type": "stream",
     "text": [
      "Multiple outputs per cell\n"
     ]
    }
   ],
   "source": [
    "# allow multiple output per cell\n",
    "from IPython.core.interactiveshell import InteractiveShell\n",
    "InteractiveShell.ast_node_interactivity = \"all\"\n",
    "\n",
    "print(\"Multiple outputs per cell\")"
   ]
  },
  {
   "cell_type": "code",
   "execution_count": 7,
   "metadata": {},
   "outputs": [],
   "source": [
    "VALIDATION_RATIO = 0.2"
   ]
  },
  {
   "cell_type": "code",
   "execution_count": 18,
   "metadata": {},
   "outputs": [],
   "source": [
    "# TRAIN_ABNORMAL = 'C:/Users/akash/Desktop/Akash/MSOEML/NIH_data/Infiltration/train/Abnormal'\n",
    "# TEST_ABNORMAL = 'C:/Users/akash/Desktop/Akash/MSOEML/NIH_data/Infiltration/train/Abnormal'\n",
    "\n",
    "# #randomly move 20% of the files in TRAIN_ABNORMAL to TEST_ABNORMAL\n",
    "\n",
    "# for folder in TRAIN_ABNORMAL:\n",
    "#     files = random.sample(os.listdir(folder), math.floor(len(os.listdir(folder)) * VALIDATION_RATIO))\n",
    "#     for file in files:\n",
    "#         _ = shutil.move(os.path.join(folder, file), folder.replace('train', 'test'))\n",
    "\n"
   ]
  },
  {
   "cell_type": "code",
   "execution_count": 16,
   "metadata": {},
   "outputs": [
    {
     "data": {
      "text/plain": [
       "'C:/Users/akash/Desktop/Akash/MSOEML/NIH_data/Infiltration/test/Abnormal\\\\1.png'"
      ]
     },
     "execution_count": 16,
     "metadata": {},
     "output_type": "execute_result"
    },
    {
     "data": {
      "text/plain": [
       "'C:/Users/akash/Desktop/Akash/MSOEML/NIH_data/Infiltration/test/Abnormal\\\\2.png'"
      ]
     },
     "execution_count": 16,
     "metadata": {},
     "output_type": "execute_result"
    },
    {
     "data": {
      "text/plain": [
       "'C:/Users/akash/Desktop/Akash/MSOEML/NIH_data/Infiltration/test/Abnormal\\\\3.png'"
      ]
     },
     "execution_count": 16,
     "metadata": {},
     "output_type": "execute_result"
    },
    {
     "data": {
      "text/plain": [
       "'C:/Users/akash/Desktop/Akash/MSOEML/NIH_data/Infiltration/test/Abnormal\\\\4.png'"
      ]
     },
     "execution_count": 16,
     "metadata": {},
     "output_type": "execute_result"
    },
    {
     "data": {
      "text/plain": [
       "'C:/Users/akash/Desktop/Akash/MSOEML/NIH_data/Infiltration/test/Abnormal\\\\5.png'"
      ]
     },
     "execution_count": 16,
     "metadata": {},
     "output_type": "execute_result"
    },
    {
     "data": {
      "text/plain": [
       "'C:/Users/akash/Desktop/Akash/MSOEML/NIH_data/Infiltration/test/Abnormal\\\\6.png'"
      ]
     },
     "execution_count": 16,
     "metadata": {},
     "output_type": "execute_result"
    },
    {
     "data": {
      "text/plain": [
       "'C:/Users/akash/Desktop/Akash/MSOEML/NIH_data/Infiltration/test/Abnormal\\\\7.png'"
      ]
     },
     "execution_count": 16,
     "metadata": {},
     "output_type": "execute_result"
    },
    {
     "data": {
      "text/plain": [
       "'C:/Users/akash/Desktop/Akash/MSOEML/NIH_data/Infiltration/test/Abnormal\\\\8.png'"
      ]
     },
     "execution_count": 16,
     "metadata": {},
     "output_type": "execute_result"
    },
    {
     "data": {
      "text/plain": [
       "'C:/Users/akash/Desktop/Akash/MSOEML/NIH_data/Infiltration/test/Abnormal\\\\9.png'"
      ]
     },
     "execution_count": 16,
     "metadata": {},
     "output_type": "execute_result"
    },
    {
     "data": {
      "text/plain": [
       "'C:/Users/akash/Desktop/Akash/MSOEML/NIH_data/Infiltration/test/Abnormal\\\\10.png'"
      ]
     },
     "execution_count": 16,
     "metadata": {},
     "output_type": "execute_result"
    },
    {
     "data": {
      "text/plain": [
       "'C:/Users/akash/Desktop/Akash/MSOEML/NIH_data/Infiltration/test/Abnormal\\\\11.png'"
      ]
     },
     "execution_count": 16,
     "metadata": {},
     "output_type": "execute_result"
    },
    {
     "data": {
      "text/plain": [
       "'C:/Users/akash/Desktop/Akash/MSOEML/NIH_data/Infiltration/test/Abnormal\\\\12.png'"
      ]
     },
     "execution_count": 16,
     "metadata": {},
     "output_type": "execute_result"
    },
    {
     "data": {
      "text/plain": [
       "'C:/Users/akash/Desktop/Akash/MSOEML/NIH_data/Infiltration/test/Abnormal\\\\13.png'"
      ]
     },
     "execution_count": 16,
     "metadata": {},
     "output_type": "execute_result"
    },
    {
     "data": {
      "text/plain": [
       "'C:/Users/akash/Desktop/Akash/MSOEML/NIH_data/Infiltration/test/Abnormal\\\\14.png'"
      ]
     },
     "execution_count": 16,
     "metadata": {},
     "output_type": "execute_result"
    },
    {
     "data": {
      "text/plain": [
       "'C:/Users/akash/Desktop/Akash/MSOEML/NIH_data/Infiltration/test/Abnormal\\\\15.png'"
      ]
     },
     "execution_count": 16,
     "metadata": {},
     "output_type": "execute_result"
    },
    {
     "data": {
      "text/plain": [
       "'C:/Users/akash/Desktop/Akash/MSOEML/NIH_data/Infiltration/test/Abnormal\\\\16.png'"
      ]
     },
     "execution_count": 16,
     "metadata": {},
     "output_type": "execute_result"
    },
    {
     "data": {
      "text/plain": [
       "'C:/Users/akash/Desktop/Akash/MSOEML/NIH_data/Infiltration/test/Abnormal\\\\17.png'"
      ]
     },
     "execution_count": 16,
     "metadata": {},
     "output_type": "execute_result"
    },
    {
     "data": {
      "text/plain": [
       "'C:/Users/akash/Desktop/Akash/MSOEML/NIH_data/Infiltration/test/Abnormal\\\\18.png'"
      ]
     },
     "execution_count": 16,
     "metadata": {},
     "output_type": "execute_result"
    },
    {
     "data": {
      "text/plain": [
       "'C:/Users/akash/Desktop/Akash/MSOEML/NIH_data/Infiltration/test/Abnormal\\\\19.png'"
      ]
     },
     "execution_count": 16,
     "metadata": {},
     "output_type": "execute_result"
    },
    {
     "data": {
      "text/plain": [
       "'C:/Users/akash/Desktop/Akash/MSOEML/NIH_data/Infiltration/test/Abnormal\\\\20.png'"
      ]
     },
     "execution_count": 16,
     "metadata": {},
     "output_type": "execute_result"
    },
    {
     "data": {
      "text/plain": [
       "'C:/Users/akash/Desktop/Akash/MSOEML/NIH_data/Infiltration/test/Abnormal\\\\21.png'"
      ]
     },
     "execution_count": 16,
     "metadata": {},
     "output_type": "execute_result"
    },
    {
     "data": {
      "text/plain": [
       "'C:/Users/akash/Desktop/Akash/MSOEML/NIH_data/Infiltration/test/Abnormal\\\\22.png'"
      ]
     },
     "execution_count": 16,
     "metadata": {},
     "output_type": "execute_result"
    },
    {
     "data": {
      "text/plain": [
       "'C:/Users/akash/Desktop/Akash/MSOEML/NIH_data/Infiltration/test/Abnormal\\\\23.png'"
      ]
     },
     "execution_count": 16,
     "metadata": {},
     "output_type": "execute_result"
    },
    {
     "data": {
      "text/plain": [
       "'C:/Users/akash/Desktop/Akash/MSOEML/NIH_data/Infiltration/test/Abnormal\\\\24.png'"
      ]
     },
     "execution_count": 16,
     "metadata": {},
     "output_type": "execute_result"
    },
    {
     "data": {
      "text/plain": [
       "'C:/Users/akash/Desktop/Akash/MSOEML/NIH_data/Infiltration/test/Abnormal\\\\25.png'"
      ]
     },
     "execution_count": 16,
     "metadata": {},
     "output_type": "execute_result"
    },
    {
     "data": {
      "text/plain": [
       "'C:/Users/akash/Desktop/Akash/MSOEML/NIH_data/Infiltration/test/Abnormal\\\\26.png'"
      ]
     },
     "execution_count": 16,
     "metadata": {},
     "output_type": "execute_result"
    },
    {
     "data": {
      "text/plain": [
       "'C:/Users/akash/Desktop/Akash/MSOEML/NIH_data/Infiltration/test/Abnormal\\\\27.png'"
      ]
     },
     "execution_count": 16,
     "metadata": {},
     "output_type": "execute_result"
    },
    {
     "data": {
      "text/plain": [
       "'C:/Users/akash/Desktop/Akash/MSOEML/NIH_data/Infiltration/test/Abnormal\\\\28.png'"
      ]
     },
     "execution_count": 16,
     "metadata": {},
     "output_type": "execute_result"
    },
    {
     "data": {
      "text/plain": [
       "'C:/Users/akash/Desktop/Akash/MSOEML/NIH_data/Infiltration/test/Abnormal\\\\29.png'"
      ]
     },
     "execution_count": 16,
     "metadata": {},
     "output_type": "execute_result"
    },
    {
     "data": {
      "text/plain": [
       "'C:/Users/akash/Desktop/Akash/MSOEML/NIH_data/Infiltration/test/Abnormal\\\\30.png'"
      ]
     },
     "execution_count": 16,
     "metadata": {},
     "output_type": "execute_result"
    },
    {
     "data": {
      "text/plain": [
       "'C:/Users/akash/Desktop/Akash/MSOEML/NIH_data/Infiltration/test/Abnormal\\\\31.png'"
      ]
     },
     "execution_count": 16,
     "metadata": {},
     "output_type": "execute_result"
    },
    {
     "data": {
      "text/plain": [
       "'C:/Users/akash/Desktop/Akash/MSOEML/NIH_data/Infiltration/test/Abnormal\\\\32.png'"
      ]
     },
     "execution_count": 16,
     "metadata": {},
     "output_type": "execute_result"
    },
    {
     "data": {
      "text/plain": [
       "'C:/Users/akash/Desktop/Akash/MSOEML/NIH_data/Infiltration/test/Abnormal\\\\33.png'"
      ]
     },
     "execution_count": 16,
     "metadata": {},
     "output_type": "execute_result"
    },
    {
     "data": {
      "text/plain": [
       "'C:/Users/akash/Desktop/Akash/MSOEML/NIH_data/Infiltration/test/Abnormal\\\\34.png'"
      ]
     },
     "execution_count": 16,
     "metadata": {},
     "output_type": "execute_result"
    },
    {
     "data": {
      "text/plain": [
       "'C:/Users/akash/Desktop/Akash/MSOEML/NIH_data/Infiltration/test/Abnormal\\\\35.png'"
      ]
     },
     "execution_count": 16,
     "metadata": {},
     "output_type": "execute_result"
    },
    {
     "data": {
      "text/plain": [
       "'C:/Users/akash/Desktop/Akash/MSOEML/NIH_data/Infiltration/test/Abnormal\\\\36.png'"
      ]
     },
     "execution_count": 16,
     "metadata": {},
     "output_type": "execute_result"
    },
    {
     "data": {
      "text/plain": [
       "'C:/Users/akash/Desktop/Akash/MSOEML/NIH_data/Infiltration/test/Abnormal\\\\37.png'"
      ]
     },
     "execution_count": 16,
     "metadata": {},
     "output_type": "execute_result"
    },
    {
     "data": {
      "text/plain": [
       "'C:/Users/akash/Desktop/Akash/MSOEML/NIH_data/Infiltration/test/Abnormal\\\\38.png'"
      ]
     },
     "execution_count": 16,
     "metadata": {},
     "output_type": "execute_result"
    },
    {
     "data": {
      "text/plain": [
       "'C:/Users/akash/Desktop/Akash/MSOEML/NIH_data/Infiltration/test/Abnormal\\\\39.png'"
      ]
     },
     "execution_count": 16,
     "metadata": {},
     "output_type": "execute_result"
    },
    {
     "data": {
      "text/plain": [
       "'C:/Users/akash/Desktop/Akash/MSOEML/NIH_data/Infiltration/test/Abnormal\\\\40.png'"
      ]
     },
     "execution_count": 16,
     "metadata": {},
     "output_type": "execute_result"
    },
    {
     "data": {
      "text/plain": [
       "'C:/Users/akash/Desktop/Akash/MSOEML/NIH_data/Infiltration/test/Abnormal\\\\41.png'"
      ]
     },
     "execution_count": 16,
     "metadata": {},
     "output_type": "execute_result"
    },
    {
     "data": {
      "text/plain": [
       "'C:/Users/akash/Desktop/Akash/MSOEML/NIH_data/Infiltration/test/Abnormal\\\\42.png'"
      ]
     },
     "execution_count": 16,
     "metadata": {},
     "output_type": "execute_result"
    },
    {
     "data": {
      "text/plain": [
       "'C:/Users/akash/Desktop/Akash/MSOEML/NIH_data/Infiltration/test/Abnormal\\\\43.png'"
      ]
     },
     "execution_count": 16,
     "metadata": {},
     "output_type": "execute_result"
    },
    {
     "data": {
      "text/plain": [
       "'C:/Users/akash/Desktop/Akash/MSOEML/NIH_data/Infiltration/test/Abnormal\\\\44.png'"
      ]
     },
     "execution_count": 16,
     "metadata": {},
     "output_type": "execute_result"
    },
    {
     "data": {
      "text/plain": [
       "'C:/Users/akash/Desktop/Akash/MSOEML/NIH_data/Infiltration/test/Abnormal\\\\45.png'"
      ]
     },
     "execution_count": 16,
     "metadata": {},
     "output_type": "execute_result"
    },
    {
     "data": {
      "text/plain": [
       "'C:/Users/akash/Desktop/Akash/MSOEML/NIH_data/Infiltration/test/Abnormal\\\\46.png'"
      ]
     },
     "execution_count": 16,
     "metadata": {},
     "output_type": "execute_result"
    },
    {
     "data": {
      "text/plain": [
       "'C:/Users/akash/Desktop/Akash/MSOEML/NIH_data/Infiltration/test/Abnormal\\\\47.png'"
      ]
     },
     "execution_count": 16,
     "metadata": {},
     "output_type": "execute_result"
    },
    {
     "data": {
      "text/plain": [
       "'C:/Users/akash/Desktop/Akash/MSOEML/NIH_data/Infiltration/test/Abnormal\\\\48.png'"
      ]
     },
     "execution_count": 16,
     "metadata": {},
     "output_type": "execute_result"
    },
    {
     "data": {
      "text/plain": [
       "'C:/Users/akash/Desktop/Akash/MSOEML/NIH_data/Infiltration/test/Abnormal\\\\49.png'"
      ]
     },
     "execution_count": 16,
     "metadata": {},
     "output_type": "execute_result"
    },
    {
     "data": {
      "text/plain": [
       "'C:/Users/akash/Desktop/Akash/MSOEML/NIH_data/Infiltration/test/Abnormal\\\\50.png'"
      ]
     },
     "execution_count": 16,
     "metadata": {},
     "output_type": "execute_result"
    },
    {
     "data": {
      "text/plain": [
       "'C:/Users/akash/Desktop/Akash/MSOEML/NIH_data/Infiltration/test/Abnormal\\\\51.png'"
      ]
     },
     "execution_count": 16,
     "metadata": {},
     "output_type": "execute_result"
    },
    {
     "data": {
      "text/plain": [
       "'C:/Users/akash/Desktop/Akash/MSOEML/NIH_data/Infiltration/test/Abnormal\\\\52.png'"
      ]
     },
     "execution_count": 16,
     "metadata": {},
     "output_type": "execute_result"
    },
    {
     "data": {
      "text/plain": [
       "'C:/Users/akash/Desktop/Akash/MSOEML/NIH_data/Infiltration/test/Abnormal\\\\53.png'"
      ]
     },
     "execution_count": 16,
     "metadata": {},
     "output_type": "execute_result"
    },
    {
     "data": {
      "text/plain": [
       "'C:/Users/akash/Desktop/Akash/MSOEML/NIH_data/Infiltration/test/Abnormal\\\\54.png'"
      ]
     },
     "execution_count": 16,
     "metadata": {},
     "output_type": "execute_result"
    },
    {
     "data": {
      "text/plain": [
       "'C:/Users/akash/Desktop/Akash/MSOEML/NIH_data/Infiltration/test/Abnormal\\\\55.png'"
      ]
     },
     "execution_count": 16,
     "metadata": {},
     "output_type": "execute_result"
    },
    {
     "data": {
      "text/plain": [
       "'C:/Users/akash/Desktop/Akash/MSOEML/NIH_data/Infiltration/test/Abnormal\\\\56.png'"
      ]
     },
     "execution_count": 16,
     "metadata": {},
     "output_type": "execute_result"
    },
    {
     "data": {
      "text/plain": [
       "'C:/Users/akash/Desktop/Akash/MSOEML/NIH_data/Infiltration/test/Abnormal\\\\57.png'"
      ]
     },
     "execution_count": 16,
     "metadata": {},
     "output_type": "execute_result"
    },
    {
     "data": {
      "text/plain": [
       "'C:/Users/akash/Desktop/Akash/MSOEML/NIH_data/Infiltration/test/Abnormal\\\\58.png'"
      ]
     },
     "execution_count": 16,
     "metadata": {},
     "output_type": "execute_result"
    },
    {
     "data": {
      "text/plain": [
       "'C:/Users/akash/Desktop/Akash/MSOEML/NIH_data/Infiltration/test/Abnormal\\\\59.png'"
      ]
     },
     "execution_count": 16,
     "metadata": {},
     "output_type": "execute_result"
    },
    {
     "data": {
      "text/plain": [
       "'C:/Users/akash/Desktop/Akash/MSOEML/NIH_data/Infiltration/test/Abnormal\\\\60.png'"
      ]
     },
     "execution_count": 16,
     "metadata": {},
     "output_type": "execute_result"
    },
    {
     "data": {
      "text/plain": [
       "'C:/Users/akash/Desktop/Akash/MSOEML/NIH_data/Infiltration/test/Abnormal\\\\61.png'"
      ]
     },
     "execution_count": 16,
     "metadata": {},
     "output_type": "execute_result"
    },
    {
     "data": {
      "text/plain": [
       "'C:/Users/akash/Desktop/Akash/MSOEML/NIH_data/Infiltration/test/Abnormal\\\\62.png'"
      ]
     },
     "execution_count": 16,
     "metadata": {},
     "output_type": "execute_result"
    },
    {
     "data": {
      "text/plain": [
       "'C:/Users/akash/Desktop/Akash/MSOEML/NIH_data/Infiltration/test/Abnormal\\\\63.png'"
      ]
     },
     "execution_count": 16,
     "metadata": {},
     "output_type": "execute_result"
    },
    {
     "data": {
      "text/plain": [
       "'C:/Users/akash/Desktop/Akash/MSOEML/NIH_data/Infiltration/test/Abnormal\\\\64.png'"
      ]
     },
     "execution_count": 16,
     "metadata": {},
     "output_type": "execute_result"
    },
    {
     "data": {
      "text/plain": [
       "'C:/Users/akash/Desktop/Akash/MSOEML/NIH_data/Infiltration/test/Abnormal\\\\65.png'"
      ]
     },
     "execution_count": 16,
     "metadata": {},
     "output_type": "execute_result"
    },
    {
     "data": {
      "text/plain": [
       "'C:/Users/akash/Desktop/Akash/MSOEML/NIH_data/Infiltration/test/Abnormal\\\\66.png'"
      ]
     },
     "execution_count": 16,
     "metadata": {},
     "output_type": "execute_result"
    },
    {
     "data": {
      "text/plain": [
       "'C:/Users/akash/Desktop/Akash/MSOEML/NIH_data/Infiltration/test/Abnormal\\\\67.png'"
      ]
     },
     "execution_count": 16,
     "metadata": {},
     "output_type": "execute_result"
    },
    {
     "data": {
      "text/plain": [
       "'C:/Users/akash/Desktop/Akash/MSOEML/NIH_data/Infiltration/test/Abnormal\\\\68.png'"
      ]
     },
     "execution_count": 16,
     "metadata": {},
     "output_type": "execute_result"
    },
    {
     "data": {
      "text/plain": [
       "'C:/Users/akash/Desktop/Akash/MSOEML/NIH_data/Infiltration/test/Abnormal\\\\69.png'"
      ]
     },
     "execution_count": 16,
     "metadata": {},
     "output_type": "execute_result"
    },
    {
     "data": {
      "text/plain": [
       "'C:/Users/akash/Desktop/Akash/MSOEML/NIH_data/Infiltration/test/Abnormal\\\\70.png'"
      ]
     },
     "execution_count": 16,
     "metadata": {},
     "output_type": "execute_result"
    },
    {
     "data": {
      "text/plain": [
       "'C:/Users/akash/Desktop/Akash/MSOEML/NIH_data/Infiltration/test/Abnormal\\\\71.png'"
      ]
     },
     "execution_count": 16,
     "metadata": {},
     "output_type": "execute_result"
    },
    {
     "data": {
      "text/plain": [
       "'C:/Users/akash/Desktop/Akash/MSOEML/NIH_data/Infiltration/test/Abnormal\\\\72.png'"
      ]
     },
     "execution_count": 16,
     "metadata": {},
     "output_type": "execute_result"
    },
    {
     "data": {
      "text/plain": [
       "'C:/Users/akash/Desktop/Akash/MSOEML/NIH_data/Infiltration/test/Abnormal\\\\73.png'"
      ]
     },
     "execution_count": 16,
     "metadata": {},
     "output_type": "execute_result"
    },
    {
     "data": {
      "text/plain": [
       "'C:/Users/akash/Desktop/Akash/MSOEML/NIH_data/Infiltration/test/Abnormal\\\\74.png'"
      ]
     },
     "execution_count": 16,
     "metadata": {},
     "output_type": "execute_result"
    },
    {
     "data": {
      "text/plain": [
       "'C:/Users/akash/Desktop/Akash/MSOEML/NIH_data/Infiltration/test/Abnormal\\\\75.png'"
      ]
     },
     "execution_count": 16,
     "metadata": {},
     "output_type": "execute_result"
    },
    {
     "data": {
      "text/plain": [
       "'C:/Users/akash/Desktop/Akash/MSOEML/NIH_data/Infiltration/test/Abnormal\\\\76.png'"
      ]
     },
     "execution_count": 16,
     "metadata": {},
     "output_type": "execute_result"
    },
    {
     "data": {
      "text/plain": [
       "'C:/Users/akash/Desktop/Akash/MSOEML/NIH_data/Infiltration/test/Abnormal\\\\77.png'"
      ]
     },
     "execution_count": 16,
     "metadata": {},
     "output_type": "execute_result"
    },
    {
     "data": {
      "text/plain": [
       "'C:/Users/akash/Desktop/Akash/MSOEML/NIH_data/Infiltration/test/Abnormal\\\\78.png'"
      ]
     },
     "execution_count": 16,
     "metadata": {},
     "output_type": "execute_result"
    },
    {
     "data": {
      "text/plain": [
       "'C:/Users/akash/Desktop/Akash/MSOEML/NIH_data/Infiltration/test/Abnormal\\\\79.png'"
      ]
     },
     "execution_count": 16,
     "metadata": {},
     "output_type": "execute_result"
    },
    {
     "data": {
      "text/plain": [
       "'C:/Users/akash/Desktop/Akash/MSOEML/NIH_data/Infiltration/test/Abnormal\\\\80.png'"
      ]
     },
     "execution_count": 16,
     "metadata": {},
     "output_type": "execute_result"
    },
    {
     "data": {
      "text/plain": [
       "'C:/Users/akash/Desktop/Akash/MSOEML/NIH_data/Infiltration/test/Abnormal\\\\81.png'"
      ]
     },
     "execution_count": 16,
     "metadata": {},
     "output_type": "execute_result"
    },
    {
     "data": {
      "text/plain": [
       "'C:/Users/akash/Desktop/Akash/MSOEML/NIH_data/Infiltration/test/Abnormal\\\\82.png'"
      ]
     },
     "execution_count": 16,
     "metadata": {},
     "output_type": "execute_result"
    },
    {
     "data": {
      "text/plain": [
       "'C:/Users/akash/Desktop/Akash/MSOEML/NIH_data/Infiltration/test/Abnormal\\\\83.png'"
      ]
     },
     "execution_count": 16,
     "metadata": {},
     "output_type": "execute_result"
    },
    {
     "data": {
      "text/plain": [
       "'C:/Users/akash/Desktop/Akash/MSOEML/NIH_data/Infiltration/test/Abnormal\\\\84.png'"
      ]
     },
     "execution_count": 16,
     "metadata": {},
     "output_type": "execute_result"
    },
    {
     "data": {
      "text/plain": [
       "'C:/Users/akash/Desktop/Akash/MSOEML/NIH_data/Infiltration/test/Abnormal\\\\85.png'"
      ]
     },
     "execution_count": 16,
     "metadata": {},
     "output_type": "execute_result"
    },
    {
     "data": {
      "text/plain": [
       "'C:/Users/akash/Desktop/Akash/MSOEML/NIH_data/Infiltration/test/Abnormal\\\\86.png'"
      ]
     },
     "execution_count": 16,
     "metadata": {},
     "output_type": "execute_result"
    },
    {
     "data": {
      "text/plain": [
       "'C:/Users/akash/Desktop/Akash/MSOEML/NIH_data/Infiltration/test/Abnormal\\\\87.png'"
      ]
     },
     "execution_count": 16,
     "metadata": {},
     "output_type": "execute_result"
    },
    {
     "data": {
      "text/plain": [
       "'C:/Users/akash/Desktop/Akash/MSOEML/NIH_data/Infiltration/test/Abnormal\\\\88.png'"
      ]
     },
     "execution_count": 16,
     "metadata": {},
     "output_type": "execute_result"
    },
    {
     "data": {
      "text/plain": [
       "'C:/Users/akash/Desktop/Akash/MSOEML/NIH_data/Infiltration/test/Abnormal\\\\89.png'"
      ]
     },
     "execution_count": 16,
     "metadata": {},
     "output_type": "execute_result"
    },
    {
     "data": {
      "text/plain": [
       "'C:/Users/akash/Desktop/Akash/MSOEML/NIH_data/Infiltration/test/Abnormal\\\\90.png'"
      ]
     },
     "execution_count": 16,
     "metadata": {},
     "output_type": "execute_result"
    },
    {
     "data": {
      "text/plain": [
       "'C:/Users/akash/Desktop/Akash/MSOEML/NIH_data/Infiltration/test/Abnormal\\\\91.png'"
      ]
     },
     "execution_count": 16,
     "metadata": {},
     "output_type": "execute_result"
    },
    {
     "data": {
      "text/plain": [
       "'C:/Users/akash/Desktop/Akash/MSOEML/NIH_data/Infiltration/test/Abnormal\\\\92.png'"
      ]
     },
     "execution_count": 16,
     "metadata": {},
     "output_type": "execute_result"
    },
    {
     "data": {
      "text/plain": [
       "'C:/Users/akash/Desktop/Akash/MSOEML/NIH_data/Infiltration/test/Abnormal\\\\93.png'"
      ]
     },
     "execution_count": 16,
     "metadata": {},
     "output_type": "execute_result"
    },
    {
     "data": {
      "text/plain": [
       "'C:/Users/akash/Desktop/Akash/MSOEML/NIH_data/Infiltration/test/Abnormal\\\\94.png'"
      ]
     },
     "execution_count": 16,
     "metadata": {},
     "output_type": "execute_result"
    },
    {
     "data": {
      "text/plain": [
       "'C:/Users/akash/Desktop/Akash/MSOEML/NIH_data/Infiltration/test/Abnormal\\\\95.png'"
      ]
     },
     "execution_count": 16,
     "metadata": {},
     "output_type": "execute_result"
    },
    {
     "data": {
      "text/plain": [
       "'C:/Users/akash/Desktop/Akash/MSOEML/NIH_data/Infiltration/test/Abnormal\\\\96.png'"
      ]
     },
     "execution_count": 16,
     "metadata": {},
     "output_type": "execute_result"
    },
    {
     "data": {
      "text/plain": [
       "'C:/Users/akash/Desktop/Akash/MSOEML/NIH_data/Infiltration/test/Abnormal\\\\97.png'"
      ]
     },
     "execution_count": 16,
     "metadata": {},
     "output_type": "execute_result"
    },
    {
     "data": {
      "text/plain": [
       "'C:/Users/akash/Desktop/Akash/MSOEML/NIH_data/Infiltration/test/Abnormal\\\\98.png'"
      ]
     },
     "execution_count": 16,
     "metadata": {},
     "output_type": "execute_result"
    },
    {
     "data": {
      "text/plain": [
       "'C:/Users/akash/Desktop/Akash/MSOEML/NIH_data/Infiltration/test/Abnormal\\\\99.png'"
      ]
     },
     "execution_count": 16,
     "metadata": {},
     "output_type": "execute_result"
    },
    {
     "data": {
      "text/plain": [
       "'C:/Users/akash/Desktop/Akash/MSOEML/NIH_data/Infiltration/test/Abnormal\\\\100.png'"
      ]
     },
     "execution_count": 16,
     "metadata": {},
     "output_type": "execute_result"
    },
    {
     "data": {
      "text/plain": [
       "'C:/Users/akash/Desktop/Akash/MSOEML/NIH_data/Infiltration/test/Abnormal\\\\101.png'"
      ]
     },
     "execution_count": 16,
     "metadata": {},
     "output_type": "execute_result"
    },
    {
     "data": {
      "text/plain": [
       "'C:/Users/akash/Desktop/Akash/MSOEML/NIH_data/Infiltration/test/Abnormal\\\\102.png'"
      ]
     },
     "execution_count": 16,
     "metadata": {},
     "output_type": "execute_result"
    },
    {
     "data": {
      "text/plain": [
       "'C:/Users/akash/Desktop/Akash/MSOEML/NIH_data/Infiltration/test/Abnormal\\\\103.png'"
      ]
     },
     "execution_count": 16,
     "metadata": {},
     "output_type": "execute_result"
    },
    {
     "data": {
      "text/plain": [
       "'C:/Users/akash/Desktop/Akash/MSOEML/NIH_data/Infiltration/test/Abnormal\\\\104.png'"
      ]
     },
     "execution_count": 16,
     "metadata": {},
     "output_type": "execute_result"
    },
    {
     "data": {
      "text/plain": [
       "'C:/Users/akash/Desktop/Akash/MSOEML/NIH_data/Infiltration/test/Abnormal\\\\105.png'"
      ]
     },
     "execution_count": 16,
     "metadata": {},
     "output_type": "execute_result"
    },
    {
     "data": {
      "text/plain": [
       "'C:/Users/akash/Desktop/Akash/MSOEML/NIH_data/Infiltration/test/Abnormal\\\\106.png'"
      ]
     },
     "execution_count": 16,
     "metadata": {},
     "output_type": "execute_result"
    },
    {
     "data": {
      "text/plain": [
       "'C:/Users/akash/Desktop/Akash/MSOEML/NIH_data/Infiltration/test/Abnormal\\\\107.png'"
      ]
     },
     "execution_count": 16,
     "metadata": {},
     "output_type": "execute_result"
    },
    {
     "data": {
      "text/plain": [
       "'C:/Users/akash/Desktop/Akash/MSOEML/NIH_data/Infiltration/test/Abnormal\\\\108.png'"
      ]
     },
     "execution_count": 16,
     "metadata": {},
     "output_type": "execute_result"
    },
    {
     "data": {
      "text/plain": [
       "'C:/Users/akash/Desktop/Akash/MSOEML/NIH_data/Infiltration/test/Abnormal\\\\109.png'"
      ]
     },
     "execution_count": 16,
     "metadata": {},
     "output_type": "execute_result"
    },
    {
     "data": {
      "text/plain": [
       "'C:/Users/akash/Desktop/Akash/MSOEML/NIH_data/Infiltration/test/Abnormal\\\\110.png'"
      ]
     },
     "execution_count": 16,
     "metadata": {},
     "output_type": "execute_result"
    },
    {
     "data": {
      "text/plain": [
       "'C:/Users/akash/Desktop/Akash/MSOEML/NIH_data/Infiltration/test/Abnormal\\\\111.png'"
      ]
     },
     "execution_count": 16,
     "metadata": {},
     "output_type": "execute_result"
    },
    {
     "data": {
      "text/plain": [
       "'C:/Users/akash/Desktop/Akash/MSOEML/NIH_data/Infiltration/test/Abnormal\\\\112.png'"
      ]
     },
     "execution_count": 16,
     "metadata": {},
     "output_type": "execute_result"
    },
    {
     "data": {
      "text/plain": [
       "'C:/Users/akash/Desktop/Akash/MSOEML/NIH_data/Infiltration/test/Abnormal\\\\113.png'"
      ]
     },
     "execution_count": 16,
     "metadata": {},
     "output_type": "execute_result"
    },
    {
     "data": {
      "text/plain": [
       "'C:/Users/akash/Desktop/Akash/MSOEML/NIH_data/Infiltration/test/Abnormal\\\\114.png'"
      ]
     },
     "execution_count": 16,
     "metadata": {},
     "output_type": "execute_result"
    },
    {
     "data": {
      "text/plain": [
       "'C:/Users/akash/Desktop/Akash/MSOEML/NIH_data/Infiltration/test/Abnormal\\\\115.png'"
      ]
     },
     "execution_count": 16,
     "metadata": {},
     "output_type": "execute_result"
    },
    {
     "data": {
      "text/plain": [
       "'C:/Users/akash/Desktop/Akash/MSOEML/NIH_data/Infiltration/test/Abnormal\\\\116.png'"
      ]
     },
     "execution_count": 16,
     "metadata": {},
     "output_type": "execute_result"
    },
    {
     "data": {
      "text/plain": [
       "'C:/Users/akash/Desktop/Akash/MSOEML/NIH_data/Infiltration/test/Abnormal\\\\117.png'"
      ]
     },
     "execution_count": 16,
     "metadata": {},
     "output_type": "execute_result"
    },
    {
     "data": {
      "text/plain": [
       "'C:/Users/akash/Desktop/Akash/MSOEML/NIH_data/Infiltration/test/Abnormal\\\\118.png'"
      ]
     },
     "execution_count": 16,
     "metadata": {},
     "output_type": "execute_result"
    },
    {
     "data": {
      "text/plain": [
       "'C:/Users/akash/Desktop/Akash/MSOEML/NIH_data/Infiltration/test/Abnormal\\\\119.png'"
      ]
     },
     "execution_count": 16,
     "metadata": {},
     "output_type": "execute_result"
    },
    {
     "data": {
      "text/plain": [
       "'C:/Users/akash/Desktop/Akash/MSOEML/NIH_data/Infiltration/test/Abnormal\\\\120.png'"
      ]
     },
     "execution_count": 16,
     "metadata": {},
     "output_type": "execute_result"
    },
    {
     "data": {
      "text/plain": [
       "'C:/Users/akash/Desktop/Akash/MSOEML/NIH_data/Infiltration/test/Abnormal\\\\121.png'"
      ]
     },
     "execution_count": 16,
     "metadata": {},
     "output_type": "execute_result"
    },
    {
     "data": {
      "text/plain": [
       "'C:/Users/akash/Desktop/Akash/MSOEML/NIH_data/Infiltration/test/Abnormal\\\\122.png'"
      ]
     },
     "execution_count": 16,
     "metadata": {},
     "output_type": "execute_result"
    },
    {
     "data": {
      "text/plain": [
       "'C:/Users/akash/Desktop/Akash/MSOEML/NIH_data/Infiltration/test/Abnormal\\\\123.png'"
      ]
     },
     "execution_count": 16,
     "metadata": {},
     "output_type": "execute_result"
    },
    {
     "data": {
      "text/plain": [
       "'C:/Users/akash/Desktop/Akash/MSOEML/NIH_data/Infiltration/test/Abnormal\\\\124.png'"
      ]
     },
     "execution_count": 16,
     "metadata": {},
     "output_type": "execute_result"
    },
    {
     "data": {
      "text/plain": [
       "'C:/Users/akash/Desktop/Akash/MSOEML/NIH_data/Infiltration/test/Abnormal\\\\125.png'"
      ]
     },
     "execution_count": 16,
     "metadata": {},
     "output_type": "execute_result"
    },
    {
     "data": {
      "text/plain": [
       "'C:/Users/akash/Desktop/Akash/MSOEML/NIH_data/Infiltration/test/Abnormal\\\\126.png'"
      ]
     },
     "execution_count": 16,
     "metadata": {},
     "output_type": "execute_result"
    },
    {
     "data": {
      "text/plain": [
       "'C:/Users/akash/Desktop/Akash/MSOEML/NIH_data/Infiltration/test/Abnormal\\\\127.png'"
      ]
     },
     "execution_count": 16,
     "metadata": {},
     "output_type": "execute_result"
    },
    {
     "data": {
      "text/plain": [
       "'C:/Users/akash/Desktop/Akash/MSOEML/NIH_data/Infiltration/test/Abnormal\\\\128.png'"
      ]
     },
     "execution_count": 16,
     "metadata": {},
     "output_type": "execute_result"
    },
    {
     "data": {
      "text/plain": [
       "'C:/Users/akash/Desktop/Akash/MSOEML/NIH_data/Infiltration/test/Abnormal\\\\129.png'"
      ]
     },
     "execution_count": 16,
     "metadata": {},
     "output_type": "execute_result"
    },
    {
     "data": {
      "text/plain": [
       "'C:/Users/akash/Desktop/Akash/MSOEML/NIH_data/Infiltration/test/Abnormal\\\\130.png'"
      ]
     },
     "execution_count": 16,
     "metadata": {},
     "output_type": "execute_result"
    },
    {
     "data": {
      "text/plain": [
       "'C:/Users/akash/Desktop/Akash/MSOEML/NIH_data/Infiltration/test/Abnormal\\\\131.png'"
      ]
     },
     "execution_count": 16,
     "metadata": {},
     "output_type": "execute_result"
    },
    {
     "data": {
      "text/plain": [
       "'C:/Users/akash/Desktop/Akash/MSOEML/NIH_data/Infiltration/test/Abnormal\\\\132.png'"
      ]
     },
     "execution_count": 16,
     "metadata": {},
     "output_type": "execute_result"
    },
    {
     "data": {
      "text/plain": [
       "'C:/Users/akash/Desktop/Akash/MSOEML/NIH_data/Infiltration/test/Abnormal\\\\133.png'"
      ]
     },
     "execution_count": 16,
     "metadata": {},
     "output_type": "execute_result"
    },
    {
     "data": {
      "text/plain": [
       "'C:/Users/akash/Desktop/Akash/MSOEML/NIH_data/Infiltration/test/Abnormal\\\\134.png'"
      ]
     },
     "execution_count": 16,
     "metadata": {},
     "output_type": "execute_result"
    },
    {
     "data": {
      "text/plain": [
       "'C:/Users/akash/Desktop/Akash/MSOEML/NIH_data/Infiltration/test/Abnormal\\\\135.png'"
      ]
     },
     "execution_count": 16,
     "metadata": {},
     "output_type": "execute_result"
    },
    {
     "data": {
      "text/plain": [
       "'C:/Users/akash/Desktop/Akash/MSOEML/NIH_data/Infiltration/test/Abnormal\\\\136.png'"
      ]
     },
     "execution_count": 16,
     "metadata": {},
     "output_type": "execute_result"
    },
    {
     "data": {
      "text/plain": [
       "'C:/Users/akash/Desktop/Akash/MSOEML/NIH_data/Infiltration/test/Abnormal\\\\137.png'"
      ]
     },
     "execution_count": 16,
     "metadata": {},
     "output_type": "execute_result"
    },
    {
     "data": {
      "text/plain": [
       "'C:/Users/akash/Desktop/Akash/MSOEML/NIH_data/Infiltration/test/Abnormal\\\\138.png'"
      ]
     },
     "execution_count": 16,
     "metadata": {},
     "output_type": "execute_result"
    },
    {
     "data": {
      "text/plain": [
       "'C:/Users/akash/Desktop/Akash/MSOEML/NIH_data/Infiltration/test/Abnormal\\\\139.png'"
      ]
     },
     "execution_count": 16,
     "metadata": {},
     "output_type": "execute_result"
    },
    {
     "data": {
      "text/plain": [
       "'C:/Users/akash/Desktop/Akash/MSOEML/NIH_data/Infiltration/test/Abnormal\\\\140.png'"
      ]
     },
     "execution_count": 16,
     "metadata": {},
     "output_type": "execute_result"
    },
    {
     "data": {
      "text/plain": [
       "'C:/Users/akash/Desktop/Akash/MSOEML/NIH_data/Infiltration/test/Abnormal\\\\141.png'"
      ]
     },
     "execution_count": 16,
     "metadata": {},
     "output_type": "execute_result"
    },
    {
     "data": {
      "text/plain": [
       "'C:/Users/akash/Desktop/Akash/MSOEML/NIH_data/Infiltration/test/Abnormal\\\\142.png'"
      ]
     },
     "execution_count": 16,
     "metadata": {},
     "output_type": "execute_result"
    },
    {
     "data": {
      "text/plain": [
       "'C:/Users/akash/Desktop/Akash/MSOEML/NIH_data/Infiltration/test/Abnormal\\\\143.png'"
      ]
     },
     "execution_count": 16,
     "metadata": {},
     "output_type": "execute_result"
    },
    {
     "data": {
      "text/plain": [
       "'C:/Users/akash/Desktop/Akash/MSOEML/NIH_data/Infiltration/test/Abnormal\\\\144.png'"
      ]
     },
     "execution_count": 16,
     "metadata": {},
     "output_type": "execute_result"
    },
    {
     "data": {
      "text/plain": [
       "'C:/Users/akash/Desktop/Akash/MSOEML/NIH_data/Infiltration/test/Abnormal\\\\145.png'"
      ]
     },
     "execution_count": 16,
     "metadata": {},
     "output_type": "execute_result"
    },
    {
     "data": {
      "text/plain": [
       "'C:/Users/akash/Desktop/Akash/MSOEML/NIH_data/Infiltration/test/Abnormal\\\\146.png'"
      ]
     },
     "execution_count": 16,
     "metadata": {},
     "output_type": "execute_result"
    },
    {
     "data": {
      "text/plain": [
       "'C:/Users/akash/Desktop/Akash/MSOEML/NIH_data/Infiltration/test/Abnormal\\\\147.png'"
      ]
     },
     "execution_count": 16,
     "metadata": {},
     "output_type": "execute_result"
    },
    {
     "data": {
      "text/plain": [
       "'C:/Users/akash/Desktop/Akash/MSOEML/NIH_data/Infiltration/test/Abnormal\\\\148.png'"
      ]
     },
     "execution_count": 16,
     "metadata": {},
     "output_type": "execute_result"
    },
    {
     "data": {
      "text/plain": [
       "'C:/Users/akash/Desktop/Akash/MSOEML/NIH_data/Infiltration/test/Abnormal\\\\149.png'"
      ]
     },
     "execution_count": 16,
     "metadata": {},
     "output_type": "execute_result"
    },
    {
     "data": {
      "text/plain": [
       "'C:/Users/akash/Desktop/Akash/MSOEML/NIH_data/Infiltration/test/Abnormal\\\\150.png'"
      ]
     },
     "execution_count": 16,
     "metadata": {},
     "output_type": "execute_result"
    },
    {
     "data": {
      "text/plain": [
       "'C:/Users/akash/Desktop/Akash/MSOEML/NIH_data/Infiltration/test/Abnormal\\\\151.png'"
      ]
     },
     "execution_count": 16,
     "metadata": {},
     "output_type": "execute_result"
    },
    {
     "data": {
      "text/plain": [
       "'C:/Users/akash/Desktop/Akash/MSOEML/NIH_data/Infiltration/test/Abnormal\\\\152.png'"
      ]
     },
     "execution_count": 16,
     "metadata": {},
     "output_type": "execute_result"
    },
    {
     "data": {
      "text/plain": [
       "'C:/Users/akash/Desktop/Akash/MSOEML/NIH_data/Infiltration/test/Abnormal\\\\153.png'"
      ]
     },
     "execution_count": 16,
     "metadata": {},
     "output_type": "execute_result"
    },
    {
     "data": {
      "text/plain": [
       "'C:/Users/akash/Desktop/Akash/MSOEML/NIH_data/Infiltration/test/Abnormal\\\\154.png'"
      ]
     },
     "execution_count": 16,
     "metadata": {},
     "output_type": "execute_result"
    },
    {
     "data": {
      "text/plain": [
       "'C:/Users/akash/Desktop/Akash/MSOEML/NIH_data/Infiltration/test/Abnormal\\\\155.png'"
      ]
     },
     "execution_count": 16,
     "metadata": {},
     "output_type": "execute_result"
    },
    {
     "data": {
      "text/plain": [
       "'C:/Users/akash/Desktop/Akash/MSOEML/NIH_data/Infiltration/test/Abnormal\\\\156.png'"
      ]
     },
     "execution_count": 16,
     "metadata": {},
     "output_type": "execute_result"
    },
    {
     "data": {
      "text/plain": [
       "'C:/Users/akash/Desktop/Akash/MSOEML/NIH_data/Infiltration/test/Abnormal\\\\157.png'"
      ]
     },
     "execution_count": 16,
     "metadata": {},
     "output_type": "execute_result"
    },
    {
     "data": {
      "text/plain": [
       "'C:/Users/akash/Desktop/Akash/MSOEML/NIH_data/Infiltration/test/Abnormal\\\\158.png'"
      ]
     },
     "execution_count": 16,
     "metadata": {},
     "output_type": "execute_result"
    },
    {
     "data": {
      "text/plain": [
       "'C:/Users/akash/Desktop/Akash/MSOEML/NIH_data/Infiltration/test/Abnormal\\\\159.png'"
      ]
     },
     "execution_count": 16,
     "metadata": {},
     "output_type": "execute_result"
    },
    {
     "data": {
      "text/plain": [
       "'C:/Users/akash/Desktop/Akash/MSOEML/NIH_data/Infiltration/test/Abnormal\\\\160.png'"
      ]
     },
     "execution_count": 16,
     "metadata": {},
     "output_type": "execute_result"
    },
    {
     "data": {
      "text/plain": [
       "'C:/Users/akash/Desktop/Akash/MSOEML/NIH_data/Infiltration/test/Abnormal\\\\161.png'"
      ]
     },
     "execution_count": 16,
     "metadata": {},
     "output_type": "execute_result"
    },
    {
     "data": {
      "text/plain": [
       "'C:/Users/akash/Desktop/Akash/MSOEML/NIH_data/Infiltration/test/Abnormal\\\\162.png'"
      ]
     },
     "execution_count": 16,
     "metadata": {},
     "output_type": "execute_result"
    },
    {
     "data": {
      "text/plain": [
       "'C:/Users/akash/Desktop/Akash/MSOEML/NIH_data/Infiltration/test/Abnormal\\\\163.png'"
      ]
     },
     "execution_count": 16,
     "metadata": {},
     "output_type": "execute_result"
    },
    {
     "data": {
      "text/plain": [
       "'C:/Users/akash/Desktop/Akash/MSOEML/NIH_data/Infiltration/test/Abnormal\\\\164.png'"
      ]
     },
     "execution_count": 16,
     "metadata": {},
     "output_type": "execute_result"
    },
    {
     "data": {
      "text/plain": [
       "'C:/Users/akash/Desktop/Akash/MSOEML/NIH_data/Infiltration/test/Abnormal\\\\165.png'"
      ]
     },
     "execution_count": 16,
     "metadata": {},
     "output_type": "execute_result"
    },
    {
     "data": {
      "text/plain": [
       "'C:/Users/akash/Desktop/Akash/MSOEML/NIH_data/Infiltration/test/Abnormal\\\\166.png'"
      ]
     },
     "execution_count": 16,
     "metadata": {},
     "output_type": "execute_result"
    }
   ],
   "source": [
    "import numpy as np\n",
    "import os\n",
    "import shutil\n",
    "\n",
    "ori_path = 'C:/Users/akash/Desktop/Akash/MSOEML/NIH_data/Infiltration/train/Abnormal'\n",
    "des_path = 'C:/Users/akash/Desktop/Akash/MSOEML/NIH_data/Infiltration/test/Abnormal'\n",
    "# list all files in dir\n",
    "files = os.listdir(ori_path)\n",
    "\n",
    "# select 20% of files randomly\n",
    "random_files = np.random.choice(files, size=int(len(files) * 0.2), replace=False)\n",
    "\n",
    "#renaming index\n",
    "ii = 1\n",
    "\n",
    "for x in random_files:\n",
    "    src = os.path.join(ori_path,x)\n",
    "    des = os.path.join(des_path,str(ii)+\".png\")\n",
    "    shutil.move(src,des)\n",
    "    ii+=1"
   ]
  },
  {
   "cell_type": "code",
   "execution_count": 17,
   "metadata": {},
   "outputs": [
    {
     "data": {
      "text/plain": [
       "'C:/Users/akash/Desktop/Akash/MSOEML/NIH_data/Infiltration/test/Normal\\\\1.png'"
      ]
     },
     "execution_count": 17,
     "metadata": {},
     "output_type": "execute_result"
    },
    {
     "data": {
      "text/plain": [
       "'C:/Users/akash/Desktop/Akash/MSOEML/NIH_data/Infiltration/test/Normal\\\\2.png'"
      ]
     },
     "execution_count": 17,
     "metadata": {},
     "output_type": "execute_result"
    },
    {
     "data": {
      "text/plain": [
       "'C:/Users/akash/Desktop/Akash/MSOEML/NIH_data/Infiltration/test/Normal\\\\3.png'"
      ]
     },
     "execution_count": 17,
     "metadata": {},
     "output_type": "execute_result"
    },
    {
     "data": {
      "text/plain": [
       "'C:/Users/akash/Desktop/Akash/MSOEML/NIH_data/Infiltration/test/Normal\\\\4.png'"
      ]
     },
     "execution_count": 17,
     "metadata": {},
     "output_type": "execute_result"
    },
    {
     "data": {
      "text/plain": [
       "'C:/Users/akash/Desktop/Akash/MSOEML/NIH_data/Infiltration/test/Normal\\\\5.png'"
      ]
     },
     "execution_count": 17,
     "metadata": {},
     "output_type": "execute_result"
    },
    {
     "data": {
      "text/plain": [
       "'C:/Users/akash/Desktop/Akash/MSOEML/NIH_data/Infiltration/test/Normal\\\\6.png'"
      ]
     },
     "execution_count": 17,
     "metadata": {},
     "output_type": "execute_result"
    },
    {
     "data": {
      "text/plain": [
       "'C:/Users/akash/Desktop/Akash/MSOEML/NIH_data/Infiltration/test/Normal\\\\7.png'"
      ]
     },
     "execution_count": 17,
     "metadata": {},
     "output_type": "execute_result"
    },
    {
     "data": {
      "text/plain": [
       "'C:/Users/akash/Desktop/Akash/MSOEML/NIH_data/Infiltration/test/Normal\\\\8.png'"
      ]
     },
     "execution_count": 17,
     "metadata": {},
     "output_type": "execute_result"
    },
    {
     "data": {
      "text/plain": [
       "'C:/Users/akash/Desktop/Akash/MSOEML/NIH_data/Infiltration/test/Normal\\\\9.png'"
      ]
     },
     "execution_count": 17,
     "metadata": {},
     "output_type": "execute_result"
    },
    {
     "data": {
      "text/plain": [
       "'C:/Users/akash/Desktop/Akash/MSOEML/NIH_data/Infiltration/test/Normal\\\\10.png'"
      ]
     },
     "execution_count": 17,
     "metadata": {},
     "output_type": "execute_result"
    },
    {
     "data": {
      "text/plain": [
       "'C:/Users/akash/Desktop/Akash/MSOEML/NIH_data/Infiltration/test/Normal\\\\11.png'"
      ]
     },
     "execution_count": 17,
     "metadata": {},
     "output_type": "execute_result"
    },
    {
     "data": {
      "text/plain": [
       "'C:/Users/akash/Desktop/Akash/MSOEML/NIH_data/Infiltration/test/Normal\\\\12.png'"
      ]
     },
     "execution_count": 17,
     "metadata": {},
     "output_type": "execute_result"
    },
    {
     "data": {
      "text/plain": [
       "'C:/Users/akash/Desktop/Akash/MSOEML/NIH_data/Infiltration/test/Normal\\\\13.png'"
      ]
     },
     "execution_count": 17,
     "metadata": {},
     "output_type": "execute_result"
    },
    {
     "data": {
      "text/plain": [
       "'C:/Users/akash/Desktop/Akash/MSOEML/NIH_data/Infiltration/test/Normal\\\\14.png'"
      ]
     },
     "execution_count": 17,
     "metadata": {},
     "output_type": "execute_result"
    },
    {
     "data": {
      "text/plain": [
       "'C:/Users/akash/Desktop/Akash/MSOEML/NIH_data/Infiltration/test/Normal\\\\15.png'"
      ]
     },
     "execution_count": 17,
     "metadata": {},
     "output_type": "execute_result"
    },
    {
     "data": {
      "text/plain": [
       "'C:/Users/akash/Desktop/Akash/MSOEML/NIH_data/Infiltration/test/Normal\\\\16.png'"
      ]
     },
     "execution_count": 17,
     "metadata": {},
     "output_type": "execute_result"
    },
    {
     "data": {
      "text/plain": [
       "'C:/Users/akash/Desktop/Akash/MSOEML/NIH_data/Infiltration/test/Normal\\\\17.png'"
      ]
     },
     "execution_count": 17,
     "metadata": {},
     "output_type": "execute_result"
    },
    {
     "data": {
      "text/plain": [
       "'C:/Users/akash/Desktop/Akash/MSOEML/NIH_data/Infiltration/test/Normal\\\\18.png'"
      ]
     },
     "execution_count": 17,
     "metadata": {},
     "output_type": "execute_result"
    },
    {
     "data": {
      "text/plain": [
       "'C:/Users/akash/Desktop/Akash/MSOEML/NIH_data/Infiltration/test/Normal\\\\19.png'"
      ]
     },
     "execution_count": 17,
     "metadata": {},
     "output_type": "execute_result"
    },
    {
     "data": {
      "text/plain": [
       "'C:/Users/akash/Desktop/Akash/MSOEML/NIH_data/Infiltration/test/Normal\\\\20.png'"
      ]
     },
     "execution_count": 17,
     "metadata": {},
     "output_type": "execute_result"
    },
    {
     "data": {
      "text/plain": [
       "'C:/Users/akash/Desktop/Akash/MSOEML/NIH_data/Infiltration/test/Normal\\\\21.png'"
      ]
     },
     "execution_count": 17,
     "metadata": {},
     "output_type": "execute_result"
    },
    {
     "data": {
      "text/plain": [
       "'C:/Users/akash/Desktop/Akash/MSOEML/NIH_data/Infiltration/test/Normal\\\\22.png'"
      ]
     },
     "execution_count": 17,
     "metadata": {},
     "output_type": "execute_result"
    },
    {
     "data": {
      "text/plain": [
       "'C:/Users/akash/Desktop/Akash/MSOEML/NIH_data/Infiltration/test/Normal\\\\23.png'"
      ]
     },
     "execution_count": 17,
     "metadata": {},
     "output_type": "execute_result"
    },
    {
     "data": {
      "text/plain": [
       "'C:/Users/akash/Desktop/Akash/MSOEML/NIH_data/Infiltration/test/Normal\\\\24.png'"
      ]
     },
     "execution_count": 17,
     "metadata": {},
     "output_type": "execute_result"
    },
    {
     "data": {
      "text/plain": [
       "'C:/Users/akash/Desktop/Akash/MSOEML/NIH_data/Infiltration/test/Normal\\\\25.png'"
      ]
     },
     "execution_count": 17,
     "metadata": {},
     "output_type": "execute_result"
    },
    {
     "data": {
      "text/plain": [
       "'C:/Users/akash/Desktop/Akash/MSOEML/NIH_data/Infiltration/test/Normal\\\\26.png'"
      ]
     },
     "execution_count": 17,
     "metadata": {},
     "output_type": "execute_result"
    },
    {
     "data": {
      "text/plain": [
       "'C:/Users/akash/Desktop/Akash/MSOEML/NIH_data/Infiltration/test/Normal\\\\27.png'"
      ]
     },
     "execution_count": 17,
     "metadata": {},
     "output_type": "execute_result"
    },
    {
     "data": {
      "text/plain": [
       "'C:/Users/akash/Desktop/Akash/MSOEML/NIH_data/Infiltration/test/Normal\\\\28.png'"
      ]
     },
     "execution_count": 17,
     "metadata": {},
     "output_type": "execute_result"
    },
    {
     "data": {
      "text/plain": [
       "'C:/Users/akash/Desktop/Akash/MSOEML/NIH_data/Infiltration/test/Normal\\\\29.png'"
      ]
     },
     "execution_count": 17,
     "metadata": {},
     "output_type": "execute_result"
    },
    {
     "data": {
      "text/plain": [
       "'C:/Users/akash/Desktop/Akash/MSOEML/NIH_data/Infiltration/test/Normal\\\\30.png'"
      ]
     },
     "execution_count": 17,
     "metadata": {},
     "output_type": "execute_result"
    },
    {
     "data": {
      "text/plain": [
       "'C:/Users/akash/Desktop/Akash/MSOEML/NIH_data/Infiltration/test/Normal\\\\31.png'"
      ]
     },
     "execution_count": 17,
     "metadata": {},
     "output_type": "execute_result"
    },
    {
     "data": {
      "text/plain": [
       "'C:/Users/akash/Desktop/Akash/MSOEML/NIH_data/Infiltration/test/Normal\\\\32.png'"
      ]
     },
     "execution_count": 17,
     "metadata": {},
     "output_type": "execute_result"
    },
    {
     "data": {
      "text/plain": [
       "'C:/Users/akash/Desktop/Akash/MSOEML/NIH_data/Infiltration/test/Normal\\\\33.png'"
      ]
     },
     "execution_count": 17,
     "metadata": {},
     "output_type": "execute_result"
    },
    {
     "data": {
      "text/plain": [
       "'C:/Users/akash/Desktop/Akash/MSOEML/NIH_data/Infiltration/test/Normal\\\\34.png'"
      ]
     },
     "execution_count": 17,
     "metadata": {},
     "output_type": "execute_result"
    },
    {
     "data": {
      "text/plain": [
       "'C:/Users/akash/Desktop/Akash/MSOEML/NIH_data/Infiltration/test/Normal\\\\35.png'"
      ]
     },
     "execution_count": 17,
     "metadata": {},
     "output_type": "execute_result"
    },
    {
     "data": {
      "text/plain": [
       "'C:/Users/akash/Desktop/Akash/MSOEML/NIH_data/Infiltration/test/Normal\\\\36.png'"
      ]
     },
     "execution_count": 17,
     "metadata": {},
     "output_type": "execute_result"
    },
    {
     "data": {
      "text/plain": [
       "'C:/Users/akash/Desktop/Akash/MSOEML/NIH_data/Infiltration/test/Normal\\\\37.png'"
      ]
     },
     "execution_count": 17,
     "metadata": {},
     "output_type": "execute_result"
    },
    {
     "data": {
      "text/plain": [
       "'C:/Users/akash/Desktop/Akash/MSOEML/NIH_data/Infiltration/test/Normal\\\\38.png'"
      ]
     },
     "execution_count": 17,
     "metadata": {},
     "output_type": "execute_result"
    },
    {
     "data": {
      "text/plain": [
       "'C:/Users/akash/Desktop/Akash/MSOEML/NIH_data/Infiltration/test/Normal\\\\39.png'"
      ]
     },
     "execution_count": 17,
     "metadata": {},
     "output_type": "execute_result"
    },
    {
     "data": {
      "text/plain": [
       "'C:/Users/akash/Desktop/Akash/MSOEML/NIH_data/Infiltration/test/Normal\\\\40.png'"
      ]
     },
     "execution_count": 17,
     "metadata": {},
     "output_type": "execute_result"
    },
    {
     "data": {
      "text/plain": [
       "'C:/Users/akash/Desktop/Akash/MSOEML/NIH_data/Infiltration/test/Normal\\\\41.png'"
      ]
     },
     "execution_count": 17,
     "metadata": {},
     "output_type": "execute_result"
    },
    {
     "data": {
      "text/plain": [
       "'C:/Users/akash/Desktop/Akash/MSOEML/NIH_data/Infiltration/test/Normal\\\\42.png'"
      ]
     },
     "execution_count": 17,
     "metadata": {},
     "output_type": "execute_result"
    },
    {
     "data": {
      "text/plain": [
       "'C:/Users/akash/Desktop/Akash/MSOEML/NIH_data/Infiltration/test/Normal\\\\43.png'"
      ]
     },
     "execution_count": 17,
     "metadata": {},
     "output_type": "execute_result"
    },
    {
     "data": {
      "text/plain": [
       "'C:/Users/akash/Desktop/Akash/MSOEML/NIH_data/Infiltration/test/Normal\\\\44.png'"
      ]
     },
     "execution_count": 17,
     "metadata": {},
     "output_type": "execute_result"
    },
    {
     "data": {
      "text/plain": [
       "'C:/Users/akash/Desktop/Akash/MSOEML/NIH_data/Infiltration/test/Normal\\\\45.png'"
      ]
     },
     "execution_count": 17,
     "metadata": {},
     "output_type": "execute_result"
    },
    {
     "data": {
      "text/plain": [
       "'C:/Users/akash/Desktop/Akash/MSOEML/NIH_data/Infiltration/test/Normal\\\\46.png'"
      ]
     },
     "execution_count": 17,
     "metadata": {},
     "output_type": "execute_result"
    },
    {
     "data": {
      "text/plain": [
       "'C:/Users/akash/Desktop/Akash/MSOEML/NIH_data/Infiltration/test/Normal\\\\47.png'"
      ]
     },
     "execution_count": 17,
     "metadata": {},
     "output_type": "execute_result"
    },
    {
     "data": {
      "text/plain": [
       "'C:/Users/akash/Desktop/Akash/MSOEML/NIH_data/Infiltration/test/Normal\\\\48.png'"
      ]
     },
     "execution_count": 17,
     "metadata": {},
     "output_type": "execute_result"
    },
    {
     "data": {
      "text/plain": [
       "'C:/Users/akash/Desktop/Akash/MSOEML/NIH_data/Infiltration/test/Normal\\\\49.png'"
      ]
     },
     "execution_count": 17,
     "metadata": {},
     "output_type": "execute_result"
    },
    {
     "data": {
      "text/plain": [
       "'C:/Users/akash/Desktop/Akash/MSOEML/NIH_data/Infiltration/test/Normal\\\\50.png'"
      ]
     },
     "execution_count": 17,
     "metadata": {},
     "output_type": "execute_result"
    },
    {
     "data": {
      "text/plain": [
       "'C:/Users/akash/Desktop/Akash/MSOEML/NIH_data/Infiltration/test/Normal\\\\51.png'"
      ]
     },
     "execution_count": 17,
     "metadata": {},
     "output_type": "execute_result"
    },
    {
     "data": {
      "text/plain": [
       "'C:/Users/akash/Desktop/Akash/MSOEML/NIH_data/Infiltration/test/Normal\\\\52.png'"
      ]
     },
     "execution_count": 17,
     "metadata": {},
     "output_type": "execute_result"
    },
    {
     "data": {
      "text/plain": [
       "'C:/Users/akash/Desktop/Akash/MSOEML/NIH_data/Infiltration/test/Normal\\\\53.png'"
      ]
     },
     "execution_count": 17,
     "metadata": {},
     "output_type": "execute_result"
    },
    {
     "data": {
      "text/plain": [
       "'C:/Users/akash/Desktop/Akash/MSOEML/NIH_data/Infiltration/test/Normal\\\\54.png'"
      ]
     },
     "execution_count": 17,
     "metadata": {},
     "output_type": "execute_result"
    },
    {
     "data": {
      "text/plain": [
       "'C:/Users/akash/Desktop/Akash/MSOEML/NIH_data/Infiltration/test/Normal\\\\55.png'"
      ]
     },
     "execution_count": 17,
     "metadata": {},
     "output_type": "execute_result"
    },
    {
     "data": {
      "text/plain": [
       "'C:/Users/akash/Desktop/Akash/MSOEML/NIH_data/Infiltration/test/Normal\\\\56.png'"
      ]
     },
     "execution_count": 17,
     "metadata": {},
     "output_type": "execute_result"
    },
    {
     "data": {
      "text/plain": [
       "'C:/Users/akash/Desktop/Akash/MSOEML/NIH_data/Infiltration/test/Normal\\\\57.png'"
      ]
     },
     "execution_count": 17,
     "metadata": {},
     "output_type": "execute_result"
    },
    {
     "data": {
      "text/plain": [
       "'C:/Users/akash/Desktop/Akash/MSOEML/NIH_data/Infiltration/test/Normal\\\\58.png'"
      ]
     },
     "execution_count": 17,
     "metadata": {},
     "output_type": "execute_result"
    },
    {
     "data": {
      "text/plain": [
       "'C:/Users/akash/Desktop/Akash/MSOEML/NIH_data/Infiltration/test/Normal\\\\59.png'"
      ]
     },
     "execution_count": 17,
     "metadata": {},
     "output_type": "execute_result"
    },
    {
     "data": {
      "text/plain": [
       "'C:/Users/akash/Desktop/Akash/MSOEML/NIH_data/Infiltration/test/Normal\\\\60.png'"
      ]
     },
     "execution_count": 17,
     "metadata": {},
     "output_type": "execute_result"
    },
    {
     "data": {
      "text/plain": [
       "'C:/Users/akash/Desktop/Akash/MSOEML/NIH_data/Infiltration/test/Normal\\\\61.png'"
      ]
     },
     "execution_count": 17,
     "metadata": {},
     "output_type": "execute_result"
    },
    {
     "data": {
      "text/plain": [
       "'C:/Users/akash/Desktop/Akash/MSOEML/NIH_data/Infiltration/test/Normal\\\\62.png'"
      ]
     },
     "execution_count": 17,
     "metadata": {},
     "output_type": "execute_result"
    },
    {
     "data": {
      "text/plain": [
       "'C:/Users/akash/Desktop/Akash/MSOEML/NIH_data/Infiltration/test/Normal\\\\63.png'"
      ]
     },
     "execution_count": 17,
     "metadata": {},
     "output_type": "execute_result"
    },
    {
     "data": {
      "text/plain": [
       "'C:/Users/akash/Desktop/Akash/MSOEML/NIH_data/Infiltration/test/Normal\\\\64.png'"
      ]
     },
     "execution_count": 17,
     "metadata": {},
     "output_type": "execute_result"
    },
    {
     "data": {
      "text/plain": [
       "'C:/Users/akash/Desktop/Akash/MSOEML/NIH_data/Infiltration/test/Normal\\\\65.png'"
      ]
     },
     "execution_count": 17,
     "metadata": {},
     "output_type": "execute_result"
    },
    {
     "data": {
      "text/plain": [
       "'C:/Users/akash/Desktop/Akash/MSOEML/NIH_data/Infiltration/test/Normal\\\\66.png'"
      ]
     },
     "execution_count": 17,
     "metadata": {},
     "output_type": "execute_result"
    },
    {
     "data": {
      "text/plain": [
       "'C:/Users/akash/Desktop/Akash/MSOEML/NIH_data/Infiltration/test/Normal\\\\67.png'"
      ]
     },
     "execution_count": 17,
     "metadata": {},
     "output_type": "execute_result"
    },
    {
     "data": {
      "text/plain": [
       "'C:/Users/akash/Desktop/Akash/MSOEML/NIH_data/Infiltration/test/Normal\\\\68.png'"
      ]
     },
     "execution_count": 17,
     "metadata": {},
     "output_type": "execute_result"
    },
    {
     "data": {
      "text/plain": [
       "'C:/Users/akash/Desktop/Akash/MSOEML/NIH_data/Infiltration/test/Normal\\\\69.png'"
      ]
     },
     "execution_count": 17,
     "metadata": {},
     "output_type": "execute_result"
    },
    {
     "data": {
      "text/plain": [
       "'C:/Users/akash/Desktop/Akash/MSOEML/NIH_data/Infiltration/test/Normal\\\\70.png'"
      ]
     },
     "execution_count": 17,
     "metadata": {},
     "output_type": "execute_result"
    },
    {
     "data": {
      "text/plain": [
       "'C:/Users/akash/Desktop/Akash/MSOEML/NIH_data/Infiltration/test/Normal\\\\71.png'"
      ]
     },
     "execution_count": 17,
     "metadata": {},
     "output_type": "execute_result"
    },
    {
     "data": {
      "text/plain": [
       "'C:/Users/akash/Desktop/Akash/MSOEML/NIH_data/Infiltration/test/Normal\\\\72.png'"
      ]
     },
     "execution_count": 17,
     "metadata": {},
     "output_type": "execute_result"
    },
    {
     "data": {
      "text/plain": [
       "'C:/Users/akash/Desktop/Akash/MSOEML/NIH_data/Infiltration/test/Normal\\\\73.png'"
      ]
     },
     "execution_count": 17,
     "metadata": {},
     "output_type": "execute_result"
    },
    {
     "data": {
      "text/plain": [
       "'C:/Users/akash/Desktop/Akash/MSOEML/NIH_data/Infiltration/test/Normal\\\\74.png'"
      ]
     },
     "execution_count": 17,
     "metadata": {},
     "output_type": "execute_result"
    },
    {
     "data": {
      "text/plain": [
       "'C:/Users/akash/Desktop/Akash/MSOEML/NIH_data/Infiltration/test/Normal\\\\75.png'"
      ]
     },
     "execution_count": 17,
     "metadata": {},
     "output_type": "execute_result"
    },
    {
     "data": {
      "text/plain": [
       "'C:/Users/akash/Desktop/Akash/MSOEML/NIH_data/Infiltration/test/Normal\\\\76.png'"
      ]
     },
     "execution_count": 17,
     "metadata": {},
     "output_type": "execute_result"
    },
    {
     "data": {
      "text/plain": [
       "'C:/Users/akash/Desktop/Akash/MSOEML/NIH_data/Infiltration/test/Normal\\\\77.png'"
      ]
     },
     "execution_count": 17,
     "metadata": {},
     "output_type": "execute_result"
    },
    {
     "data": {
      "text/plain": [
       "'C:/Users/akash/Desktop/Akash/MSOEML/NIH_data/Infiltration/test/Normal\\\\78.png'"
      ]
     },
     "execution_count": 17,
     "metadata": {},
     "output_type": "execute_result"
    },
    {
     "data": {
      "text/plain": [
       "'C:/Users/akash/Desktop/Akash/MSOEML/NIH_data/Infiltration/test/Normal\\\\79.png'"
      ]
     },
     "execution_count": 17,
     "metadata": {},
     "output_type": "execute_result"
    },
    {
     "data": {
      "text/plain": [
       "'C:/Users/akash/Desktop/Akash/MSOEML/NIH_data/Infiltration/test/Normal\\\\80.png'"
      ]
     },
     "execution_count": 17,
     "metadata": {},
     "output_type": "execute_result"
    },
    {
     "data": {
      "text/plain": [
       "'C:/Users/akash/Desktop/Akash/MSOEML/NIH_data/Infiltration/test/Normal\\\\81.png'"
      ]
     },
     "execution_count": 17,
     "metadata": {},
     "output_type": "execute_result"
    },
    {
     "data": {
      "text/plain": [
       "'C:/Users/akash/Desktop/Akash/MSOEML/NIH_data/Infiltration/test/Normal\\\\82.png'"
      ]
     },
     "execution_count": 17,
     "metadata": {},
     "output_type": "execute_result"
    },
    {
     "data": {
      "text/plain": [
       "'C:/Users/akash/Desktop/Akash/MSOEML/NIH_data/Infiltration/test/Normal\\\\83.png'"
      ]
     },
     "execution_count": 17,
     "metadata": {},
     "output_type": "execute_result"
    },
    {
     "data": {
      "text/plain": [
       "'C:/Users/akash/Desktop/Akash/MSOEML/NIH_data/Infiltration/test/Normal\\\\84.png'"
      ]
     },
     "execution_count": 17,
     "metadata": {},
     "output_type": "execute_result"
    },
    {
     "data": {
      "text/plain": [
       "'C:/Users/akash/Desktop/Akash/MSOEML/NIH_data/Infiltration/test/Normal\\\\85.png'"
      ]
     },
     "execution_count": 17,
     "metadata": {},
     "output_type": "execute_result"
    },
    {
     "data": {
      "text/plain": [
       "'C:/Users/akash/Desktop/Akash/MSOEML/NIH_data/Infiltration/test/Normal\\\\86.png'"
      ]
     },
     "execution_count": 17,
     "metadata": {},
     "output_type": "execute_result"
    },
    {
     "data": {
      "text/plain": [
       "'C:/Users/akash/Desktop/Akash/MSOEML/NIH_data/Infiltration/test/Normal\\\\87.png'"
      ]
     },
     "execution_count": 17,
     "metadata": {},
     "output_type": "execute_result"
    },
    {
     "data": {
      "text/plain": [
       "'C:/Users/akash/Desktop/Akash/MSOEML/NIH_data/Infiltration/test/Normal\\\\88.png'"
      ]
     },
     "execution_count": 17,
     "metadata": {},
     "output_type": "execute_result"
    },
    {
     "data": {
      "text/plain": [
       "'C:/Users/akash/Desktop/Akash/MSOEML/NIH_data/Infiltration/test/Normal\\\\89.png'"
      ]
     },
     "execution_count": 17,
     "metadata": {},
     "output_type": "execute_result"
    },
    {
     "data": {
      "text/plain": [
       "'C:/Users/akash/Desktop/Akash/MSOEML/NIH_data/Infiltration/test/Normal\\\\90.png'"
      ]
     },
     "execution_count": 17,
     "metadata": {},
     "output_type": "execute_result"
    },
    {
     "data": {
      "text/plain": [
       "'C:/Users/akash/Desktop/Akash/MSOEML/NIH_data/Infiltration/test/Normal\\\\91.png'"
      ]
     },
     "execution_count": 17,
     "metadata": {},
     "output_type": "execute_result"
    },
    {
     "data": {
      "text/plain": [
       "'C:/Users/akash/Desktop/Akash/MSOEML/NIH_data/Infiltration/test/Normal\\\\92.png'"
      ]
     },
     "execution_count": 17,
     "metadata": {},
     "output_type": "execute_result"
    },
    {
     "data": {
      "text/plain": [
       "'C:/Users/akash/Desktop/Akash/MSOEML/NIH_data/Infiltration/test/Normal\\\\93.png'"
      ]
     },
     "execution_count": 17,
     "metadata": {},
     "output_type": "execute_result"
    },
    {
     "data": {
      "text/plain": [
       "'C:/Users/akash/Desktop/Akash/MSOEML/NIH_data/Infiltration/test/Normal\\\\94.png'"
      ]
     },
     "execution_count": 17,
     "metadata": {},
     "output_type": "execute_result"
    },
    {
     "data": {
      "text/plain": [
       "'C:/Users/akash/Desktop/Akash/MSOEML/NIH_data/Infiltration/test/Normal\\\\95.png'"
      ]
     },
     "execution_count": 17,
     "metadata": {},
     "output_type": "execute_result"
    },
    {
     "data": {
      "text/plain": [
       "'C:/Users/akash/Desktop/Akash/MSOEML/NIH_data/Infiltration/test/Normal\\\\96.png'"
      ]
     },
     "execution_count": 17,
     "metadata": {},
     "output_type": "execute_result"
    },
    {
     "data": {
      "text/plain": [
       "'C:/Users/akash/Desktop/Akash/MSOEML/NIH_data/Infiltration/test/Normal\\\\97.png'"
      ]
     },
     "execution_count": 17,
     "metadata": {},
     "output_type": "execute_result"
    },
    {
     "data": {
      "text/plain": [
       "'C:/Users/akash/Desktop/Akash/MSOEML/NIH_data/Infiltration/test/Normal\\\\98.png'"
      ]
     },
     "execution_count": 17,
     "metadata": {},
     "output_type": "execute_result"
    },
    {
     "data": {
      "text/plain": [
       "'C:/Users/akash/Desktop/Akash/MSOEML/NIH_data/Infiltration/test/Normal\\\\99.png'"
      ]
     },
     "execution_count": 17,
     "metadata": {},
     "output_type": "execute_result"
    },
    {
     "data": {
      "text/plain": [
       "'C:/Users/akash/Desktop/Akash/MSOEML/NIH_data/Infiltration/test/Normal\\\\100.png'"
      ]
     },
     "execution_count": 17,
     "metadata": {},
     "output_type": "execute_result"
    },
    {
     "data": {
      "text/plain": [
       "'C:/Users/akash/Desktop/Akash/MSOEML/NIH_data/Infiltration/test/Normal\\\\101.png'"
      ]
     },
     "execution_count": 17,
     "metadata": {},
     "output_type": "execute_result"
    },
    {
     "data": {
      "text/plain": [
       "'C:/Users/akash/Desktop/Akash/MSOEML/NIH_data/Infiltration/test/Normal\\\\102.png'"
      ]
     },
     "execution_count": 17,
     "metadata": {},
     "output_type": "execute_result"
    },
    {
     "data": {
      "text/plain": [
       "'C:/Users/akash/Desktop/Akash/MSOEML/NIH_data/Infiltration/test/Normal\\\\103.png'"
      ]
     },
     "execution_count": 17,
     "metadata": {},
     "output_type": "execute_result"
    },
    {
     "data": {
      "text/plain": [
       "'C:/Users/akash/Desktop/Akash/MSOEML/NIH_data/Infiltration/test/Normal\\\\104.png'"
      ]
     },
     "execution_count": 17,
     "metadata": {},
     "output_type": "execute_result"
    },
    {
     "data": {
      "text/plain": [
       "'C:/Users/akash/Desktop/Akash/MSOEML/NIH_data/Infiltration/test/Normal\\\\105.png'"
      ]
     },
     "execution_count": 17,
     "metadata": {},
     "output_type": "execute_result"
    },
    {
     "data": {
      "text/plain": [
       "'C:/Users/akash/Desktop/Akash/MSOEML/NIH_data/Infiltration/test/Normal\\\\106.png'"
      ]
     },
     "execution_count": 17,
     "metadata": {},
     "output_type": "execute_result"
    },
    {
     "data": {
      "text/plain": [
       "'C:/Users/akash/Desktop/Akash/MSOEML/NIH_data/Infiltration/test/Normal\\\\107.png'"
      ]
     },
     "execution_count": 17,
     "metadata": {},
     "output_type": "execute_result"
    },
    {
     "data": {
      "text/plain": [
       "'C:/Users/akash/Desktop/Akash/MSOEML/NIH_data/Infiltration/test/Normal\\\\108.png'"
      ]
     },
     "execution_count": 17,
     "metadata": {},
     "output_type": "execute_result"
    },
    {
     "data": {
      "text/plain": [
       "'C:/Users/akash/Desktop/Akash/MSOEML/NIH_data/Infiltration/test/Normal\\\\109.png'"
      ]
     },
     "execution_count": 17,
     "metadata": {},
     "output_type": "execute_result"
    },
    {
     "data": {
      "text/plain": [
       "'C:/Users/akash/Desktop/Akash/MSOEML/NIH_data/Infiltration/test/Normal\\\\110.png'"
      ]
     },
     "execution_count": 17,
     "metadata": {},
     "output_type": "execute_result"
    },
    {
     "data": {
      "text/plain": [
       "'C:/Users/akash/Desktop/Akash/MSOEML/NIH_data/Infiltration/test/Normal\\\\111.png'"
      ]
     },
     "execution_count": 17,
     "metadata": {},
     "output_type": "execute_result"
    },
    {
     "data": {
      "text/plain": [
       "'C:/Users/akash/Desktop/Akash/MSOEML/NIH_data/Infiltration/test/Normal\\\\112.png'"
      ]
     },
     "execution_count": 17,
     "metadata": {},
     "output_type": "execute_result"
    },
    {
     "data": {
      "text/plain": [
       "'C:/Users/akash/Desktop/Akash/MSOEML/NIH_data/Infiltration/test/Normal\\\\113.png'"
      ]
     },
     "execution_count": 17,
     "metadata": {},
     "output_type": "execute_result"
    },
    {
     "data": {
      "text/plain": [
       "'C:/Users/akash/Desktop/Akash/MSOEML/NIH_data/Infiltration/test/Normal\\\\114.png'"
      ]
     },
     "execution_count": 17,
     "metadata": {},
     "output_type": "execute_result"
    },
    {
     "data": {
      "text/plain": [
       "'C:/Users/akash/Desktop/Akash/MSOEML/NIH_data/Infiltration/test/Normal\\\\115.png'"
      ]
     },
     "execution_count": 17,
     "metadata": {},
     "output_type": "execute_result"
    },
    {
     "data": {
      "text/plain": [
       "'C:/Users/akash/Desktop/Akash/MSOEML/NIH_data/Infiltration/test/Normal\\\\116.png'"
      ]
     },
     "execution_count": 17,
     "metadata": {},
     "output_type": "execute_result"
    },
    {
     "data": {
      "text/plain": [
       "'C:/Users/akash/Desktop/Akash/MSOEML/NIH_data/Infiltration/test/Normal\\\\117.png'"
      ]
     },
     "execution_count": 17,
     "metadata": {},
     "output_type": "execute_result"
    },
    {
     "data": {
      "text/plain": [
       "'C:/Users/akash/Desktop/Akash/MSOEML/NIH_data/Infiltration/test/Normal\\\\118.png'"
      ]
     },
     "execution_count": 17,
     "metadata": {},
     "output_type": "execute_result"
    },
    {
     "data": {
      "text/plain": [
       "'C:/Users/akash/Desktop/Akash/MSOEML/NIH_data/Infiltration/test/Normal\\\\119.png'"
      ]
     },
     "execution_count": 17,
     "metadata": {},
     "output_type": "execute_result"
    },
    {
     "data": {
      "text/plain": [
       "'C:/Users/akash/Desktop/Akash/MSOEML/NIH_data/Infiltration/test/Normal\\\\120.png'"
      ]
     },
     "execution_count": 17,
     "metadata": {},
     "output_type": "execute_result"
    },
    {
     "data": {
      "text/plain": [
       "'C:/Users/akash/Desktop/Akash/MSOEML/NIH_data/Infiltration/test/Normal\\\\121.png'"
      ]
     },
     "execution_count": 17,
     "metadata": {},
     "output_type": "execute_result"
    },
    {
     "data": {
      "text/plain": [
       "'C:/Users/akash/Desktop/Akash/MSOEML/NIH_data/Infiltration/test/Normal\\\\122.png'"
      ]
     },
     "execution_count": 17,
     "metadata": {},
     "output_type": "execute_result"
    },
    {
     "data": {
      "text/plain": [
       "'C:/Users/akash/Desktop/Akash/MSOEML/NIH_data/Infiltration/test/Normal\\\\123.png'"
      ]
     },
     "execution_count": 17,
     "metadata": {},
     "output_type": "execute_result"
    },
    {
     "data": {
      "text/plain": [
       "'C:/Users/akash/Desktop/Akash/MSOEML/NIH_data/Infiltration/test/Normal\\\\124.png'"
      ]
     },
     "execution_count": 17,
     "metadata": {},
     "output_type": "execute_result"
    },
    {
     "data": {
      "text/plain": [
       "'C:/Users/akash/Desktop/Akash/MSOEML/NIH_data/Infiltration/test/Normal\\\\125.png'"
      ]
     },
     "execution_count": 17,
     "metadata": {},
     "output_type": "execute_result"
    },
    {
     "data": {
      "text/plain": [
       "'C:/Users/akash/Desktop/Akash/MSOEML/NIH_data/Infiltration/test/Normal\\\\126.png'"
      ]
     },
     "execution_count": 17,
     "metadata": {},
     "output_type": "execute_result"
    },
    {
     "data": {
      "text/plain": [
       "'C:/Users/akash/Desktop/Akash/MSOEML/NIH_data/Infiltration/test/Normal\\\\127.png'"
      ]
     },
     "execution_count": 17,
     "metadata": {},
     "output_type": "execute_result"
    },
    {
     "data": {
      "text/plain": [
       "'C:/Users/akash/Desktop/Akash/MSOEML/NIH_data/Infiltration/test/Normal\\\\128.png'"
      ]
     },
     "execution_count": 17,
     "metadata": {},
     "output_type": "execute_result"
    },
    {
     "data": {
      "text/plain": [
       "'C:/Users/akash/Desktop/Akash/MSOEML/NIH_data/Infiltration/test/Normal\\\\129.png'"
      ]
     },
     "execution_count": 17,
     "metadata": {},
     "output_type": "execute_result"
    },
    {
     "data": {
      "text/plain": [
       "'C:/Users/akash/Desktop/Akash/MSOEML/NIH_data/Infiltration/test/Normal\\\\130.png'"
      ]
     },
     "execution_count": 17,
     "metadata": {},
     "output_type": "execute_result"
    },
    {
     "data": {
      "text/plain": [
       "'C:/Users/akash/Desktop/Akash/MSOEML/NIH_data/Infiltration/test/Normal\\\\131.png'"
      ]
     },
     "execution_count": 17,
     "metadata": {},
     "output_type": "execute_result"
    },
    {
     "data": {
      "text/plain": [
       "'C:/Users/akash/Desktop/Akash/MSOEML/NIH_data/Infiltration/test/Normal\\\\132.png'"
      ]
     },
     "execution_count": 17,
     "metadata": {},
     "output_type": "execute_result"
    },
    {
     "data": {
      "text/plain": [
       "'C:/Users/akash/Desktop/Akash/MSOEML/NIH_data/Infiltration/test/Normal\\\\133.png'"
      ]
     },
     "execution_count": 17,
     "metadata": {},
     "output_type": "execute_result"
    },
    {
     "data": {
      "text/plain": [
       "'C:/Users/akash/Desktop/Akash/MSOEML/NIH_data/Infiltration/test/Normal\\\\134.png'"
      ]
     },
     "execution_count": 17,
     "metadata": {},
     "output_type": "execute_result"
    },
    {
     "data": {
      "text/plain": [
       "'C:/Users/akash/Desktop/Akash/MSOEML/NIH_data/Infiltration/test/Normal\\\\135.png'"
      ]
     },
     "execution_count": 17,
     "metadata": {},
     "output_type": "execute_result"
    },
    {
     "data": {
      "text/plain": [
       "'C:/Users/akash/Desktop/Akash/MSOEML/NIH_data/Infiltration/test/Normal\\\\136.png'"
      ]
     },
     "execution_count": 17,
     "metadata": {},
     "output_type": "execute_result"
    },
    {
     "data": {
      "text/plain": [
       "'C:/Users/akash/Desktop/Akash/MSOEML/NIH_data/Infiltration/test/Normal\\\\137.png'"
      ]
     },
     "execution_count": 17,
     "metadata": {},
     "output_type": "execute_result"
    },
    {
     "data": {
      "text/plain": [
       "'C:/Users/akash/Desktop/Akash/MSOEML/NIH_data/Infiltration/test/Normal\\\\138.png'"
      ]
     },
     "execution_count": 17,
     "metadata": {},
     "output_type": "execute_result"
    },
    {
     "data": {
      "text/plain": [
       "'C:/Users/akash/Desktop/Akash/MSOEML/NIH_data/Infiltration/test/Normal\\\\139.png'"
      ]
     },
     "execution_count": 17,
     "metadata": {},
     "output_type": "execute_result"
    },
    {
     "data": {
      "text/plain": [
       "'C:/Users/akash/Desktop/Akash/MSOEML/NIH_data/Infiltration/test/Normal\\\\140.png'"
      ]
     },
     "execution_count": 17,
     "metadata": {},
     "output_type": "execute_result"
    },
    {
     "data": {
      "text/plain": [
       "'C:/Users/akash/Desktop/Akash/MSOEML/NIH_data/Infiltration/test/Normal\\\\141.png'"
      ]
     },
     "execution_count": 17,
     "metadata": {},
     "output_type": "execute_result"
    },
    {
     "data": {
      "text/plain": [
       "'C:/Users/akash/Desktop/Akash/MSOEML/NIH_data/Infiltration/test/Normal\\\\142.png'"
      ]
     },
     "execution_count": 17,
     "metadata": {},
     "output_type": "execute_result"
    },
    {
     "data": {
      "text/plain": [
       "'C:/Users/akash/Desktop/Akash/MSOEML/NIH_data/Infiltration/test/Normal\\\\143.png'"
      ]
     },
     "execution_count": 17,
     "metadata": {},
     "output_type": "execute_result"
    },
    {
     "data": {
      "text/plain": [
       "'C:/Users/akash/Desktop/Akash/MSOEML/NIH_data/Infiltration/test/Normal\\\\144.png'"
      ]
     },
     "execution_count": 17,
     "metadata": {},
     "output_type": "execute_result"
    },
    {
     "data": {
      "text/plain": [
       "'C:/Users/akash/Desktop/Akash/MSOEML/NIH_data/Infiltration/test/Normal\\\\145.png'"
      ]
     },
     "execution_count": 17,
     "metadata": {},
     "output_type": "execute_result"
    },
    {
     "data": {
      "text/plain": [
       "'C:/Users/akash/Desktop/Akash/MSOEML/NIH_data/Infiltration/test/Normal\\\\146.png'"
      ]
     },
     "execution_count": 17,
     "metadata": {},
     "output_type": "execute_result"
    },
    {
     "data": {
      "text/plain": [
       "'C:/Users/akash/Desktop/Akash/MSOEML/NIH_data/Infiltration/test/Normal\\\\147.png'"
      ]
     },
     "execution_count": 17,
     "metadata": {},
     "output_type": "execute_result"
    },
    {
     "data": {
      "text/plain": [
       "'C:/Users/akash/Desktop/Akash/MSOEML/NIH_data/Infiltration/test/Normal\\\\148.png'"
      ]
     },
     "execution_count": 17,
     "metadata": {},
     "output_type": "execute_result"
    },
    {
     "data": {
      "text/plain": [
       "'C:/Users/akash/Desktop/Akash/MSOEML/NIH_data/Infiltration/test/Normal\\\\149.png'"
      ]
     },
     "execution_count": 17,
     "metadata": {},
     "output_type": "execute_result"
    },
    {
     "data": {
      "text/plain": [
       "'C:/Users/akash/Desktop/Akash/MSOEML/NIH_data/Infiltration/test/Normal\\\\150.png'"
      ]
     },
     "execution_count": 17,
     "metadata": {},
     "output_type": "execute_result"
    },
    {
     "data": {
      "text/plain": [
       "'C:/Users/akash/Desktop/Akash/MSOEML/NIH_data/Infiltration/test/Normal\\\\151.png'"
      ]
     },
     "execution_count": 17,
     "metadata": {},
     "output_type": "execute_result"
    },
    {
     "data": {
      "text/plain": [
       "'C:/Users/akash/Desktop/Akash/MSOEML/NIH_data/Infiltration/test/Normal\\\\152.png'"
      ]
     },
     "execution_count": 17,
     "metadata": {},
     "output_type": "execute_result"
    },
    {
     "data": {
      "text/plain": [
       "'C:/Users/akash/Desktop/Akash/MSOEML/NIH_data/Infiltration/test/Normal\\\\153.png'"
      ]
     },
     "execution_count": 17,
     "metadata": {},
     "output_type": "execute_result"
    },
    {
     "data": {
      "text/plain": [
       "'C:/Users/akash/Desktop/Akash/MSOEML/NIH_data/Infiltration/test/Normal\\\\154.png'"
      ]
     },
     "execution_count": 17,
     "metadata": {},
     "output_type": "execute_result"
    },
    {
     "data": {
      "text/plain": [
       "'C:/Users/akash/Desktop/Akash/MSOEML/NIH_data/Infiltration/test/Normal\\\\155.png'"
      ]
     },
     "execution_count": 17,
     "metadata": {},
     "output_type": "execute_result"
    },
    {
     "data": {
      "text/plain": [
       "'C:/Users/akash/Desktop/Akash/MSOEML/NIH_data/Infiltration/test/Normal\\\\156.png'"
      ]
     },
     "execution_count": 17,
     "metadata": {},
     "output_type": "execute_result"
    },
    {
     "data": {
      "text/plain": [
       "'C:/Users/akash/Desktop/Akash/MSOEML/NIH_data/Infiltration/test/Normal\\\\157.png'"
      ]
     },
     "execution_count": 17,
     "metadata": {},
     "output_type": "execute_result"
    },
    {
     "data": {
      "text/plain": [
       "'C:/Users/akash/Desktop/Akash/MSOEML/NIH_data/Infiltration/test/Normal\\\\158.png'"
      ]
     },
     "execution_count": 17,
     "metadata": {},
     "output_type": "execute_result"
    },
    {
     "data": {
      "text/plain": [
       "'C:/Users/akash/Desktop/Akash/MSOEML/NIH_data/Infiltration/test/Normal\\\\159.png'"
      ]
     },
     "execution_count": 17,
     "metadata": {},
     "output_type": "execute_result"
    },
    {
     "data": {
      "text/plain": [
       "'C:/Users/akash/Desktop/Akash/MSOEML/NIH_data/Infiltration/test/Normal\\\\160.png'"
      ]
     },
     "execution_count": 17,
     "metadata": {},
     "output_type": "execute_result"
    },
    {
     "data": {
      "text/plain": [
       "'C:/Users/akash/Desktop/Akash/MSOEML/NIH_data/Infiltration/test/Normal\\\\161.png'"
      ]
     },
     "execution_count": 17,
     "metadata": {},
     "output_type": "execute_result"
    },
    {
     "data": {
      "text/plain": [
       "'C:/Users/akash/Desktop/Akash/MSOEML/NIH_data/Infiltration/test/Normal\\\\162.png'"
      ]
     },
     "execution_count": 17,
     "metadata": {},
     "output_type": "execute_result"
    },
    {
     "data": {
      "text/plain": [
       "'C:/Users/akash/Desktop/Akash/MSOEML/NIH_data/Infiltration/test/Normal\\\\163.png'"
      ]
     },
     "execution_count": 17,
     "metadata": {},
     "output_type": "execute_result"
    },
    {
     "data": {
      "text/plain": [
       "'C:/Users/akash/Desktop/Akash/MSOEML/NIH_data/Infiltration/test/Normal\\\\164.png'"
      ]
     },
     "execution_count": 17,
     "metadata": {},
     "output_type": "execute_result"
    },
    {
     "data": {
      "text/plain": [
       "'C:/Users/akash/Desktop/Akash/MSOEML/NIH_data/Infiltration/test/Normal\\\\165.png'"
      ]
     },
     "execution_count": 17,
     "metadata": {},
     "output_type": "execute_result"
    },
    {
     "data": {
      "text/plain": [
       "'C:/Users/akash/Desktop/Akash/MSOEML/NIH_data/Infiltration/test/Normal\\\\166.png'"
      ]
     },
     "execution_count": 17,
     "metadata": {},
     "output_type": "execute_result"
    },
    {
     "data": {
      "text/plain": [
       "'C:/Users/akash/Desktop/Akash/MSOEML/NIH_data/Infiltration/test/Normal\\\\167.png'"
      ]
     },
     "execution_count": 17,
     "metadata": {},
     "output_type": "execute_result"
    },
    {
     "data": {
      "text/plain": [
       "'C:/Users/akash/Desktop/Akash/MSOEML/NIH_data/Infiltration/test/Normal\\\\168.png'"
      ]
     },
     "execution_count": 17,
     "metadata": {},
     "output_type": "execute_result"
    },
    {
     "data": {
      "text/plain": [
       "'C:/Users/akash/Desktop/Akash/MSOEML/NIH_data/Infiltration/test/Normal\\\\169.png'"
      ]
     },
     "execution_count": 17,
     "metadata": {},
     "output_type": "execute_result"
    },
    {
     "data": {
      "text/plain": [
       "'C:/Users/akash/Desktop/Akash/MSOEML/NIH_data/Infiltration/test/Normal\\\\170.png'"
      ]
     },
     "execution_count": 17,
     "metadata": {},
     "output_type": "execute_result"
    },
    {
     "data": {
      "text/plain": [
       "'C:/Users/akash/Desktop/Akash/MSOEML/NIH_data/Infiltration/test/Normal\\\\171.png'"
      ]
     },
     "execution_count": 17,
     "metadata": {},
     "output_type": "execute_result"
    },
    {
     "data": {
      "text/plain": [
       "'C:/Users/akash/Desktop/Akash/MSOEML/NIH_data/Infiltration/test/Normal\\\\172.png'"
      ]
     },
     "execution_count": 17,
     "metadata": {},
     "output_type": "execute_result"
    },
    {
     "data": {
      "text/plain": [
       "'C:/Users/akash/Desktop/Akash/MSOEML/NIH_data/Infiltration/test/Normal\\\\173.png'"
      ]
     },
     "execution_count": 17,
     "metadata": {},
     "output_type": "execute_result"
    },
    {
     "data": {
      "text/plain": [
       "'C:/Users/akash/Desktop/Akash/MSOEML/NIH_data/Infiltration/test/Normal\\\\174.png'"
      ]
     },
     "execution_count": 17,
     "metadata": {},
     "output_type": "execute_result"
    },
    {
     "data": {
      "text/plain": [
       "'C:/Users/akash/Desktop/Akash/MSOEML/NIH_data/Infiltration/test/Normal\\\\175.png'"
      ]
     },
     "execution_count": 17,
     "metadata": {},
     "output_type": "execute_result"
    },
    {
     "data": {
      "text/plain": [
       "'C:/Users/akash/Desktop/Akash/MSOEML/NIH_data/Infiltration/test/Normal\\\\176.png'"
      ]
     },
     "execution_count": 17,
     "metadata": {},
     "output_type": "execute_result"
    },
    {
     "data": {
      "text/plain": [
       "'C:/Users/akash/Desktop/Akash/MSOEML/NIH_data/Infiltration/test/Normal\\\\177.png'"
      ]
     },
     "execution_count": 17,
     "metadata": {},
     "output_type": "execute_result"
    },
    {
     "data": {
      "text/plain": [
       "'C:/Users/akash/Desktop/Akash/MSOEML/NIH_data/Infiltration/test/Normal\\\\178.png'"
      ]
     },
     "execution_count": 17,
     "metadata": {},
     "output_type": "execute_result"
    },
    {
     "data": {
      "text/plain": [
       "'C:/Users/akash/Desktop/Akash/MSOEML/NIH_data/Infiltration/test/Normal\\\\179.png'"
      ]
     },
     "execution_count": 17,
     "metadata": {},
     "output_type": "execute_result"
    },
    {
     "data": {
      "text/plain": [
       "'C:/Users/akash/Desktop/Akash/MSOEML/NIH_data/Infiltration/test/Normal\\\\180.png'"
      ]
     },
     "execution_count": 17,
     "metadata": {},
     "output_type": "execute_result"
    },
    {
     "data": {
      "text/plain": [
       "'C:/Users/akash/Desktop/Akash/MSOEML/NIH_data/Infiltration/test/Normal\\\\181.png'"
      ]
     },
     "execution_count": 17,
     "metadata": {},
     "output_type": "execute_result"
    },
    {
     "data": {
      "text/plain": [
       "'C:/Users/akash/Desktop/Akash/MSOEML/NIH_data/Infiltration/test/Normal\\\\182.png'"
      ]
     },
     "execution_count": 17,
     "metadata": {},
     "output_type": "execute_result"
    },
    {
     "data": {
      "text/plain": [
       "'C:/Users/akash/Desktop/Akash/MSOEML/NIH_data/Infiltration/test/Normal\\\\183.png'"
      ]
     },
     "execution_count": 17,
     "metadata": {},
     "output_type": "execute_result"
    },
    {
     "data": {
      "text/plain": [
       "'C:/Users/akash/Desktop/Akash/MSOEML/NIH_data/Infiltration/test/Normal\\\\184.png'"
      ]
     },
     "execution_count": 17,
     "metadata": {},
     "output_type": "execute_result"
    },
    {
     "data": {
      "text/plain": [
       "'C:/Users/akash/Desktop/Akash/MSOEML/NIH_data/Infiltration/test/Normal\\\\185.png'"
      ]
     },
     "execution_count": 17,
     "metadata": {},
     "output_type": "execute_result"
    },
    {
     "data": {
      "text/plain": [
       "'C:/Users/akash/Desktop/Akash/MSOEML/NIH_data/Infiltration/test/Normal\\\\186.png'"
      ]
     },
     "execution_count": 17,
     "metadata": {},
     "output_type": "execute_result"
    },
    {
     "data": {
      "text/plain": [
       "'C:/Users/akash/Desktop/Akash/MSOEML/NIH_data/Infiltration/test/Normal\\\\187.png'"
      ]
     },
     "execution_count": 17,
     "metadata": {},
     "output_type": "execute_result"
    },
    {
     "data": {
      "text/plain": [
       "'C:/Users/akash/Desktop/Akash/MSOEML/NIH_data/Infiltration/test/Normal\\\\188.png'"
      ]
     },
     "execution_count": 17,
     "metadata": {},
     "output_type": "execute_result"
    },
    {
     "data": {
      "text/plain": [
       "'C:/Users/akash/Desktop/Akash/MSOEML/NIH_data/Infiltration/test/Normal\\\\189.png'"
      ]
     },
     "execution_count": 17,
     "metadata": {},
     "output_type": "execute_result"
    },
    {
     "data": {
      "text/plain": [
       "'C:/Users/akash/Desktop/Akash/MSOEML/NIH_data/Infiltration/test/Normal\\\\190.png'"
      ]
     },
     "execution_count": 17,
     "metadata": {},
     "output_type": "execute_result"
    },
    {
     "data": {
      "text/plain": [
       "'C:/Users/akash/Desktop/Akash/MSOEML/NIH_data/Infiltration/test/Normal\\\\191.png'"
      ]
     },
     "execution_count": 17,
     "metadata": {},
     "output_type": "execute_result"
    },
    {
     "data": {
      "text/plain": [
       "'C:/Users/akash/Desktop/Akash/MSOEML/NIH_data/Infiltration/test/Normal\\\\192.png'"
      ]
     },
     "execution_count": 17,
     "metadata": {},
     "output_type": "execute_result"
    },
    {
     "data": {
      "text/plain": [
       "'C:/Users/akash/Desktop/Akash/MSOEML/NIH_data/Infiltration/test/Normal\\\\193.png'"
      ]
     },
     "execution_count": 17,
     "metadata": {},
     "output_type": "execute_result"
    },
    {
     "data": {
      "text/plain": [
       "'C:/Users/akash/Desktop/Akash/MSOEML/NIH_data/Infiltration/test/Normal\\\\194.png'"
      ]
     },
     "execution_count": 17,
     "metadata": {},
     "output_type": "execute_result"
    },
    {
     "data": {
      "text/plain": [
       "'C:/Users/akash/Desktop/Akash/MSOEML/NIH_data/Infiltration/test/Normal\\\\195.png'"
      ]
     },
     "execution_count": 17,
     "metadata": {},
     "output_type": "execute_result"
    },
    {
     "data": {
      "text/plain": [
       "'C:/Users/akash/Desktop/Akash/MSOEML/NIH_data/Infiltration/test/Normal\\\\196.png'"
      ]
     },
     "execution_count": 17,
     "metadata": {},
     "output_type": "execute_result"
    },
    {
     "data": {
      "text/plain": [
       "'C:/Users/akash/Desktop/Akash/MSOEML/NIH_data/Infiltration/test/Normal\\\\197.png'"
      ]
     },
     "execution_count": 17,
     "metadata": {},
     "output_type": "execute_result"
    },
    {
     "data": {
      "text/plain": [
       "'C:/Users/akash/Desktop/Akash/MSOEML/NIH_data/Infiltration/test/Normal\\\\198.png'"
      ]
     },
     "execution_count": 17,
     "metadata": {},
     "output_type": "execute_result"
    },
    {
     "data": {
      "text/plain": [
       "'C:/Users/akash/Desktop/Akash/MSOEML/NIH_data/Infiltration/test/Normal\\\\199.png'"
      ]
     },
     "execution_count": 17,
     "metadata": {},
     "output_type": "execute_result"
    },
    {
     "data": {
      "text/plain": [
       "'C:/Users/akash/Desktop/Akash/MSOEML/NIH_data/Infiltration/test/Normal\\\\200.png'"
      ]
     },
     "execution_count": 17,
     "metadata": {},
     "output_type": "execute_result"
    },
    {
     "data": {
      "text/plain": [
       "'C:/Users/akash/Desktop/Akash/MSOEML/NIH_data/Infiltration/test/Normal\\\\201.png'"
      ]
     },
     "execution_count": 17,
     "metadata": {},
     "output_type": "execute_result"
    },
    {
     "data": {
      "text/plain": [
       "'C:/Users/akash/Desktop/Akash/MSOEML/NIH_data/Infiltration/test/Normal\\\\202.png'"
      ]
     },
     "execution_count": 17,
     "metadata": {},
     "output_type": "execute_result"
    },
    {
     "data": {
      "text/plain": [
       "'C:/Users/akash/Desktop/Akash/MSOEML/NIH_data/Infiltration/test/Normal\\\\203.png'"
      ]
     },
     "execution_count": 17,
     "metadata": {},
     "output_type": "execute_result"
    },
    {
     "data": {
      "text/plain": [
       "'C:/Users/akash/Desktop/Akash/MSOEML/NIH_data/Infiltration/test/Normal\\\\204.png'"
      ]
     },
     "execution_count": 17,
     "metadata": {},
     "output_type": "execute_result"
    },
    {
     "data": {
      "text/plain": [
       "'C:/Users/akash/Desktop/Akash/MSOEML/NIH_data/Infiltration/test/Normal\\\\205.png'"
      ]
     },
     "execution_count": 17,
     "metadata": {},
     "output_type": "execute_result"
    },
    {
     "data": {
      "text/plain": [
       "'C:/Users/akash/Desktop/Akash/MSOEML/NIH_data/Infiltration/test/Normal\\\\206.png'"
      ]
     },
     "execution_count": 17,
     "metadata": {},
     "output_type": "execute_result"
    },
    {
     "data": {
      "text/plain": [
       "'C:/Users/akash/Desktop/Akash/MSOEML/NIH_data/Infiltration/test/Normal\\\\207.png'"
      ]
     },
     "execution_count": 17,
     "metadata": {},
     "output_type": "execute_result"
    },
    {
     "data": {
      "text/plain": [
       "'C:/Users/akash/Desktop/Akash/MSOEML/NIH_data/Infiltration/test/Normal\\\\208.png'"
      ]
     },
     "execution_count": 17,
     "metadata": {},
     "output_type": "execute_result"
    },
    {
     "data": {
      "text/plain": [
       "'C:/Users/akash/Desktop/Akash/MSOEML/NIH_data/Infiltration/test/Normal\\\\209.png'"
      ]
     },
     "execution_count": 17,
     "metadata": {},
     "output_type": "execute_result"
    },
    {
     "data": {
      "text/plain": [
       "'C:/Users/akash/Desktop/Akash/MSOEML/NIH_data/Infiltration/test/Normal\\\\210.png'"
      ]
     },
     "execution_count": 17,
     "metadata": {},
     "output_type": "execute_result"
    },
    {
     "data": {
      "text/plain": [
       "'C:/Users/akash/Desktop/Akash/MSOEML/NIH_data/Infiltration/test/Normal\\\\211.png'"
      ]
     },
     "execution_count": 17,
     "metadata": {},
     "output_type": "execute_result"
    },
    {
     "data": {
      "text/plain": [
       "'C:/Users/akash/Desktop/Akash/MSOEML/NIH_data/Infiltration/test/Normal\\\\212.png'"
      ]
     },
     "execution_count": 17,
     "metadata": {},
     "output_type": "execute_result"
    },
    {
     "data": {
      "text/plain": [
       "'C:/Users/akash/Desktop/Akash/MSOEML/NIH_data/Infiltration/test/Normal\\\\213.png'"
      ]
     },
     "execution_count": 17,
     "metadata": {},
     "output_type": "execute_result"
    },
    {
     "data": {
      "text/plain": [
       "'C:/Users/akash/Desktop/Akash/MSOEML/NIH_data/Infiltration/test/Normal\\\\214.png'"
      ]
     },
     "execution_count": 17,
     "metadata": {},
     "output_type": "execute_result"
    },
    {
     "data": {
      "text/plain": [
       "'C:/Users/akash/Desktop/Akash/MSOEML/NIH_data/Infiltration/test/Normal\\\\215.png'"
      ]
     },
     "execution_count": 17,
     "metadata": {},
     "output_type": "execute_result"
    },
    {
     "data": {
      "text/plain": [
       "'C:/Users/akash/Desktop/Akash/MSOEML/NIH_data/Infiltration/test/Normal\\\\216.png'"
      ]
     },
     "execution_count": 17,
     "metadata": {},
     "output_type": "execute_result"
    },
    {
     "data": {
      "text/plain": [
       "'C:/Users/akash/Desktop/Akash/MSOEML/NIH_data/Infiltration/test/Normal\\\\217.png'"
      ]
     },
     "execution_count": 17,
     "metadata": {},
     "output_type": "execute_result"
    },
    {
     "data": {
      "text/plain": [
       "'C:/Users/akash/Desktop/Akash/MSOEML/NIH_data/Infiltration/test/Normal\\\\218.png'"
      ]
     },
     "execution_count": 17,
     "metadata": {},
     "output_type": "execute_result"
    },
    {
     "data": {
      "text/plain": [
       "'C:/Users/akash/Desktop/Akash/MSOEML/NIH_data/Infiltration/test/Normal\\\\219.png'"
      ]
     },
     "execution_count": 17,
     "metadata": {},
     "output_type": "execute_result"
    },
    {
     "data": {
      "text/plain": [
       "'C:/Users/akash/Desktop/Akash/MSOEML/NIH_data/Infiltration/test/Normal\\\\220.png'"
      ]
     },
     "execution_count": 17,
     "metadata": {},
     "output_type": "execute_result"
    },
    {
     "data": {
      "text/plain": [
       "'C:/Users/akash/Desktop/Akash/MSOEML/NIH_data/Infiltration/test/Normal\\\\221.png'"
      ]
     },
     "execution_count": 17,
     "metadata": {},
     "output_type": "execute_result"
    },
    {
     "data": {
      "text/plain": [
       "'C:/Users/akash/Desktop/Akash/MSOEML/NIH_data/Infiltration/test/Normal\\\\222.png'"
      ]
     },
     "execution_count": 17,
     "metadata": {},
     "output_type": "execute_result"
    },
    {
     "data": {
      "text/plain": [
       "'C:/Users/akash/Desktop/Akash/MSOEML/NIH_data/Infiltration/test/Normal\\\\223.png'"
      ]
     },
     "execution_count": 17,
     "metadata": {},
     "output_type": "execute_result"
    },
    {
     "data": {
      "text/plain": [
       "'C:/Users/akash/Desktop/Akash/MSOEML/NIH_data/Infiltration/test/Normal\\\\224.png'"
      ]
     },
     "execution_count": 17,
     "metadata": {},
     "output_type": "execute_result"
    },
    {
     "data": {
      "text/plain": [
       "'C:/Users/akash/Desktop/Akash/MSOEML/NIH_data/Infiltration/test/Normal\\\\225.png'"
      ]
     },
     "execution_count": 17,
     "metadata": {},
     "output_type": "execute_result"
    },
    {
     "data": {
      "text/plain": [
       "'C:/Users/akash/Desktop/Akash/MSOEML/NIH_data/Infiltration/test/Normal\\\\226.png'"
      ]
     },
     "execution_count": 17,
     "metadata": {},
     "output_type": "execute_result"
    },
    {
     "data": {
      "text/plain": [
       "'C:/Users/akash/Desktop/Akash/MSOEML/NIH_data/Infiltration/test/Normal\\\\227.png'"
      ]
     },
     "execution_count": 17,
     "metadata": {},
     "output_type": "execute_result"
    },
    {
     "data": {
      "text/plain": [
       "'C:/Users/akash/Desktop/Akash/MSOEML/NIH_data/Infiltration/test/Normal\\\\228.png'"
      ]
     },
     "execution_count": 17,
     "metadata": {},
     "output_type": "execute_result"
    },
    {
     "data": {
      "text/plain": [
       "'C:/Users/akash/Desktop/Akash/MSOEML/NIH_data/Infiltration/test/Normal\\\\229.png'"
      ]
     },
     "execution_count": 17,
     "metadata": {},
     "output_type": "execute_result"
    },
    {
     "data": {
      "text/plain": [
       "'C:/Users/akash/Desktop/Akash/MSOEML/NIH_data/Infiltration/test/Normal\\\\230.png'"
      ]
     },
     "execution_count": 17,
     "metadata": {},
     "output_type": "execute_result"
    },
    {
     "data": {
      "text/plain": [
       "'C:/Users/akash/Desktop/Akash/MSOEML/NIH_data/Infiltration/test/Normal\\\\231.png'"
      ]
     },
     "execution_count": 17,
     "metadata": {},
     "output_type": "execute_result"
    },
    {
     "data": {
      "text/plain": [
       "'C:/Users/akash/Desktop/Akash/MSOEML/NIH_data/Infiltration/test/Normal\\\\232.png'"
      ]
     },
     "execution_count": 17,
     "metadata": {},
     "output_type": "execute_result"
    },
    {
     "data": {
      "text/plain": [
       "'C:/Users/akash/Desktop/Akash/MSOEML/NIH_data/Infiltration/test/Normal\\\\233.png'"
      ]
     },
     "execution_count": 17,
     "metadata": {},
     "output_type": "execute_result"
    },
    {
     "data": {
      "text/plain": [
       "'C:/Users/akash/Desktop/Akash/MSOEML/NIH_data/Infiltration/test/Normal\\\\234.png'"
      ]
     },
     "execution_count": 17,
     "metadata": {},
     "output_type": "execute_result"
    },
    {
     "data": {
      "text/plain": [
       "'C:/Users/akash/Desktop/Akash/MSOEML/NIH_data/Infiltration/test/Normal\\\\235.png'"
      ]
     },
     "execution_count": 17,
     "metadata": {},
     "output_type": "execute_result"
    },
    {
     "data": {
      "text/plain": [
       "'C:/Users/akash/Desktop/Akash/MSOEML/NIH_data/Infiltration/test/Normal\\\\236.png'"
      ]
     },
     "execution_count": 17,
     "metadata": {},
     "output_type": "execute_result"
    },
    {
     "data": {
      "text/plain": [
       "'C:/Users/akash/Desktop/Akash/MSOEML/NIH_data/Infiltration/test/Normal\\\\237.png'"
      ]
     },
     "execution_count": 17,
     "metadata": {},
     "output_type": "execute_result"
    },
    {
     "data": {
      "text/plain": [
       "'C:/Users/akash/Desktop/Akash/MSOEML/NIH_data/Infiltration/test/Normal\\\\238.png'"
      ]
     },
     "execution_count": 17,
     "metadata": {},
     "output_type": "execute_result"
    },
    {
     "data": {
      "text/plain": [
       "'C:/Users/akash/Desktop/Akash/MSOEML/NIH_data/Infiltration/test/Normal\\\\239.png'"
      ]
     },
     "execution_count": 17,
     "metadata": {},
     "output_type": "execute_result"
    },
    {
     "data": {
      "text/plain": [
       "'C:/Users/akash/Desktop/Akash/MSOEML/NIH_data/Infiltration/test/Normal\\\\240.png'"
      ]
     },
     "execution_count": 17,
     "metadata": {},
     "output_type": "execute_result"
    },
    {
     "data": {
      "text/plain": [
       "'C:/Users/akash/Desktop/Akash/MSOEML/NIH_data/Infiltration/test/Normal\\\\241.png'"
      ]
     },
     "execution_count": 17,
     "metadata": {},
     "output_type": "execute_result"
    },
    {
     "data": {
      "text/plain": [
       "'C:/Users/akash/Desktop/Akash/MSOEML/NIH_data/Infiltration/test/Normal\\\\242.png'"
      ]
     },
     "execution_count": 17,
     "metadata": {},
     "output_type": "execute_result"
    },
    {
     "data": {
      "text/plain": [
       "'C:/Users/akash/Desktop/Akash/MSOEML/NIH_data/Infiltration/test/Normal\\\\243.png'"
      ]
     },
     "execution_count": 17,
     "metadata": {},
     "output_type": "execute_result"
    },
    {
     "data": {
      "text/plain": [
       "'C:/Users/akash/Desktop/Akash/MSOEML/NIH_data/Infiltration/test/Normal\\\\244.png'"
      ]
     },
     "execution_count": 17,
     "metadata": {},
     "output_type": "execute_result"
    },
    {
     "data": {
      "text/plain": [
       "'C:/Users/akash/Desktop/Akash/MSOEML/NIH_data/Infiltration/test/Normal\\\\245.png'"
      ]
     },
     "execution_count": 17,
     "metadata": {},
     "output_type": "execute_result"
    },
    {
     "data": {
      "text/plain": [
       "'C:/Users/akash/Desktop/Akash/MSOEML/NIH_data/Infiltration/test/Normal\\\\246.png'"
      ]
     },
     "execution_count": 17,
     "metadata": {},
     "output_type": "execute_result"
    },
    {
     "data": {
      "text/plain": [
       "'C:/Users/akash/Desktop/Akash/MSOEML/NIH_data/Infiltration/test/Normal\\\\247.png'"
      ]
     },
     "execution_count": 17,
     "metadata": {},
     "output_type": "execute_result"
    },
    {
     "data": {
      "text/plain": [
       "'C:/Users/akash/Desktop/Akash/MSOEML/NIH_data/Infiltration/test/Normal\\\\248.png'"
      ]
     },
     "execution_count": 17,
     "metadata": {},
     "output_type": "execute_result"
    },
    {
     "data": {
      "text/plain": [
       "'C:/Users/akash/Desktop/Akash/MSOEML/NIH_data/Infiltration/test/Normal\\\\249.png'"
      ]
     },
     "execution_count": 17,
     "metadata": {},
     "output_type": "execute_result"
    },
    {
     "data": {
      "text/plain": [
       "'C:/Users/akash/Desktop/Akash/MSOEML/NIH_data/Infiltration/test/Normal\\\\250.png'"
      ]
     },
     "execution_count": 17,
     "metadata": {},
     "output_type": "execute_result"
    },
    {
     "data": {
      "text/plain": [
       "'C:/Users/akash/Desktop/Akash/MSOEML/NIH_data/Infiltration/test/Normal\\\\251.png'"
      ]
     },
     "execution_count": 17,
     "metadata": {},
     "output_type": "execute_result"
    },
    {
     "data": {
      "text/plain": [
       "'C:/Users/akash/Desktop/Akash/MSOEML/NIH_data/Infiltration/test/Normal\\\\252.png'"
      ]
     },
     "execution_count": 17,
     "metadata": {},
     "output_type": "execute_result"
    },
    {
     "data": {
      "text/plain": [
       "'C:/Users/akash/Desktop/Akash/MSOEML/NIH_data/Infiltration/test/Normal\\\\253.png'"
      ]
     },
     "execution_count": 17,
     "metadata": {},
     "output_type": "execute_result"
    },
    {
     "data": {
      "text/plain": [
       "'C:/Users/akash/Desktop/Akash/MSOEML/NIH_data/Infiltration/test/Normal\\\\254.png'"
      ]
     },
     "execution_count": 17,
     "metadata": {},
     "output_type": "execute_result"
    },
    {
     "data": {
      "text/plain": [
       "'C:/Users/akash/Desktop/Akash/MSOEML/NIH_data/Infiltration/test/Normal\\\\255.png'"
      ]
     },
     "execution_count": 17,
     "metadata": {},
     "output_type": "execute_result"
    },
    {
     "data": {
      "text/plain": [
       "'C:/Users/akash/Desktop/Akash/MSOEML/NIH_data/Infiltration/test/Normal\\\\256.png'"
      ]
     },
     "execution_count": 17,
     "metadata": {},
     "output_type": "execute_result"
    },
    {
     "data": {
      "text/plain": [
       "'C:/Users/akash/Desktop/Akash/MSOEML/NIH_data/Infiltration/test/Normal\\\\257.png'"
      ]
     },
     "execution_count": 17,
     "metadata": {},
     "output_type": "execute_result"
    },
    {
     "data": {
      "text/plain": [
       "'C:/Users/akash/Desktop/Akash/MSOEML/NIH_data/Infiltration/test/Normal\\\\258.png'"
      ]
     },
     "execution_count": 17,
     "metadata": {},
     "output_type": "execute_result"
    },
    {
     "data": {
      "text/plain": [
       "'C:/Users/akash/Desktop/Akash/MSOEML/NIH_data/Infiltration/test/Normal\\\\259.png'"
      ]
     },
     "execution_count": 17,
     "metadata": {},
     "output_type": "execute_result"
    },
    {
     "data": {
      "text/plain": [
       "'C:/Users/akash/Desktop/Akash/MSOEML/NIH_data/Infiltration/test/Normal\\\\260.png'"
      ]
     },
     "execution_count": 17,
     "metadata": {},
     "output_type": "execute_result"
    },
    {
     "data": {
      "text/plain": [
       "'C:/Users/akash/Desktop/Akash/MSOEML/NIH_data/Infiltration/test/Normal\\\\261.png'"
      ]
     },
     "execution_count": 17,
     "metadata": {},
     "output_type": "execute_result"
    },
    {
     "data": {
      "text/plain": [
       "'C:/Users/akash/Desktop/Akash/MSOEML/NIH_data/Infiltration/test/Normal\\\\262.png'"
      ]
     },
     "execution_count": 17,
     "metadata": {},
     "output_type": "execute_result"
    },
    {
     "data": {
      "text/plain": [
       "'C:/Users/akash/Desktop/Akash/MSOEML/NIH_data/Infiltration/test/Normal\\\\263.png'"
      ]
     },
     "execution_count": 17,
     "metadata": {},
     "output_type": "execute_result"
    },
    {
     "data": {
      "text/plain": [
       "'C:/Users/akash/Desktop/Akash/MSOEML/NIH_data/Infiltration/test/Normal\\\\264.png'"
      ]
     },
     "execution_count": 17,
     "metadata": {},
     "output_type": "execute_result"
    },
    {
     "data": {
      "text/plain": [
       "'C:/Users/akash/Desktop/Akash/MSOEML/NIH_data/Infiltration/test/Normal\\\\265.png'"
      ]
     },
     "execution_count": 17,
     "metadata": {},
     "output_type": "execute_result"
    },
    {
     "data": {
      "text/plain": [
       "'C:/Users/akash/Desktop/Akash/MSOEML/NIH_data/Infiltration/test/Normal\\\\266.png'"
      ]
     },
     "execution_count": 17,
     "metadata": {},
     "output_type": "execute_result"
    },
    {
     "data": {
      "text/plain": [
       "'C:/Users/akash/Desktop/Akash/MSOEML/NIH_data/Infiltration/test/Normal\\\\267.png'"
      ]
     },
     "execution_count": 17,
     "metadata": {},
     "output_type": "execute_result"
    },
    {
     "data": {
      "text/plain": [
       "'C:/Users/akash/Desktop/Akash/MSOEML/NIH_data/Infiltration/test/Normal\\\\268.png'"
      ]
     },
     "execution_count": 17,
     "metadata": {},
     "output_type": "execute_result"
    },
    {
     "data": {
      "text/plain": [
       "'C:/Users/akash/Desktop/Akash/MSOEML/NIH_data/Infiltration/test/Normal\\\\269.png'"
      ]
     },
     "execution_count": 17,
     "metadata": {},
     "output_type": "execute_result"
    },
    {
     "data": {
      "text/plain": [
       "'C:/Users/akash/Desktop/Akash/MSOEML/NIH_data/Infiltration/test/Normal\\\\270.png'"
      ]
     },
     "execution_count": 17,
     "metadata": {},
     "output_type": "execute_result"
    },
    {
     "data": {
      "text/plain": [
       "'C:/Users/akash/Desktop/Akash/MSOEML/NIH_data/Infiltration/test/Normal\\\\271.png'"
      ]
     },
     "execution_count": 17,
     "metadata": {},
     "output_type": "execute_result"
    },
    {
     "data": {
      "text/plain": [
       "'C:/Users/akash/Desktop/Akash/MSOEML/NIH_data/Infiltration/test/Normal\\\\272.png'"
      ]
     },
     "execution_count": 17,
     "metadata": {},
     "output_type": "execute_result"
    },
    {
     "data": {
      "text/plain": [
       "'C:/Users/akash/Desktop/Akash/MSOEML/NIH_data/Infiltration/test/Normal\\\\273.png'"
      ]
     },
     "execution_count": 17,
     "metadata": {},
     "output_type": "execute_result"
    },
    {
     "data": {
      "text/plain": [
       "'C:/Users/akash/Desktop/Akash/MSOEML/NIH_data/Infiltration/test/Normal\\\\274.png'"
      ]
     },
     "execution_count": 17,
     "metadata": {},
     "output_type": "execute_result"
    },
    {
     "data": {
      "text/plain": [
       "'C:/Users/akash/Desktop/Akash/MSOEML/NIH_data/Infiltration/test/Normal\\\\275.png'"
      ]
     },
     "execution_count": 17,
     "metadata": {},
     "output_type": "execute_result"
    },
    {
     "data": {
      "text/plain": [
       "'C:/Users/akash/Desktop/Akash/MSOEML/NIH_data/Infiltration/test/Normal\\\\276.png'"
      ]
     },
     "execution_count": 17,
     "metadata": {},
     "output_type": "execute_result"
    },
    {
     "data": {
      "text/plain": [
       "'C:/Users/akash/Desktop/Akash/MSOEML/NIH_data/Infiltration/test/Normal\\\\277.png'"
      ]
     },
     "execution_count": 17,
     "metadata": {},
     "output_type": "execute_result"
    },
    {
     "data": {
      "text/plain": [
       "'C:/Users/akash/Desktop/Akash/MSOEML/NIH_data/Infiltration/test/Normal\\\\278.png'"
      ]
     },
     "execution_count": 17,
     "metadata": {},
     "output_type": "execute_result"
    },
    {
     "data": {
      "text/plain": [
       "'C:/Users/akash/Desktop/Akash/MSOEML/NIH_data/Infiltration/test/Normal\\\\279.png'"
      ]
     },
     "execution_count": 17,
     "metadata": {},
     "output_type": "execute_result"
    },
    {
     "data": {
      "text/plain": [
       "'C:/Users/akash/Desktop/Akash/MSOEML/NIH_data/Infiltration/test/Normal\\\\280.png'"
      ]
     },
     "execution_count": 17,
     "metadata": {},
     "output_type": "execute_result"
    },
    {
     "data": {
      "text/plain": [
       "'C:/Users/akash/Desktop/Akash/MSOEML/NIH_data/Infiltration/test/Normal\\\\281.png'"
      ]
     },
     "execution_count": 17,
     "metadata": {},
     "output_type": "execute_result"
    },
    {
     "data": {
      "text/plain": [
       "'C:/Users/akash/Desktop/Akash/MSOEML/NIH_data/Infiltration/test/Normal\\\\282.png'"
      ]
     },
     "execution_count": 17,
     "metadata": {},
     "output_type": "execute_result"
    },
    {
     "data": {
      "text/plain": [
       "'C:/Users/akash/Desktop/Akash/MSOEML/NIH_data/Infiltration/test/Normal\\\\283.png'"
      ]
     },
     "execution_count": 17,
     "metadata": {},
     "output_type": "execute_result"
    },
    {
     "data": {
      "text/plain": [
       "'C:/Users/akash/Desktop/Akash/MSOEML/NIH_data/Infiltration/test/Normal\\\\284.png'"
      ]
     },
     "execution_count": 17,
     "metadata": {},
     "output_type": "execute_result"
    },
    {
     "data": {
      "text/plain": [
       "'C:/Users/akash/Desktop/Akash/MSOEML/NIH_data/Infiltration/test/Normal\\\\285.png'"
      ]
     },
     "execution_count": 17,
     "metadata": {},
     "output_type": "execute_result"
    },
    {
     "data": {
      "text/plain": [
       "'C:/Users/akash/Desktop/Akash/MSOEML/NIH_data/Infiltration/test/Normal\\\\286.png'"
      ]
     },
     "execution_count": 17,
     "metadata": {},
     "output_type": "execute_result"
    },
    {
     "data": {
      "text/plain": [
       "'C:/Users/akash/Desktop/Akash/MSOEML/NIH_data/Infiltration/test/Normal\\\\287.png'"
      ]
     },
     "execution_count": 17,
     "metadata": {},
     "output_type": "execute_result"
    },
    {
     "data": {
      "text/plain": [
       "'C:/Users/akash/Desktop/Akash/MSOEML/NIH_data/Infiltration/test/Normal\\\\288.png'"
      ]
     },
     "execution_count": 17,
     "metadata": {},
     "output_type": "execute_result"
    },
    {
     "data": {
      "text/plain": [
       "'C:/Users/akash/Desktop/Akash/MSOEML/NIH_data/Infiltration/test/Normal\\\\289.png'"
      ]
     },
     "execution_count": 17,
     "metadata": {},
     "output_type": "execute_result"
    },
    {
     "data": {
      "text/plain": [
       "'C:/Users/akash/Desktop/Akash/MSOEML/NIH_data/Infiltration/test/Normal\\\\290.png'"
      ]
     },
     "execution_count": 17,
     "metadata": {},
     "output_type": "execute_result"
    },
    {
     "data": {
      "text/plain": [
       "'C:/Users/akash/Desktop/Akash/MSOEML/NIH_data/Infiltration/test/Normal\\\\291.png'"
      ]
     },
     "execution_count": 17,
     "metadata": {},
     "output_type": "execute_result"
    },
    {
     "data": {
      "text/plain": [
       "'C:/Users/akash/Desktop/Akash/MSOEML/NIH_data/Infiltration/test/Normal\\\\292.png'"
      ]
     },
     "execution_count": 17,
     "metadata": {},
     "output_type": "execute_result"
    },
    {
     "data": {
      "text/plain": [
       "'C:/Users/akash/Desktop/Akash/MSOEML/NIH_data/Infiltration/test/Normal\\\\293.png'"
      ]
     },
     "execution_count": 17,
     "metadata": {},
     "output_type": "execute_result"
    },
    {
     "data": {
      "text/plain": [
       "'C:/Users/akash/Desktop/Akash/MSOEML/NIH_data/Infiltration/test/Normal\\\\294.png'"
      ]
     },
     "execution_count": 17,
     "metadata": {},
     "output_type": "execute_result"
    },
    {
     "data": {
      "text/plain": [
       "'C:/Users/akash/Desktop/Akash/MSOEML/NIH_data/Infiltration/test/Normal\\\\295.png'"
      ]
     },
     "execution_count": 17,
     "metadata": {},
     "output_type": "execute_result"
    },
    {
     "data": {
      "text/plain": [
       "'C:/Users/akash/Desktop/Akash/MSOEML/NIH_data/Infiltration/test/Normal\\\\296.png'"
      ]
     },
     "execution_count": 17,
     "metadata": {},
     "output_type": "execute_result"
    },
    {
     "data": {
      "text/plain": [
       "'C:/Users/akash/Desktop/Akash/MSOEML/NIH_data/Infiltration/test/Normal\\\\297.png'"
      ]
     },
     "execution_count": 17,
     "metadata": {},
     "output_type": "execute_result"
    },
    {
     "data": {
      "text/plain": [
       "'C:/Users/akash/Desktop/Akash/MSOEML/NIH_data/Infiltration/test/Normal\\\\298.png'"
      ]
     },
     "execution_count": 17,
     "metadata": {},
     "output_type": "execute_result"
    },
    {
     "data": {
      "text/plain": [
       "'C:/Users/akash/Desktop/Akash/MSOEML/NIH_data/Infiltration/test/Normal\\\\299.png'"
      ]
     },
     "execution_count": 17,
     "metadata": {},
     "output_type": "execute_result"
    },
    {
     "data": {
      "text/plain": [
       "'C:/Users/akash/Desktop/Akash/MSOEML/NIH_data/Infiltration/test/Normal\\\\300.png'"
      ]
     },
     "execution_count": 17,
     "metadata": {},
     "output_type": "execute_result"
    },
    {
     "data": {
      "text/plain": [
       "'C:/Users/akash/Desktop/Akash/MSOEML/NIH_data/Infiltration/test/Normal\\\\301.png'"
      ]
     },
     "execution_count": 17,
     "metadata": {},
     "output_type": "execute_result"
    },
    {
     "data": {
      "text/plain": [
       "'C:/Users/akash/Desktop/Akash/MSOEML/NIH_data/Infiltration/test/Normal\\\\302.png'"
      ]
     },
     "execution_count": 17,
     "metadata": {},
     "output_type": "execute_result"
    },
    {
     "data": {
      "text/plain": [
       "'C:/Users/akash/Desktop/Akash/MSOEML/NIH_data/Infiltration/test/Normal\\\\303.png'"
      ]
     },
     "execution_count": 17,
     "metadata": {},
     "output_type": "execute_result"
    },
    {
     "data": {
      "text/plain": [
       "'C:/Users/akash/Desktop/Akash/MSOEML/NIH_data/Infiltration/test/Normal\\\\304.png'"
      ]
     },
     "execution_count": 17,
     "metadata": {},
     "output_type": "execute_result"
    },
    {
     "data": {
      "text/plain": [
       "'C:/Users/akash/Desktop/Akash/MSOEML/NIH_data/Infiltration/test/Normal\\\\305.png'"
      ]
     },
     "execution_count": 17,
     "metadata": {},
     "output_type": "execute_result"
    },
    {
     "data": {
      "text/plain": [
       "'C:/Users/akash/Desktop/Akash/MSOEML/NIH_data/Infiltration/test/Normal\\\\306.png'"
      ]
     },
     "execution_count": 17,
     "metadata": {},
     "output_type": "execute_result"
    },
    {
     "data": {
      "text/plain": [
       "'C:/Users/akash/Desktop/Akash/MSOEML/NIH_data/Infiltration/test/Normal\\\\307.png'"
      ]
     },
     "execution_count": 17,
     "metadata": {},
     "output_type": "execute_result"
    },
    {
     "data": {
      "text/plain": [
       "'C:/Users/akash/Desktop/Akash/MSOEML/NIH_data/Infiltration/test/Normal\\\\308.png'"
      ]
     },
     "execution_count": 17,
     "metadata": {},
     "output_type": "execute_result"
    },
    {
     "data": {
      "text/plain": [
       "'C:/Users/akash/Desktop/Akash/MSOEML/NIH_data/Infiltration/test/Normal\\\\309.png'"
      ]
     },
     "execution_count": 17,
     "metadata": {},
     "output_type": "execute_result"
    },
    {
     "data": {
      "text/plain": [
       "'C:/Users/akash/Desktop/Akash/MSOEML/NIH_data/Infiltration/test/Normal\\\\310.png'"
      ]
     },
     "execution_count": 17,
     "metadata": {},
     "output_type": "execute_result"
    },
    {
     "data": {
      "text/plain": [
       "'C:/Users/akash/Desktop/Akash/MSOEML/NIH_data/Infiltration/test/Normal\\\\311.png'"
      ]
     },
     "execution_count": 17,
     "metadata": {},
     "output_type": "execute_result"
    },
    {
     "data": {
      "text/plain": [
       "'C:/Users/akash/Desktop/Akash/MSOEML/NIH_data/Infiltration/test/Normal\\\\312.png'"
      ]
     },
     "execution_count": 17,
     "metadata": {},
     "output_type": "execute_result"
    },
    {
     "data": {
      "text/plain": [
       "'C:/Users/akash/Desktop/Akash/MSOEML/NIH_data/Infiltration/test/Normal\\\\313.png'"
      ]
     },
     "execution_count": 17,
     "metadata": {},
     "output_type": "execute_result"
    },
    {
     "data": {
      "text/plain": [
       "'C:/Users/akash/Desktop/Akash/MSOEML/NIH_data/Infiltration/test/Normal\\\\314.png'"
      ]
     },
     "execution_count": 17,
     "metadata": {},
     "output_type": "execute_result"
    },
    {
     "data": {
      "text/plain": [
       "'C:/Users/akash/Desktop/Akash/MSOEML/NIH_data/Infiltration/test/Normal\\\\315.png'"
      ]
     },
     "execution_count": 17,
     "metadata": {},
     "output_type": "execute_result"
    },
    {
     "data": {
      "text/plain": [
       "'C:/Users/akash/Desktop/Akash/MSOEML/NIH_data/Infiltration/test/Normal\\\\316.png'"
      ]
     },
     "execution_count": 17,
     "metadata": {},
     "output_type": "execute_result"
    },
    {
     "data": {
      "text/plain": [
       "'C:/Users/akash/Desktop/Akash/MSOEML/NIH_data/Infiltration/test/Normal\\\\317.png'"
      ]
     },
     "execution_count": 17,
     "metadata": {},
     "output_type": "execute_result"
    },
    {
     "data": {
      "text/plain": [
       "'C:/Users/akash/Desktop/Akash/MSOEML/NIH_data/Infiltration/test/Normal\\\\318.png'"
      ]
     },
     "execution_count": 17,
     "metadata": {},
     "output_type": "execute_result"
    },
    {
     "data": {
      "text/plain": [
       "'C:/Users/akash/Desktop/Akash/MSOEML/NIH_data/Infiltration/test/Normal\\\\319.png'"
      ]
     },
     "execution_count": 17,
     "metadata": {},
     "output_type": "execute_result"
    },
    {
     "data": {
      "text/plain": [
       "'C:/Users/akash/Desktop/Akash/MSOEML/NIH_data/Infiltration/test/Normal\\\\320.png'"
      ]
     },
     "execution_count": 17,
     "metadata": {},
     "output_type": "execute_result"
    },
    {
     "data": {
      "text/plain": [
       "'C:/Users/akash/Desktop/Akash/MSOEML/NIH_data/Infiltration/test/Normal\\\\321.png'"
      ]
     },
     "execution_count": 17,
     "metadata": {},
     "output_type": "execute_result"
    },
    {
     "data": {
      "text/plain": [
       "'C:/Users/akash/Desktop/Akash/MSOEML/NIH_data/Infiltration/test/Normal\\\\322.png'"
      ]
     },
     "execution_count": 17,
     "metadata": {},
     "output_type": "execute_result"
    },
    {
     "data": {
      "text/plain": [
       "'C:/Users/akash/Desktop/Akash/MSOEML/NIH_data/Infiltration/test/Normal\\\\323.png'"
      ]
     },
     "execution_count": 17,
     "metadata": {},
     "output_type": "execute_result"
    },
    {
     "data": {
      "text/plain": [
       "'C:/Users/akash/Desktop/Akash/MSOEML/NIH_data/Infiltration/test/Normal\\\\324.png'"
      ]
     },
     "execution_count": 17,
     "metadata": {},
     "output_type": "execute_result"
    },
    {
     "data": {
      "text/plain": [
       "'C:/Users/akash/Desktop/Akash/MSOEML/NIH_data/Infiltration/test/Normal\\\\325.png'"
      ]
     },
     "execution_count": 17,
     "metadata": {},
     "output_type": "execute_result"
    },
    {
     "data": {
      "text/plain": [
       "'C:/Users/akash/Desktop/Akash/MSOEML/NIH_data/Infiltration/test/Normal\\\\326.png'"
      ]
     },
     "execution_count": 17,
     "metadata": {},
     "output_type": "execute_result"
    },
    {
     "data": {
      "text/plain": [
       "'C:/Users/akash/Desktop/Akash/MSOEML/NIH_data/Infiltration/test/Normal\\\\327.png'"
      ]
     },
     "execution_count": 17,
     "metadata": {},
     "output_type": "execute_result"
    },
    {
     "data": {
      "text/plain": [
       "'C:/Users/akash/Desktop/Akash/MSOEML/NIH_data/Infiltration/test/Normal\\\\328.png'"
      ]
     },
     "execution_count": 17,
     "metadata": {},
     "output_type": "execute_result"
    },
    {
     "data": {
      "text/plain": [
       "'C:/Users/akash/Desktop/Akash/MSOEML/NIH_data/Infiltration/test/Normal\\\\329.png'"
      ]
     },
     "execution_count": 17,
     "metadata": {},
     "output_type": "execute_result"
    },
    {
     "data": {
      "text/plain": [
       "'C:/Users/akash/Desktop/Akash/MSOEML/NIH_data/Infiltration/test/Normal\\\\330.png'"
      ]
     },
     "execution_count": 17,
     "metadata": {},
     "output_type": "execute_result"
    },
    {
     "data": {
      "text/plain": [
       "'C:/Users/akash/Desktop/Akash/MSOEML/NIH_data/Infiltration/test/Normal\\\\331.png'"
      ]
     },
     "execution_count": 17,
     "metadata": {},
     "output_type": "execute_result"
    },
    {
     "data": {
      "text/plain": [
       "'C:/Users/akash/Desktop/Akash/MSOEML/NIH_data/Infiltration/test/Normal\\\\332.png'"
      ]
     },
     "execution_count": 17,
     "metadata": {},
     "output_type": "execute_result"
    },
    {
     "data": {
      "text/plain": [
       "'C:/Users/akash/Desktop/Akash/MSOEML/NIH_data/Infiltration/test/Normal\\\\333.png'"
      ]
     },
     "execution_count": 17,
     "metadata": {},
     "output_type": "execute_result"
    },
    {
     "data": {
      "text/plain": [
       "'C:/Users/akash/Desktop/Akash/MSOEML/NIH_data/Infiltration/test/Normal\\\\334.png'"
      ]
     },
     "execution_count": 17,
     "metadata": {},
     "output_type": "execute_result"
    },
    {
     "data": {
      "text/plain": [
       "'C:/Users/akash/Desktop/Akash/MSOEML/NIH_data/Infiltration/test/Normal\\\\335.png'"
      ]
     },
     "execution_count": 17,
     "metadata": {},
     "output_type": "execute_result"
    },
    {
     "data": {
      "text/plain": [
       "'C:/Users/akash/Desktop/Akash/MSOEML/NIH_data/Infiltration/test/Normal\\\\336.png'"
      ]
     },
     "execution_count": 17,
     "metadata": {},
     "output_type": "execute_result"
    },
    {
     "data": {
      "text/plain": [
       "'C:/Users/akash/Desktop/Akash/MSOEML/NIH_data/Infiltration/test/Normal\\\\337.png'"
      ]
     },
     "execution_count": 17,
     "metadata": {},
     "output_type": "execute_result"
    },
    {
     "data": {
      "text/plain": [
       "'C:/Users/akash/Desktop/Akash/MSOEML/NIH_data/Infiltration/test/Normal\\\\338.png'"
      ]
     },
     "execution_count": 17,
     "metadata": {},
     "output_type": "execute_result"
    },
    {
     "data": {
      "text/plain": [
       "'C:/Users/akash/Desktop/Akash/MSOEML/NIH_data/Infiltration/test/Normal\\\\339.png'"
      ]
     },
     "execution_count": 17,
     "metadata": {},
     "output_type": "execute_result"
    },
    {
     "data": {
      "text/plain": [
       "'C:/Users/akash/Desktop/Akash/MSOEML/NIH_data/Infiltration/test/Normal\\\\340.png'"
      ]
     },
     "execution_count": 17,
     "metadata": {},
     "output_type": "execute_result"
    },
    {
     "data": {
      "text/plain": [
       "'C:/Users/akash/Desktop/Akash/MSOEML/NIH_data/Infiltration/test/Normal\\\\341.png'"
      ]
     },
     "execution_count": 17,
     "metadata": {},
     "output_type": "execute_result"
    },
    {
     "data": {
      "text/plain": [
       "'C:/Users/akash/Desktop/Akash/MSOEML/NIH_data/Infiltration/test/Normal\\\\342.png'"
      ]
     },
     "execution_count": 17,
     "metadata": {},
     "output_type": "execute_result"
    },
    {
     "data": {
      "text/plain": [
       "'C:/Users/akash/Desktop/Akash/MSOEML/NIH_data/Infiltration/test/Normal\\\\343.png'"
      ]
     },
     "execution_count": 17,
     "metadata": {},
     "output_type": "execute_result"
    },
    {
     "data": {
      "text/plain": [
       "'C:/Users/akash/Desktop/Akash/MSOEML/NIH_data/Infiltration/test/Normal\\\\344.png'"
      ]
     },
     "execution_count": 17,
     "metadata": {},
     "output_type": "execute_result"
    },
    {
     "data": {
      "text/plain": [
       "'C:/Users/akash/Desktop/Akash/MSOEML/NIH_data/Infiltration/test/Normal\\\\345.png'"
      ]
     },
     "execution_count": 17,
     "metadata": {},
     "output_type": "execute_result"
    },
    {
     "data": {
      "text/plain": [
       "'C:/Users/akash/Desktop/Akash/MSOEML/NIH_data/Infiltration/test/Normal\\\\346.png'"
      ]
     },
     "execution_count": 17,
     "metadata": {},
     "output_type": "execute_result"
    },
    {
     "data": {
      "text/plain": [
       "'C:/Users/akash/Desktop/Akash/MSOEML/NIH_data/Infiltration/test/Normal\\\\347.png'"
      ]
     },
     "execution_count": 17,
     "metadata": {},
     "output_type": "execute_result"
    },
    {
     "data": {
      "text/plain": [
       "'C:/Users/akash/Desktop/Akash/MSOEML/NIH_data/Infiltration/test/Normal\\\\348.png'"
      ]
     },
     "execution_count": 17,
     "metadata": {},
     "output_type": "execute_result"
    },
    {
     "data": {
      "text/plain": [
       "'C:/Users/akash/Desktop/Akash/MSOEML/NIH_data/Infiltration/test/Normal\\\\349.png'"
      ]
     },
     "execution_count": 17,
     "metadata": {},
     "output_type": "execute_result"
    },
    {
     "data": {
      "text/plain": [
       "'C:/Users/akash/Desktop/Akash/MSOEML/NIH_data/Infiltration/test/Normal\\\\350.png'"
      ]
     },
     "execution_count": 17,
     "metadata": {},
     "output_type": "execute_result"
    },
    {
     "data": {
      "text/plain": [
       "'C:/Users/akash/Desktop/Akash/MSOEML/NIH_data/Infiltration/test/Normal\\\\351.png'"
      ]
     },
     "execution_count": 17,
     "metadata": {},
     "output_type": "execute_result"
    },
    {
     "data": {
      "text/plain": [
       "'C:/Users/akash/Desktop/Akash/MSOEML/NIH_data/Infiltration/test/Normal\\\\352.png'"
      ]
     },
     "execution_count": 17,
     "metadata": {},
     "output_type": "execute_result"
    },
    {
     "data": {
      "text/plain": [
       "'C:/Users/akash/Desktop/Akash/MSOEML/NIH_data/Infiltration/test/Normal\\\\353.png'"
      ]
     },
     "execution_count": 17,
     "metadata": {},
     "output_type": "execute_result"
    },
    {
     "data": {
      "text/plain": [
       "'C:/Users/akash/Desktop/Akash/MSOEML/NIH_data/Infiltration/test/Normal\\\\354.png'"
      ]
     },
     "execution_count": 17,
     "metadata": {},
     "output_type": "execute_result"
    },
    {
     "data": {
      "text/plain": [
       "'C:/Users/akash/Desktop/Akash/MSOEML/NIH_data/Infiltration/test/Normal\\\\355.png'"
      ]
     },
     "execution_count": 17,
     "metadata": {},
     "output_type": "execute_result"
    },
    {
     "data": {
      "text/plain": [
       "'C:/Users/akash/Desktop/Akash/MSOEML/NIH_data/Infiltration/test/Normal\\\\356.png'"
      ]
     },
     "execution_count": 17,
     "metadata": {},
     "output_type": "execute_result"
    },
    {
     "data": {
      "text/plain": [
       "'C:/Users/akash/Desktop/Akash/MSOEML/NIH_data/Infiltration/test/Normal\\\\357.png'"
      ]
     },
     "execution_count": 17,
     "metadata": {},
     "output_type": "execute_result"
    },
    {
     "data": {
      "text/plain": [
       "'C:/Users/akash/Desktop/Akash/MSOEML/NIH_data/Infiltration/test/Normal\\\\358.png'"
      ]
     },
     "execution_count": 17,
     "metadata": {},
     "output_type": "execute_result"
    },
    {
     "data": {
      "text/plain": [
       "'C:/Users/akash/Desktop/Akash/MSOEML/NIH_data/Infiltration/test/Normal\\\\359.png'"
      ]
     },
     "execution_count": 17,
     "metadata": {},
     "output_type": "execute_result"
    },
    {
     "data": {
      "text/plain": [
       "'C:/Users/akash/Desktop/Akash/MSOEML/NIH_data/Infiltration/test/Normal\\\\360.png'"
      ]
     },
     "execution_count": 17,
     "metadata": {},
     "output_type": "execute_result"
    },
    {
     "data": {
      "text/plain": [
       "'C:/Users/akash/Desktop/Akash/MSOEML/NIH_data/Infiltration/test/Normal\\\\361.png'"
      ]
     },
     "execution_count": 17,
     "metadata": {},
     "output_type": "execute_result"
    },
    {
     "data": {
      "text/plain": [
       "'C:/Users/akash/Desktop/Akash/MSOEML/NIH_data/Infiltration/test/Normal\\\\362.png'"
      ]
     },
     "execution_count": 17,
     "metadata": {},
     "output_type": "execute_result"
    },
    {
     "data": {
      "text/plain": [
       "'C:/Users/akash/Desktop/Akash/MSOEML/NIH_data/Infiltration/test/Normal\\\\363.png'"
      ]
     },
     "execution_count": 17,
     "metadata": {},
     "output_type": "execute_result"
    },
    {
     "data": {
      "text/plain": [
       "'C:/Users/akash/Desktop/Akash/MSOEML/NIH_data/Infiltration/test/Normal\\\\364.png'"
      ]
     },
     "execution_count": 17,
     "metadata": {},
     "output_type": "execute_result"
    },
    {
     "data": {
      "text/plain": [
       "'C:/Users/akash/Desktop/Akash/MSOEML/NIH_data/Infiltration/test/Normal\\\\365.png'"
      ]
     },
     "execution_count": 17,
     "metadata": {},
     "output_type": "execute_result"
    },
    {
     "data": {
      "text/plain": [
       "'C:/Users/akash/Desktop/Akash/MSOEML/NIH_data/Infiltration/test/Normal\\\\366.png'"
      ]
     },
     "execution_count": 17,
     "metadata": {},
     "output_type": "execute_result"
    },
    {
     "data": {
      "text/plain": [
       "'C:/Users/akash/Desktop/Akash/MSOEML/NIH_data/Infiltration/test/Normal\\\\367.png'"
      ]
     },
     "execution_count": 17,
     "metadata": {},
     "output_type": "execute_result"
    },
    {
     "data": {
      "text/plain": [
       "'C:/Users/akash/Desktop/Akash/MSOEML/NIH_data/Infiltration/test/Normal\\\\368.png'"
      ]
     },
     "execution_count": 17,
     "metadata": {},
     "output_type": "execute_result"
    },
    {
     "data": {
      "text/plain": [
       "'C:/Users/akash/Desktop/Akash/MSOEML/NIH_data/Infiltration/test/Normal\\\\369.png'"
      ]
     },
     "execution_count": 17,
     "metadata": {},
     "output_type": "execute_result"
    },
    {
     "data": {
      "text/plain": [
       "'C:/Users/akash/Desktop/Akash/MSOEML/NIH_data/Infiltration/test/Normal\\\\370.png'"
      ]
     },
     "execution_count": 17,
     "metadata": {},
     "output_type": "execute_result"
    },
    {
     "data": {
      "text/plain": [
       "'C:/Users/akash/Desktop/Akash/MSOEML/NIH_data/Infiltration/test/Normal\\\\371.png'"
      ]
     },
     "execution_count": 17,
     "metadata": {},
     "output_type": "execute_result"
    },
    {
     "data": {
      "text/plain": [
       "'C:/Users/akash/Desktop/Akash/MSOEML/NIH_data/Infiltration/test/Normal\\\\372.png'"
      ]
     },
     "execution_count": 17,
     "metadata": {},
     "output_type": "execute_result"
    },
    {
     "data": {
      "text/plain": [
       "'C:/Users/akash/Desktop/Akash/MSOEML/NIH_data/Infiltration/test/Normal\\\\373.png'"
      ]
     },
     "execution_count": 17,
     "metadata": {},
     "output_type": "execute_result"
    },
    {
     "data": {
      "text/plain": [
       "'C:/Users/akash/Desktop/Akash/MSOEML/NIH_data/Infiltration/test/Normal\\\\374.png'"
      ]
     },
     "execution_count": 17,
     "metadata": {},
     "output_type": "execute_result"
    },
    {
     "data": {
      "text/plain": [
       "'C:/Users/akash/Desktop/Akash/MSOEML/NIH_data/Infiltration/test/Normal\\\\375.png'"
      ]
     },
     "execution_count": 17,
     "metadata": {},
     "output_type": "execute_result"
    },
    {
     "data": {
      "text/plain": [
       "'C:/Users/akash/Desktop/Akash/MSOEML/NIH_data/Infiltration/test/Normal\\\\376.png'"
      ]
     },
     "execution_count": 17,
     "metadata": {},
     "output_type": "execute_result"
    },
    {
     "data": {
      "text/plain": [
       "'C:/Users/akash/Desktop/Akash/MSOEML/NIH_data/Infiltration/test/Normal\\\\377.png'"
      ]
     },
     "execution_count": 17,
     "metadata": {},
     "output_type": "execute_result"
    },
    {
     "data": {
      "text/plain": [
       "'C:/Users/akash/Desktop/Akash/MSOEML/NIH_data/Infiltration/test/Normal\\\\378.png'"
      ]
     },
     "execution_count": 17,
     "metadata": {},
     "output_type": "execute_result"
    },
    {
     "data": {
      "text/plain": [
       "'C:/Users/akash/Desktop/Akash/MSOEML/NIH_data/Infiltration/test/Normal\\\\379.png'"
      ]
     },
     "execution_count": 17,
     "metadata": {},
     "output_type": "execute_result"
    },
    {
     "data": {
      "text/plain": [
       "'C:/Users/akash/Desktop/Akash/MSOEML/NIH_data/Infiltration/test/Normal\\\\380.png'"
      ]
     },
     "execution_count": 17,
     "metadata": {},
     "output_type": "execute_result"
    },
    {
     "data": {
      "text/plain": [
       "'C:/Users/akash/Desktop/Akash/MSOEML/NIH_data/Infiltration/test/Normal\\\\381.png'"
      ]
     },
     "execution_count": 17,
     "metadata": {},
     "output_type": "execute_result"
    },
    {
     "data": {
      "text/plain": [
       "'C:/Users/akash/Desktop/Akash/MSOEML/NIH_data/Infiltration/test/Normal\\\\382.png'"
      ]
     },
     "execution_count": 17,
     "metadata": {},
     "output_type": "execute_result"
    },
    {
     "data": {
      "text/plain": [
       "'C:/Users/akash/Desktop/Akash/MSOEML/NIH_data/Infiltration/test/Normal\\\\383.png'"
      ]
     },
     "execution_count": 17,
     "metadata": {},
     "output_type": "execute_result"
    },
    {
     "data": {
      "text/plain": [
       "'C:/Users/akash/Desktop/Akash/MSOEML/NIH_data/Infiltration/test/Normal\\\\384.png'"
      ]
     },
     "execution_count": 17,
     "metadata": {},
     "output_type": "execute_result"
    },
    {
     "data": {
      "text/plain": [
       "'C:/Users/akash/Desktop/Akash/MSOEML/NIH_data/Infiltration/test/Normal\\\\385.png'"
      ]
     },
     "execution_count": 17,
     "metadata": {},
     "output_type": "execute_result"
    },
    {
     "data": {
      "text/plain": [
       "'C:/Users/akash/Desktop/Akash/MSOEML/NIH_data/Infiltration/test/Normal\\\\386.png'"
      ]
     },
     "execution_count": 17,
     "metadata": {},
     "output_type": "execute_result"
    },
    {
     "data": {
      "text/plain": [
       "'C:/Users/akash/Desktop/Akash/MSOEML/NIH_data/Infiltration/test/Normal\\\\387.png'"
      ]
     },
     "execution_count": 17,
     "metadata": {},
     "output_type": "execute_result"
    },
    {
     "data": {
      "text/plain": [
       "'C:/Users/akash/Desktop/Akash/MSOEML/NIH_data/Infiltration/test/Normal\\\\388.png'"
      ]
     },
     "execution_count": 17,
     "metadata": {},
     "output_type": "execute_result"
    },
    {
     "data": {
      "text/plain": [
       "'C:/Users/akash/Desktop/Akash/MSOEML/NIH_data/Infiltration/test/Normal\\\\389.png'"
      ]
     },
     "execution_count": 17,
     "metadata": {},
     "output_type": "execute_result"
    },
    {
     "data": {
      "text/plain": [
       "'C:/Users/akash/Desktop/Akash/MSOEML/NIH_data/Infiltration/test/Normal\\\\390.png'"
      ]
     },
     "execution_count": 17,
     "metadata": {},
     "output_type": "execute_result"
    },
    {
     "data": {
      "text/plain": [
       "'C:/Users/akash/Desktop/Akash/MSOEML/NIH_data/Infiltration/test/Normal\\\\391.png'"
      ]
     },
     "execution_count": 17,
     "metadata": {},
     "output_type": "execute_result"
    },
    {
     "data": {
      "text/plain": [
       "'C:/Users/akash/Desktop/Akash/MSOEML/NIH_data/Infiltration/test/Normal\\\\392.png'"
      ]
     },
     "execution_count": 17,
     "metadata": {},
     "output_type": "execute_result"
    },
    {
     "data": {
      "text/plain": [
       "'C:/Users/akash/Desktop/Akash/MSOEML/NIH_data/Infiltration/test/Normal\\\\393.png'"
      ]
     },
     "execution_count": 17,
     "metadata": {},
     "output_type": "execute_result"
    },
    {
     "data": {
      "text/plain": [
       "'C:/Users/akash/Desktop/Akash/MSOEML/NIH_data/Infiltration/test/Normal\\\\394.png'"
      ]
     },
     "execution_count": 17,
     "metadata": {},
     "output_type": "execute_result"
    },
    {
     "data": {
      "text/plain": [
       "'C:/Users/akash/Desktop/Akash/MSOEML/NIH_data/Infiltration/test/Normal\\\\395.png'"
      ]
     },
     "execution_count": 17,
     "metadata": {},
     "output_type": "execute_result"
    },
    {
     "data": {
      "text/plain": [
       "'C:/Users/akash/Desktop/Akash/MSOEML/NIH_data/Infiltration/test/Normal\\\\396.png'"
      ]
     },
     "execution_count": 17,
     "metadata": {},
     "output_type": "execute_result"
    },
    {
     "data": {
      "text/plain": [
       "'C:/Users/akash/Desktop/Akash/MSOEML/NIH_data/Infiltration/test/Normal\\\\397.png'"
      ]
     },
     "execution_count": 17,
     "metadata": {},
     "output_type": "execute_result"
    },
    {
     "data": {
      "text/plain": [
       "'C:/Users/akash/Desktop/Akash/MSOEML/NIH_data/Infiltration/test/Normal\\\\398.png'"
      ]
     },
     "execution_count": 17,
     "metadata": {},
     "output_type": "execute_result"
    },
    {
     "data": {
      "text/plain": [
       "'C:/Users/akash/Desktop/Akash/MSOEML/NIH_data/Infiltration/test/Normal\\\\399.png'"
      ]
     },
     "execution_count": 17,
     "metadata": {},
     "output_type": "execute_result"
    },
    {
     "data": {
      "text/plain": [
       "'C:/Users/akash/Desktop/Akash/MSOEML/NIH_data/Infiltration/test/Normal\\\\400.png'"
      ]
     },
     "execution_count": 17,
     "metadata": {},
     "output_type": "execute_result"
    },
    {
     "data": {
      "text/plain": [
       "'C:/Users/akash/Desktop/Akash/MSOEML/NIH_data/Infiltration/test/Normal\\\\401.png'"
      ]
     },
     "execution_count": 17,
     "metadata": {},
     "output_type": "execute_result"
    },
    {
     "data": {
      "text/plain": [
       "'C:/Users/akash/Desktop/Akash/MSOEML/NIH_data/Infiltration/test/Normal\\\\402.png'"
      ]
     },
     "execution_count": 17,
     "metadata": {},
     "output_type": "execute_result"
    },
    {
     "data": {
      "text/plain": [
       "'C:/Users/akash/Desktop/Akash/MSOEML/NIH_data/Infiltration/test/Normal\\\\403.png'"
      ]
     },
     "execution_count": 17,
     "metadata": {},
     "output_type": "execute_result"
    },
    {
     "data": {
      "text/plain": [
       "'C:/Users/akash/Desktop/Akash/MSOEML/NIH_data/Infiltration/test/Normal\\\\404.png'"
      ]
     },
     "execution_count": 17,
     "metadata": {},
     "output_type": "execute_result"
    },
    {
     "data": {
      "text/plain": [
       "'C:/Users/akash/Desktop/Akash/MSOEML/NIH_data/Infiltration/test/Normal\\\\405.png'"
      ]
     },
     "execution_count": 17,
     "metadata": {},
     "output_type": "execute_result"
    },
    {
     "data": {
      "text/plain": [
       "'C:/Users/akash/Desktop/Akash/MSOEML/NIH_data/Infiltration/test/Normal\\\\406.png'"
      ]
     },
     "execution_count": 17,
     "metadata": {},
     "output_type": "execute_result"
    },
    {
     "data": {
      "text/plain": [
       "'C:/Users/akash/Desktop/Akash/MSOEML/NIH_data/Infiltration/test/Normal\\\\407.png'"
      ]
     },
     "execution_count": 17,
     "metadata": {},
     "output_type": "execute_result"
    },
    {
     "data": {
      "text/plain": [
       "'C:/Users/akash/Desktop/Akash/MSOEML/NIH_data/Infiltration/test/Normal\\\\408.png'"
      ]
     },
     "execution_count": 17,
     "metadata": {},
     "output_type": "execute_result"
    },
    {
     "data": {
      "text/plain": [
       "'C:/Users/akash/Desktop/Akash/MSOEML/NIH_data/Infiltration/test/Normal\\\\409.png'"
      ]
     },
     "execution_count": 17,
     "metadata": {},
     "output_type": "execute_result"
    },
    {
     "data": {
      "text/plain": [
       "'C:/Users/akash/Desktop/Akash/MSOEML/NIH_data/Infiltration/test/Normal\\\\410.png'"
      ]
     },
     "execution_count": 17,
     "metadata": {},
     "output_type": "execute_result"
    },
    {
     "data": {
      "text/plain": [
       "'C:/Users/akash/Desktop/Akash/MSOEML/NIH_data/Infiltration/test/Normal\\\\411.png'"
      ]
     },
     "execution_count": 17,
     "metadata": {},
     "output_type": "execute_result"
    },
    {
     "data": {
      "text/plain": [
       "'C:/Users/akash/Desktop/Akash/MSOEML/NIH_data/Infiltration/test/Normal\\\\412.png'"
      ]
     },
     "execution_count": 17,
     "metadata": {},
     "output_type": "execute_result"
    },
    {
     "data": {
      "text/plain": [
       "'C:/Users/akash/Desktop/Akash/MSOEML/NIH_data/Infiltration/test/Normal\\\\413.png'"
      ]
     },
     "execution_count": 17,
     "metadata": {},
     "output_type": "execute_result"
    },
    {
     "data": {
      "text/plain": [
       "'C:/Users/akash/Desktop/Akash/MSOEML/NIH_data/Infiltration/test/Normal\\\\414.png'"
      ]
     },
     "execution_count": 17,
     "metadata": {},
     "output_type": "execute_result"
    },
    {
     "data": {
      "text/plain": [
       "'C:/Users/akash/Desktop/Akash/MSOEML/NIH_data/Infiltration/test/Normal\\\\415.png'"
      ]
     },
     "execution_count": 17,
     "metadata": {},
     "output_type": "execute_result"
    },
    {
     "data": {
      "text/plain": [
       "'C:/Users/akash/Desktop/Akash/MSOEML/NIH_data/Infiltration/test/Normal\\\\416.png'"
      ]
     },
     "execution_count": 17,
     "metadata": {},
     "output_type": "execute_result"
    },
    {
     "data": {
      "text/plain": [
       "'C:/Users/akash/Desktop/Akash/MSOEML/NIH_data/Infiltration/test/Normal\\\\417.png'"
      ]
     },
     "execution_count": 17,
     "metadata": {},
     "output_type": "execute_result"
    },
    {
     "data": {
      "text/plain": [
       "'C:/Users/akash/Desktop/Akash/MSOEML/NIH_data/Infiltration/test/Normal\\\\418.png'"
      ]
     },
     "execution_count": 17,
     "metadata": {},
     "output_type": "execute_result"
    },
    {
     "data": {
      "text/plain": [
       "'C:/Users/akash/Desktop/Akash/MSOEML/NIH_data/Infiltration/test/Normal\\\\419.png'"
      ]
     },
     "execution_count": 17,
     "metadata": {},
     "output_type": "execute_result"
    },
    {
     "data": {
      "text/plain": [
       "'C:/Users/akash/Desktop/Akash/MSOEML/NIH_data/Infiltration/test/Normal\\\\420.png'"
      ]
     },
     "execution_count": 17,
     "metadata": {},
     "output_type": "execute_result"
    },
    {
     "data": {
      "text/plain": [
       "'C:/Users/akash/Desktop/Akash/MSOEML/NIH_data/Infiltration/test/Normal\\\\421.png'"
      ]
     },
     "execution_count": 17,
     "metadata": {},
     "output_type": "execute_result"
    },
    {
     "data": {
      "text/plain": [
       "'C:/Users/akash/Desktop/Akash/MSOEML/NIH_data/Infiltration/test/Normal\\\\422.png'"
      ]
     },
     "execution_count": 17,
     "metadata": {},
     "output_type": "execute_result"
    },
    {
     "data": {
      "text/plain": [
       "'C:/Users/akash/Desktop/Akash/MSOEML/NIH_data/Infiltration/test/Normal\\\\423.png'"
      ]
     },
     "execution_count": 17,
     "metadata": {},
     "output_type": "execute_result"
    },
    {
     "data": {
      "text/plain": [
       "'C:/Users/akash/Desktop/Akash/MSOEML/NIH_data/Infiltration/test/Normal\\\\424.png'"
      ]
     },
     "execution_count": 17,
     "metadata": {},
     "output_type": "execute_result"
    },
    {
     "data": {
      "text/plain": [
       "'C:/Users/akash/Desktop/Akash/MSOEML/NIH_data/Infiltration/test/Normal\\\\425.png'"
      ]
     },
     "execution_count": 17,
     "metadata": {},
     "output_type": "execute_result"
    },
    {
     "data": {
      "text/plain": [
       "'C:/Users/akash/Desktop/Akash/MSOEML/NIH_data/Infiltration/test/Normal\\\\426.png'"
      ]
     },
     "execution_count": 17,
     "metadata": {},
     "output_type": "execute_result"
    },
    {
     "data": {
      "text/plain": [
       "'C:/Users/akash/Desktop/Akash/MSOEML/NIH_data/Infiltration/test/Normal\\\\427.png'"
      ]
     },
     "execution_count": 17,
     "metadata": {},
     "output_type": "execute_result"
    },
    {
     "data": {
      "text/plain": [
       "'C:/Users/akash/Desktop/Akash/MSOEML/NIH_data/Infiltration/test/Normal\\\\428.png'"
      ]
     },
     "execution_count": 17,
     "metadata": {},
     "output_type": "execute_result"
    },
    {
     "data": {
      "text/plain": [
       "'C:/Users/akash/Desktop/Akash/MSOEML/NIH_data/Infiltration/test/Normal\\\\429.png'"
      ]
     },
     "execution_count": 17,
     "metadata": {},
     "output_type": "execute_result"
    },
    {
     "data": {
      "text/plain": [
       "'C:/Users/akash/Desktop/Akash/MSOEML/NIH_data/Infiltration/test/Normal\\\\430.png'"
      ]
     },
     "execution_count": 17,
     "metadata": {},
     "output_type": "execute_result"
    },
    {
     "data": {
      "text/plain": [
       "'C:/Users/akash/Desktop/Akash/MSOEML/NIH_data/Infiltration/test/Normal\\\\431.png'"
      ]
     },
     "execution_count": 17,
     "metadata": {},
     "output_type": "execute_result"
    },
    {
     "data": {
      "text/plain": [
       "'C:/Users/akash/Desktop/Akash/MSOEML/NIH_data/Infiltration/test/Normal\\\\432.png'"
      ]
     },
     "execution_count": 17,
     "metadata": {},
     "output_type": "execute_result"
    },
    {
     "data": {
      "text/plain": [
       "'C:/Users/akash/Desktop/Akash/MSOEML/NIH_data/Infiltration/test/Normal\\\\433.png'"
      ]
     },
     "execution_count": 17,
     "metadata": {},
     "output_type": "execute_result"
    },
    {
     "data": {
      "text/plain": [
       "'C:/Users/akash/Desktop/Akash/MSOEML/NIH_data/Infiltration/test/Normal\\\\434.png'"
      ]
     },
     "execution_count": 17,
     "metadata": {},
     "output_type": "execute_result"
    },
    {
     "data": {
      "text/plain": [
       "'C:/Users/akash/Desktop/Akash/MSOEML/NIH_data/Infiltration/test/Normal\\\\435.png'"
      ]
     },
     "execution_count": 17,
     "metadata": {},
     "output_type": "execute_result"
    },
    {
     "data": {
      "text/plain": [
       "'C:/Users/akash/Desktop/Akash/MSOEML/NIH_data/Infiltration/test/Normal\\\\436.png'"
      ]
     },
     "execution_count": 17,
     "metadata": {},
     "output_type": "execute_result"
    },
    {
     "data": {
      "text/plain": [
       "'C:/Users/akash/Desktop/Akash/MSOEML/NIH_data/Infiltration/test/Normal\\\\437.png'"
      ]
     },
     "execution_count": 17,
     "metadata": {},
     "output_type": "execute_result"
    },
    {
     "data": {
      "text/plain": [
       "'C:/Users/akash/Desktop/Akash/MSOEML/NIH_data/Infiltration/test/Normal\\\\438.png'"
      ]
     },
     "execution_count": 17,
     "metadata": {},
     "output_type": "execute_result"
    },
    {
     "data": {
      "text/plain": [
       "'C:/Users/akash/Desktop/Akash/MSOEML/NIH_data/Infiltration/test/Normal\\\\439.png'"
      ]
     },
     "execution_count": 17,
     "metadata": {},
     "output_type": "execute_result"
    },
    {
     "data": {
      "text/plain": [
       "'C:/Users/akash/Desktop/Akash/MSOEML/NIH_data/Infiltration/test/Normal\\\\440.png'"
      ]
     },
     "execution_count": 17,
     "metadata": {},
     "output_type": "execute_result"
    },
    {
     "data": {
      "text/plain": [
       "'C:/Users/akash/Desktop/Akash/MSOEML/NIH_data/Infiltration/test/Normal\\\\441.png'"
      ]
     },
     "execution_count": 17,
     "metadata": {},
     "output_type": "execute_result"
    },
    {
     "data": {
      "text/plain": [
       "'C:/Users/akash/Desktop/Akash/MSOEML/NIH_data/Infiltration/test/Normal\\\\442.png'"
      ]
     },
     "execution_count": 17,
     "metadata": {},
     "output_type": "execute_result"
    },
    {
     "data": {
      "text/plain": [
       "'C:/Users/akash/Desktop/Akash/MSOEML/NIH_data/Infiltration/test/Normal\\\\443.png'"
      ]
     },
     "execution_count": 17,
     "metadata": {},
     "output_type": "execute_result"
    },
    {
     "data": {
      "text/plain": [
       "'C:/Users/akash/Desktop/Akash/MSOEML/NIH_data/Infiltration/test/Normal\\\\444.png'"
      ]
     },
     "execution_count": 17,
     "metadata": {},
     "output_type": "execute_result"
    },
    {
     "data": {
      "text/plain": [
       "'C:/Users/akash/Desktop/Akash/MSOEML/NIH_data/Infiltration/test/Normal\\\\445.png'"
      ]
     },
     "execution_count": 17,
     "metadata": {},
     "output_type": "execute_result"
    },
    {
     "data": {
      "text/plain": [
       "'C:/Users/akash/Desktop/Akash/MSOEML/NIH_data/Infiltration/test/Normal\\\\446.png'"
      ]
     },
     "execution_count": 17,
     "metadata": {},
     "output_type": "execute_result"
    },
    {
     "data": {
      "text/plain": [
       "'C:/Users/akash/Desktop/Akash/MSOEML/NIH_data/Infiltration/test/Normal\\\\447.png'"
      ]
     },
     "execution_count": 17,
     "metadata": {},
     "output_type": "execute_result"
    },
    {
     "data": {
      "text/plain": [
       "'C:/Users/akash/Desktop/Akash/MSOEML/NIH_data/Infiltration/test/Normal\\\\448.png'"
      ]
     },
     "execution_count": 17,
     "metadata": {},
     "output_type": "execute_result"
    },
    {
     "data": {
      "text/plain": [
       "'C:/Users/akash/Desktop/Akash/MSOEML/NIH_data/Infiltration/test/Normal\\\\449.png'"
      ]
     },
     "execution_count": 17,
     "metadata": {},
     "output_type": "execute_result"
    },
    {
     "data": {
      "text/plain": [
       "'C:/Users/akash/Desktop/Akash/MSOEML/NIH_data/Infiltration/test/Normal\\\\450.png'"
      ]
     },
     "execution_count": 17,
     "metadata": {},
     "output_type": "execute_result"
    },
    {
     "data": {
      "text/plain": [
       "'C:/Users/akash/Desktop/Akash/MSOEML/NIH_data/Infiltration/test/Normal\\\\451.png'"
      ]
     },
     "execution_count": 17,
     "metadata": {},
     "output_type": "execute_result"
    },
    {
     "data": {
      "text/plain": [
       "'C:/Users/akash/Desktop/Akash/MSOEML/NIH_data/Infiltration/test/Normal\\\\452.png'"
      ]
     },
     "execution_count": 17,
     "metadata": {},
     "output_type": "execute_result"
    },
    {
     "data": {
      "text/plain": [
       "'C:/Users/akash/Desktop/Akash/MSOEML/NIH_data/Infiltration/test/Normal\\\\453.png'"
      ]
     },
     "execution_count": 17,
     "metadata": {},
     "output_type": "execute_result"
    },
    {
     "data": {
      "text/plain": [
       "'C:/Users/akash/Desktop/Akash/MSOEML/NIH_data/Infiltration/test/Normal\\\\454.png'"
      ]
     },
     "execution_count": 17,
     "metadata": {},
     "output_type": "execute_result"
    },
    {
     "data": {
      "text/plain": [
       "'C:/Users/akash/Desktop/Akash/MSOEML/NIH_data/Infiltration/test/Normal\\\\455.png'"
      ]
     },
     "execution_count": 17,
     "metadata": {},
     "output_type": "execute_result"
    },
    {
     "data": {
      "text/plain": [
       "'C:/Users/akash/Desktop/Akash/MSOEML/NIH_data/Infiltration/test/Normal\\\\456.png'"
      ]
     },
     "execution_count": 17,
     "metadata": {},
     "output_type": "execute_result"
    },
    {
     "data": {
      "text/plain": [
       "'C:/Users/akash/Desktop/Akash/MSOEML/NIH_data/Infiltration/test/Normal\\\\457.png'"
      ]
     },
     "execution_count": 17,
     "metadata": {},
     "output_type": "execute_result"
    },
    {
     "data": {
      "text/plain": [
       "'C:/Users/akash/Desktop/Akash/MSOEML/NIH_data/Infiltration/test/Normal\\\\458.png'"
      ]
     },
     "execution_count": 17,
     "metadata": {},
     "output_type": "execute_result"
    },
    {
     "data": {
      "text/plain": [
       "'C:/Users/akash/Desktop/Akash/MSOEML/NIH_data/Infiltration/test/Normal\\\\459.png'"
      ]
     },
     "execution_count": 17,
     "metadata": {},
     "output_type": "execute_result"
    },
    {
     "data": {
      "text/plain": [
       "'C:/Users/akash/Desktop/Akash/MSOEML/NIH_data/Infiltration/test/Normal\\\\460.png'"
      ]
     },
     "execution_count": 17,
     "metadata": {},
     "output_type": "execute_result"
    },
    {
     "data": {
      "text/plain": [
       "'C:/Users/akash/Desktop/Akash/MSOEML/NIH_data/Infiltration/test/Normal\\\\461.png'"
      ]
     },
     "execution_count": 17,
     "metadata": {},
     "output_type": "execute_result"
    },
    {
     "data": {
      "text/plain": [
       "'C:/Users/akash/Desktop/Akash/MSOEML/NIH_data/Infiltration/test/Normal\\\\462.png'"
      ]
     },
     "execution_count": 17,
     "metadata": {},
     "output_type": "execute_result"
    },
    {
     "data": {
      "text/plain": [
       "'C:/Users/akash/Desktop/Akash/MSOEML/NIH_data/Infiltration/test/Normal\\\\463.png'"
      ]
     },
     "execution_count": 17,
     "metadata": {},
     "output_type": "execute_result"
    },
    {
     "data": {
      "text/plain": [
       "'C:/Users/akash/Desktop/Akash/MSOEML/NIH_data/Infiltration/test/Normal\\\\464.png'"
      ]
     },
     "execution_count": 17,
     "metadata": {},
     "output_type": "execute_result"
    },
    {
     "data": {
      "text/plain": [
       "'C:/Users/akash/Desktop/Akash/MSOEML/NIH_data/Infiltration/test/Normal\\\\465.png'"
      ]
     },
     "execution_count": 17,
     "metadata": {},
     "output_type": "execute_result"
    },
    {
     "data": {
      "text/plain": [
       "'C:/Users/akash/Desktop/Akash/MSOEML/NIH_data/Infiltration/test/Normal\\\\466.png'"
      ]
     },
     "execution_count": 17,
     "metadata": {},
     "output_type": "execute_result"
    },
    {
     "data": {
      "text/plain": [
       "'C:/Users/akash/Desktop/Akash/MSOEML/NIH_data/Infiltration/test/Normal\\\\467.png'"
      ]
     },
     "execution_count": 17,
     "metadata": {},
     "output_type": "execute_result"
    },
    {
     "data": {
      "text/plain": [
       "'C:/Users/akash/Desktop/Akash/MSOEML/NIH_data/Infiltration/test/Normal\\\\468.png'"
      ]
     },
     "execution_count": 17,
     "metadata": {},
     "output_type": "execute_result"
    },
    {
     "data": {
      "text/plain": [
       "'C:/Users/akash/Desktop/Akash/MSOEML/NIH_data/Infiltration/test/Normal\\\\469.png'"
      ]
     },
     "execution_count": 17,
     "metadata": {},
     "output_type": "execute_result"
    },
    {
     "data": {
      "text/plain": [
       "'C:/Users/akash/Desktop/Akash/MSOEML/NIH_data/Infiltration/test/Normal\\\\470.png'"
      ]
     },
     "execution_count": 17,
     "metadata": {},
     "output_type": "execute_result"
    },
    {
     "data": {
      "text/plain": [
       "'C:/Users/akash/Desktop/Akash/MSOEML/NIH_data/Infiltration/test/Normal\\\\471.png'"
      ]
     },
     "execution_count": 17,
     "metadata": {},
     "output_type": "execute_result"
    },
    {
     "data": {
      "text/plain": [
       "'C:/Users/akash/Desktop/Akash/MSOEML/NIH_data/Infiltration/test/Normal\\\\472.png'"
      ]
     },
     "execution_count": 17,
     "metadata": {},
     "output_type": "execute_result"
    },
    {
     "data": {
      "text/plain": [
       "'C:/Users/akash/Desktop/Akash/MSOEML/NIH_data/Infiltration/test/Normal\\\\473.png'"
      ]
     },
     "execution_count": 17,
     "metadata": {},
     "output_type": "execute_result"
    },
    {
     "data": {
      "text/plain": [
       "'C:/Users/akash/Desktop/Akash/MSOEML/NIH_data/Infiltration/test/Normal\\\\474.png'"
      ]
     },
     "execution_count": 17,
     "metadata": {},
     "output_type": "execute_result"
    },
    {
     "data": {
      "text/plain": [
       "'C:/Users/akash/Desktop/Akash/MSOEML/NIH_data/Infiltration/test/Normal\\\\475.png'"
      ]
     },
     "execution_count": 17,
     "metadata": {},
     "output_type": "execute_result"
    },
    {
     "data": {
      "text/plain": [
       "'C:/Users/akash/Desktop/Akash/MSOEML/NIH_data/Infiltration/test/Normal\\\\476.png'"
      ]
     },
     "execution_count": 17,
     "metadata": {},
     "output_type": "execute_result"
    },
    {
     "data": {
      "text/plain": [
       "'C:/Users/akash/Desktop/Akash/MSOEML/NIH_data/Infiltration/test/Normal\\\\477.png'"
      ]
     },
     "execution_count": 17,
     "metadata": {},
     "output_type": "execute_result"
    },
    {
     "data": {
      "text/plain": [
       "'C:/Users/akash/Desktop/Akash/MSOEML/NIH_data/Infiltration/test/Normal\\\\478.png'"
      ]
     },
     "execution_count": 17,
     "metadata": {},
     "output_type": "execute_result"
    },
    {
     "data": {
      "text/plain": [
       "'C:/Users/akash/Desktop/Akash/MSOEML/NIH_data/Infiltration/test/Normal\\\\479.png'"
      ]
     },
     "execution_count": 17,
     "metadata": {},
     "output_type": "execute_result"
    },
    {
     "data": {
      "text/plain": [
       "'C:/Users/akash/Desktop/Akash/MSOEML/NIH_data/Infiltration/test/Normal\\\\480.png'"
      ]
     },
     "execution_count": 17,
     "metadata": {},
     "output_type": "execute_result"
    },
    {
     "data": {
      "text/plain": [
       "'C:/Users/akash/Desktop/Akash/MSOEML/NIH_data/Infiltration/test/Normal\\\\481.png'"
      ]
     },
     "execution_count": 17,
     "metadata": {},
     "output_type": "execute_result"
    },
    {
     "data": {
      "text/plain": [
       "'C:/Users/akash/Desktop/Akash/MSOEML/NIH_data/Infiltration/test/Normal\\\\482.png'"
      ]
     },
     "execution_count": 17,
     "metadata": {},
     "output_type": "execute_result"
    },
    {
     "data": {
      "text/plain": [
       "'C:/Users/akash/Desktop/Akash/MSOEML/NIH_data/Infiltration/test/Normal\\\\483.png'"
      ]
     },
     "execution_count": 17,
     "metadata": {},
     "output_type": "execute_result"
    },
    {
     "data": {
      "text/plain": [
       "'C:/Users/akash/Desktop/Akash/MSOEML/NIH_data/Infiltration/test/Normal\\\\484.png'"
      ]
     },
     "execution_count": 17,
     "metadata": {},
     "output_type": "execute_result"
    },
    {
     "data": {
      "text/plain": [
       "'C:/Users/akash/Desktop/Akash/MSOEML/NIH_data/Infiltration/test/Normal\\\\485.png'"
      ]
     },
     "execution_count": 17,
     "metadata": {},
     "output_type": "execute_result"
    },
    {
     "data": {
      "text/plain": [
       "'C:/Users/akash/Desktop/Akash/MSOEML/NIH_data/Infiltration/test/Normal\\\\486.png'"
      ]
     },
     "execution_count": 17,
     "metadata": {},
     "output_type": "execute_result"
    },
    {
     "data": {
      "text/plain": [
       "'C:/Users/akash/Desktop/Akash/MSOEML/NIH_data/Infiltration/test/Normal\\\\487.png'"
      ]
     },
     "execution_count": 17,
     "metadata": {},
     "output_type": "execute_result"
    },
    {
     "data": {
      "text/plain": [
       "'C:/Users/akash/Desktop/Akash/MSOEML/NIH_data/Infiltration/test/Normal\\\\488.png'"
      ]
     },
     "execution_count": 17,
     "metadata": {},
     "output_type": "execute_result"
    },
    {
     "data": {
      "text/plain": [
       "'C:/Users/akash/Desktop/Akash/MSOEML/NIH_data/Infiltration/test/Normal\\\\489.png'"
      ]
     },
     "execution_count": 17,
     "metadata": {},
     "output_type": "execute_result"
    },
    {
     "data": {
      "text/plain": [
       "'C:/Users/akash/Desktop/Akash/MSOEML/NIH_data/Infiltration/test/Normal\\\\490.png'"
      ]
     },
     "execution_count": 17,
     "metadata": {},
     "output_type": "execute_result"
    },
    {
     "data": {
      "text/plain": [
       "'C:/Users/akash/Desktop/Akash/MSOEML/NIH_data/Infiltration/test/Normal\\\\491.png'"
      ]
     },
     "execution_count": 17,
     "metadata": {},
     "output_type": "execute_result"
    },
    {
     "data": {
      "text/plain": [
       "'C:/Users/akash/Desktop/Akash/MSOEML/NIH_data/Infiltration/test/Normal\\\\492.png'"
      ]
     },
     "execution_count": 17,
     "metadata": {},
     "output_type": "execute_result"
    },
    {
     "data": {
      "text/plain": [
       "'C:/Users/akash/Desktop/Akash/MSOEML/NIH_data/Infiltration/test/Normal\\\\493.png'"
      ]
     },
     "execution_count": 17,
     "metadata": {},
     "output_type": "execute_result"
    },
    {
     "data": {
      "text/plain": [
       "'C:/Users/akash/Desktop/Akash/MSOEML/NIH_data/Infiltration/test/Normal\\\\494.png'"
      ]
     },
     "execution_count": 17,
     "metadata": {},
     "output_type": "execute_result"
    },
    {
     "data": {
      "text/plain": [
       "'C:/Users/akash/Desktop/Akash/MSOEML/NIH_data/Infiltration/test/Normal\\\\495.png'"
      ]
     },
     "execution_count": 17,
     "metadata": {},
     "output_type": "execute_result"
    },
    {
     "data": {
      "text/plain": [
       "'C:/Users/akash/Desktop/Akash/MSOEML/NIH_data/Infiltration/test/Normal\\\\496.png'"
      ]
     },
     "execution_count": 17,
     "metadata": {},
     "output_type": "execute_result"
    },
    {
     "data": {
      "text/plain": [
       "'C:/Users/akash/Desktop/Akash/MSOEML/NIH_data/Infiltration/test/Normal\\\\497.png'"
      ]
     },
     "execution_count": 17,
     "metadata": {},
     "output_type": "execute_result"
    },
    {
     "data": {
      "text/plain": [
       "'C:/Users/akash/Desktop/Akash/MSOEML/NIH_data/Infiltration/test/Normal\\\\498.png'"
      ]
     },
     "execution_count": 17,
     "metadata": {},
     "output_type": "execute_result"
    },
    {
     "data": {
      "text/plain": [
       "'C:/Users/akash/Desktop/Akash/MSOEML/NIH_data/Infiltration/test/Normal\\\\499.png'"
      ]
     },
     "execution_count": 17,
     "metadata": {},
     "output_type": "execute_result"
    },
    {
     "data": {
      "text/plain": [
       "'C:/Users/akash/Desktop/Akash/MSOEML/NIH_data/Infiltration/test/Normal\\\\500.png'"
      ]
     },
     "execution_count": 17,
     "metadata": {},
     "output_type": "execute_result"
    },
    {
     "data": {
      "text/plain": [
       "'C:/Users/akash/Desktop/Akash/MSOEML/NIH_data/Infiltration/test/Normal\\\\501.png'"
      ]
     },
     "execution_count": 17,
     "metadata": {},
     "output_type": "execute_result"
    },
    {
     "data": {
      "text/plain": [
       "'C:/Users/akash/Desktop/Akash/MSOEML/NIH_data/Infiltration/test/Normal\\\\502.png'"
      ]
     },
     "execution_count": 17,
     "metadata": {},
     "output_type": "execute_result"
    },
    {
     "data": {
      "text/plain": [
       "'C:/Users/akash/Desktop/Akash/MSOEML/NIH_data/Infiltration/test/Normal\\\\503.png'"
      ]
     },
     "execution_count": 17,
     "metadata": {},
     "output_type": "execute_result"
    },
    {
     "data": {
      "text/plain": [
       "'C:/Users/akash/Desktop/Akash/MSOEML/NIH_data/Infiltration/test/Normal\\\\504.png'"
      ]
     },
     "execution_count": 17,
     "metadata": {},
     "output_type": "execute_result"
    },
    {
     "data": {
      "text/plain": [
       "'C:/Users/akash/Desktop/Akash/MSOEML/NIH_data/Infiltration/test/Normal\\\\505.png'"
      ]
     },
     "execution_count": 17,
     "metadata": {},
     "output_type": "execute_result"
    },
    {
     "data": {
      "text/plain": [
       "'C:/Users/akash/Desktop/Akash/MSOEML/NIH_data/Infiltration/test/Normal\\\\506.png'"
      ]
     },
     "execution_count": 17,
     "metadata": {},
     "output_type": "execute_result"
    },
    {
     "data": {
      "text/plain": [
       "'C:/Users/akash/Desktop/Akash/MSOEML/NIH_data/Infiltration/test/Normal\\\\507.png'"
      ]
     },
     "execution_count": 17,
     "metadata": {},
     "output_type": "execute_result"
    },
    {
     "data": {
      "text/plain": [
       "'C:/Users/akash/Desktop/Akash/MSOEML/NIH_data/Infiltration/test/Normal\\\\508.png'"
      ]
     },
     "execution_count": 17,
     "metadata": {},
     "output_type": "execute_result"
    },
    {
     "data": {
      "text/plain": [
       "'C:/Users/akash/Desktop/Akash/MSOEML/NIH_data/Infiltration/test/Normal\\\\509.png'"
      ]
     },
     "execution_count": 17,
     "metadata": {},
     "output_type": "execute_result"
    },
    {
     "data": {
      "text/plain": [
       "'C:/Users/akash/Desktop/Akash/MSOEML/NIH_data/Infiltration/test/Normal\\\\510.png'"
      ]
     },
     "execution_count": 17,
     "metadata": {},
     "output_type": "execute_result"
    },
    {
     "data": {
      "text/plain": [
       "'C:/Users/akash/Desktop/Akash/MSOEML/NIH_data/Infiltration/test/Normal\\\\511.png'"
      ]
     },
     "execution_count": 17,
     "metadata": {},
     "output_type": "execute_result"
    },
    {
     "data": {
      "text/plain": [
       "'C:/Users/akash/Desktop/Akash/MSOEML/NIH_data/Infiltration/test/Normal\\\\512.png'"
      ]
     },
     "execution_count": 17,
     "metadata": {},
     "output_type": "execute_result"
    },
    {
     "data": {
      "text/plain": [
       "'C:/Users/akash/Desktop/Akash/MSOEML/NIH_data/Infiltration/test/Normal\\\\513.png'"
      ]
     },
     "execution_count": 17,
     "metadata": {},
     "output_type": "execute_result"
    },
    {
     "data": {
      "text/plain": [
       "'C:/Users/akash/Desktop/Akash/MSOEML/NIH_data/Infiltration/test/Normal\\\\514.png'"
      ]
     },
     "execution_count": 17,
     "metadata": {},
     "output_type": "execute_result"
    },
    {
     "data": {
      "text/plain": [
       "'C:/Users/akash/Desktop/Akash/MSOEML/NIH_data/Infiltration/test/Normal\\\\515.png'"
      ]
     },
     "execution_count": 17,
     "metadata": {},
     "output_type": "execute_result"
    },
    {
     "data": {
      "text/plain": [
       "'C:/Users/akash/Desktop/Akash/MSOEML/NIH_data/Infiltration/test/Normal\\\\516.png'"
      ]
     },
     "execution_count": 17,
     "metadata": {},
     "output_type": "execute_result"
    },
    {
     "data": {
      "text/plain": [
       "'C:/Users/akash/Desktop/Akash/MSOEML/NIH_data/Infiltration/test/Normal\\\\517.png'"
      ]
     },
     "execution_count": 17,
     "metadata": {},
     "output_type": "execute_result"
    },
    {
     "data": {
      "text/plain": [
       "'C:/Users/akash/Desktop/Akash/MSOEML/NIH_data/Infiltration/test/Normal\\\\518.png'"
      ]
     },
     "execution_count": 17,
     "metadata": {},
     "output_type": "execute_result"
    },
    {
     "data": {
      "text/plain": [
       "'C:/Users/akash/Desktop/Akash/MSOEML/NIH_data/Infiltration/test/Normal\\\\519.png'"
      ]
     },
     "execution_count": 17,
     "metadata": {},
     "output_type": "execute_result"
    },
    {
     "data": {
      "text/plain": [
       "'C:/Users/akash/Desktop/Akash/MSOEML/NIH_data/Infiltration/test/Normal\\\\520.png'"
      ]
     },
     "execution_count": 17,
     "metadata": {},
     "output_type": "execute_result"
    },
    {
     "data": {
      "text/plain": [
       "'C:/Users/akash/Desktop/Akash/MSOEML/NIH_data/Infiltration/test/Normal\\\\521.png'"
      ]
     },
     "execution_count": 17,
     "metadata": {},
     "output_type": "execute_result"
    },
    {
     "data": {
      "text/plain": [
       "'C:/Users/akash/Desktop/Akash/MSOEML/NIH_data/Infiltration/test/Normal\\\\522.png'"
      ]
     },
     "execution_count": 17,
     "metadata": {},
     "output_type": "execute_result"
    },
    {
     "data": {
      "text/plain": [
       "'C:/Users/akash/Desktop/Akash/MSOEML/NIH_data/Infiltration/test/Normal\\\\523.png'"
      ]
     },
     "execution_count": 17,
     "metadata": {},
     "output_type": "execute_result"
    },
    {
     "data": {
      "text/plain": [
       "'C:/Users/akash/Desktop/Akash/MSOEML/NIH_data/Infiltration/test/Normal\\\\524.png'"
      ]
     },
     "execution_count": 17,
     "metadata": {},
     "output_type": "execute_result"
    },
    {
     "data": {
      "text/plain": [
       "'C:/Users/akash/Desktop/Akash/MSOEML/NIH_data/Infiltration/test/Normal\\\\525.png'"
      ]
     },
     "execution_count": 17,
     "metadata": {},
     "output_type": "execute_result"
    },
    {
     "data": {
      "text/plain": [
       "'C:/Users/akash/Desktop/Akash/MSOEML/NIH_data/Infiltration/test/Normal\\\\526.png'"
      ]
     },
     "execution_count": 17,
     "metadata": {},
     "output_type": "execute_result"
    },
    {
     "data": {
      "text/plain": [
       "'C:/Users/akash/Desktop/Akash/MSOEML/NIH_data/Infiltration/test/Normal\\\\527.png'"
      ]
     },
     "execution_count": 17,
     "metadata": {},
     "output_type": "execute_result"
    },
    {
     "data": {
      "text/plain": [
       "'C:/Users/akash/Desktop/Akash/MSOEML/NIH_data/Infiltration/test/Normal\\\\528.png'"
      ]
     },
     "execution_count": 17,
     "metadata": {},
     "output_type": "execute_result"
    },
    {
     "data": {
      "text/plain": [
       "'C:/Users/akash/Desktop/Akash/MSOEML/NIH_data/Infiltration/test/Normal\\\\529.png'"
      ]
     },
     "execution_count": 17,
     "metadata": {},
     "output_type": "execute_result"
    },
    {
     "data": {
      "text/plain": [
       "'C:/Users/akash/Desktop/Akash/MSOEML/NIH_data/Infiltration/test/Normal\\\\530.png'"
      ]
     },
     "execution_count": 17,
     "metadata": {},
     "output_type": "execute_result"
    },
    {
     "data": {
      "text/plain": [
       "'C:/Users/akash/Desktop/Akash/MSOEML/NIH_data/Infiltration/test/Normal\\\\531.png'"
      ]
     },
     "execution_count": 17,
     "metadata": {},
     "output_type": "execute_result"
    },
    {
     "data": {
      "text/plain": [
       "'C:/Users/akash/Desktop/Akash/MSOEML/NIH_data/Infiltration/test/Normal\\\\532.png'"
      ]
     },
     "execution_count": 17,
     "metadata": {},
     "output_type": "execute_result"
    },
    {
     "data": {
      "text/plain": [
       "'C:/Users/akash/Desktop/Akash/MSOEML/NIH_data/Infiltration/test/Normal\\\\533.png'"
      ]
     },
     "execution_count": 17,
     "metadata": {},
     "output_type": "execute_result"
    },
    {
     "data": {
      "text/plain": [
       "'C:/Users/akash/Desktop/Akash/MSOEML/NIH_data/Infiltration/test/Normal\\\\534.png'"
      ]
     },
     "execution_count": 17,
     "metadata": {},
     "output_type": "execute_result"
    },
    {
     "data": {
      "text/plain": [
       "'C:/Users/akash/Desktop/Akash/MSOEML/NIH_data/Infiltration/test/Normal\\\\535.png'"
      ]
     },
     "execution_count": 17,
     "metadata": {},
     "output_type": "execute_result"
    },
    {
     "data": {
      "text/plain": [
       "'C:/Users/akash/Desktop/Akash/MSOEML/NIH_data/Infiltration/test/Normal\\\\536.png'"
      ]
     },
     "execution_count": 17,
     "metadata": {},
     "output_type": "execute_result"
    },
    {
     "data": {
      "text/plain": [
       "'C:/Users/akash/Desktop/Akash/MSOEML/NIH_data/Infiltration/test/Normal\\\\537.png'"
      ]
     },
     "execution_count": 17,
     "metadata": {},
     "output_type": "execute_result"
    },
    {
     "data": {
      "text/plain": [
       "'C:/Users/akash/Desktop/Akash/MSOEML/NIH_data/Infiltration/test/Normal\\\\538.png'"
      ]
     },
     "execution_count": 17,
     "metadata": {},
     "output_type": "execute_result"
    },
    {
     "data": {
      "text/plain": [
       "'C:/Users/akash/Desktop/Akash/MSOEML/NIH_data/Infiltration/test/Normal\\\\539.png'"
      ]
     },
     "execution_count": 17,
     "metadata": {},
     "output_type": "execute_result"
    },
    {
     "data": {
      "text/plain": [
       "'C:/Users/akash/Desktop/Akash/MSOEML/NIH_data/Infiltration/test/Normal\\\\540.png'"
      ]
     },
     "execution_count": 17,
     "metadata": {},
     "output_type": "execute_result"
    },
    {
     "data": {
      "text/plain": [
       "'C:/Users/akash/Desktop/Akash/MSOEML/NIH_data/Infiltration/test/Normal\\\\541.png'"
      ]
     },
     "execution_count": 17,
     "metadata": {},
     "output_type": "execute_result"
    },
    {
     "data": {
      "text/plain": [
       "'C:/Users/akash/Desktop/Akash/MSOEML/NIH_data/Infiltration/test/Normal\\\\542.png'"
      ]
     },
     "execution_count": 17,
     "metadata": {},
     "output_type": "execute_result"
    },
    {
     "data": {
      "text/plain": [
       "'C:/Users/akash/Desktop/Akash/MSOEML/NIH_data/Infiltration/test/Normal\\\\543.png'"
      ]
     },
     "execution_count": 17,
     "metadata": {},
     "output_type": "execute_result"
    },
    {
     "data": {
      "text/plain": [
       "'C:/Users/akash/Desktop/Akash/MSOEML/NIH_data/Infiltration/test/Normal\\\\544.png'"
      ]
     },
     "execution_count": 17,
     "metadata": {},
     "output_type": "execute_result"
    },
    {
     "data": {
      "text/plain": [
       "'C:/Users/akash/Desktop/Akash/MSOEML/NIH_data/Infiltration/test/Normal\\\\545.png'"
      ]
     },
     "execution_count": 17,
     "metadata": {},
     "output_type": "execute_result"
    },
    {
     "data": {
      "text/plain": [
       "'C:/Users/akash/Desktop/Akash/MSOEML/NIH_data/Infiltration/test/Normal\\\\546.png'"
      ]
     },
     "execution_count": 17,
     "metadata": {},
     "output_type": "execute_result"
    },
    {
     "data": {
      "text/plain": [
       "'C:/Users/akash/Desktop/Akash/MSOEML/NIH_data/Infiltration/test/Normal\\\\547.png'"
      ]
     },
     "execution_count": 17,
     "metadata": {},
     "output_type": "execute_result"
    },
    {
     "data": {
      "text/plain": [
       "'C:/Users/akash/Desktop/Akash/MSOEML/NIH_data/Infiltration/test/Normal\\\\548.png'"
      ]
     },
     "execution_count": 17,
     "metadata": {},
     "output_type": "execute_result"
    },
    {
     "data": {
      "text/plain": [
       "'C:/Users/akash/Desktop/Akash/MSOEML/NIH_data/Infiltration/test/Normal\\\\549.png'"
      ]
     },
     "execution_count": 17,
     "metadata": {},
     "output_type": "execute_result"
    },
    {
     "data": {
      "text/plain": [
       "'C:/Users/akash/Desktop/Akash/MSOEML/NIH_data/Infiltration/test/Normal\\\\550.png'"
      ]
     },
     "execution_count": 17,
     "metadata": {},
     "output_type": "execute_result"
    },
    {
     "data": {
      "text/plain": [
       "'C:/Users/akash/Desktop/Akash/MSOEML/NIH_data/Infiltration/test/Normal\\\\551.png'"
      ]
     },
     "execution_count": 17,
     "metadata": {},
     "output_type": "execute_result"
    },
    {
     "data": {
      "text/plain": [
       "'C:/Users/akash/Desktop/Akash/MSOEML/NIH_data/Infiltration/test/Normal\\\\552.png'"
      ]
     },
     "execution_count": 17,
     "metadata": {},
     "output_type": "execute_result"
    },
    {
     "data": {
      "text/plain": [
       "'C:/Users/akash/Desktop/Akash/MSOEML/NIH_data/Infiltration/test/Normal\\\\553.png'"
      ]
     },
     "execution_count": 17,
     "metadata": {},
     "output_type": "execute_result"
    },
    {
     "data": {
      "text/plain": [
       "'C:/Users/akash/Desktop/Akash/MSOEML/NIH_data/Infiltration/test/Normal\\\\554.png'"
      ]
     },
     "execution_count": 17,
     "metadata": {},
     "output_type": "execute_result"
    },
    {
     "data": {
      "text/plain": [
       "'C:/Users/akash/Desktop/Akash/MSOEML/NIH_data/Infiltration/test/Normal\\\\555.png'"
      ]
     },
     "execution_count": 17,
     "metadata": {},
     "output_type": "execute_result"
    },
    {
     "data": {
      "text/plain": [
       "'C:/Users/akash/Desktop/Akash/MSOEML/NIH_data/Infiltration/test/Normal\\\\556.png'"
      ]
     },
     "execution_count": 17,
     "metadata": {},
     "output_type": "execute_result"
    },
    {
     "data": {
      "text/plain": [
       "'C:/Users/akash/Desktop/Akash/MSOEML/NIH_data/Infiltration/test/Normal\\\\557.png'"
      ]
     },
     "execution_count": 17,
     "metadata": {},
     "output_type": "execute_result"
    },
    {
     "data": {
      "text/plain": [
       "'C:/Users/akash/Desktop/Akash/MSOEML/NIH_data/Infiltration/test/Normal\\\\558.png'"
      ]
     },
     "execution_count": 17,
     "metadata": {},
     "output_type": "execute_result"
    },
    {
     "data": {
      "text/plain": [
       "'C:/Users/akash/Desktop/Akash/MSOEML/NIH_data/Infiltration/test/Normal\\\\559.png'"
      ]
     },
     "execution_count": 17,
     "metadata": {},
     "output_type": "execute_result"
    },
    {
     "data": {
      "text/plain": [
       "'C:/Users/akash/Desktop/Akash/MSOEML/NIH_data/Infiltration/test/Normal\\\\560.png'"
      ]
     },
     "execution_count": 17,
     "metadata": {},
     "output_type": "execute_result"
    },
    {
     "data": {
      "text/plain": [
       "'C:/Users/akash/Desktop/Akash/MSOEML/NIH_data/Infiltration/test/Normal\\\\561.png'"
      ]
     },
     "execution_count": 17,
     "metadata": {},
     "output_type": "execute_result"
    },
    {
     "data": {
      "text/plain": [
       "'C:/Users/akash/Desktop/Akash/MSOEML/NIH_data/Infiltration/test/Normal\\\\562.png'"
      ]
     },
     "execution_count": 17,
     "metadata": {},
     "output_type": "execute_result"
    },
    {
     "data": {
      "text/plain": [
       "'C:/Users/akash/Desktop/Akash/MSOEML/NIH_data/Infiltration/test/Normal\\\\563.png'"
      ]
     },
     "execution_count": 17,
     "metadata": {},
     "output_type": "execute_result"
    },
    {
     "data": {
      "text/plain": [
       "'C:/Users/akash/Desktop/Akash/MSOEML/NIH_data/Infiltration/test/Normal\\\\564.png'"
      ]
     },
     "execution_count": 17,
     "metadata": {},
     "output_type": "execute_result"
    },
    {
     "data": {
      "text/plain": [
       "'C:/Users/akash/Desktop/Akash/MSOEML/NIH_data/Infiltration/test/Normal\\\\565.png'"
      ]
     },
     "execution_count": 17,
     "metadata": {},
     "output_type": "execute_result"
    },
    {
     "data": {
      "text/plain": [
       "'C:/Users/akash/Desktop/Akash/MSOEML/NIH_data/Infiltration/test/Normal\\\\566.png'"
      ]
     },
     "execution_count": 17,
     "metadata": {},
     "output_type": "execute_result"
    },
    {
     "data": {
      "text/plain": [
       "'C:/Users/akash/Desktop/Akash/MSOEML/NIH_data/Infiltration/test/Normal\\\\567.png'"
      ]
     },
     "execution_count": 17,
     "metadata": {},
     "output_type": "execute_result"
    },
    {
     "data": {
      "text/plain": [
       "'C:/Users/akash/Desktop/Akash/MSOEML/NIH_data/Infiltration/test/Normal\\\\568.png'"
      ]
     },
     "execution_count": 17,
     "metadata": {},
     "output_type": "execute_result"
    },
    {
     "data": {
      "text/plain": [
       "'C:/Users/akash/Desktop/Akash/MSOEML/NIH_data/Infiltration/test/Normal\\\\569.png'"
      ]
     },
     "execution_count": 17,
     "metadata": {},
     "output_type": "execute_result"
    },
    {
     "data": {
      "text/plain": [
       "'C:/Users/akash/Desktop/Akash/MSOEML/NIH_data/Infiltration/test/Normal\\\\570.png'"
      ]
     },
     "execution_count": 17,
     "metadata": {},
     "output_type": "execute_result"
    },
    {
     "data": {
      "text/plain": [
       "'C:/Users/akash/Desktop/Akash/MSOEML/NIH_data/Infiltration/test/Normal\\\\571.png'"
      ]
     },
     "execution_count": 17,
     "metadata": {},
     "output_type": "execute_result"
    },
    {
     "data": {
      "text/plain": [
       "'C:/Users/akash/Desktop/Akash/MSOEML/NIH_data/Infiltration/test/Normal\\\\572.png'"
      ]
     },
     "execution_count": 17,
     "metadata": {},
     "output_type": "execute_result"
    },
    {
     "data": {
      "text/plain": [
       "'C:/Users/akash/Desktop/Akash/MSOEML/NIH_data/Infiltration/test/Normal\\\\573.png'"
      ]
     },
     "execution_count": 17,
     "metadata": {},
     "output_type": "execute_result"
    },
    {
     "data": {
      "text/plain": [
       "'C:/Users/akash/Desktop/Akash/MSOEML/NIH_data/Infiltration/test/Normal\\\\574.png'"
      ]
     },
     "execution_count": 17,
     "metadata": {},
     "output_type": "execute_result"
    },
    {
     "data": {
      "text/plain": [
       "'C:/Users/akash/Desktop/Akash/MSOEML/NIH_data/Infiltration/test/Normal\\\\575.png'"
      ]
     },
     "execution_count": 17,
     "metadata": {},
     "output_type": "execute_result"
    },
    {
     "data": {
      "text/plain": [
       "'C:/Users/akash/Desktop/Akash/MSOEML/NIH_data/Infiltration/test/Normal\\\\576.png'"
      ]
     },
     "execution_count": 17,
     "metadata": {},
     "output_type": "execute_result"
    },
    {
     "data": {
      "text/plain": [
       "'C:/Users/akash/Desktop/Akash/MSOEML/NIH_data/Infiltration/test/Normal\\\\577.png'"
      ]
     },
     "execution_count": 17,
     "metadata": {},
     "output_type": "execute_result"
    },
    {
     "data": {
      "text/plain": [
       "'C:/Users/akash/Desktop/Akash/MSOEML/NIH_data/Infiltration/test/Normal\\\\578.png'"
      ]
     },
     "execution_count": 17,
     "metadata": {},
     "output_type": "execute_result"
    },
    {
     "data": {
      "text/plain": [
       "'C:/Users/akash/Desktop/Akash/MSOEML/NIH_data/Infiltration/test/Normal\\\\579.png'"
      ]
     },
     "execution_count": 17,
     "metadata": {},
     "output_type": "execute_result"
    },
    {
     "data": {
      "text/plain": [
       "'C:/Users/akash/Desktop/Akash/MSOEML/NIH_data/Infiltration/test/Normal\\\\580.png'"
      ]
     },
     "execution_count": 17,
     "metadata": {},
     "output_type": "execute_result"
    },
    {
     "data": {
      "text/plain": [
       "'C:/Users/akash/Desktop/Akash/MSOEML/NIH_data/Infiltration/test/Normal\\\\581.png'"
      ]
     },
     "execution_count": 17,
     "metadata": {},
     "output_type": "execute_result"
    },
    {
     "data": {
      "text/plain": [
       "'C:/Users/akash/Desktop/Akash/MSOEML/NIH_data/Infiltration/test/Normal\\\\582.png'"
      ]
     },
     "execution_count": 17,
     "metadata": {},
     "output_type": "execute_result"
    },
    {
     "data": {
      "text/plain": [
       "'C:/Users/akash/Desktop/Akash/MSOEML/NIH_data/Infiltration/test/Normal\\\\583.png'"
      ]
     },
     "execution_count": 17,
     "metadata": {},
     "output_type": "execute_result"
    },
    {
     "data": {
      "text/plain": [
       "'C:/Users/akash/Desktop/Akash/MSOEML/NIH_data/Infiltration/test/Normal\\\\584.png'"
      ]
     },
     "execution_count": 17,
     "metadata": {},
     "output_type": "execute_result"
    },
    {
     "data": {
      "text/plain": [
       "'C:/Users/akash/Desktop/Akash/MSOEML/NIH_data/Infiltration/test/Normal\\\\585.png'"
      ]
     },
     "execution_count": 17,
     "metadata": {},
     "output_type": "execute_result"
    },
    {
     "data": {
      "text/plain": [
       "'C:/Users/akash/Desktop/Akash/MSOEML/NIH_data/Infiltration/test/Normal\\\\586.png'"
      ]
     },
     "execution_count": 17,
     "metadata": {},
     "output_type": "execute_result"
    },
    {
     "data": {
      "text/plain": [
       "'C:/Users/akash/Desktop/Akash/MSOEML/NIH_data/Infiltration/test/Normal\\\\587.png'"
      ]
     },
     "execution_count": 17,
     "metadata": {},
     "output_type": "execute_result"
    },
    {
     "data": {
      "text/plain": [
       "'C:/Users/akash/Desktop/Akash/MSOEML/NIH_data/Infiltration/test/Normal\\\\588.png'"
      ]
     },
     "execution_count": 17,
     "metadata": {},
     "output_type": "execute_result"
    },
    {
     "data": {
      "text/plain": [
       "'C:/Users/akash/Desktop/Akash/MSOEML/NIH_data/Infiltration/test/Normal\\\\589.png'"
      ]
     },
     "execution_count": 17,
     "metadata": {},
     "output_type": "execute_result"
    },
    {
     "data": {
      "text/plain": [
       "'C:/Users/akash/Desktop/Akash/MSOEML/NIH_data/Infiltration/test/Normal\\\\590.png'"
      ]
     },
     "execution_count": 17,
     "metadata": {},
     "output_type": "execute_result"
    },
    {
     "data": {
      "text/plain": [
       "'C:/Users/akash/Desktop/Akash/MSOEML/NIH_data/Infiltration/test/Normal\\\\591.png'"
      ]
     },
     "execution_count": 17,
     "metadata": {},
     "output_type": "execute_result"
    },
    {
     "data": {
      "text/plain": [
       "'C:/Users/akash/Desktop/Akash/MSOEML/NIH_data/Infiltration/test/Normal\\\\592.png'"
      ]
     },
     "execution_count": 17,
     "metadata": {},
     "output_type": "execute_result"
    },
    {
     "data": {
      "text/plain": [
       "'C:/Users/akash/Desktop/Akash/MSOEML/NIH_data/Infiltration/test/Normal\\\\593.png'"
      ]
     },
     "execution_count": 17,
     "metadata": {},
     "output_type": "execute_result"
    },
    {
     "data": {
      "text/plain": [
       "'C:/Users/akash/Desktop/Akash/MSOEML/NIH_data/Infiltration/test/Normal\\\\594.png'"
      ]
     },
     "execution_count": 17,
     "metadata": {},
     "output_type": "execute_result"
    },
    {
     "data": {
      "text/plain": [
       "'C:/Users/akash/Desktop/Akash/MSOEML/NIH_data/Infiltration/test/Normal\\\\595.png'"
      ]
     },
     "execution_count": 17,
     "metadata": {},
     "output_type": "execute_result"
    },
    {
     "data": {
      "text/plain": [
       "'C:/Users/akash/Desktop/Akash/MSOEML/NIH_data/Infiltration/test/Normal\\\\596.png'"
      ]
     },
     "execution_count": 17,
     "metadata": {},
     "output_type": "execute_result"
    },
    {
     "data": {
      "text/plain": [
       "'C:/Users/akash/Desktop/Akash/MSOEML/NIH_data/Infiltration/test/Normal\\\\597.png'"
      ]
     },
     "execution_count": 17,
     "metadata": {},
     "output_type": "execute_result"
    },
    {
     "data": {
      "text/plain": [
       "'C:/Users/akash/Desktop/Akash/MSOEML/NIH_data/Infiltration/test/Normal\\\\598.png'"
      ]
     },
     "execution_count": 17,
     "metadata": {},
     "output_type": "execute_result"
    },
    {
     "data": {
      "text/plain": [
       "'C:/Users/akash/Desktop/Akash/MSOEML/NIH_data/Infiltration/test/Normal\\\\599.png'"
      ]
     },
     "execution_count": 17,
     "metadata": {},
     "output_type": "execute_result"
    },
    {
     "data": {
      "text/plain": [
       "'C:/Users/akash/Desktop/Akash/MSOEML/NIH_data/Infiltration/test/Normal\\\\600.png'"
      ]
     },
     "execution_count": 17,
     "metadata": {},
     "output_type": "execute_result"
    },
    {
     "data": {
      "text/plain": [
       "'C:/Users/akash/Desktop/Akash/MSOEML/NIH_data/Infiltration/test/Normal\\\\601.png'"
      ]
     },
     "execution_count": 17,
     "metadata": {},
     "output_type": "execute_result"
    },
    {
     "data": {
      "text/plain": [
       "'C:/Users/akash/Desktop/Akash/MSOEML/NIH_data/Infiltration/test/Normal\\\\602.png'"
      ]
     },
     "execution_count": 17,
     "metadata": {},
     "output_type": "execute_result"
    },
    {
     "data": {
      "text/plain": [
       "'C:/Users/akash/Desktop/Akash/MSOEML/NIH_data/Infiltration/test/Normal\\\\603.png'"
      ]
     },
     "execution_count": 17,
     "metadata": {},
     "output_type": "execute_result"
    },
    {
     "data": {
      "text/plain": [
       "'C:/Users/akash/Desktop/Akash/MSOEML/NIH_data/Infiltration/test/Normal\\\\604.png'"
      ]
     },
     "execution_count": 17,
     "metadata": {},
     "output_type": "execute_result"
    },
    {
     "data": {
      "text/plain": [
       "'C:/Users/akash/Desktop/Akash/MSOEML/NIH_data/Infiltration/test/Normal\\\\605.png'"
      ]
     },
     "execution_count": 17,
     "metadata": {},
     "output_type": "execute_result"
    },
    {
     "data": {
      "text/plain": [
       "'C:/Users/akash/Desktop/Akash/MSOEML/NIH_data/Infiltration/test/Normal\\\\606.png'"
      ]
     },
     "execution_count": 17,
     "metadata": {},
     "output_type": "execute_result"
    },
    {
     "data": {
      "text/plain": [
       "'C:/Users/akash/Desktop/Akash/MSOEML/NIH_data/Infiltration/test/Normal\\\\607.png'"
      ]
     },
     "execution_count": 17,
     "metadata": {},
     "output_type": "execute_result"
    },
    {
     "data": {
      "text/plain": [
       "'C:/Users/akash/Desktop/Akash/MSOEML/NIH_data/Infiltration/test/Normal\\\\608.png'"
      ]
     },
     "execution_count": 17,
     "metadata": {},
     "output_type": "execute_result"
    },
    {
     "data": {
      "text/plain": [
       "'C:/Users/akash/Desktop/Akash/MSOEML/NIH_data/Infiltration/test/Normal\\\\609.png'"
      ]
     },
     "execution_count": 17,
     "metadata": {},
     "output_type": "execute_result"
    },
    {
     "data": {
      "text/plain": [
       "'C:/Users/akash/Desktop/Akash/MSOEML/NIH_data/Infiltration/test/Normal\\\\610.png'"
      ]
     },
     "execution_count": 17,
     "metadata": {},
     "output_type": "execute_result"
    },
    {
     "data": {
      "text/plain": [
       "'C:/Users/akash/Desktop/Akash/MSOEML/NIH_data/Infiltration/test/Normal\\\\611.png'"
      ]
     },
     "execution_count": 17,
     "metadata": {},
     "output_type": "execute_result"
    },
    {
     "data": {
      "text/plain": [
       "'C:/Users/akash/Desktop/Akash/MSOEML/NIH_data/Infiltration/test/Normal\\\\612.png'"
      ]
     },
     "execution_count": 17,
     "metadata": {},
     "output_type": "execute_result"
    },
    {
     "data": {
      "text/plain": [
       "'C:/Users/akash/Desktop/Akash/MSOEML/NIH_data/Infiltration/test/Normal\\\\613.png'"
      ]
     },
     "execution_count": 17,
     "metadata": {},
     "output_type": "execute_result"
    },
    {
     "data": {
      "text/plain": [
       "'C:/Users/akash/Desktop/Akash/MSOEML/NIH_data/Infiltration/test/Normal\\\\614.png'"
      ]
     },
     "execution_count": 17,
     "metadata": {},
     "output_type": "execute_result"
    },
    {
     "data": {
      "text/plain": [
       "'C:/Users/akash/Desktop/Akash/MSOEML/NIH_data/Infiltration/test/Normal\\\\615.png'"
      ]
     },
     "execution_count": 17,
     "metadata": {},
     "output_type": "execute_result"
    },
    {
     "data": {
      "text/plain": [
       "'C:/Users/akash/Desktop/Akash/MSOEML/NIH_data/Infiltration/test/Normal\\\\616.png'"
      ]
     },
     "execution_count": 17,
     "metadata": {},
     "output_type": "execute_result"
    },
    {
     "data": {
      "text/plain": [
       "'C:/Users/akash/Desktop/Akash/MSOEML/NIH_data/Infiltration/test/Normal\\\\617.png'"
      ]
     },
     "execution_count": 17,
     "metadata": {},
     "output_type": "execute_result"
    },
    {
     "data": {
      "text/plain": [
       "'C:/Users/akash/Desktop/Akash/MSOEML/NIH_data/Infiltration/test/Normal\\\\618.png'"
      ]
     },
     "execution_count": 17,
     "metadata": {},
     "output_type": "execute_result"
    },
    {
     "data": {
      "text/plain": [
       "'C:/Users/akash/Desktop/Akash/MSOEML/NIH_data/Infiltration/test/Normal\\\\619.png'"
      ]
     },
     "execution_count": 17,
     "metadata": {},
     "output_type": "execute_result"
    },
    {
     "data": {
      "text/plain": [
       "'C:/Users/akash/Desktop/Akash/MSOEML/NIH_data/Infiltration/test/Normal\\\\620.png'"
      ]
     },
     "execution_count": 17,
     "metadata": {},
     "output_type": "execute_result"
    },
    {
     "data": {
      "text/plain": [
       "'C:/Users/akash/Desktop/Akash/MSOEML/NIH_data/Infiltration/test/Normal\\\\621.png'"
      ]
     },
     "execution_count": 17,
     "metadata": {},
     "output_type": "execute_result"
    },
    {
     "data": {
      "text/plain": [
       "'C:/Users/akash/Desktop/Akash/MSOEML/NIH_data/Infiltration/test/Normal\\\\622.png'"
      ]
     },
     "execution_count": 17,
     "metadata": {},
     "output_type": "execute_result"
    },
    {
     "data": {
      "text/plain": [
       "'C:/Users/akash/Desktop/Akash/MSOEML/NIH_data/Infiltration/test/Normal\\\\623.png'"
      ]
     },
     "execution_count": 17,
     "metadata": {},
     "output_type": "execute_result"
    },
    {
     "data": {
      "text/plain": [
       "'C:/Users/akash/Desktop/Akash/MSOEML/NIH_data/Infiltration/test/Normal\\\\624.png'"
      ]
     },
     "execution_count": 17,
     "metadata": {},
     "output_type": "execute_result"
    },
    {
     "data": {
      "text/plain": [
       "'C:/Users/akash/Desktop/Akash/MSOEML/NIH_data/Infiltration/test/Normal\\\\625.png'"
      ]
     },
     "execution_count": 17,
     "metadata": {},
     "output_type": "execute_result"
    },
    {
     "data": {
      "text/plain": [
       "'C:/Users/akash/Desktop/Akash/MSOEML/NIH_data/Infiltration/test/Normal\\\\626.png'"
      ]
     },
     "execution_count": 17,
     "metadata": {},
     "output_type": "execute_result"
    },
    {
     "data": {
      "text/plain": [
       "'C:/Users/akash/Desktop/Akash/MSOEML/NIH_data/Infiltration/test/Normal\\\\627.png'"
      ]
     },
     "execution_count": 17,
     "metadata": {},
     "output_type": "execute_result"
    },
    {
     "data": {
      "text/plain": [
       "'C:/Users/akash/Desktop/Akash/MSOEML/NIH_data/Infiltration/test/Normal\\\\628.png'"
      ]
     },
     "execution_count": 17,
     "metadata": {},
     "output_type": "execute_result"
    },
    {
     "data": {
      "text/plain": [
       "'C:/Users/akash/Desktop/Akash/MSOEML/NIH_data/Infiltration/test/Normal\\\\629.png'"
      ]
     },
     "execution_count": 17,
     "metadata": {},
     "output_type": "execute_result"
    },
    {
     "data": {
      "text/plain": [
       "'C:/Users/akash/Desktop/Akash/MSOEML/NIH_data/Infiltration/test/Normal\\\\630.png'"
      ]
     },
     "execution_count": 17,
     "metadata": {},
     "output_type": "execute_result"
    },
    {
     "data": {
      "text/plain": [
       "'C:/Users/akash/Desktop/Akash/MSOEML/NIH_data/Infiltration/test/Normal\\\\631.png'"
      ]
     },
     "execution_count": 17,
     "metadata": {},
     "output_type": "execute_result"
    },
    {
     "data": {
      "text/plain": [
       "'C:/Users/akash/Desktop/Akash/MSOEML/NIH_data/Infiltration/test/Normal\\\\632.png'"
      ]
     },
     "execution_count": 17,
     "metadata": {},
     "output_type": "execute_result"
    },
    {
     "data": {
      "text/plain": [
       "'C:/Users/akash/Desktop/Akash/MSOEML/NIH_data/Infiltration/test/Normal\\\\633.png'"
      ]
     },
     "execution_count": 17,
     "metadata": {},
     "output_type": "execute_result"
    },
    {
     "data": {
      "text/plain": [
       "'C:/Users/akash/Desktop/Akash/MSOEML/NIH_data/Infiltration/test/Normal\\\\634.png'"
      ]
     },
     "execution_count": 17,
     "metadata": {},
     "output_type": "execute_result"
    },
    {
     "data": {
      "text/plain": [
       "'C:/Users/akash/Desktop/Akash/MSOEML/NIH_data/Infiltration/test/Normal\\\\635.png'"
      ]
     },
     "execution_count": 17,
     "metadata": {},
     "output_type": "execute_result"
    },
    {
     "data": {
      "text/plain": [
       "'C:/Users/akash/Desktop/Akash/MSOEML/NIH_data/Infiltration/test/Normal\\\\636.png'"
      ]
     },
     "execution_count": 17,
     "metadata": {},
     "output_type": "execute_result"
    },
    {
     "data": {
      "text/plain": [
       "'C:/Users/akash/Desktop/Akash/MSOEML/NIH_data/Infiltration/test/Normal\\\\637.png'"
      ]
     },
     "execution_count": 17,
     "metadata": {},
     "output_type": "execute_result"
    },
    {
     "data": {
      "text/plain": [
       "'C:/Users/akash/Desktop/Akash/MSOEML/NIH_data/Infiltration/test/Normal\\\\638.png'"
      ]
     },
     "execution_count": 17,
     "metadata": {},
     "output_type": "execute_result"
    },
    {
     "data": {
      "text/plain": [
       "'C:/Users/akash/Desktop/Akash/MSOEML/NIH_data/Infiltration/test/Normal\\\\639.png'"
      ]
     },
     "execution_count": 17,
     "metadata": {},
     "output_type": "execute_result"
    },
    {
     "data": {
      "text/plain": [
       "'C:/Users/akash/Desktop/Akash/MSOEML/NIH_data/Infiltration/test/Normal\\\\640.png'"
      ]
     },
     "execution_count": 17,
     "metadata": {},
     "output_type": "execute_result"
    },
    {
     "data": {
      "text/plain": [
       "'C:/Users/akash/Desktop/Akash/MSOEML/NIH_data/Infiltration/test/Normal\\\\641.png'"
      ]
     },
     "execution_count": 17,
     "metadata": {},
     "output_type": "execute_result"
    },
    {
     "data": {
      "text/plain": [
       "'C:/Users/akash/Desktop/Akash/MSOEML/NIH_data/Infiltration/test/Normal\\\\642.png'"
      ]
     },
     "execution_count": 17,
     "metadata": {},
     "output_type": "execute_result"
    },
    {
     "data": {
      "text/plain": [
       "'C:/Users/akash/Desktop/Akash/MSOEML/NIH_data/Infiltration/test/Normal\\\\643.png'"
      ]
     },
     "execution_count": 17,
     "metadata": {},
     "output_type": "execute_result"
    },
    {
     "data": {
      "text/plain": [
       "'C:/Users/akash/Desktop/Akash/MSOEML/NIH_data/Infiltration/test/Normal\\\\644.png'"
      ]
     },
     "execution_count": 17,
     "metadata": {},
     "output_type": "execute_result"
    },
    {
     "data": {
      "text/plain": [
       "'C:/Users/akash/Desktop/Akash/MSOEML/NIH_data/Infiltration/test/Normal\\\\645.png'"
      ]
     },
     "execution_count": 17,
     "metadata": {},
     "output_type": "execute_result"
    },
    {
     "data": {
      "text/plain": [
       "'C:/Users/akash/Desktop/Akash/MSOEML/NIH_data/Infiltration/test/Normal\\\\646.png'"
      ]
     },
     "execution_count": 17,
     "metadata": {},
     "output_type": "execute_result"
    },
    {
     "data": {
      "text/plain": [
       "'C:/Users/akash/Desktop/Akash/MSOEML/NIH_data/Infiltration/test/Normal\\\\647.png'"
      ]
     },
     "execution_count": 17,
     "metadata": {},
     "output_type": "execute_result"
    },
    {
     "data": {
      "text/plain": [
       "'C:/Users/akash/Desktop/Akash/MSOEML/NIH_data/Infiltration/test/Normal\\\\648.png'"
      ]
     },
     "execution_count": 17,
     "metadata": {},
     "output_type": "execute_result"
    },
    {
     "data": {
      "text/plain": [
       "'C:/Users/akash/Desktop/Akash/MSOEML/NIH_data/Infiltration/test/Normal\\\\649.png'"
      ]
     },
     "execution_count": 17,
     "metadata": {},
     "output_type": "execute_result"
    },
    {
     "data": {
      "text/plain": [
       "'C:/Users/akash/Desktop/Akash/MSOEML/NIH_data/Infiltration/test/Normal\\\\650.png'"
      ]
     },
     "execution_count": 17,
     "metadata": {},
     "output_type": "execute_result"
    },
    {
     "data": {
      "text/plain": [
       "'C:/Users/akash/Desktop/Akash/MSOEML/NIH_data/Infiltration/test/Normal\\\\651.png'"
      ]
     },
     "execution_count": 17,
     "metadata": {},
     "output_type": "execute_result"
    },
    {
     "data": {
      "text/plain": [
       "'C:/Users/akash/Desktop/Akash/MSOEML/NIH_data/Infiltration/test/Normal\\\\652.png'"
      ]
     },
     "execution_count": 17,
     "metadata": {},
     "output_type": "execute_result"
    },
    {
     "data": {
      "text/plain": [
       "'C:/Users/akash/Desktop/Akash/MSOEML/NIH_data/Infiltration/test/Normal\\\\653.png'"
      ]
     },
     "execution_count": 17,
     "metadata": {},
     "output_type": "execute_result"
    },
    {
     "data": {
      "text/plain": [
       "'C:/Users/akash/Desktop/Akash/MSOEML/NIH_data/Infiltration/test/Normal\\\\654.png'"
      ]
     },
     "execution_count": 17,
     "metadata": {},
     "output_type": "execute_result"
    },
    {
     "data": {
      "text/plain": [
       "'C:/Users/akash/Desktop/Akash/MSOEML/NIH_data/Infiltration/test/Normal\\\\655.png'"
      ]
     },
     "execution_count": 17,
     "metadata": {},
     "output_type": "execute_result"
    },
    {
     "data": {
      "text/plain": [
       "'C:/Users/akash/Desktop/Akash/MSOEML/NIH_data/Infiltration/test/Normal\\\\656.png'"
      ]
     },
     "execution_count": 17,
     "metadata": {},
     "output_type": "execute_result"
    },
    {
     "data": {
      "text/plain": [
       "'C:/Users/akash/Desktop/Akash/MSOEML/NIH_data/Infiltration/test/Normal\\\\657.png'"
      ]
     },
     "execution_count": 17,
     "metadata": {},
     "output_type": "execute_result"
    },
    {
     "data": {
      "text/plain": [
       "'C:/Users/akash/Desktop/Akash/MSOEML/NIH_data/Infiltration/test/Normal\\\\658.png'"
      ]
     },
     "execution_count": 17,
     "metadata": {},
     "output_type": "execute_result"
    },
    {
     "data": {
      "text/plain": [
       "'C:/Users/akash/Desktop/Akash/MSOEML/NIH_data/Infiltration/test/Normal\\\\659.png'"
      ]
     },
     "execution_count": 17,
     "metadata": {},
     "output_type": "execute_result"
    },
    {
     "data": {
      "text/plain": [
       "'C:/Users/akash/Desktop/Akash/MSOEML/NIH_data/Infiltration/test/Normal\\\\660.png'"
      ]
     },
     "execution_count": 17,
     "metadata": {},
     "output_type": "execute_result"
    },
    {
     "data": {
      "text/plain": [
       "'C:/Users/akash/Desktop/Akash/MSOEML/NIH_data/Infiltration/test/Normal\\\\661.png'"
      ]
     },
     "execution_count": 17,
     "metadata": {},
     "output_type": "execute_result"
    },
    {
     "data": {
      "text/plain": [
       "'C:/Users/akash/Desktop/Akash/MSOEML/NIH_data/Infiltration/test/Normal\\\\662.png'"
      ]
     },
     "execution_count": 17,
     "metadata": {},
     "output_type": "execute_result"
    },
    {
     "data": {
      "text/plain": [
       "'C:/Users/akash/Desktop/Akash/MSOEML/NIH_data/Infiltration/test/Normal\\\\663.png'"
      ]
     },
     "execution_count": 17,
     "metadata": {},
     "output_type": "execute_result"
    },
    {
     "data": {
      "text/plain": [
       "'C:/Users/akash/Desktop/Akash/MSOEML/NIH_data/Infiltration/test/Normal\\\\664.png'"
      ]
     },
     "execution_count": 17,
     "metadata": {},
     "output_type": "execute_result"
    },
    {
     "data": {
      "text/plain": [
       "'C:/Users/akash/Desktop/Akash/MSOEML/NIH_data/Infiltration/test/Normal\\\\665.png'"
      ]
     },
     "execution_count": 17,
     "metadata": {},
     "output_type": "execute_result"
    },
    {
     "data": {
      "text/plain": [
       "'C:/Users/akash/Desktop/Akash/MSOEML/NIH_data/Infiltration/test/Normal\\\\666.png'"
      ]
     },
     "execution_count": 17,
     "metadata": {},
     "output_type": "execute_result"
    },
    {
     "data": {
      "text/plain": [
       "'C:/Users/akash/Desktop/Akash/MSOEML/NIH_data/Infiltration/test/Normal\\\\667.png'"
      ]
     },
     "execution_count": 17,
     "metadata": {},
     "output_type": "execute_result"
    },
    {
     "data": {
      "text/plain": [
       "'C:/Users/akash/Desktop/Akash/MSOEML/NIH_data/Infiltration/test/Normal\\\\668.png'"
      ]
     },
     "execution_count": 17,
     "metadata": {},
     "output_type": "execute_result"
    },
    {
     "data": {
      "text/plain": [
       "'C:/Users/akash/Desktop/Akash/MSOEML/NIH_data/Infiltration/test/Normal\\\\669.png'"
      ]
     },
     "execution_count": 17,
     "metadata": {},
     "output_type": "execute_result"
    },
    {
     "data": {
      "text/plain": [
       "'C:/Users/akash/Desktop/Akash/MSOEML/NIH_data/Infiltration/test/Normal\\\\670.png'"
      ]
     },
     "execution_count": 17,
     "metadata": {},
     "output_type": "execute_result"
    },
    {
     "data": {
      "text/plain": [
       "'C:/Users/akash/Desktop/Akash/MSOEML/NIH_data/Infiltration/test/Normal\\\\671.png'"
      ]
     },
     "execution_count": 17,
     "metadata": {},
     "output_type": "execute_result"
    },
    {
     "data": {
      "text/plain": [
       "'C:/Users/akash/Desktop/Akash/MSOEML/NIH_data/Infiltration/test/Normal\\\\672.png'"
      ]
     },
     "execution_count": 17,
     "metadata": {},
     "output_type": "execute_result"
    },
    {
     "data": {
      "text/plain": [
       "'C:/Users/akash/Desktop/Akash/MSOEML/NIH_data/Infiltration/test/Normal\\\\673.png'"
      ]
     },
     "execution_count": 17,
     "metadata": {},
     "output_type": "execute_result"
    },
    {
     "data": {
      "text/plain": [
       "'C:/Users/akash/Desktop/Akash/MSOEML/NIH_data/Infiltration/test/Normal\\\\674.png'"
      ]
     },
     "execution_count": 17,
     "metadata": {},
     "output_type": "execute_result"
    },
    {
     "data": {
      "text/plain": [
       "'C:/Users/akash/Desktop/Akash/MSOEML/NIH_data/Infiltration/test/Normal\\\\675.png'"
      ]
     },
     "execution_count": 17,
     "metadata": {},
     "output_type": "execute_result"
    },
    {
     "data": {
      "text/plain": [
       "'C:/Users/akash/Desktop/Akash/MSOEML/NIH_data/Infiltration/test/Normal\\\\676.png'"
      ]
     },
     "execution_count": 17,
     "metadata": {},
     "output_type": "execute_result"
    },
    {
     "data": {
      "text/plain": [
       "'C:/Users/akash/Desktop/Akash/MSOEML/NIH_data/Infiltration/test/Normal\\\\677.png'"
      ]
     },
     "execution_count": 17,
     "metadata": {},
     "output_type": "execute_result"
    },
    {
     "data": {
      "text/plain": [
       "'C:/Users/akash/Desktop/Akash/MSOEML/NIH_data/Infiltration/test/Normal\\\\678.png'"
      ]
     },
     "execution_count": 17,
     "metadata": {},
     "output_type": "execute_result"
    },
    {
     "data": {
      "text/plain": [
       "'C:/Users/akash/Desktop/Akash/MSOEML/NIH_data/Infiltration/test/Normal\\\\679.png'"
      ]
     },
     "execution_count": 17,
     "metadata": {},
     "output_type": "execute_result"
    },
    {
     "data": {
      "text/plain": [
       "'C:/Users/akash/Desktop/Akash/MSOEML/NIH_data/Infiltration/test/Normal\\\\680.png'"
      ]
     },
     "execution_count": 17,
     "metadata": {},
     "output_type": "execute_result"
    },
    {
     "data": {
      "text/plain": [
       "'C:/Users/akash/Desktop/Akash/MSOEML/NIH_data/Infiltration/test/Normal\\\\681.png'"
      ]
     },
     "execution_count": 17,
     "metadata": {},
     "output_type": "execute_result"
    },
    {
     "data": {
      "text/plain": [
       "'C:/Users/akash/Desktop/Akash/MSOEML/NIH_data/Infiltration/test/Normal\\\\682.png'"
      ]
     },
     "execution_count": 17,
     "metadata": {},
     "output_type": "execute_result"
    },
    {
     "data": {
      "text/plain": [
       "'C:/Users/akash/Desktop/Akash/MSOEML/NIH_data/Infiltration/test/Normal\\\\683.png'"
      ]
     },
     "execution_count": 17,
     "metadata": {},
     "output_type": "execute_result"
    },
    {
     "data": {
      "text/plain": [
       "'C:/Users/akash/Desktop/Akash/MSOEML/NIH_data/Infiltration/test/Normal\\\\684.png'"
      ]
     },
     "execution_count": 17,
     "metadata": {},
     "output_type": "execute_result"
    },
    {
     "data": {
      "text/plain": [
       "'C:/Users/akash/Desktop/Akash/MSOEML/NIH_data/Infiltration/test/Normal\\\\685.png'"
      ]
     },
     "execution_count": 17,
     "metadata": {},
     "output_type": "execute_result"
    },
    {
     "data": {
      "text/plain": [
       "'C:/Users/akash/Desktop/Akash/MSOEML/NIH_data/Infiltration/test/Normal\\\\686.png'"
      ]
     },
     "execution_count": 17,
     "metadata": {},
     "output_type": "execute_result"
    },
    {
     "data": {
      "text/plain": [
       "'C:/Users/akash/Desktop/Akash/MSOEML/NIH_data/Infiltration/test/Normal\\\\687.png'"
      ]
     },
     "execution_count": 17,
     "metadata": {},
     "output_type": "execute_result"
    },
    {
     "data": {
      "text/plain": [
       "'C:/Users/akash/Desktop/Akash/MSOEML/NIH_data/Infiltration/test/Normal\\\\688.png'"
      ]
     },
     "execution_count": 17,
     "metadata": {},
     "output_type": "execute_result"
    },
    {
     "data": {
      "text/plain": [
       "'C:/Users/akash/Desktop/Akash/MSOEML/NIH_data/Infiltration/test/Normal\\\\689.png'"
      ]
     },
     "execution_count": 17,
     "metadata": {},
     "output_type": "execute_result"
    },
    {
     "data": {
      "text/plain": [
       "'C:/Users/akash/Desktop/Akash/MSOEML/NIH_data/Infiltration/test/Normal\\\\690.png'"
      ]
     },
     "execution_count": 17,
     "metadata": {},
     "output_type": "execute_result"
    },
    {
     "data": {
      "text/plain": [
       "'C:/Users/akash/Desktop/Akash/MSOEML/NIH_data/Infiltration/test/Normal\\\\691.png'"
      ]
     },
     "execution_count": 17,
     "metadata": {},
     "output_type": "execute_result"
    },
    {
     "data": {
      "text/plain": [
       "'C:/Users/akash/Desktop/Akash/MSOEML/NIH_data/Infiltration/test/Normal\\\\692.png'"
      ]
     },
     "execution_count": 17,
     "metadata": {},
     "output_type": "execute_result"
    },
    {
     "data": {
      "text/plain": [
       "'C:/Users/akash/Desktop/Akash/MSOEML/NIH_data/Infiltration/test/Normal\\\\693.png'"
      ]
     },
     "execution_count": 17,
     "metadata": {},
     "output_type": "execute_result"
    },
    {
     "data": {
      "text/plain": [
       "'C:/Users/akash/Desktop/Akash/MSOEML/NIH_data/Infiltration/test/Normal\\\\694.png'"
      ]
     },
     "execution_count": 17,
     "metadata": {},
     "output_type": "execute_result"
    },
    {
     "data": {
      "text/plain": [
       "'C:/Users/akash/Desktop/Akash/MSOEML/NIH_data/Infiltration/test/Normal\\\\695.png'"
      ]
     },
     "execution_count": 17,
     "metadata": {},
     "output_type": "execute_result"
    },
    {
     "data": {
      "text/plain": [
       "'C:/Users/akash/Desktop/Akash/MSOEML/NIH_data/Infiltration/test/Normal\\\\696.png'"
      ]
     },
     "execution_count": 17,
     "metadata": {},
     "output_type": "execute_result"
    },
    {
     "data": {
      "text/plain": [
       "'C:/Users/akash/Desktop/Akash/MSOEML/NIH_data/Infiltration/test/Normal\\\\697.png'"
      ]
     },
     "execution_count": 17,
     "metadata": {},
     "output_type": "execute_result"
    },
    {
     "data": {
      "text/plain": [
       "'C:/Users/akash/Desktop/Akash/MSOEML/NIH_data/Infiltration/test/Normal\\\\698.png'"
      ]
     },
     "execution_count": 17,
     "metadata": {},
     "output_type": "execute_result"
    },
    {
     "data": {
      "text/plain": [
       "'C:/Users/akash/Desktop/Akash/MSOEML/NIH_data/Infiltration/test/Normal\\\\699.png'"
      ]
     },
     "execution_count": 17,
     "metadata": {},
     "output_type": "execute_result"
    },
    {
     "data": {
      "text/plain": [
       "'C:/Users/akash/Desktop/Akash/MSOEML/NIH_data/Infiltration/test/Normal\\\\700.png'"
      ]
     },
     "execution_count": 17,
     "metadata": {},
     "output_type": "execute_result"
    },
    {
     "data": {
      "text/plain": [
       "'C:/Users/akash/Desktop/Akash/MSOEML/NIH_data/Infiltration/test/Normal\\\\701.png'"
      ]
     },
     "execution_count": 17,
     "metadata": {},
     "output_type": "execute_result"
    },
    {
     "data": {
      "text/plain": [
       "'C:/Users/akash/Desktop/Akash/MSOEML/NIH_data/Infiltration/test/Normal\\\\702.png'"
      ]
     },
     "execution_count": 17,
     "metadata": {},
     "output_type": "execute_result"
    },
    {
     "data": {
      "text/plain": [
       "'C:/Users/akash/Desktop/Akash/MSOEML/NIH_data/Infiltration/test/Normal\\\\703.png'"
      ]
     },
     "execution_count": 17,
     "metadata": {},
     "output_type": "execute_result"
    },
    {
     "data": {
      "text/plain": [
       "'C:/Users/akash/Desktop/Akash/MSOEML/NIH_data/Infiltration/test/Normal\\\\704.png'"
      ]
     },
     "execution_count": 17,
     "metadata": {},
     "output_type": "execute_result"
    },
    {
     "data": {
      "text/plain": [
       "'C:/Users/akash/Desktop/Akash/MSOEML/NIH_data/Infiltration/test/Normal\\\\705.png'"
      ]
     },
     "execution_count": 17,
     "metadata": {},
     "output_type": "execute_result"
    },
    {
     "data": {
      "text/plain": [
       "'C:/Users/akash/Desktop/Akash/MSOEML/NIH_data/Infiltration/test/Normal\\\\706.png'"
      ]
     },
     "execution_count": 17,
     "metadata": {},
     "output_type": "execute_result"
    },
    {
     "data": {
      "text/plain": [
       "'C:/Users/akash/Desktop/Akash/MSOEML/NIH_data/Infiltration/test/Normal\\\\707.png'"
      ]
     },
     "execution_count": 17,
     "metadata": {},
     "output_type": "execute_result"
    },
    {
     "data": {
      "text/plain": [
       "'C:/Users/akash/Desktop/Akash/MSOEML/NIH_data/Infiltration/test/Normal\\\\708.png'"
      ]
     },
     "execution_count": 17,
     "metadata": {},
     "output_type": "execute_result"
    },
    {
     "data": {
      "text/plain": [
       "'C:/Users/akash/Desktop/Akash/MSOEML/NIH_data/Infiltration/test/Normal\\\\709.png'"
      ]
     },
     "execution_count": 17,
     "metadata": {},
     "output_type": "execute_result"
    },
    {
     "data": {
      "text/plain": [
       "'C:/Users/akash/Desktop/Akash/MSOEML/NIH_data/Infiltration/test/Normal\\\\710.png'"
      ]
     },
     "execution_count": 17,
     "metadata": {},
     "output_type": "execute_result"
    },
    {
     "data": {
      "text/plain": [
       "'C:/Users/akash/Desktop/Akash/MSOEML/NIH_data/Infiltration/test/Normal\\\\711.png'"
      ]
     },
     "execution_count": 17,
     "metadata": {},
     "output_type": "execute_result"
    },
    {
     "data": {
      "text/plain": [
       "'C:/Users/akash/Desktop/Akash/MSOEML/NIH_data/Infiltration/test/Normal\\\\712.png'"
      ]
     },
     "execution_count": 17,
     "metadata": {},
     "output_type": "execute_result"
    },
    {
     "data": {
      "text/plain": [
       "'C:/Users/akash/Desktop/Akash/MSOEML/NIH_data/Infiltration/test/Normal\\\\713.png'"
      ]
     },
     "execution_count": 17,
     "metadata": {},
     "output_type": "execute_result"
    },
    {
     "data": {
      "text/plain": [
       "'C:/Users/akash/Desktop/Akash/MSOEML/NIH_data/Infiltration/test/Normal\\\\714.png'"
      ]
     },
     "execution_count": 17,
     "metadata": {},
     "output_type": "execute_result"
    },
    {
     "data": {
      "text/plain": [
       "'C:/Users/akash/Desktop/Akash/MSOEML/NIH_data/Infiltration/test/Normal\\\\715.png'"
      ]
     },
     "execution_count": 17,
     "metadata": {},
     "output_type": "execute_result"
    },
    {
     "data": {
      "text/plain": [
       "'C:/Users/akash/Desktop/Akash/MSOEML/NIH_data/Infiltration/test/Normal\\\\716.png'"
      ]
     },
     "execution_count": 17,
     "metadata": {},
     "output_type": "execute_result"
    },
    {
     "data": {
      "text/plain": [
       "'C:/Users/akash/Desktop/Akash/MSOEML/NIH_data/Infiltration/test/Normal\\\\717.png'"
      ]
     },
     "execution_count": 17,
     "metadata": {},
     "output_type": "execute_result"
    },
    {
     "data": {
      "text/plain": [
       "'C:/Users/akash/Desktop/Akash/MSOEML/NIH_data/Infiltration/test/Normal\\\\718.png'"
      ]
     },
     "execution_count": 17,
     "metadata": {},
     "output_type": "execute_result"
    },
    {
     "data": {
      "text/plain": [
       "'C:/Users/akash/Desktop/Akash/MSOEML/NIH_data/Infiltration/test/Normal\\\\719.png'"
      ]
     },
     "execution_count": 17,
     "metadata": {},
     "output_type": "execute_result"
    },
    {
     "data": {
      "text/plain": [
       "'C:/Users/akash/Desktop/Akash/MSOEML/NIH_data/Infiltration/test/Normal\\\\720.png'"
      ]
     },
     "execution_count": 17,
     "metadata": {},
     "output_type": "execute_result"
    },
    {
     "data": {
      "text/plain": [
       "'C:/Users/akash/Desktop/Akash/MSOEML/NIH_data/Infiltration/test/Normal\\\\721.png'"
      ]
     },
     "execution_count": 17,
     "metadata": {},
     "output_type": "execute_result"
    },
    {
     "data": {
      "text/plain": [
       "'C:/Users/akash/Desktop/Akash/MSOEML/NIH_data/Infiltration/test/Normal\\\\722.png'"
      ]
     },
     "execution_count": 17,
     "metadata": {},
     "output_type": "execute_result"
    },
    {
     "data": {
      "text/plain": [
       "'C:/Users/akash/Desktop/Akash/MSOEML/NIH_data/Infiltration/test/Normal\\\\723.png'"
      ]
     },
     "execution_count": 17,
     "metadata": {},
     "output_type": "execute_result"
    },
    {
     "data": {
      "text/plain": [
       "'C:/Users/akash/Desktop/Akash/MSOEML/NIH_data/Infiltration/test/Normal\\\\724.png'"
      ]
     },
     "execution_count": 17,
     "metadata": {},
     "output_type": "execute_result"
    },
    {
     "data": {
      "text/plain": [
       "'C:/Users/akash/Desktop/Akash/MSOEML/NIH_data/Infiltration/test/Normal\\\\725.png'"
      ]
     },
     "execution_count": 17,
     "metadata": {},
     "output_type": "execute_result"
    },
    {
     "data": {
      "text/plain": [
       "'C:/Users/akash/Desktop/Akash/MSOEML/NIH_data/Infiltration/test/Normal\\\\726.png'"
      ]
     },
     "execution_count": 17,
     "metadata": {},
     "output_type": "execute_result"
    },
    {
     "data": {
      "text/plain": [
       "'C:/Users/akash/Desktop/Akash/MSOEML/NIH_data/Infiltration/test/Normal\\\\727.png'"
      ]
     },
     "execution_count": 17,
     "metadata": {},
     "output_type": "execute_result"
    },
    {
     "data": {
      "text/plain": [
       "'C:/Users/akash/Desktop/Akash/MSOEML/NIH_data/Infiltration/test/Normal\\\\728.png'"
      ]
     },
     "execution_count": 17,
     "metadata": {},
     "output_type": "execute_result"
    },
    {
     "data": {
      "text/plain": [
       "'C:/Users/akash/Desktop/Akash/MSOEML/NIH_data/Infiltration/test/Normal\\\\729.png'"
      ]
     },
     "execution_count": 17,
     "metadata": {},
     "output_type": "execute_result"
    },
    {
     "data": {
      "text/plain": [
       "'C:/Users/akash/Desktop/Akash/MSOEML/NIH_data/Infiltration/test/Normal\\\\730.png'"
      ]
     },
     "execution_count": 17,
     "metadata": {},
     "output_type": "execute_result"
    },
    {
     "data": {
      "text/plain": [
       "'C:/Users/akash/Desktop/Akash/MSOEML/NIH_data/Infiltration/test/Normal\\\\731.png'"
      ]
     },
     "execution_count": 17,
     "metadata": {},
     "output_type": "execute_result"
    },
    {
     "data": {
      "text/plain": [
       "'C:/Users/akash/Desktop/Akash/MSOEML/NIH_data/Infiltration/test/Normal\\\\732.png'"
      ]
     },
     "execution_count": 17,
     "metadata": {},
     "output_type": "execute_result"
    },
    {
     "data": {
      "text/plain": [
       "'C:/Users/akash/Desktop/Akash/MSOEML/NIH_data/Infiltration/test/Normal\\\\733.png'"
      ]
     },
     "execution_count": 17,
     "metadata": {},
     "output_type": "execute_result"
    },
    {
     "data": {
      "text/plain": [
       "'C:/Users/akash/Desktop/Akash/MSOEML/NIH_data/Infiltration/test/Normal\\\\734.png'"
      ]
     },
     "execution_count": 17,
     "metadata": {},
     "output_type": "execute_result"
    },
    {
     "data": {
      "text/plain": [
       "'C:/Users/akash/Desktop/Akash/MSOEML/NIH_data/Infiltration/test/Normal\\\\735.png'"
      ]
     },
     "execution_count": 17,
     "metadata": {},
     "output_type": "execute_result"
    },
    {
     "data": {
      "text/plain": [
       "'C:/Users/akash/Desktop/Akash/MSOEML/NIH_data/Infiltration/test/Normal\\\\736.png'"
      ]
     },
     "execution_count": 17,
     "metadata": {},
     "output_type": "execute_result"
    },
    {
     "data": {
      "text/plain": [
       "'C:/Users/akash/Desktop/Akash/MSOEML/NIH_data/Infiltration/test/Normal\\\\737.png'"
      ]
     },
     "execution_count": 17,
     "metadata": {},
     "output_type": "execute_result"
    },
    {
     "data": {
      "text/plain": [
       "'C:/Users/akash/Desktop/Akash/MSOEML/NIH_data/Infiltration/test/Normal\\\\738.png'"
      ]
     },
     "execution_count": 17,
     "metadata": {},
     "output_type": "execute_result"
    },
    {
     "data": {
      "text/plain": [
       "'C:/Users/akash/Desktop/Akash/MSOEML/NIH_data/Infiltration/test/Normal\\\\739.png'"
      ]
     },
     "execution_count": 17,
     "metadata": {},
     "output_type": "execute_result"
    },
    {
     "data": {
      "text/plain": [
       "'C:/Users/akash/Desktop/Akash/MSOEML/NIH_data/Infiltration/test/Normal\\\\740.png'"
      ]
     },
     "execution_count": 17,
     "metadata": {},
     "output_type": "execute_result"
    },
    {
     "data": {
      "text/plain": [
       "'C:/Users/akash/Desktop/Akash/MSOEML/NIH_data/Infiltration/test/Normal\\\\741.png'"
      ]
     },
     "execution_count": 17,
     "metadata": {},
     "output_type": "execute_result"
    },
    {
     "data": {
      "text/plain": [
       "'C:/Users/akash/Desktop/Akash/MSOEML/NIH_data/Infiltration/test/Normal\\\\742.png'"
      ]
     },
     "execution_count": 17,
     "metadata": {},
     "output_type": "execute_result"
    },
    {
     "data": {
      "text/plain": [
       "'C:/Users/akash/Desktop/Akash/MSOEML/NIH_data/Infiltration/test/Normal\\\\743.png'"
      ]
     },
     "execution_count": 17,
     "metadata": {},
     "output_type": "execute_result"
    },
    {
     "data": {
      "text/plain": [
       "'C:/Users/akash/Desktop/Akash/MSOEML/NIH_data/Infiltration/test/Normal\\\\744.png'"
      ]
     },
     "execution_count": 17,
     "metadata": {},
     "output_type": "execute_result"
    },
    {
     "data": {
      "text/plain": [
       "'C:/Users/akash/Desktop/Akash/MSOEML/NIH_data/Infiltration/test/Normal\\\\745.png'"
      ]
     },
     "execution_count": 17,
     "metadata": {},
     "output_type": "execute_result"
    },
    {
     "data": {
      "text/plain": [
       "'C:/Users/akash/Desktop/Akash/MSOEML/NIH_data/Infiltration/test/Normal\\\\746.png'"
      ]
     },
     "execution_count": 17,
     "metadata": {},
     "output_type": "execute_result"
    },
    {
     "data": {
      "text/plain": [
       "'C:/Users/akash/Desktop/Akash/MSOEML/NIH_data/Infiltration/test/Normal\\\\747.png'"
      ]
     },
     "execution_count": 17,
     "metadata": {},
     "output_type": "execute_result"
    },
    {
     "data": {
      "text/plain": [
       "'C:/Users/akash/Desktop/Akash/MSOEML/NIH_data/Infiltration/test/Normal\\\\748.png'"
      ]
     },
     "execution_count": 17,
     "metadata": {},
     "output_type": "execute_result"
    },
    {
     "data": {
      "text/plain": [
       "'C:/Users/akash/Desktop/Akash/MSOEML/NIH_data/Infiltration/test/Normal\\\\749.png'"
      ]
     },
     "execution_count": 17,
     "metadata": {},
     "output_type": "execute_result"
    },
    {
     "data": {
      "text/plain": [
       "'C:/Users/akash/Desktop/Akash/MSOEML/NIH_data/Infiltration/test/Normal\\\\750.png'"
      ]
     },
     "execution_count": 17,
     "metadata": {},
     "output_type": "execute_result"
    },
    {
     "data": {
      "text/plain": [
       "'C:/Users/akash/Desktop/Akash/MSOEML/NIH_data/Infiltration/test/Normal\\\\751.png'"
      ]
     },
     "execution_count": 17,
     "metadata": {},
     "output_type": "execute_result"
    },
    {
     "data": {
      "text/plain": [
       "'C:/Users/akash/Desktop/Akash/MSOEML/NIH_data/Infiltration/test/Normal\\\\752.png'"
      ]
     },
     "execution_count": 17,
     "metadata": {},
     "output_type": "execute_result"
    },
    {
     "data": {
      "text/plain": [
       "'C:/Users/akash/Desktop/Akash/MSOEML/NIH_data/Infiltration/test/Normal\\\\753.png'"
      ]
     },
     "execution_count": 17,
     "metadata": {},
     "output_type": "execute_result"
    },
    {
     "data": {
      "text/plain": [
       "'C:/Users/akash/Desktop/Akash/MSOEML/NIH_data/Infiltration/test/Normal\\\\754.png'"
      ]
     },
     "execution_count": 17,
     "metadata": {},
     "output_type": "execute_result"
    },
    {
     "data": {
      "text/plain": [
       "'C:/Users/akash/Desktop/Akash/MSOEML/NIH_data/Infiltration/test/Normal\\\\755.png'"
      ]
     },
     "execution_count": 17,
     "metadata": {},
     "output_type": "execute_result"
    },
    {
     "data": {
      "text/plain": [
       "'C:/Users/akash/Desktop/Akash/MSOEML/NIH_data/Infiltration/test/Normal\\\\756.png'"
      ]
     },
     "execution_count": 17,
     "metadata": {},
     "output_type": "execute_result"
    },
    {
     "data": {
      "text/plain": [
       "'C:/Users/akash/Desktop/Akash/MSOEML/NIH_data/Infiltration/test/Normal\\\\757.png'"
      ]
     },
     "execution_count": 17,
     "metadata": {},
     "output_type": "execute_result"
    },
    {
     "data": {
      "text/plain": [
       "'C:/Users/akash/Desktop/Akash/MSOEML/NIH_data/Infiltration/test/Normal\\\\758.png'"
      ]
     },
     "execution_count": 17,
     "metadata": {},
     "output_type": "execute_result"
    },
    {
     "data": {
      "text/plain": [
       "'C:/Users/akash/Desktop/Akash/MSOEML/NIH_data/Infiltration/test/Normal\\\\759.png'"
      ]
     },
     "execution_count": 17,
     "metadata": {},
     "output_type": "execute_result"
    },
    {
     "data": {
      "text/plain": [
       "'C:/Users/akash/Desktop/Akash/MSOEML/NIH_data/Infiltration/test/Normal\\\\760.png'"
      ]
     },
     "execution_count": 17,
     "metadata": {},
     "output_type": "execute_result"
    },
    {
     "data": {
      "text/plain": [
       "'C:/Users/akash/Desktop/Akash/MSOEML/NIH_data/Infiltration/test/Normal\\\\761.png'"
      ]
     },
     "execution_count": 17,
     "metadata": {},
     "output_type": "execute_result"
    },
    {
     "data": {
      "text/plain": [
       "'C:/Users/akash/Desktop/Akash/MSOEML/NIH_data/Infiltration/test/Normal\\\\762.png'"
      ]
     },
     "execution_count": 17,
     "metadata": {},
     "output_type": "execute_result"
    },
    {
     "data": {
      "text/plain": [
       "'C:/Users/akash/Desktop/Akash/MSOEML/NIH_data/Infiltration/test/Normal\\\\763.png'"
      ]
     },
     "execution_count": 17,
     "metadata": {},
     "output_type": "execute_result"
    },
    {
     "data": {
      "text/plain": [
       "'C:/Users/akash/Desktop/Akash/MSOEML/NIH_data/Infiltration/test/Normal\\\\764.png'"
      ]
     },
     "execution_count": 17,
     "metadata": {},
     "output_type": "execute_result"
    },
    {
     "data": {
      "text/plain": [
       "'C:/Users/akash/Desktop/Akash/MSOEML/NIH_data/Infiltration/test/Normal\\\\765.png'"
      ]
     },
     "execution_count": 17,
     "metadata": {},
     "output_type": "execute_result"
    },
    {
     "data": {
      "text/plain": [
       "'C:/Users/akash/Desktop/Akash/MSOEML/NIH_data/Infiltration/test/Normal\\\\766.png'"
      ]
     },
     "execution_count": 17,
     "metadata": {},
     "output_type": "execute_result"
    },
    {
     "data": {
      "text/plain": [
       "'C:/Users/akash/Desktop/Akash/MSOEML/NIH_data/Infiltration/test/Normal\\\\767.png'"
      ]
     },
     "execution_count": 17,
     "metadata": {},
     "output_type": "execute_result"
    },
    {
     "data": {
      "text/plain": [
       "'C:/Users/akash/Desktop/Akash/MSOEML/NIH_data/Infiltration/test/Normal\\\\768.png'"
      ]
     },
     "execution_count": 17,
     "metadata": {},
     "output_type": "execute_result"
    },
    {
     "data": {
      "text/plain": [
       "'C:/Users/akash/Desktop/Akash/MSOEML/NIH_data/Infiltration/test/Normal\\\\769.png'"
      ]
     },
     "execution_count": 17,
     "metadata": {},
     "output_type": "execute_result"
    },
    {
     "data": {
      "text/plain": [
       "'C:/Users/akash/Desktop/Akash/MSOEML/NIH_data/Infiltration/test/Normal\\\\770.png'"
      ]
     },
     "execution_count": 17,
     "metadata": {},
     "output_type": "execute_result"
    },
    {
     "data": {
      "text/plain": [
       "'C:/Users/akash/Desktop/Akash/MSOEML/NIH_data/Infiltration/test/Normal\\\\771.png'"
      ]
     },
     "execution_count": 17,
     "metadata": {},
     "output_type": "execute_result"
    },
    {
     "data": {
      "text/plain": [
       "'C:/Users/akash/Desktop/Akash/MSOEML/NIH_data/Infiltration/test/Normal\\\\772.png'"
      ]
     },
     "execution_count": 17,
     "metadata": {},
     "output_type": "execute_result"
    },
    {
     "data": {
      "text/plain": [
       "'C:/Users/akash/Desktop/Akash/MSOEML/NIH_data/Infiltration/test/Normal\\\\773.png'"
      ]
     },
     "execution_count": 17,
     "metadata": {},
     "output_type": "execute_result"
    },
    {
     "data": {
      "text/plain": [
       "'C:/Users/akash/Desktop/Akash/MSOEML/NIH_data/Infiltration/test/Normal\\\\774.png'"
      ]
     },
     "execution_count": 17,
     "metadata": {},
     "output_type": "execute_result"
    },
    {
     "data": {
      "text/plain": [
       "'C:/Users/akash/Desktop/Akash/MSOEML/NIH_data/Infiltration/test/Normal\\\\775.png'"
      ]
     },
     "execution_count": 17,
     "metadata": {},
     "output_type": "execute_result"
    },
    {
     "data": {
      "text/plain": [
       "'C:/Users/akash/Desktop/Akash/MSOEML/NIH_data/Infiltration/test/Normal\\\\776.png'"
      ]
     },
     "execution_count": 17,
     "metadata": {},
     "output_type": "execute_result"
    },
    {
     "data": {
      "text/plain": [
       "'C:/Users/akash/Desktop/Akash/MSOEML/NIH_data/Infiltration/test/Normal\\\\777.png'"
      ]
     },
     "execution_count": 17,
     "metadata": {},
     "output_type": "execute_result"
    },
    {
     "data": {
      "text/plain": [
       "'C:/Users/akash/Desktop/Akash/MSOEML/NIH_data/Infiltration/test/Normal\\\\778.png'"
      ]
     },
     "execution_count": 17,
     "metadata": {},
     "output_type": "execute_result"
    },
    {
     "data": {
      "text/plain": [
       "'C:/Users/akash/Desktop/Akash/MSOEML/NIH_data/Infiltration/test/Normal\\\\779.png'"
      ]
     },
     "execution_count": 17,
     "metadata": {},
     "output_type": "execute_result"
    },
    {
     "data": {
      "text/plain": [
       "'C:/Users/akash/Desktop/Akash/MSOEML/NIH_data/Infiltration/test/Normal\\\\780.png'"
      ]
     },
     "execution_count": 17,
     "metadata": {},
     "output_type": "execute_result"
    },
    {
     "data": {
      "text/plain": [
       "'C:/Users/akash/Desktop/Akash/MSOEML/NIH_data/Infiltration/test/Normal\\\\781.png'"
      ]
     },
     "execution_count": 17,
     "metadata": {},
     "output_type": "execute_result"
    },
    {
     "data": {
      "text/plain": [
       "'C:/Users/akash/Desktop/Akash/MSOEML/NIH_data/Infiltration/test/Normal\\\\782.png'"
      ]
     },
     "execution_count": 17,
     "metadata": {},
     "output_type": "execute_result"
    },
    {
     "data": {
      "text/plain": [
       "'C:/Users/akash/Desktop/Akash/MSOEML/NIH_data/Infiltration/test/Normal\\\\783.png'"
      ]
     },
     "execution_count": 17,
     "metadata": {},
     "output_type": "execute_result"
    },
    {
     "data": {
      "text/plain": [
       "'C:/Users/akash/Desktop/Akash/MSOEML/NIH_data/Infiltration/test/Normal\\\\784.png'"
      ]
     },
     "execution_count": 17,
     "metadata": {},
     "output_type": "execute_result"
    },
    {
     "data": {
      "text/plain": [
       "'C:/Users/akash/Desktop/Akash/MSOEML/NIH_data/Infiltration/test/Normal\\\\785.png'"
      ]
     },
     "execution_count": 17,
     "metadata": {},
     "output_type": "execute_result"
    },
    {
     "data": {
      "text/plain": [
       "'C:/Users/akash/Desktop/Akash/MSOEML/NIH_data/Infiltration/test/Normal\\\\786.png'"
      ]
     },
     "execution_count": 17,
     "metadata": {},
     "output_type": "execute_result"
    },
    {
     "data": {
      "text/plain": [
       "'C:/Users/akash/Desktop/Akash/MSOEML/NIH_data/Infiltration/test/Normal\\\\787.png'"
      ]
     },
     "execution_count": 17,
     "metadata": {},
     "output_type": "execute_result"
    },
    {
     "data": {
      "text/plain": [
       "'C:/Users/akash/Desktop/Akash/MSOEML/NIH_data/Infiltration/test/Normal\\\\788.png'"
      ]
     },
     "execution_count": 17,
     "metadata": {},
     "output_type": "execute_result"
    },
    {
     "data": {
      "text/plain": [
       "'C:/Users/akash/Desktop/Akash/MSOEML/NIH_data/Infiltration/test/Normal\\\\789.png'"
      ]
     },
     "execution_count": 17,
     "metadata": {},
     "output_type": "execute_result"
    },
    {
     "data": {
      "text/plain": [
       "'C:/Users/akash/Desktop/Akash/MSOEML/NIH_data/Infiltration/test/Normal\\\\790.png'"
      ]
     },
     "execution_count": 17,
     "metadata": {},
     "output_type": "execute_result"
    },
    {
     "data": {
      "text/plain": [
       "'C:/Users/akash/Desktop/Akash/MSOEML/NIH_data/Infiltration/test/Normal\\\\791.png'"
      ]
     },
     "execution_count": 17,
     "metadata": {},
     "output_type": "execute_result"
    },
    {
     "data": {
      "text/plain": [
       "'C:/Users/akash/Desktop/Akash/MSOEML/NIH_data/Infiltration/test/Normal\\\\792.png'"
      ]
     },
     "execution_count": 17,
     "metadata": {},
     "output_type": "execute_result"
    },
    {
     "data": {
      "text/plain": [
       "'C:/Users/akash/Desktop/Akash/MSOEML/NIH_data/Infiltration/test/Normal\\\\793.png'"
      ]
     },
     "execution_count": 17,
     "metadata": {},
     "output_type": "execute_result"
    },
    {
     "data": {
      "text/plain": [
       "'C:/Users/akash/Desktop/Akash/MSOEML/NIH_data/Infiltration/test/Normal\\\\794.png'"
      ]
     },
     "execution_count": 17,
     "metadata": {},
     "output_type": "execute_result"
    },
    {
     "data": {
      "text/plain": [
       "'C:/Users/akash/Desktop/Akash/MSOEML/NIH_data/Infiltration/test/Normal\\\\795.png'"
      ]
     },
     "execution_count": 17,
     "metadata": {},
     "output_type": "execute_result"
    },
    {
     "data": {
      "text/plain": [
       "'C:/Users/akash/Desktop/Akash/MSOEML/NIH_data/Infiltration/test/Normal\\\\796.png'"
      ]
     },
     "execution_count": 17,
     "metadata": {},
     "output_type": "execute_result"
    },
    {
     "data": {
      "text/plain": [
       "'C:/Users/akash/Desktop/Akash/MSOEML/NIH_data/Infiltration/test/Normal\\\\797.png'"
      ]
     },
     "execution_count": 17,
     "metadata": {},
     "output_type": "execute_result"
    },
    {
     "data": {
      "text/plain": [
       "'C:/Users/akash/Desktop/Akash/MSOEML/NIH_data/Infiltration/test/Normal\\\\798.png'"
      ]
     },
     "execution_count": 17,
     "metadata": {},
     "output_type": "execute_result"
    },
    {
     "data": {
      "text/plain": [
       "'C:/Users/akash/Desktop/Akash/MSOEML/NIH_data/Infiltration/test/Normal\\\\799.png'"
      ]
     },
     "execution_count": 17,
     "metadata": {},
     "output_type": "execute_result"
    },
    {
     "data": {
      "text/plain": [
       "'C:/Users/akash/Desktop/Akash/MSOEML/NIH_data/Infiltration/test/Normal\\\\800.png'"
      ]
     },
     "execution_count": 17,
     "metadata": {},
     "output_type": "execute_result"
    },
    {
     "data": {
      "text/plain": [
       "'C:/Users/akash/Desktop/Akash/MSOEML/NIH_data/Infiltration/test/Normal\\\\801.png'"
      ]
     },
     "execution_count": 17,
     "metadata": {},
     "output_type": "execute_result"
    },
    {
     "data": {
      "text/plain": [
       "'C:/Users/akash/Desktop/Akash/MSOEML/NIH_data/Infiltration/test/Normal\\\\802.png'"
      ]
     },
     "execution_count": 17,
     "metadata": {},
     "output_type": "execute_result"
    },
    {
     "data": {
      "text/plain": [
       "'C:/Users/akash/Desktop/Akash/MSOEML/NIH_data/Infiltration/test/Normal\\\\803.png'"
      ]
     },
     "execution_count": 17,
     "metadata": {},
     "output_type": "execute_result"
    },
    {
     "data": {
      "text/plain": [
       "'C:/Users/akash/Desktop/Akash/MSOEML/NIH_data/Infiltration/test/Normal\\\\804.png'"
      ]
     },
     "execution_count": 17,
     "metadata": {},
     "output_type": "execute_result"
    },
    {
     "data": {
      "text/plain": [
       "'C:/Users/akash/Desktop/Akash/MSOEML/NIH_data/Infiltration/test/Normal\\\\805.png'"
      ]
     },
     "execution_count": 17,
     "metadata": {},
     "output_type": "execute_result"
    },
    {
     "data": {
      "text/plain": [
       "'C:/Users/akash/Desktop/Akash/MSOEML/NIH_data/Infiltration/test/Normal\\\\806.png'"
      ]
     },
     "execution_count": 17,
     "metadata": {},
     "output_type": "execute_result"
    },
    {
     "data": {
      "text/plain": [
       "'C:/Users/akash/Desktop/Akash/MSOEML/NIH_data/Infiltration/test/Normal\\\\807.png'"
      ]
     },
     "execution_count": 17,
     "metadata": {},
     "output_type": "execute_result"
    },
    {
     "data": {
      "text/plain": [
       "'C:/Users/akash/Desktop/Akash/MSOEML/NIH_data/Infiltration/test/Normal\\\\808.png'"
      ]
     },
     "execution_count": 17,
     "metadata": {},
     "output_type": "execute_result"
    },
    {
     "data": {
      "text/plain": [
       "'C:/Users/akash/Desktop/Akash/MSOEML/NIH_data/Infiltration/test/Normal\\\\809.png'"
      ]
     },
     "execution_count": 17,
     "metadata": {},
     "output_type": "execute_result"
    },
    {
     "data": {
      "text/plain": [
       "'C:/Users/akash/Desktop/Akash/MSOEML/NIH_data/Infiltration/test/Normal\\\\810.png'"
      ]
     },
     "execution_count": 17,
     "metadata": {},
     "output_type": "execute_result"
    },
    {
     "data": {
      "text/plain": [
       "'C:/Users/akash/Desktop/Akash/MSOEML/NIH_data/Infiltration/test/Normal\\\\811.png'"
      ]
     },
     "execution_count": 17,
     "metadata": {},
     "output_type": "execute_result"
    },
    {
     "data": {
      "text/plain": [
       "'C:/Users/akash/Desktop/Akash/MSOEML/NIH_data/Infiltration/test/Normal\\\\812.png'"
      ]
     },
     "execution_count": 17,
     "metadata": {},
     "output_type": "execute_result"
    },
    {
     "data": {
      "text/plain": [
       "'C:/Users/akash/Desktop/Akash/MSOEML/NIH_data/Infiltration/test/Normal\\\\813.png'"
      ]
     },
     "execution_count": 17,
     "metadata": {},
     "output_type": "execute_result"
    },
    {
     "data": {
      "text/plain": [
       "'C:/Users/akash/Desktop/Akash/MSOEML/NIH_data/Infiltration/test/Normal\\\\814.png'"
      ]
     },
     "execution_count": 17,
     "metadata": {},
     "output_type": "execute_result"
    },
    {
     "data": {
      "text/plain": [
       "'C:/Users/akash/Desktop/Akash/MSOEML/NIH_data/Infiltration/test/Normal\\\\815.png'"
      ]
     },
     "execution_count": 17,
     "metadata": {},
     "output_type": "execute_result"
    },
    {
     "data": {
      "text/plain": [
       "'C:/Users/akash/Desktop/Akash/MSOEML/NIH_data/Infiltration/test/Normal\\\\816.png'"
      ]
     },
     "execution_count": 17,
     "metadata": {},
     "output_type": "execute_result"
    },
    {
     "data": {
      "text/plain": [
       "'C:/Users/akash/Desktop/Akash/MSOEML/NIH_data/Infiltration/test/Normal\\\\817.png'"
      ]
     },
     "execution_count": 17,
     "metadata": {},
     "output_type": "execute_result"
    },
    {
     "data": {
      "text/plain": [
       "'C:/Users/akash/Desktop/Akash/MSOEML/NIH_data/Infiltration/test/Normal\\\\818.png'"
      ]
     },
     "execution_count": 17,
     "metadata": {},
     "output_type": "execute_result"
    },
    {
     "data": {
      "text/plain": [
       "'C:/Users/akash/Desktop/Akash/MSOEML/NIH_data/Infiltration/test/Normal\\\\819.png'"
      ]
     },
     "execution_count": 17,
     "metadata": {},
     "output_type": "execute_result"
    },
    {
     "data": {
      "text/plain": [
       "'C:/Users/akash/Desktop/Akash/MSOEML/NIH_data/Infiltration/test/Normal\\\\820.png'"
      ]
     },
     "execution_count": 17,
     "metadata": {},
     "output_type": "execute_result"
    },
    {
     "data": {
      "text/plain": [
       "'C:/Users/akash/Desktop/Akash/MSOEML/NIH_data/Infiltration/test/Normal\\\\821.png'"
      ]
     },
     "execution_count": 17,
     "metadata": {},
     "output_type": "execute_result"
    },
    {
     "data": {
      "text/plain": [
       "'C:/Users/akash/Desktop/Akash/MSOEML/NIH_data/Infiltration/test/Normal\\\\822.png'"
      ]
     },
     "execution_count": 17,
     "metadata": {},
     "output_type": "execute_result"
    },
    {
     "data": {
      "text/plain": [
       "'C:/Users/akash/Desktop/Akash/MSOEML/NIH_data/Infiltration/test/Normal\\\\823.png'"
      ]
     },
     "execution_count": 17,
     "metadata": {},
     "output_type": "execute_result"
    },
    {
     "data": {
      "text/plain": [
       "'C:/Users/akash/Desktop/Akash/MSOEML/NIH_data/Infiltration/test/Normal\\\\824.png'"
      ]
     },
     "execution_count": 17,
     "metadata": {},
     "output_type": "execute_result"
    },
    {
     "data": {
      "text/plain": [
       "'C:/Users/akash/Desktop/Akash/MSOEML/NIH_data/Infiltration/test/Normal\\\\825.png'"
      ]
     },
     "execution_count": 17,
     "metadata": {},
     "output_type": "execute_result"
    },
    {
     "data": {
      "text/plain": [
       "'C:/Users/akash/Desktop/Akash/MSOEML/NIH_data/Infiltration/test/Normal\\\\826.png'"
      ]
     },
     "execution_count": 17,
     "metadata": {},
     "output_type": "execute_result"
    },
    {
     "data": {
      "text/plain": [
       "'C:/Users/akash/Desktop/Akash/MSOEML/NIH_data/Infiltration/test/Normal\\\\827.png'"
      ]
     },
     "execution_count": 17,
     "metadata": {},
     "output_type": "execute_result"
    },
    {
     "data": {
      "text/plain": [
       "'C:/Users/akash/Desktop/Akash/MSOEML/NIH_data/Infiltration/test/Normal\\\\828.png'"
      ]
     },
     "execution_count": 17,
     "metadata": {},
     "output_type": "execute_result"
    },
    {
     "data": {
      "text/plain": [
       "'C:/Users/akash/Desktop/Akash/MSOEML/NIH_data/Infiltration/test/Normal\\\\829.png'"
      ]
     },
     "execution_count": 17,
     "metadata": {},
     "output_type": "execute_result"
    },
    {
     "data": {
      "text/plain": [
       "'C:/Users/akash/Desktop/Akash/MSOEML/NIH_data/Infiltration/test/Normal\\\\830.png'"
      ]
     },
     "execution_count": 17,
     "metadata": {},
     "output_type": "execute_result"
    },
    {
     "data": {
      "text/plain": [
       "'C:/Users/akash/Desktop/Akash/MSOEML/NIH_data/Infiltration/test/Normal\\\\831.png'"
      ]
     },
     "execution_count": 17,
     "metadata": {},
     "output_type": "execute_result"
    },
    {
     "data": {
      "text/plain": [
       "'C:/Users/akash/Desktop/Akash/MSOEML/NIH_data/Infiltration/test/Normal\\\\832.png'"
      ]
     },
     "execution_count": 17,
     "metadata": {},
     "output_type": "execute_result"
    },
    {
     "data": {
      "text/plain": [
       "'C:/Users/akash/Desktop/Akash/MSOEML/NIH_data/Infiltration/test/Normal\\\\833.png'"
      ]
     },
     "execution_count": 17,
     "metadata": {},
     "output_type": "execute_result"
    },
    {
     "data": {
      "text/plain": [
       "'C:/Users/akash/Desktop/Akash/MSOEML/NIH_data/Infiltration/test/Normal\\\\834.png'"
      ]
     },
     "execution_count": 17,
     "metadata": {},
     "output_type": "execute_result"
    },
    {
     "data": {
      "text/plain": [
       "'C:/Users/akash/Desktop/Akash/MSOEML/NIH_data/Infiltration/test/Normal\\\\835.png'"
      ]
     },
     "execution_count": 17,
     "metadata": {},
     "output_type": "execute_result"
    },
    {
     "data": {
      "text/plain": [
       "'C:/Users/akash/Desktop/Akash/MSOEML/NIH_data/Infiltration/test/Normal\\\\836.png'"
      ]
     },
     "execution_count": 17,
     "metadata": {},
     "output_type": "execute_result"
    },
    {
     "data": {
      "text/plain": [
       "'C:/Users/akash/Desktop/Akash/MSOEML/NIH_data/Infiltration/test/Normal\\\\837.png'"
      ]
     },
     "execution_count": 17,
     "metadata": {},
     "output_type": "execute_result"
    },
    {
     "data": {
      "text/plain": [
       "'C:/Users/akash/Desktop/Akash/MSOEML/NIH_data/Infiltration/test/Normal\\\\838.png'"
      ]
     },
     "execution_count": 17,
     "metadata": {},
     "output_type": "execute_result"
    },
    {
     "data": {
      "text/plain": [
       "'C:/Users/akash/Desktop/Akash/MSOEML/NIH_data/Infiltration/test/Normal\\\\839.png'"
      ]
     },
     "execution_count": 17,
     "metadata": {},
     "output_type": "execute_result"
    },
    {
     "data": {
      "text/plain": [
       "'C:/Users/akash/Desktop/Akash/MSOEML/NIH_data/Infiltration/test/Normal\\\\840.png'"
      ]
     },
     "execution_count": 17,
     "metadata": {},
     "output_type": "execute_result"
    },
    {
     "data": {
      "text/plain": [
       "'C:/Users/akash/Desktop/Akash/MSOEML/NIH_data/Infiltration/test/Normal\\\\841.png'"
      ]
     },
     "execution_count": 17,
     "metadata": {},
     "output_type": "execute_result"
    },
    {
     "data": {
      "text/plain": [
       "'C:/Users/akash/Desktop/Akash/MSOEML/NIH_data/Infiltration/test/Normal\\\\842.png'"
      ]
     },
     "execution_count": 17,
     "metadata": {},
     "output_type": "execute_result"
    },
    {
     "data": {
      "text/plain": [
       "'C:/Users/akash/Desktop/Akash/MSOEML/NIH_data/Infiltration/test/Normal\\\\843.png'"
      ]
     },
     "execution_count": 17,
     "metadata": {},
     "output_type": "execute_result"
    },
    {
     "data": {
      "text/plain": [
       "'C:/Users/akash/Desktop/Akash/MSOEML/NIH_data/Infiltration/test/Normal\\\\844.png'"
      ]
     },
     "execution_count": 17,
     "metadata": {},
     "output_type": "execute_result"
    },
    {
     "data": {
      "text/plain": [
       "'C:/Users/akash/Desktop/Akash/MSOEML/NIH_data/Infiltration/test/Normal\\\\845.png'"
      ]
     },
     "execution_count": 17,
     "metadata": {},
     "output_type": "execute_result"
    },
    {
     "data": {
      "text/plain": [
       "'C:/Users/akash/Desktop/Akash/MSOEML/NIH_data/Infiltration/test/Normal\\\\846.png'"
      ]
     },
     "execution_count": 17,
     "metadata": {},
     "output_type": "execute_result"
    },
    {
     "data": {
      "text/plain": [
       "'C:/Users/akash/Desktop/Akash/MSOEML/NIH_data/Infiltration/test/Normal\\\\847.png'"
      ]
     },
     "execution_count": 17,
     "metadata": {},
     "output_type": "execute_result"
    },
    {
     "data": {
      "text/plain": [
       "'C:/Users/akash/Desktop/Akash/MSOEML/NIH_data/Infiltration/test/Normal\\\\848.png'"
      ]
     },
     "execution_count": 17,
     "metadata": {},
     "output_type": "execute_result"
    },
    {
     "data": {
      "text/plain": [
       "'C:/Users/akash/Desktop/Akash/MSOEML/NIH_data/Infiltration/test/Normal\\\\849.png'"
      ]
     },
     "execution_count": 17,
     "metadata": {},
     "output_type": "execute_result"
    },
    {
     "data": {
      "text/plain": [
       "'C:/Users/akash/Desktop/Akash/MSOEML/NIH_data/Infiltration/test/Normal\\\\850.png'"
      ]
     },
     "execution_count": 17,
     "metadata": {},
     "output_type": "execute_result"
    },
    {
     "data": {
      "text/plain": [
       "'C:/Users/akash/Desktop/Akash/MSOEML/NIH_data/Infiltration/test/Normal\\\\851.png'"
      ]
     },
     "execution_count": 17,
     "metadata": {},
     "output_type": "execute_result"
    },
    {
     "data": {
      "text/plain": [
       "'C:/Users/akash/Desktop/Akash/MSOEML/NIH_data/Infiltration/test/Normal\\\\852.png'"
      ]
     },
     "execution_count": 17,
     "metadata": {},
     "output_type": "execute_result"
    },
    {
     "data": {
      "text/plain": [
       "'C:/Users/akash/Desktop/Akash/MSOEML/NIH_data/Infiltration/test/Normal\\\\853.png'"
      ]
     },
     "execution_count": 17,
     "metadata": {},
     "output_type": "execute_result"
    },
    {
     "data": {
      "text/plain": [
       "'C:/Users/akash/Desktop/Akash/MSOEML/NIH_data/Infiltration/test/Normal\\\\854.png'"
      ]
     },
     "execution_count": 17,
     "metadata": {},
     "output_type": "execute_result"
    },
    {
     "data": {
      "text/plain": [
       "'C:/Users/akash/Desktop/Akash/MSOEML/NIH_data/Infiltration/test/Normal\\\\855.png'"
      ]
     },
     "execution_count": 17,
     "metadata": {},
     "output_type": "execute_result"
    },
    {
     "data": {
      "text/plain": [
       "'C:/Users/akash/Desktop/Akash/MSOEML/NIH_data/Infiltration/test/Normal\\\\856.png'"
      ]
     },
     "execution_count": 17,
     "metadata": {},
     "output_type": "execute_result"
    },
    {
     "data": {
      "text/plain": [
       "'C:/Users/akash/Desktop/Akash/MSOEML/NIH_data/Infiltration/test/Normal\\\\857.png'"
      ]
     },
     "execution_count": 17,
     "metadata": {},
     "output_type": "execute_result"
    },
    {
     "data": {
      "text/plain": [
       "'C:/Users/akash/Desktop/Akash/MSOEML/NIH_data/Infiltration/test/Normal\\\\858.png'"
      ]
     },
     "execution_count": 17,
     "metadata": {},
     "output_type": "execute_result"
    },
    {
     "data": {
      "text/plain": [
       "'C:/Users/akash/Desktop/Akash/MSOEML/NIH_data/Infiltration/test/Normal\\\\859.png'"
      ]
     },
     "execution_count": 17,
     "metadata": {},
     "output_type": "execute_result"
    },
    {
     "data": {
      "text/plain": [
       "'C:/Users/akash/Desktop/Akash/MSOEML/NIH_data/Infiltration/test/Normal\\\\860.png'"
      ]
     },
     "execution_count": 17,
     "metadata": {},
     "output_type": "execute_result"
    },
    {
     "data": {
      "text/plain": [
       "'C:/Users/akash/Desktop/Akash/MSOEML/NIH_data/Infiltration/test/Normal\\\\861.png'"
      ]
     },
     "execution_count": 17,
     "metadata": {},
     "output_type": "execute_result"
    },
    {
     "data": {
      "text/plain": [
       "'C:/Users/akash/Desktop/Akash/MSOEML/NIH_data/Infiltration/test/Normal\\\\862.png'"
      ]
     },
     "execution_count": 17,
     "metadata": {},
     "output_type": "execute_result"
    },
    {
     "data": {
      "text/plain": [
       "'C:/Users/akash/Desktop/Akash/MSOEML/NIH_data/Infiltration/test/Normal\\\\863.png'"
      ]
     },
     "execution_count": 17,
     "metadata": {},
     "output_type": "execute_result"
    },
    {
     "data": {
      "text/plain": [
       "'C:/Users/akash/Desktop/Akash/MSOEML/NIH_data/Infiltration/test/Normal\\\\864.png'"
      ]
     },
     "execution_count": 17,
     "metadata": {},
     "output_type": "execute_result"
    },
    {
     "data": {
      "text/plain": [
       "'C:/Users/akash/Desktop/Akash/MSOEML/NIH_data/Infiltration/test/Normal\\\\865.png'"
      ]
     },
     "execution_count": 17,
     "metadata": {},
     "output_type": "execute_result"
    },
    {
     "data": {
      "text/plain": [
       "'C:/Users/akash/Desktop/Akash/MSOEML/NIH_data/Infiltration/test/Normal\\\\866.png'"
      ]
     },
     "execution_count": 17,
     "metadata": {},
     "output_type": "execute_result"
    },
    {
     "data": {
      "text/plain": [
       "'C:/Users/akash/Desktop/Akash/MSOEML/NIH_data/Infiltration/test/Normal\\\\867.png'"
      ]
     },
     "execution_count": 17,
     "metadata": {},
     "output_type": "execute_result"
    },
    {
     "data": {
      "text/plain": [
       "'C:/Users/akash/Desktop/Akash/MSOEML/NIH_data/Infiltration/test/Normal\\\\868.png'"
      ]
     },
     "execution_count": 17,
     "metadata": {},
     "output_type": "execute_result"
    },
    {
     "data": {
      "text/plain": [
       "'C:/Users/akash/Desktop/Akash/MSOEML/NIH_data/Infiltration/test/Normal\\\\869.png'"
      ]
     },
     "execution_count": 17,
     "metadata": {},
     "output_type": "execute_result"
    },
    {
     "data": {
      "text/plain": [
       "'C:/Users/akash/Desktop/Akash/MSOEML/NIH_data/Infiltration/test/Normal\\\\870.png'"
      ]
     },
     "execution_count": 17,
     "metadata": {},
     "output_type": "execute_result"
    },
    {
     "data": {
      "text/plain": [
       "'C:/Users/akash/Desktop/Akash/MSOEML/NIH_data/Infiltration/test/Normal\\\\871.png'"
      ]
     },
     "execution_count": 17,
     "metadata": {},
     "output_type": "execute_result"
    },
    {
     "data": {
      "text/plain": [
       "'C:/Users/akash/Desktop/Akash/MSOEML/NIH_data/Infiltration/test/Normal\\\\872.png'"
      ]
     },
     "execution_count": 17,
     "metadata": {},
     "output_type": "execute_result"
    },
    {
     "data": {
      "text/plain": [
       "'C:/Users/akash/Desktop/Akash/MSOEML/NIH_data/Infiltration/test/Normal\\\\873.png'"
      ]
     },
     "execution_count": 17,
     "metadata": {},
     "output_type": "execute_result"
    },
    {
     "data": {
      "text/plain": [
       "'C:/Users/akash/Desktop/Akash/MSOEML/NIH_data/Infiltration/test/Normal\\\\874.png'"
      ]
     },
     "execution_count": 17,
     "metadata": {},
     "output_type": "execute_result"
    },
    {
     "data": {
      "text/plain": [
       "'C:/Users/akash/Desktop/Akash/MSOEML/NIH_data/Infiltration/test/Normal\\\\875.png'"
      ]
     },
     "execution_count": 17,
     "metadata": {},
     "output_type": "execute_result"
    },
    {
     "data": {
      "text/plain": [
       "'C:/Users/akash/Desktop/Akash/MSOEML/NIH_data/Infiltration/test/Normal\\\\876.png'"
      ]
     },
     "execution_count": 17,
     "metadata": {},
     "output_type": "execute_result"
    },
    {
     "data": {
      "text/plain": [
       "'C:/Users/akash/Desktop/Akash/MSOEML/NIH_data/Infiltration/test/Normal\\\\877.png'"
      ]
     },
     "execution_count": 17,
     "metadata": {},
     "output_type": "execute_result"
    },
    {
     "data": {
      "text/plain": [
       "'C:/Users/akash/Desktop/Akash/MSOEML/NIH_data/Infiltration/test/Normal\\\\878.png'"
      ]
     },
     "execution_count": 17,
     "metadata": {},
     "output_type": "execute_result"
    },
    {
     "data": {
      "text/plain": [
       "'C:/Users/akash/Desktop/Akash/MSOEML/NIH_data/Infiltration/test/Normal\\\\879.png'"
      ]
     },
     "execution_count": 17,
     "metadata": {},
     "output_type": "execute_result"
    },
    {
     "data": {
      "text/plain": [
       "'C:/Users/akash/Desktop/Akash/MSOEML/NIH_data/Infiltration/test/Normal\\\\880.png'"
      ]
     },
     "execution_count": 17,
     "metadata": {},
     "output_type": "execute_result"
    },
    {
     "data": {
      "text/plain": [
       "'C:/Users/akash/Desktop/Akash/MSOEML/NIH_data/Infiltration/test/Normal\\\\881.png'"
      ]
     },
     "execution_count": 17,
     "metadata": {},
     "output_type": "execute_result"
    },
    {
     "data": {
      "text/plain": [
       "'C:/Users/akash/Desktop/Akash/MSOEML/NIH_data/Infiltration/test/Normal\\\\882.png'"
      ]
     },
     "execution_count": 17,
     "metadata": {},
     "output_type": "execute_result"
    },
    {
     "data": {
      "text/plain": [
       "'C:/Users/akash/Desktop/Akash/MSOEML/NIH_data/Infiltration/test/Normal\\\\883.png'"
      ]
     },
     "execution_count": 17,
     "metadata": {},
     "output_type": "execute_result"
    },
    {
     "data": {
      "text/plain": [
       "'C:/Users/akash/Desktop/Akash/MSOEML/NIH_data/Infiltration/test/Normal\\\\884.png'"
      ]
     },
     "execution_count": 17,
     "metadata": {},
     "output_type": "execute_result"
    },
    {
     "data": {
      "text/plain": [
       "'C:/Users/akash/Desktop/Akash/MSOEML/NIH_data/Infiltration/test/Normal\\\\885.png'"
      ]
     },
     "execution_count": 17,
     "metadata": {},
     "output_type": "execute_result"
    },
    {
     "data": {
      "text/plain": [
       "'C:/Users/akash/Desktop/Akash/MSOEML/NIH_data/Infiltration/test/Normal\\\\886.png'"
      ]
     },
     "execution_count": 17,
     "metadata": {},
     "output_type": "execute_result"
    },
    {
     "data": {
      "text/plain": [
       "'C:/Users/akash/Desktop/Akash/MSOEML/NIH_data/Infiltration/test/Normal\\\\887.png'"
      ]
     },
     "execution_count": 17,
     "metadata": {},
     "output_type": "execute_result"
    },
    {
     "data": {
      "text/plain": [
       "'C:/Users/akash/Desktop/Akash/MSOEML/NIH_data/Infiltration/test/Normal\\\\888.png'"
      ]
     },
     "execution_count": 17,
     "metadata": {},
     "output_type": "execute_result"
    },
    {
     "data": {
      "text/plain": [
       "'C:/Users/akash/Desktop/Akash/MSOEML/NIH_data/Infiltration/test/Normal\\\\889.png'"
      ]
     },
     "execution_count": 17,
     "metadata": {},
     "output_type": "execute_result"
    },
    {
     "data": {
      "text/plain": [
       "'C:/Users/akash/Desktop/Akash/MSOEML/NIH_data/Infiltration/test/Normal\\\\890.png'"
      ]
     },
     "execution_count": 17,
     "metadata": {},
     "output_type": "execute_result"
    },
    {
     "data": {
      "text/plain": [
       "'C:/Users/akash/Desktop/Akash/MSOEML/NIH_data/Infiltration/test/Normal\\\\891.png'"
      ]
     },
     "execution_count": 17,
     "metadata": {},
     "output_type": "execute_result"
    },
    {
     "data": {
      "text/plain": [
       "'C:/Users/akash/Desktop/Akash/MSOEML/NIH_data/Infiltration/test/Normal\\\\892.png'"
      ]
     },
     "execution_count": 17,
     "metadata": {},
     "output_type": "execute_result"
    },
    {
     "data": {
      "text/plain": [
       "'C:/Users/akash/Desktop/Akash/MSOEML/NIH_data/Infiltration/test/Normal\\\\893.png'"
      ]
     },
     "execution_count": 17,
     "metadata": {},
     "output_type": "execute_result"
    },
    {
     "data": {
      "text/plain": [
       "'C:/Users/akash/Desktop/Akash/MSOEML/NIH_data/Infiltration/test/Normal\\\\894.png'"
      ]
     },
     "execution_count": 17,
     "metadata": {},
     "output_type": "execute_result"
    },
    {
     "data": {
      "text/plain": [
       "'C:/Users/akash/Desktop/Akash/MSOEML/NIH_data/Infiltration/test/Normal\\\\895.png'"
      ]
     },
     "execution_count": 17,
     "metadata": {},
     "output_type": "execute_result"
    },
    {
     "data": {
      "text/plain": [
       "'C:/Users/akash/Desktop/Akash/MSOEML/NIH_data/Infiltration/test/Normal\\\\896.png'"
      ]
     },
     "execution_count": 17,
     "metadata": {},
     "output_type": "execute_result"
    },
    {
     "data": {
      "text/plain": [
       "'C:/Users/akash/Desktop/Akash/MSOEML/NIH_data/Infiltration/test/Normal\\\\897.png'"
      ]
     },
     "execution_count": 17,
     "metadata": {},
     "output_type": "execute_result"
    },
    {
     "data": {
      "text/plain": [
       "'C:/Users/akash/Desktop/Akash/MSOEML/NIH_data/Infiltration/test/Normal\\\\898.png'"
      ]
     },
     "execution_count": 17,
     "metadata": {},
     "output_type": "execute_result"
    },
    {
     "data": {
      "text/plain": [
       "'C:/Users/akash/Desktop/Akash/MSOEML/NIH_data/Infiltration/test/Normal\\\\899.png'"
      ]
     },
     "execution_count": 17,
     "metadata": {},
     "output_type": "execute_result"
    },
    {
     "data": {
      "text/plain": [
       "'C:/Users/akash/Desktop/Akash/MSOEML/NIH_data/Infiltration/test/Normal\\\\900.png'"
      ]
     },
     "execution_count": 17,
     "metadata": {},
     "output_type": "execute_result"
    },
    {
     "data": {
      "text/plain": [
       "'C:/Users/akash/Desktop/Akash/MSOEML/NIH_data/Infiltration/test/Normal\\\\901.png'"
      ]
     },
     "execution_count": 17,
     "metadata": {},
     "output_type": "execute_result"
    },
    {
     "data": {
      "text/plain": [
       "'C:/Users/akash/Desktop/Akash/MSOEML/NIH_data/Infiltration/test/Normal\\\\902.png'"
      ]
     },
     "execution_count": 17,
     "metadata": {},
     "output_type": "execute_result"
    },
    {
     "data": {
      "text/plain": [
       "'C:/Users/akash/Desktop/Akash/MSOEML/NIH_data/Infiltration/test/Normal\\\\903.png'"
      ]
     },
     "execution_count": 17,
     "metadata": {},
     "output_type": "execute_result"
    },
    {
     "data": {
      "text/plain": [
       "'C:/Users/akash/Desktop/Akash/MSOEML/NIH_data/Infiltration/test/Normal\\\\904.png'"
      ]
     },
     "execution_count": 17,
     "metadata": {},
     "output_type": "execute_result"
    },
    {
     "data": {
      "text/plain": [
       "'C:/Users/akash/Desktop/Akash/MSOEML/NIH_data/Infiltration/test/Normal\\\\905.png'"
      ]
     },
     "execution_count": 17,
     "metadata": {},
     "output_type": "execute_result"
    },
    {
     "data": {
      "text/plain": [
       "'C:/Users/akash/Desktop/Akash/MSOEML/NIH_data/Infiltration/test/Normal\\\\906.png'"
      ]
     },
     "execution_count": 17,
     "metadata": {},
     "output_type": "execute_result"
    },
    {
     "data": {
      "text/plain": [
       "'C:/Users/akash/Desktop/Akash/MSOEML/NIH_data/Infiltration/test/Normal\\\\907.png'"
      ]
     },
     "execution_count": 17,
     "metadata": {},
     "output_type": "execute_result"
    },
    {
     "data": {
      "text/plain": [
       "'C:/Users/akash/Desktop/Akash/MSOEML/NIH_data/Infiltration/test/Normal\\\\908.png'"
      ]
     },
     "execution_count": 17,
     "metadata": {},
     "output_type": "execute_result"
    },
    {
     "data": {
      "text/plain": [
       "'C:/Users/akash/Desktop/Akash/MSOEML/NIH_data/Infiltration/test/Normal\\\\909.png'"
      ]
     },
     "execution_count": 17,
     "metadata": {},
     "output_type": "execute_result"
    },
    {
     "data": {
      "text/plain": [
       "'C:/Users/akash/Desktop/Akash/MSOEML/NIH_data/Infiltration/test/Normal\\\\910.png'"
      ]
     },
     "execution_count": 17,
     "metadata": {},
     "output_type": "execute_result"
    },
    {
     "data": {
      "text/plain": [
       "'C:/Users/akash/Desktop/Akash/MSOEML/NIH_data/Infiltration/test/Normal\\\\911.png'"
      ]
     },
     "execution_count": 17,
     "metadata": {},
     "output_type": "execute_result"
    },
    {
     "data": {
      "text/plain": [
       "'C:/Users/akash/Desktop/Akash/MSOEML/NIH_data/Infiltration/test/Normal\\\\912.png'"
      ]
     },
     "execution_count": 17,
     "metadata": {},
     "output_type": "execute_result"
    },
    {
     "data": {
      "text/plain": [
       "'C:/Users/akash/Desktop/Akash/MSOEML/NIH_data/Infiltration/test/Normal\\\\913.png'"
      ]
     },
     "execution_count": 17,
     "metadata": {},
     "output_type": "execute_result"
    },
    {
     "data": {
      "text/plain": [
       "'C:/Users/akash/Desktop/Akash/MSOEML/NIH_data/Infiltration/test/Normal\\\\914.png'"
      ]
     },
     "execution_count": 17,
     "metadata": {},
     "output_type": "execute_result"
    },
    {
     "data": {
      "text/plain": [
       "'C:/Users/akash/Desktop/Akash/MSOEML/NIH_data/Infiltration/test/Normal\\\\915.png'"
      ]
     },
     "execution_count": 17,
     "metadata": {},
     "output_type": "execute_result"
    },
    {
     "data": {
      "text/plain": [
       "'C:/Users/akash/Desktop/Akash/MSOEML/NIH_data/Infiltration/test/Normal\\\\916.png'"
      ]
     },
     "execution_count": 17,
     "metadata": {},
     "output_type": "execute_result"
    },
    {
     "data": {
      "text/plain": [
       "'C:/Users/akash/Desktop/Akash/MSOEML/NIH_data/Infiltration/test/Normal\\\\917.png'"
      ]
     },
     "execution_count": 17,
     "metadata": {},
     "output_type": "execute_result"
    },
    {
     "data": {
      "text/plain": [
       "'C:/Users/akash/Desktop/Akash/MSOEML/NIH_data/Infiltration/test/Normal\\\\918.png'"
      ]
     },
     "execution_count": 17,
     "metadata": {},
     "output_type": "execute_result"
    },
    {
     "data": {
      "text/plain": [
       "'C:/Users/akash/Desktop/Akash/MSOEML/NIH_data/Infiltration/test/Normal\\\\919.png'"
      ]
     },
     "execution_count": 17,
     "metadata": {},
     "output_type": "execute_result"
    },
    {
     "data": {
      "text/plain": [
       "'C:/Users/akash/Desktop/Akash/MSOEML/NIH_data/Infiltration/test/Normal\\\\920.png'"
      ]
     },
     "execution_count": 17,
     "metadata": {},
     "output_type": "execute_result"
    },
    {
     "data": {
      "text/plain": [
       "'C:/Users/akash/Desktop/Akash/MSOEML/NIH_data/Infiltration/test/Normal\\\\921.png'"
      ]
     },
     "execution_count": 17,
     "metadata": {},
     "output_type": "execute_result"
    },
    {
     "data": {
      "text/plain": [
       "'C:/Users/akash/Desktop/Akash/MSOEML/NIH_data/Infiltration/test/Normal\\\\922.png'"
      ]
     },
     "execution_count": 17,
     "metadata": {},
     "output_type": "execute_result"
    },
    {
     "data": {
      "text/plain": [
       "'C:/Users/akash/Desktop/Akash/MSOEML/NIH_data/Infiltration/test/Normal\\\\923.png'"
      ]
     },
     "execution_count": 17,
     "metadata": {},
     "output_type": "execute_result"
    },
    {
     "data": {
      "text/plain": [
       "'C:/Users/akash/Desktop/Akash/MSOEML/NIH_data/Infiltration/test/Normal\\\\924.png'"
      ]
     },
     "execution_count": 17,
     "metadata": {},
     "output_type": "execute_result"
    },
    {
     "data": {
      "text/plain": [
       "'C:/Users/akash/Desktop/Akash/MSOEML/NIH_data/Infiltration/test/Normal\\\\925.png'"
      ]
     },
     "execution_count": 17,
     "metadata": {},
     "output_type": "execute_result"
    },
    {
     "data": {
      "text/plain": [
       "'C:/Users/akash/Desktop/Akash/MSOEML/NIH_data/Infiltration/test/Normal\\\\926.png'"
      ]
     },
     "execution_count": 17,
     "metadata": {},
     "output_type": "execute_result"
    },
    {
     "data": {
      "text/plain": [
       "'C:/Users/akash/Desktop/Akash/MSOEML/NIH_data/Infiltration/test/Normal\\\\927.png'"
      ]
     },
     "execution_count": 17,
     "metadata": {},
     "output_type": "execute_result"
    },
    {
     "data": {
      "text/plain": [
       "'C:/Users/akash/Desktop/Akash/MSOEML/NIH_data/Infiltration/test/Normal\\\\928.png'"
      ]
     },
     "execution_count": 17,
     "metadata": {},
     "output_type": "execute_result"
    },
    {
     "data": {
      "text/plain": [
       "'C:/Users/akash/Desktop/Akash/MSOEML/NIH_data/Infiltration/test/Normal\\\\929.png'"
      ]
     },
     "execution_count": 17,
     "metadata": {},
     "output_type": "execute_result"
    },
    {
     "data": {
      "text/plain": [
       "'C:/Users/akash/Desktop/Akash/MSOEML/NIH_data/Infiltration/test/Normal\\\\930.png'"
      ]
     },
     "execution_count": 17,
     "metadata": {},
     "output_type": "execute_result"
    },
    {
     "data": {
      "text/plain": [
       "'C:/Users/akash/Desktop/Akash/MSOEML/NIH_data/Infiltration/test/Normal\\\\931.png'"
      ]
     },
     "execution_count": 17,
     "metadata": {},
     "output_type": "execute_result"
    },
    {
     "data": {
      "text/plain": [
       "'C:/Users/akash/Desktop/Akash/MSOEML/NIH_data/Infiltration/test/Normal\\\\932.png'"
      ]
     },
     "execution_count": 17,
     "metadata": {},
     "output_type": "execute_result"
    },
    {
     "data": {
      "text/plain": [
       "'C:/Users/akash/Desktop/Akash/MSOEML/NIH_data/Infiltration/test/Normal\\\\933.png'"
      ]
     },
     "execution_count": 17,
     "metadata": {},
     "output_type": "execute_result"
    },
    {
     "data": {
      "text/plain": [
       "'C:/Users/akash/Desktop/Akash/MSOEML/NIH_data/Infiltration/test/Normal\\\\934.png'"
      ]
     },
     "execution_count": 17,
     "metadata": {},
     "output_type": "execute_result"
    },
    {
     "data": {
      "text/plain": [
       "'C:/Users/akash/Desktop/Akash/MSOEML/NIH_data/Infiltration/test/Normal\\\\935.png'"
      ]
     },
     "execution_count": 17,
     "metadata": {},
     "output_type": "execute_result"
    },
    {
     "data": {
      "text/plain": [
       "'C:/Users/akash/Desktop/Akash/MSOEML/NIH_data/Infiltration/test/Normal\\\\936.png'"
      ]
     },
     "execution_count": 17,
     "metadata": {},
     "output_type": "execute_result"
    },
    {
     "data": {
      "text/plain": [
       "'C:/Users/akash/Desktop/Akash/MSOEML/NIH_data/Infiltration/test/Normal\\\\937.png'"
      ]
     },
     "execution_count": 17,
     "metadata": {},
     "output_type": "execute_result"
    },
    {
     "data": {
      "text/plain": [
       "'C:/Users/akash/Desktop/Akash/MSOEML/NIH_data/Infiltration/test/Normal\\\\938.png'"
      ]
     },
     "execution_count": 17,
     "metadata": {},
     "output_type": "execute_result"
    },
    {
     "data": {
      "text/plain": [
       "'C:/Users/akash/Desktop/Akash/MSOEML/NIH_data/Infiltration/test/Normal\\\\939.png'"
      ]
     },
     "execution_count": 17,
     "metadata": {},
     "output_type": "execute_result"
    },
    {
     "data": {
      "text/plain": [
       "'C:/Users/akash/Desktop/Akash/MSOEML/NIH_data/Infiltration/test/Normal\\\\940.png'"
      ]
     },
     "execution_count": 17,
     "metadata": {},
     "output_type": "execute_result"
    },
    {
     "data": {
      "text/plain": [
       "'C:/Users/akash/Desktop/Akash/MSOEML/NIH_data/Infiltration/test/Normal\\\\941.png'"
      ]
     },
     "execution_count": 17,
     "metadata": {},
     "output_type": "execute_result"
    },
    {
     "data": {
      "text/plain": [
       "'C:/Users/akash/Desktop/Akash/MSOEML/NIH_data/Infiltration/test/Normal\\\\942.png'"
      ]
     },
     "execution_count": 17,
     "metadata": {},
     "output_type": "execute_result"
    },
    {
     "data": {
      "text/plain": [
       "'C:/Users/akash/Desktop/Akash/MSOEML/NIH_data/Infiltration/test/Normal\\\\943.png'"
      ]
     },
     "execution_count": 17,
     "metadata": {},
     "output_type": "execute_result"
    },
    {
     "data": {
      "text/plain": [
       "'C:/Users/akash/Desktop/Akash/MSOEML/NIH_data/Infiltration/test/Normal\\\\944.png'"
      ]
     },
     "execution_count": 17,
     "metadata": {},
     "output_type": "execute_result"
    },
    {
     "data": {
      "text/plain": [
       "'C:/Users/akash/Desktop/Akash/MSOEML/NIH_data/Infiltration/test/Normal\\\\945.png'"
      ]
     },
     "execution_count": 17,
     "metadata": {},
     "output_type": "execute_result"
    },
    {
     "data": {
      "text/plain": [
       "'C:/Users/akash/Desktop/Akash/MSOEML/NIH_data/Infiltration/test/Normal\\\\946.png'"
      ]
     },
     "execution_count": 17,
     "metadata": {},
     "output_type": "execute_result"
    },
    {
     "data": {
      "text/plain": [
       "'C:/Users/akash/Desktop/Akash/MSOEML/NIH_data/Infiltration/test/Normal\\\\947.png'"
      ]
     },
     "execution_count": 17,
     "metadata": {},
     "output_type": "execute_result"
    },
    {
     "data": {
      "text/plain": [
       "'C:/Users/akash/Desktop/Akash/MSOEML/NIH_data/Infiltration/test/Normal\\\\948.png'"
      ]
     },
     "execution_count": 17,
     "metadata": {},
     "output_type": "execute_result"
    },
    {
     "data": {
      "text/plain": [
       "'C:/Users/akash/Desktop/Akash/MSOEML/NIH_data/Infiltration/test/Normal\\\\949.png'"
      ]
     },
     "execution_count": 17,
     "metadata": {},
     "output_type": "execute_result"
    },
    {
     "data": {
      "text/plain": [
       "'C:/Users/akash/Desktop/Akash/MSOEML/NIH_data/Infiltration/test/Normal\\\\950.png'"
      ]
     },
     "execution_count": 17,
     "metadata": {},
     "output_type": "execute_result"
    },
    {
     "data": {
      "text/plain": [
       "'C:/Users/akash/Desktop/Akash/MSOEML/NIH_data/Infiltration/test/Normal\\\\951.png'"
      ]
     },
     "execution_count": 17,
     "metadata": {},
     "output_type": "execute_result"
    },
    {
     "data": {
      "text/plain": [
       "'C:/Users/akash/Desktop/Akash/MSOEML/NIH_data/Infiltration/test/Normal\\\\952.png'"
      ]
     },
     "execution_count": 17,
     "metadata": {},
     "output_type": "execute_result"
    },
    {
     "data": {
      "text/plain": [
       "'C:/Users/akash/Desktop/Akash/MSOEML/NIH_data/Infiltration/test/Normal\\\\953.png'"
      ]
     },
     "execution_count": 17,
     "metadata": {},
     "output_type": "execute_result"
    },
    {
     "data": {
      "text/plain": [
       "'C:/Users/akash/Desktop/Akash/MSOEML/NIH_data/Infiltration/test/Normal\\\\954.png'"
      ]
     },
     "execution_count": 17,
     "metadata": {},
     "output_type": "execute_result"
    },
    {
     "data": {
      "text/plain": [
       "'C:/Users/akash/Desktop/Akash/MSOEML/NIH_data/Infiltration/test/Normal\\\\955.png'"
      ]
     },
     "execution_count": 17,
     "metadata": {},
     "output_type": "execute_result"
    },
    {
     "data": {
      "text/plain": [
       "'C:/Users/akash/Desktop/Akash/MSOEML/NIH_data/Infiltration/test/Normal\\\\956.png'"
      ]
     },
     "execution_count": 17,
     "metadata": {},
     "output_type": "execute_result"
    },
    {
     "data": {
      "text/plain": [
       "'C:/Users/akash/Desktop/Akash/MSOEML/NIH_data/Infiltration/test/Normal\\\\957.png'"
      ]
     },
     "execution_count": 17,
     "metadata": {},
     "output_type": "execute_result"
    },
    {
     "data": {
      "text/plain": [
       "'C:/Users/akash/Desktop/Akash/MSOEML/NIH_data/Infiltration/test/Normal\\\\958.png'"
      ]
     },
     "execution_count": 17,
     "metadata": {},
     "output_type": "execute_result"
    },
    {
     "data": {
      "text/plain": [
       "'C:/Users/akash/Desktop/Akash/MSOEML/NIH_data/Infiltration/test/Normal\\\\959.png'"
      ]
     },
     "execution_count": 17,
     "metadata": {},
     "output_type": "execute_result"
    },
    {
     "data": {
      "text/plain": [
       "'C:/Users/akash/Desktop/Akash/MSOEML/NIH_data/Infiltration/test/Normal\\\\960.png'"
      ]
     },
     "execution_count": 17,
     "metadata": {},
     "output_type": "execute_result"
    },
    {
     "data": {
      "text/plain": [
       "'C:/Users/akash/Desktop/Akash/MSOEML/NIH_data/Infiltration/test/Normal\\\\961.png'"
      ]
     },
     "execution_count": 17,
     "metadata": {},
     "output_type": "execute_result"
    },
    {
     "data": {
      "text/plain": [
       "'C:/Users/akash/Desktop/Akash/MSOEML/NIH_data/Infiltration/test/Normal\\\\962.png'"
      ]
     },
     "execution_count": 17,
     "metadata": {},
     "output_type": "execute_result"
    },
    {
     "data": {
      "text/plain": [
       "'C:/Users/akash/Desktop/Akash/MSOEML/NIH_data/Infiltration/test/Normal\\\\963.png'"
      ]
     },
     "execution_count": 17,
     "metadata": {},
     "output_type": "execute_result"
    },
    {
     "data": {
      "text/plain": [
       "'C:/Users/akash/Desktop/Akash/MSOEML/NIH_data/Infiltration/test/Normal\\\\964.png'"
      ]
     },
     "execution_count": 17,
     "metadata": {},
     "output_type": "execute_result"
    },
    {
     "data": {
      "text/plain": [
       "'C:/Users/akash/Desktop/Akash/MSOEML/NIH_data/Infiltration/test/Normal\\\\965.png'"
      ]
     },
     "execution_count": 17,
     "metadata": {},
     "output_type": "execute_result"
    },
    {
     "data": {
      "text/plain": [
       "'C:/Users/akash/Desktop/Akash/MSOEML/NIH_data/Infiltration/test/Normal\\\\966.png'"
      ]
     },
     "execution_count": 17,
     "metadata": {},
     "output_type": "execute_result"
    },
    {
     "data": {
      "text/plain": [
       "'C:/Users/akash/Desktop/Akash/MSOEML/NIH_data/Infiltration/test/Normal\\\\967.png'"
      ]
     },
     "execution_count": 17,
     "metadata": {},
     "output_type": "execute_result"
    },
    {
     "data": {
      "text/plain": [
       "'C:/Users/akash/Desktop/Akash/MSOEML/NIH_data/Infiltration/test/Normal\\\\968.png'"
      ]
     },
     "execution_count": 17,
     "metadata": {},
     "output_type": "execute_result"
    },
    {
     "data": {
      "text/plain": [
       "'C:/Users/akash/Desktop/Akash/MSOEML/NIH_data/Infiltration/test/Normal\\\\969.png'"
      ]
     },
     "execution_count": 17,
     "metadata": {},
     "output_type": "execute_result"
    },
    {
     "data": {
      "text/plain": [
       "'C:/Users/akash/Desktop/Akash/MSOEML/NIH_data/Infiltration/test/Normal\\\\970.png'"
      ]
     },
     "execution_count": 17,
     "metadata": {},
     "output_type": "execute_result"
    },
    {
     "data": {
      "text/plain": [
       "'C:/Users/akash/Desktop/Akash/MSOEML/NIH_data/Infiltration/test/Normal\\\\971.png'"
      ]
     },
     "execution_count": 17,
     "metadata": {},
     "output_type": "execute_result"
    },
    {
     "data": {
      "text/plain": [
       "'C:/Users/akash/Desktop/Akash/MSOEML/NIH_data/Infiltration/test/Normal\\\\972.png'"
      ]
     },
     "execution_count": 17,
     "metadata": {},
     "output_type": "execute_result"
    },
    {
     "data": {
      "text/plain": [
       "'C:/Users/akash/Desktop/Akash/MSOEML/NIH_data/Infiltration/test/Normal\\\\973.png'"
      ]
     },
     "execution_count": 17,
     "metadata": {},
     "output_type": "execute_result"
    },
    {
     "data": {
      "text/plain": [
       "'C:/Users/akash/Desktop/Akash/MSOEML/NIH_data/Infiltration/test/Normal\\\\974.png'"
      ]
     },
     "execution_count": 17,
     "metadata": {},
     "output_type": "execute_result"
    },
    {
     "data": {
      "text/plain": [
       "'C:/Users/akash/Desktop/Akash/MSOEML/NIH_data/Infiltration/test/Normal\\\\975.png'"
      ]
     },
     "execution_count": 17,
     "metadata": {},
     "output_type": "execute_result"
    },
    {
     "data": {
      "text/plain": [
       "'C:/Users/akash/Desktop/Akash/MSOEML/NIH_data/Infiltration/test/Normal\\\\976.png'"
      ]
     },
     "execution_count": 17,
     "metadata": {},
     "output_type": "execute_result"
    },
    {
     "data": {
      "text/plain": [
       "'C:/Users/akash/Desktop/Akash/MSOEML/NIH_data/Infiltration/test/Normal\\\\977.png'"
      ]
     },
     "execution_count": 17,
     "metadata": {},
     "output_type": "execute_result"
    },
    {
     "data": {
      "text/plain": [
       "'C:/Users/akash/Desktop/Akash/MSOEML/NIH_data/Infiltration/test/Normal\\\\978.png'"
      ]
     },
     "execution_count": 17,
     "metadata": {},
     "output_type": "execute_result"
    },
    {
     "data": {
      "text/plain": [
       "'C:/Users/akash/Desktop/Akash/MSOEML/NIH_data/Infiltration/test/Normal\\\\979.png'"
      ]
     },
     "execution_count": 17,
     "metadata": {},
     "output_type": "execute_result"
    },
    {
     "data": {
      "text/plain": [
       "'C:/Users/akash/Desktop/Akash/MSOEML/NIH_data/Infiltration/test/Normal\\\\980.png'"
      ]
     },
     "execution_count": 17,
     "metadata": {},
     "output_type": "execute_result"
    },
    {
     "data": {
      "text/plain": [
       "'C:/Users/akash/Desktop/Akash/MSOEML/NIH_data/Infiltration/test/Normal\\\\981.png'"
      ]
     },
     "execution_count": 17,
     "metadata": {},
     "output_type": "execute_result"
    },
    {
     "data": {
      "text/plain": [
       "'C:/Users/akash/Desktop/Akash/MSOEML/NIH_data/Infiltration/test/Normal\\\\982.png'"
      ]
     },
     "execution_count": 17,
     "metadata": {},
     "output_type": "execute_result"
    },
    {
     "data": {
      "text/plain": [
       "'C:/Users/akash/Desktop/Akash/MSOEML/NIH_data/Infiltration/test/Normal\\\\983.png'"
      ]
     },
     "execution_count": 17,
     "metadata": {},
     "output_type": "execute_result"
    },
    {
     "data": {
      "text/plain": [
       "'C:/Users/akash/Desktop/Akash/MSOEML/NIH_data/Infiltration/test/Normal\\\\984.png'"
      ]
     },
     "execution_count": 17,
     "metadata": {},
     "output_type": "execute_result"
    },
    {
     "data": {
      "text/plain": [
       "'C:/Users/akash/Desktop/Akash/MSOEML/NIH_data/Infiltration/test/Normal\\\\985.png'"
      ]
     },
     "execution_count": 17,
     "metadata": {},
     "output_type": "execute_result"
    },
    {
     "data": {
      "text/plain": [
       "'C:/Users/akash/Desktop/Akash/MSOEML/NIH_data/Infiltration/test/Normal\\\\986.png'"
      ]
     },
     "execution_count": 17,
     "metadata": {},
     "output_type": "execute_result"
    },
    {
     "data": {
      "text/plain": [
       "'C:/Users/akash/Desktop/Akash/MSOEML/NIH_data/Infiltration/test/Normal\\\\987.png'"
      ]
     },
     "execution_count": 17,
     "metadata": {},
     "output_type": "execute_result"
    },
    {
     "data": {
      "text/plain": [
       "'C:/Users/akash/Desktop/Akash/MSOEML/NIH_data/Infiltration/test/Normal\\\\988.png'"
      ]
     },
     "execution_count": 17,
     "metadata": {},
     "output_type": "execute_result"
    },
    {
     "data": {
      "text/plain": [
       "'C:/Users/akash/Desktop/Akash/MSOEML/NIH_data/Infiltration/test/Normal\\\\989.png'"
      ]
     },
     "execution_count": 17,
     "metadata": {},
     "output_type": "execute_result"
    },
    {
     "data": {
      "text/plain": [
       "'C:/Users/akash/Desktop/Akash/MSOEML/NIH_data/Infiltration/test/Normal\\\\990.png'"
      ]
     },
     "execution_count": 17,
     "metadata": {},
     "output_type": "execute_result"
    },
    {
     "data": {
      "text/plain": [
       "'C:/Users/akash/Desktop/Akash/MSOEML/NIH_data/Infiltration/test/Normal\\\\991.png'"
      ]
     },
     "execution_count": 17,
     "metadata": {},
     "output_type": "execute_result"
    },
    {
     "data": {
      "text/plain": [
       "'C:/Users/akash/Desktop/Akash/MSOEML/NIH_data/Infiltration/test/Normal\\\\992.png'"
      ]
     },
     "execution_count": 17,
     "metadata": {},
     "output_type": "execute_result"
    },
    {
     "data": {
      "text/plain": [
       "'C:/Users/akash/Desktop/Akash/MSOEML/NIH_data/Infiltration/test/Normal\\\\993.png'"
      ]
     },
     "execution_count": 17,
     "metadata": {},
     "output_type": "execute_result"
    },
    {
     "data": {
      "text/plain": [
       "'C:/Users/akash/Desktop/Akash/MSOEML/NIH_data/Infiltration/test/Normal\\\\994.png'"
      ]
     },
     "execution_count": 17,
     "metadata": {},
     "output_type": "execute_result"
    },
    {
     "data": {
      "text/plain": [
       "'C:/Users/akash/Desktop/Akash/MSOEML/NIH_data/Infiltration/test/Normal\\\\995.png'"
      ]
     },
     "execution_count": 17,
     "metadata": {},
     "output_type": "execute_result"
    },
    {
     "data": {
      "text/plain": [
       "'C:/Users/akash/Desktop/Akash/MSOEML/NIH_data/Infiltration/test/Normal\\\\996.png'"
      ]
     },
     "execution_count": 17,
     "metadata": {},
     "output_type": "execute_result"
    },
    {
     "data": {
      "text/plain": [
       "'C:/Users/akash/Desktop/Akash/MSOEML/NIH_data/Infiltration/test/Normal\\\\997.png'"
      ]
     },
     "execution_count": 17,
     "metadata": {},
     "output_type": "execute_result"
    },
    {
     "data": {
      "text/plain": [
       "'C:/Users/akash/Desktop/Akash/MSOEML/NIH_data/Infiltration/test/Normal\\\\998.png'"
      ]
     },
     "execution_count": 17,
     "metadata": {},
     "output_type": "execute_result"
    },
    {
     "data": {
      "text/plain": [
       "'C:/Users/akash/Desktop/Akash/MSOEML/NIH_data/Infiltration/test/Normal\\\\999.png'"
      ]
     },
     "execution_count": 17,
     "metadata": {},
     "output_type": "execute_result"
    },
    {
     "data": {
      "text/plain": [
       "'C:/Users/akash/Desktop/Akash/MSOEML/NIH_data/Infiltration/test/Normal\\\\1000.png'"
      ]
     },
     "execution_count": 17,
     "metadata": {},
     "output_type": "execute_result"
    },
    {
     "data": {
      "text/plain": [
       "'C:/Users/akash/Desktop/Akash/MSOEML/NIH_data/Infiltration/test/Normal\\\\1001.png'"
      ]
     },
     "execution_count": 17,
     "metadata": {},
     "output_type": "execute_result"
    },
    {
     "data": {
      "text/plain": [
       "'C:/Users/akash/Desktop/Akash/MSOEML/NIH_data/Infiltration/test/Normal\\\\1002.png'"
      ]
     },
     "execution_count": 17,
     "metadata": {},
     "output_type": "execute_result"
    },
    {
     "data": {
      "text/plain": [
       "'C:/Users/akash/Desktop/Akash/MSOEML/NIH_data/Infiltration/test/Normal\\\\1003.png'"
      ]
     },
     "execution_count": 17,
     "metadata": {},
     "output_type": "execute_result"
    },
    {
     "data": {
      "text/plain": [
       "'C:/Users/akash/Desktop/Akash/MSOEML/NIH_data/Infiltration/test/Normal\\\\1004.png'"
      ]
     },
     "execution_count": 17,
     "metadata": {},
     "output_type": "execute_result"
    },
    {
     "data": {
      "text/plain": [
       "'C:/Users/akash/Desktop/Akash/MSOEML/NIH_data/Infiltration/test/Normal\\\\1005.png'"
      ]
     },
     "execution_count": 17,
     "metadata": {},
     "output_type": "execute_result"
    },
    {
     "data": {
      "text/plain": [
       "'C:/Users/akash/Desktop/Akash/MSOEML/NIH_data/Infiltration/test/Normal\\\\1006.png'"
      ]
     },
     "execution_count": 17,
     "metadata": {},
     "output_type": "execute_result"
    },
    {
     "data": {
      "text/plain": [
       "'C:/Users/akash/Desktop/Akash/MSOEML/NIH_data/Infiltration/test/Normal\\\\1007.png'"
      ]
     },
     "execution_count": 17,
     "metadata": {},
     "output_type": "execute_result"
    },
    {
     "data": {
      "text/plain": [
       "'C:/Users/akash/Desktop/Akash/MSOEML/NIH_data/Infiltration/test/Normal\\\\1008.png'"
      ]
     },
     "execution_count": 17,
     "metadata": {},
     "output_type": "execute_result"
    },
    {
     "data": {
      "text/plain": [
       "'C:/Users/akash/Desktop/Akash/MSOEML/NIH_data/Infiltration/test/Normal\\\\1009.png'"
      ]
     },
     "execution_count": 17,
     "metadata": {},
     "output_type": "execute_result"
    },
    {
     "data": {
      "text/plain": [
       "'C:/Users/akash/Desktop/Akash/MSOEML/NIH_data/Infiltration/test/Normal\\\\1010.png'"
      ]
     },
     "execution_count": 17,
     "metadata": {},
     "output_type": "execute_result"
    },
    {
     "data": {
      "text/plain": [
       "'C:/Users/akash/Desktop/Akash/MSOEML/NIH_data/Infiltration/test/Normal\\\\1011.png'"
      ]
     },
     "execution_count": 17,
     "metadata": {},
     "output_type": "execute_result"
    },
    {
     "data": {
      "text/plain": [
       "'C:/Users/akash/Desktop/Akash/MSOEML/NIH_data/Infiltration/test/Normal\\\\1012.png'"
      ]
     },
     "execution_count": 17,
     "metadata": {},
     "output_type": "execute_result"
    },
    {
     "data": {
      "text/plain": [
       "'C:/Users/akash/Desktop/Akash/MSOEML/NIH_data/Infiltration/test/Normal\\\\1013.png'"
      ]
     },
     "execution_count": 17,
     "metadata": {},
     "output_type": "execute_result"
    },
    {
     "data": {
      "text/plain": [
       "'C:/Users/akash/Desktop/Akash/MSOEML/NIH_data/Infiltration/test/Normal\\\\1014.png'"
      ]
     },
     "execution_count": 17,
     "metadata": {},
     "output_type": "execute_result"
    },
    {
     "data": {
      "text/plain": [
       "'C:/Users/akash/Desktop/Akash/MSOEML/NIH_data/Infiltration/test/Normal\\\\1015.png'"
      ]
     },
     "execution_count": 17,
     "metadata": {},
     "output_type": "execute_result"
    },
    {
     "data": {
      "text/plain": [
       "'C:/Users/akash/Desktop/Akash/MSOEML/NIH_data/Infiltration/test/Normal\\\\1016.png'"
      ]
     },
     "execution_count": 17,
     "metadata": {},
     "output_type": "execute_result"
    },
    {
     "data": {
      "text/plain": [
       "'C:/Users/akash/Desktop/Akash/MSOEML/NIH_data/Infiltration/test/Normal\\\\1017.png'"
      ]
     },
     "execution_count": 17,
     "metadata": {},
     "output_type": "execute_result"
    },
    {
     "data": {
      "text/plain": [
       "'C:/Users/akash/Desktop/Akash/MSOEML/NIH_data/Infiltration/test/Normal\\\\1018.png'"
      ]
     },
     "execution_count": 17,
     "metadata": {},
     "output_type": "execute_result"
    },
    {
     "data": {
      "text/plain": [
       "'C:/Users/akash/Desktop/Akash/MSOEML/NIH_data/Infiltration/test/Normal\\\\1019.png'"
      ]
     },
     "execution_count": 17,
     "metadata": {},
     "output_type": "execute_result"
    },
    {
     "data": {
      "text/plain": [
       "'C:/Users/akash/Desktop/Akash/MSOEML/NIH_data/Infiltration/test/Normal\\\\1020.png'"
      ]
     },
     "execution_count": 17,
     "metadata": {},
     "output_type": "execute_result"
    },
    {
     "data": {
      "text/plain": [
       "'C:/Users/akash/Desktop/Akash/MSOEML/NIH_data/Infiltration/test/Normal\\\\1021.png'"
      ]
     },
     "execution_count": 17,
     "metadata": {},
     "output_type": "execute_result"
    },
    {
     "data": {
      "text/plain": [
       "'C:/Users/akash/Desktop/Akash/MSOEML/NIH_data/Infiltration/test/Normal\\\\1022.png'"
      ]
     },
     "execution_count": 17,
     "metadata": {},
     "output_type": "execute_result"
    },
    {
     "data": {
      "text/plain": [
       "'C:/Users/akash/Desktop/Akash/MSOEML/NIH_data/Infiltration/test/Normal\\\\1023.png'"
      ]
     },
     "execution_count": 17,
     "metadata": {},
     "output_type": "execute_result"
    },
    {
     "data": {
      "text/plain": [
       "'C:/Users/akash/Desktop/Akash/MSOEML/NIH_data/Infiltration/test/Normal\\\\1024.png'"
      ]
     },
     "execution_count": 17,
     "metadata": {},
     "output_type": "execute_result"
    },
    {
     "data": {
      "text/plain": [
       "'C:/Users/akash/Desktop/Akash/MSOEML/NIH_data/Infiltration/test/Normal\\\\1025.png'"
      ]
     },
     "execution_count": 17,
     "metadata": {},
     "output_type": "execute_result"
    },
    {
     "data": {
      "text/plain": [
       "'C:/Users/akash/Desktop/Akash/MSOEML/NIH_data/Infiltration/test/Normal\\\\1026.png'"
      ]
     },
     "execution_count": 17,
     "metadata": {},
     "output_type": "execute_result"
    },
    {
     "data": {
      "text/plain": [
       "'C:/Users/akash/Desktop/Akash/MSOEML/NIH_data/Infiltration/test/Normal\\\\1027.png'"
      ]
     },
     "execution_count": 17,
     "metadata": {},
     "output_type": "execute_result"
    },
    {
     "data": {
      "text/plain": [
       "'C:/Users/akash/Desktop/Akash/MSOEML/NIH_data/Infiltration/test/Normal\\\\1028.png'"
      ]
     },
     "execution_count": 17,
     "metadata": {},
     "output_type": "execute_result"
    },
    {
     "data": {
      "text/plain": [
       "'C:/Users/akash/Desktop/Akash/MSOEML/NIH_data/Infiltration/test/Normal\\\\1029.png'"
      ]
     },
     "execution_count": 17,
     "metadata": {},
     "output_type": "execute_result"
    },
    {
     "data": {
      "text/plain": [
       "'C:/Users/akash/Desktop/Akash/MSOEML/NIH_data/Infiltration/test/Normal\\\\1030.png'"
      ]
     },
     "execution_count": 17,
     "metadata": {},
     "output_type": "execute_result"
    },
    {
     "data": {
      "text/plain": [
       "'C:/Users/akash/Desktop/Akash/MSOEML/NIH_data/Infiltration/test/Normal\\\\1031.png'"
      ]
     },
     "execution_count": 17,
     "metadata": {},
     "output_type": "execute_result"
    },
    {
     "data": {
      "text/plain": [
       "'C:/Users/akash/Desktop/Akash/MSOEML/NIH_data/Infiltration/test/Normal\\\\1032.png'"
      ]
     },
     "execution_count": 17,
     "metadata": {},
     "output_type": "execute_result"
    },
    {
     "data": {
      "text/plain": [
       "'C:/Users/akash/Desktop/Akash/MSOEML/NIH_data/Infiltration/test/Normal\\\\1033.png'"
      ]
     },
     "execution_count": 17,
     "metadata": {},
     "output_type": "execute_result"
    },
    {
     "data": {
      "text/plain": [
       "'C:/Users/akash/Desktop/Akash/MSOEML/NIH_data/Infiltration/test/Normal\\\\1034.png'"
      ]
     },
     "execution_count": 17,
     "metadata": {},
     "output_type": "execute_result"
    },
    {
     "data": {
      "text/plain": [
       "'C:/Users/akash/Desktop/Akash/MSOEML/NIH_data/Infiltration/test/Normal\\\\1035.png'"
      ]
     },
     "execution_count": 17,
     "metadata": {},
     "output_type": "execute_result"
    },
    {
     "data": {
      "text/plain": [
       "'C:/Users/akash/Desktop/Akash/MSOEML/NIH_data/Infiltration/test/Normal\\\\1036.png'"
      ]
     },
     "execution_count": 17,
     "metadata": {},
     "output_type": "execute_result"
    },
    {
     "data": {
      "text/plain": [
       "'C:/Users/akash/Desktop/Akash/MSOEML/NIH_data/Infiltration/test/Normal\\\\1037.png'"
      ]
     },
     "execution_count": 17,
     "metadata": {},
     "output_type": "execute_result"
    },
    {
     "data": {
      "text/plain": [
       "'C:/Users/akash/Desktop/Akash/MSOEML/NIH_data/Infiltration/test/Normal\\\\1038.png'"
      ]
     },
     "execution_count": 17,
     "metadata": {},
     "output_type": "execute_result"
    },
    {
     "data": {
      "text/plain": [
       "'C:/Users/akash/Desktop/Akash/MSOEML/NIH_data/Infiltration/test/Normal\\\\1039.png'"
      ]
     },
     "execution_count": 17,
     "metadata": {},
     "output_type": "execute_result"
    },
    {
     "data": {
      "text/plain": [
       "'C:/Users/akash/Desktop/Akash/MSOEML/NIH_data/Infiltration/test/Normal\\\\1040.png'"
      ]
     },
     "execution_count": 17,
     "metadata": {},
     "output_type": "execute_result"
    },
    {
     "data": {
      "text/plain": [
       "'C:/Users/akash/Desktop/Akash/MSOEML/NIH_data/Infiltration/test/Normal\\\\1041.png'"
      ]
     },
     "execution_count": 17,
     "metadata": {},
     "output_type": "execute_result"
    },
    {
     "data": {
      "text/plain": [
       "'C:/Users/akash/Desktop/Akash/MSOEML/NIH_data/Infiltration/test/Normal\\\\1042.png'"
      ]
     },
     "execution_count": 17,
     "metadata": {},
     "output_type": "execute_result"
    },
    {
     "data": {
      "text/plain": [
       "'C:/Users/akash/Desktop/Akash/MSOEML/NIH_data/Infiltration/test/Normal\\\\1043.png'"
      ]
     },
     "execution_count": 17,
     "metadata": {},
     "output_type": "execute_result"
    },
    {
     "data": {
      "text/plain": [
       "'C:/Users/akash/Desktop/Akash/MSOEML/NIH_data/Infiltration/test/Normal\\\\1044.png'"
      ]
     },
     "execution_count": 17,
     "metadata": {},
     "output_type": "execute_result"
    },
    {
     "data": {
      "text/plain": [
       "'C:/Users/akash/Desktop/Akash/MSOEML/NIH_data/Infiltration/test/Normal\\\\1045.png'"
      ]
     },
     "execution_count": 17,
     "metadata": {},
     "output_type": "execute_result"
    },
    {
     "data": {
      "text/plain": [
       "'C:/Users/akash/Desktop/Akash/MSOEML/NIH_data/Infiltration/test/Normal\\\\1046.png'"
      ]
     },
     "execution_count": 17,
     "metadata": {},
     "output_type": "execute_result"
    },
    {
     "data": {
      "text/plain": [
       "'C:/Users/akash/Desktop/Akash/MSOEML/NIH_data/Infiltration/test/Normal\\\\1047.png'"
      ]
     },
     "execution_count": 17,
     "metadata": {},
     "output_type": "execute_result"
    },
    {
     "data": {
      "text/plain": [
       "'C:/Users/akash/Desktop/Akash/MSOEML/NIH_data/Infiltration/test/Normal\\\\1048.png'"
      ]
     },
     "execution_count": 17,
     "metadata": {},
     "output_type": "execute_result"
    },
    {
     "data": {
      "text/plain": [
       "'C:/Users/akash/Desktop/Akash/MSOEML/NIH_data/Infiltration/test/Normal\\\\1049.png'"
      ]
     },
     "execution_count": 17,
     "metadata": {},
     "output_type": "execute_result"
    },
    {
     "data": {
      "text/plain": [
       "'C:/Users/akash/Desktop/Akash/MSOEML/NIH_data/Infiltration/test/Normal\\\\1050.png'"
      ]
     },
     "execution_count": 17,
     "metadata": {},
     "output_type": "execute_result"
    },
    {
     "data": {
      "text/plain": [
       "'C:/Users/akash/Desktop/Akash/MSOEML/NIH_data/Infiltration/test/Normal\\\\1051.png'"
      ]
     },
     "execution_count": 17,
     "metadata": {},
     "output_type": "execute_result"
    },
    {
     "data": {
      "text/plain": [
       "'C:/Users/akash/Desktop/Akash/MSOEML/NIH_data/Infiltration/test/Normal\\\\1052.png'"
      ]
     },
     "execution_count": 17,
     "metadata": {},
     "output_type": "execute_result"
    },
    {
     "data": {
      "text/plain": [
       "'C:/Users/akash/Desktop/Akash/MSOEML/NIH_data/Infiltration/test/Normal\\\\1053.png'"
      ]
     },
     "execution_count": 17,
     "metadata": {},
     "output_type": "execute_result"
    },
    {
     "data": {
      "text/plain": [
       "'C:/Users/akash/Desktop/Akash/MSOEML/NIH_data/Infiltration/test/Normal\\\\1054.png'"
      ]
     },
     "execution_count": 17,
     "metadata": {},
     "output_type": "execute_result"
    },
    {
     "data": {
      "text/plain": [
       "'C:/Users/akash/Desktop/Akash/MSOEML/NIH_data/Infiltration/test/Normal\\\\1055.png'"
      ]
     },
     "execution_count": 17,
     "metadata": {},
     "output_type": "execute_result"
    },
    {
     "data": {
      "text/plain": [
       "'C:/Users/akash/Desktop/Akash/MSOEML/NIH_data/Infiltration/test/Normal\\\\1056.png'"
      ]
     },
     "execution_count": 17,
     "metadata": {},
     "output_type": "execute_result"
    },
    {
     "data": {
      "text/plain": [
       "'C:/Users/akash/Desktop/Akash/MSOEML/NIH_data/Infiltration/test/Normal\\\\1057.png'"
      ]
     },
     "execution_count": 17,
     "metadata": {},
     "output_type": "execute_result"
    },
    {
     "data": {
      "text/plain": [
       "'C:/Users/akash/Desktop/Akash/MSOEML/NIH_data/Infiltration/test/Normal\\\\1058.png'"
      ]
     },
     "execution_count": 17,
     "metadata": {},
     "output_type": "execute_result"
    },
    {
     "data": {
      "text/plain": [
       "'C:/Users/akash/Desktop/Akash/MSOEML/NIH_data/Infiltration/test/Normal\\\\1059.png'"
      ]
     },
     "execution_count": 17,
     "metadata": {},
     "output_type": "execute_result"
    },
    {
     "data": {
      "text/plain": [
       "'C:/Users/akash/Desktop/Akash/MSOEML/NIH_data/Infiltration/test/Normal\\\\1060.png'"
      ]
     },
     "execution_count": 17,
     "metadata": {},
     "output_type": "execute_result"
    },
    {
     "data": {
      "text/plain": [
       "'C:/Users/akash/Desktop/Akash/MSOEML/NIH_data/Infiltration/test/Normal\\\\1061.png'"
      ]
     },
     "execution_count": 17,
     "metadata": {},
     "output_type": "execute_result"
    },
    {
     "data": {
      "text/plain": [
       "'C:/Users/akash/Desktop/Akash/MSOEML/NIH_data/Infiltration/test/Normal\\\\1062.png'"
      ]
     },
     "execution_count": 17,
     "metadata": {},
     "output_type": "execute_result"
    },
    {
     "data": {
      "text/plain": [
       "'C:/Users/akash/Desktop/Akash/MSOEML/NIH_data/Infiltration/test/Normal\\\\1063.png'"
      ]
     },
     "execution_count": 17,
     "metadata": {},
     "output_type": "execute_result"
    },
    {
     "data": {
      "text/plain": [
       "'C:/Users/akash/Desktop/Akash/MSOEML/NIH_data/Infiltration/test/Normal\\\\1064.png'"
      ]
     },
     "execution_count": 17,
     "metadata": {},
     "output_type": "execute_result"
    },
    {
     "data": {
      "text/plain": [
       "'C:/Users/akash/Desktop/Akash/MSOEML/NIH_data/Infiltration/test/Normal\\\\1065.png'"
      ]
     },
     "execution_count": 17,
     "metadata": {},
     "output_type": "execute_result"
    },
    {
     "data": {
      "text/plain": [
       "'C:/Users/akash/Desktop/Akash/MSOEML/NIH_data/Infiltration/test/Normal\\\\1066.png'"
      ]
     },
     "execution_count": 17,
     "metadata": {},
     "output_type": "execute_result"
    },
    {
     "data": {
      "text/plain": [
       "'C:/Users/akash/Desktop/Akash/MSOEML/NIH_data/Infiltration/test/Normal\\\\1067.png'"
      ]
     },
     "execution_count": 17,
     "metadata": {},
     "output_type": "execute_result"
    },
    {
     "data": {
      "text/plain": [
       "'C:/Users/akash/Desktop/Akash/MSOEML/NIH_data/Infiltration/test/Normal\\\\1068.png'"
      ]
     },
     "execution_count": 17,
     "metadata": {},
     "output_type": "execute_result"
    },
    {
     "data": {
      "text/plain": [
       "'C:/Users/akash/Desktop/Akash/MSOEML/NIH_data/Infiltration/test/Normal\\\\1069.png'"
      ]
     },
     "execution_count": 17,
     "metadata": {},
     "output_type": "execute_result"
    },
    {
     "data": {
      "text/plain": [
       "'C:/Users/akash/Desktop/Akash/MSOEML/NIH_data/Infiltration/test/Normal\\\\1070.png'"
      ]
     },
     "execution_count": 17,
     "metadata": {},
     "output_type": "execute_result"
    },
    {
     "data": {
      "text/plain": [
       "'C:/Users/akash/Desktop/Akash/MSOEML/NIH_data/Infiltration/test/Normal\\\\1071.png'"
      ]
     },
     "execution_count": 17,
     "metadata": {},
     "output_type": "execute_result"
    },
    {
     "data": {
      "text/plain": [
       "'C:/Users/akash/Desktop/Akash/MSOEML/NIH_data/Infiltration/test/Normal\\\\1072.png'"
      ]
     },
     "execution_count": 17,
     "metadata": {},
     "output_type": "execute_result"
    },
    {
     "data": {
      "text/plain": [
       "'C:/Users/akash/Desktop/Akash/MSOEML/NIH_data/Infiltration/test/Normal\\\\1073.png'"
      ]
     },
     "execution_count": 17,
     "metadata": {},
     "output_type": "execute_result"
    },
    {
     "data": {
      "text/plain": [
       "'C:/Users/akash/Desktop/Akash/MSOEML/NIH_data/Infiltration/test/Normal\\\\1074.png'"
      ]
     },
     "execution_count": 17,
     "metadata": {},
     "output_type": "execute_result"
    },
    {
     "data": {
      "text/plain": [
       "'C:/Users/akash/Desktop/Akash/MSOEML/NIH_data/Infiltration/test/Normal\\\\1075.png'"
      ]
     },
     "execution_count": 17,
     "metadata": {},
     "output_type": "execute_result"
    },
    {
     "data": {
      "text/plain": [
       "'C:/Users/akash/Desktop/Akash/MSOEML/NIH_data/Infiltration/test/Normal\\\\1076.png'"
      ]
     },
     "execution_count": 17,
     "metadata": {},
     "output_type": "execute_result"
    },
    {
     "data": {
      "text/plain": [
       "'C:/Users/akash/Desktop/Akash/MSOEML/NIH_data/Infiltration/test/Normal\\\\1077.png'"
      ]
     },
     "execution_count": 17,
     "metadata": {},
     "output_type": "execute_result"
    },
    {
     "data": {
      "text/plain": [
       "'C:/Users/akash/Desktop/Akash/MSOEML/NIH_data/Infiltration/test/Normal\\\\1078.png'"
      ]
     },
     "execution_count": 17,
     "metadata": {},
     "output_type": "execute_result"
    },
    {
     "data": {
      "text/plain": [
       "'C:/Users/akash/Desktop/Akash/MSOEML/NIH_data/Infiltration/test/Normal\\\\1079.png'"
      ]
     },
     "execution_count": 17,
     "metadata": {},
     "output_type": "execute_result"
    },
    {
     "data": {
      "text/plain": [
       "'C:/Users/akash/Desktop/Akash/MSOEML/NIH_data/Infiltration/test/Normal\\\\1080.png'"
      ]
     },
     "execution_count": 17,
     "metadata": {},
     "output_type": "execute_result"
    },
    {
     "data": {
      "text/plain": [
       "'C:/Users/akash/Desktop/Akash/MSOEML/NIH_data/Infiltration/test/Normal\\\\1081.png'"
      ]
     },
     "execution_count": 17,
     "metadata": {},
     "output_type": "execute_result"
    },
    {
     "data": {
      "text/plain": [
       "'C:/Users/akash/Desktop/Akash/MSOEML/NIH_data/Infiltration/test/Normal\\\\1082.png'"
      ]
     },
     "execution_count": 17,
     "metadata": {},
     "output_type": "execute_result"
    },
    {
     "data": {
      "text/plain": [
       "'C:/Users/akash/Desktop/Akash/MSOEML/NIH_data/Infiltration/test/Normal\\\\1083.png'"
      ]
     },
     "execution_count": 17,
     "metadata": {},
     "output_type": "execute_result"
    },
    {
     "data": {
      "text/plain": [
       "'C:/Users/akash/Desktop/Akash/MSOEML/NIH_data/Infiltration/test/Normal\\\\1084.png'"
      ]
     },
     "execution_count": 17,
     "metadata": {},
     "output_type": "execute_result"
    },
    {
     "data": {
      "text/plain": [
       "'C:/Users/akash/Desktop/Akash/MSOEML/NIH_data/Infiltration/test/Normal\\\\1085.png'"
      ]
     },
     "execution_count": 17,
     "metadata": {},
     "output_type": "execute_result"
    },
    {
     "data": {
      "text/plain": [
       "'C:/Users/akash/Desktop/Akash/MSOEML/NIH_data/Infiltration/test/Normal\\\\1086.png'"
      ]
     },
     "execution_count": 17,
     "metadata": {},
     "output_type": "execute_result"
    },
    {
     "data": {
      "text/plain": [
       "'C:/Users/akash/Desktop/Akash/MSOEML/NIH_data/Infiltration/test/Normal\\\\1087.png'"
      ]
     },
     "execution_count": 17,
     "metadata": {},
     "output_type": "execute_result"
    },
    {
     "data": {
      "text/plain": [
       "'C:/Users/akash/Desktop/Akash/MSOEML/NIH_data/Infiltration/test/Normal\\\\1088.png'"
      ]
     },
     "execution_count": 17,
     "metadata": {},
     "output_type": "execute_result"
    },
    {
     "data": {
      "text/plain": [
       "'C:/Users/akash/Desktop/Akash/MSOEML/NIH_data/Infiltration/test/Normal\\\\1089.png'"
      ]
     },
     "execution_count": 17,
     "metadata": {},
     "output_type": "execute_result"
    },
    {
     "data": {
      "text/plain": [
       "'C:/Users/akash/Desktop/Akash/MSOEML/NIH_data/Infiltration/test/Normal\\\\1090.png'"
      ]
     },
     "execution_count": 17,
     "metadata": {},
     "output_type": "execute_result"
    },
    {
     "data": {
      "text/plain": [
       "'C:/Users/akash/Desktop/Akash/MSOEML/NIH_data/Infiltration/test/Normal\\\\1091.png'"
      ]
     },
     "execution_count": 17,
     "metadata": {},
     "output_type": "execute_result"
    },
    {
     "data": {
      "text/plain": [
       "'C:/Users/akash/Desktop/Akash/MSOEML/NIH_data/Infiltration/test/Normal\\\\1092.png'"
      ]
     },
     "execution_count": 17,
     "metadata": {},
     "output_type": "execute_result"
    },
    {
     "data": {
      "text/plain": [
       "'C:/Users/akash/Desktop/Akash/MSOEML/NIH_data/Infiltration/test/Normal\\\\1093.png'"
      ]
     },
     "execution_count": 17,
     "metadata": {},
     "output_type": "execute_result"
    },
    {
     "data": {
      "text/plain": [
       "'C:/Users/akash/Desktop/Akash/MSOEML/NIH_data/Infiltration/test/Normal\\\\1094.png'"
      ]
     },
     "execution_count": 17,
     "metadata": {},
     "output_type": "execute_result"
    },
    {
     "data": {
      "text/plain": [
       "'C:/Users/akash/Desktop/Akash/MSOEML/NIH_data/Infiltration/test/Normal\\\\1095.png'"
      ]
     },
     "execution_count": 17,
     "metadata": {},
     "output_type": "execute_result"
    },
    {
     "data": {
      "text/plain": [
       "'C:/Users/akash/Desktop/Akash/MSOEML/NIH_data/Infiltration/test/Normal\\\\1096.png'"
      ]
     },
     "execution_count": 17,
     "metadata": {},
     "output_type": "execute_result"
    },
    {
     "data": {
      "text/plain": [
       "'C:/Users/akash/Desktop/Akash/MSOEML/NIH_data/Infiltration/test/Normal\\\\1097.png'"
      ]
     },
     "execution_count": 17,
     "metadata": {},
     "output_type": "execute_result"
    },
    {
     "data": {
      "text/plain": [
       "'C:/Users/akash/Desktop/Akash/MSOEML/NIH_data/Infiltration/test/Normal\\\\1098.png'"
      ]
     },
     "execution_count": 17,
     "metadata": {},
     "output_type": "execute_result"
    },
    {
     "data": {
      "text/plain": [
       "'C:/Users/akash/Desktop/Akash/MSOEML/NIH_data/Infiltration/test/Normal\\\\1099.png'"
      ]
     },
     "execution_count": 17,
     "metadata": {},
     "output_type": "execute_result"
    },
    {
     "data": {
      "text/plain": [
       "'C:/Users/akash/Desktop/Akash/MSOEML/NIH_data/Infiltration/test/Normal\\\\1100.png'"
      ]
     },
     "execution_count": 17,
     "metadata": {},
     "output_type": "execute_result"
    },
    {
     "data": {
      "text/plain": [
       "'C:/Users/akash/Desktop/Akash/MSOEML/NIH_data/Infiltration/test/Normal\\\\1101.png'"
      ]
     },
     "execution_count": 17,
     "metadata": {},
     "output_type": "execute_result"
    }
   ],
   "source": [
    "import numpy as np\n",
    "import os\n",
    "import shutil\n",
    "\n",
    "ori_path = 'C:/Users/akash/Desktop/Akash/MSOEML/NIH_data/Infiltration/train/Normal'\n",
    "des_path = 'C:/Users/akash/Desktop/Akash/MSOEML/NIH_data/Infiltration/test/Normal'\n",
    "# list all files in dir\n",
    "files = os.listdir(ori_path)\n",
    "\n",
    "# select 20% of files randomly\n",
    "random_files = np.random.choice(files, size=int(len(files) * 0.2), replace=False)\n",
    "\n",
    "#renaming index\n",
    "ii = 1\n",
    "\n",
    "for x in random_files:\n",
    "    src = os.path.join(ori_path,x)\n",
    "    des = os.path.join(des_path,str(ii)+\".png\")\n",
    "    shutil.move(src,des)\n",
    "    ii+=1"
   ]
  }
 ],
 "metadata": {
  "interpreter": {
   "hash": "5d39e36d4447a80e72100ed6184e90232095d8a5e71c7a8d98de08f9140f1d8f"
  },
  "kernelspec": {
   "display_name": "Python 3.9.10 ('deeplearningKeras')",
   "language": "python",
   "name": "python3"
  },
  "language_info": {
   "codemirror_mode": {
    "name": "ipython",
    "version": 3
   },
   "file_extension": ".py",
   "mimetype": "text/x-python",
   "name": "python",
   "nbconvert_exporter": "python",
   "pygments_lexer": "ipython3",
   "version": "3.9.10"
  },
  "orig_nbformat": 4
 },
 "nbformat": 4,
 "nbformat_minor": 2
}
