{
 "cells": [
  {
   "cell_type": "code",
   "execution_count": 1,
   "metadata": {},
   "outputs": [],
   "source": [
    "from tensorflow.keras.applications import DenseNet121\n",
    "from tensorflow.keras.applications import MobileNetV3Small\n",
    "from tensorflow import keras\n",
    "import numpy as np\n",
    "from sklearn import metrics\n",
    "import matplotlib.pyplot as plt\n",
    "import itertools\n",
    "import os"
   ]
  },
  {
   "cell_type": "code",
   "execution_count": 2,
   "metadata": {},
   "outputs": [],
   "source": [
    "from IPython.core.interactiveshell import InteractiveShell \n",
    "InteractiveShell.ast_node_interactivity = \"all\""
   ]
  },
  {
   "cell_type": "code",
   "execution_count": 3,
   "metadata": {},
   "outputs": [],
   "source": [
    "def create_model():\n",
    "    base_model = MobileNetV3Small(\n",
    "        include_top=False,\n",
    "        weights='imagenet',\n",
    "        input_shape=(224, 224, 3)\n",
    "    )\n",
    "\n",
    "    # Next, we will freeze the base model so that all the learning from the ImageNet \n",
    "    # dataset does not get destroyed in the initial training.\n",
    "    base_model.trainable = False\n",
    "\n",
    "    # Create inputs with correct shape\n",
    "    inputs = keras.Input(shape=(224, 224, 3))\n",
    "    x = base_model(inputs, training=False)\n",
    "\n",
    "    # Add pooling layer or flatten layer\n",
    "    x =  keras.layers.GlobalAveragePooling2D()(x)\n",
    "\n",
    "    # Add a batch normalization layer\n",
    "    x = keras.layers.BatchNormalization()(x)\n",
    "\n",
    "    # Add final dense layer with 6 classes for the 6 types of fruit\n",
    "    outputs = keras.layers.Dense(1, activation = 'sigmoid')(x)\n",
    "\n",
    "    # Combine inputs and outputs to create model\n",
    "    model = keras.Model(inputs, outputs)\n",
    "\n",
    "    # uncomment the following code if you want to see the model\n",
    "    return model"
   ]
  },
  {
   "cell_type": "code",
   "execution_count": 4,
   "metadata": {},
   "outputs": [],
   "source": [
    "model = create_model()\n",
    "# model.trainable = True\n",
    "model.load_weights('C:/Users/samee/Documents/Imagine Cup Saved Models/Cropped/Fracture/02-0.10.h5')"
   ]
  },
  {
   "cell_type": "code",
   "execution_count": 5,
   "metadata": {},
   "outputs": [],
   "source": [
    "test_directory = 'C:/Users/samee/Downloads/Crop_Test/Valid/ValidPA'"
   ]
  },
  {
   "cell_type": "code",
   "execution_count": 6,
   "metadata": {},
   "outputs": [
    {
     "name": "stdout",
     "output_type": "stream",
     "text": [
      "Found 180 files belonging to 2 classes.\n"
     ]
    }
   ],
   "source": [
    "testdataset = keras.preprocessing.image_dataset_from_directory(\n",
    "        test_directory, \n",
    "        batch_size= 32,\n",
    "        image_size=(224, 224), \n",
    "        color_mode='rgb',\n",
    "        label_mode='binary',\n",
    "        shuffle = False,\n",
    "        seed = 7\n",
    "    )"
   ]
  },
  {
   "cell_type": "code",
   "execution_count": 7,
   "metadata": {},
   "outputs": [
    {
     "name": "stdout",
     "output_type": "stream",
     "text": [
      "6/6 [==============================] - 9s 127ms/step\n"
     ]
    }
   ],
   "source": [
    "# Chex = model.predict(test_dataset, verbose = 1)\n",
    "combined = model.predict(testdataset, verbose = 1)"
   ]
  },
  {
   "cell_type": "code",
   "execution_count": 9,
   "metadata": {},
   "outputs": [],
   "source": [
    "def test_categorical(y_pred, test_dataset):\n",
    "    labels = np.array([])\n",
    "    for x, y in testdataset:\n",
    "        labels = np.concatenate([labels, np.argmax(y.numpy(), axis = -1)])\n",
    "    prediction = np.argmax(y_pred, axis = -1)\n",
    "    cm = metrics.confusion_matrix(y_true = labels, y_pred = prediction)\n",
    "    acc = metrics.classification_report(labels, prediction)\n",
    "    return {'acc': acc, 'cm': cm}"
   ]
  },
  {
   "cell_type": "code",
   "execution_count": null,
   "metadata": {},
   "outputs": [],
   "source": [
    "a = test_categorical(y_pred = combined, test_dataset = testdataset)"
   ]
  },
  {
   "cell_type": "code",
   "execution_count": null,
   "metadata": {},
   "outputs": [],
   "source": [
    "a['acc']"
   ]
  },
  {
   "cell_type": "code",
   "execution_count": 11,
   "metadata": {},
   "outputs": [],
   "source": [
    "def test_binary(y_pred, test_dataset):\n",
    "    labels = np.array([])\n",
    "    for x, y in test_dataset:\n",
    "        for i in y:\n",
    "            labels = np.concatenate([labels, i])\n",
    "    prediction = np.round(y_pred)\n",
    "    clf = metrics.classification_report(labels, prediction)\n",
    "    # Calculate accuracy, precision, recall, f1-score, and kappa score\n",
    "    acc = metrics.accuracy_score(labels, prediction)\n",
    "    prec = metrics.precision_score(labels, prediction)\n",
    "    rec = metrics.recall_score(labels, prediction)\n",
    "    f1 = metrics.f1_score(labels, prediction)\n",
    "    kappa = metrics.cohen_kappa_score(labels, prediction)\n",
    "\n",
    "    # Calculate area under curve (AUC)\n",
    "    y_pred_proba = y_pred.ravel()\n",
    "    fpr, tpr, _ = metrics.roc_curve(labels, y_pred_proba)\n",
    "    auc = metrics.roc_auc_score(labels, y_pred_proba)\n",
    "\n",
    "    # Display confusion matrix\n",
    "    cm = metrics.confusion_matrix(labels, prediction)\n",
    "\n",
    "    return {'acc': acc, 'prec': prec, 'rec': rec, 'f1': f1, 'kappa': kappa, 'cm': cm, 'clf': clf, 'auc': auc, 'fpr': fpr, 'tpr': tpr}"
   ]
  },
  {
   "cell_type": "code",
   "execution_count": 12,
   "metadata": {},
   "outputs": [],
   "source": [
    "a = test_binary(y_pred = combined, test_dataset = testdataset)"
   ]
  },
  {
   "cell_type": "code",
   "execution_count": 17,
   "metadata": {},
   "outputs": [
    {
     "name": "stdout",
     "output_type": "stream",
     "text": [
      "              precision    recall  f1-score   support\n",
      "\n",
      "         0.0       0.95      1.00      0.97        90\n",
      "         1.0       1.00      0.94      0.97        90\n",
      "\n",
      "    accuracy                           0.97       180\n",
      "   macro avg       0.97      0.97      0.97       180\n",
      "weighted avg       0.97      0.97      0.97       180\n",
      "\n"
     ]
    }
   ],
   "source": [
    "print(a['clf'])"
   ]
  },
  {
   "cell_type": "code",
   "execution_count": 16,
   "metadata": {},
   "outputs": [
    {
     "data": {
      "text/plain": [
       "0.9722222222222222"
      ]
     },
     "execution_count": 16,
     "metadata": {},
     "output_type": "execute_result"
    }
   ],
   "source": [
    "a['acc']"
   ]
  },
  {
   "cell_type": "code",
   "execution_count": 15,
   "metadata": {},
   "outputs": [
    {
     "data": {
      "text/plain": [
       "0.992962962962963"
      ]
     },
     "execution_count": 15,
     "metadata": {},
     "output_type": "execute_result"
    }
   ],
   "source": [
    "a['auc']"
   ]
  },
  {
   "cell_type": "code",
   "execution_count": 13,
   "metadata": {},
   "outputs": [],
   "source": [
    "def plot_confusion_matrix(cm, classes,\n",
    "                        normalize=False,\n",
    "                        title='Confusion matrix',\n",
    "                        cmap=plt.cm.Blues):\n",
    "    \"\"\"\n",
    "    This function prints and plots the confusion matrix.\n",
    "    Normalization can be applied by setting `normalize=True`.\n",
    "    \"\"\"\n",
    "    plt.imshow(cm, interpolation='nearest', cmap=cmap)\n",
    "    plt.title(title)\n",
    "    plt.colorbar()\n",
    "    tick_marks = np.arange(len(classes))\n",
    "    plt.xticks(tick_marks, classes, rotation=45)\n",
    "    plt.yticks(tick_marks, classes)\n",
    "\n",
    "    if normalize:\n",
    "        cm = cm.astype('float') / cm.sum(axis=1)[:, np.newaxis]\n",
    "        print(\"Normalized confusion matrix\")\n",
    "    else:\n",
    "        print('Confusion matrix, without normalization')\n",
    "\n",
    "    thresh = cm.max() / 2.\n",
    "    for i, j in itertools.product(range(cm.shape[0]), range(cm.shape[1])):\n",
    "        plt.text(j, i, cm[i, j],\n",
    "            horizontalalignment=\"center\",\n",
    "            color=\"white\" if cm[i, j] > thresh else \"black\")\n",
    "\n",
    "    plt.tight_layout()\n",
    "    plt.ylabel('True label')\n",
    "    plt.xlabel('Predicted label')\n"
   ]
  },
  {
   "cell_type": "code",
   "execution_count": 161,
   "metadata": {},
   "outputs": [
    {
     "name": "stdout",
     "output_type": "stream",
     "text": [
      "Confusion matrix, without normalization\n"
     ]
    },
    {
     "data": {
      "image/png": "[encoded data removed]",
      "text/plain": [
       "<Figure size 648x648 with 2 Axes>"
      ]
     },
     "metadata": {
      "needs_background": "light"
     },
     "output_type": "display_data"
    }
   ],
   "source": [
    "folders = os.listdir(test_directory)\n",
    "plt.rcParams['figure.figsize'] = [9, 9]\n",
    "plot_confusion_matrix(a['cm'], title = 'Confusion Matrix', classes = folders, normalize = False)"
   ]
  }
 ],
 "metadata": {
  "interpreter": {
   "hash": "1e533507eb76cbfb81c75639bacc8f460941550716639a402c578975cb3ec022"
  },
  "kernelspec": {
   "display_name": "Python 3.9.0 ('deeplearningkeras')",
   "language": "python",
   "name": "python3"
  },
  "language_info": {
   "codemirror_mode": {
    "name": "ipython",
    "version": 3
   },
   "file_extension": ".py",
   "mimetype": "text/x-python",
   "name": "python",
   "nbconvert_exporter": "python",
   "pygments_lexer": "ipython3",
   "version": "3.9.0"
  },
  "orig_nbformat": 4
 },
 "nbformat": 4,
 "nbformat_minor": 2
}
