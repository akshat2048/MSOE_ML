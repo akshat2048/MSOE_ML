{
 "cells": [
  {
   "cell_type": "code",
   "execution_count": 1,
   "metadata": {},
   "outputs": [],
   "source": [
    "from tensorflow import keras\n",
    "import numpy as np\n",
    "import sklearn.metrics as sk\n",
    "import matplotlib.pyplot as plt\n",
    "import itertools\n",
    "import os\n"
   ]
  },
  {
   "cell_type": "code",
   "execution_count": 2,
   "metadata": {},
   "outputs": [],
   "source": [
    "from IPython.core.interactiveshell import InteractiveShell \n",
    "InteractiveShell.ast_node_interactivity = \"all\""
   ]
  },
  {
   "cell_type": "code",
   "execution_count": 3,
   "metadata": {},
   "outputs": [],
   "source": [
    "# Enter the path to the directory where the pb file is stored\n",
    "\n",
    "model = keras.models.load_model('C:/Users/samee/Documents/Imagine Cup Saved Models/Test combined v unique/Combined/04-0.78.h5')"
   ]
  },
  {
   "cell_type": "code",
   "execution_count": 49,
   "metadata": {},
   "outputs": [],
   "source": [
    "# Enter the path to the validation/test directory\n",
    "\n",
    "test_directory = 'C:/Users/samee/Downloads/Combined-Binary/Valid/ValidPA'"
   ]
  },
  {
   "cell_type": "code",
   "execution_count": 50,
   "metadata": {},
   "outputs": [
    {
     "name": "stdout",
     "output_type": "stream",
     "text": [
      "Found 19346 files belonging to 2 classes.\n"
     ]
    }
   ],
   "source": [
    "test_dataset = keras.preprocessing.image_dataset_from_directory(\n",
    "        test_directory, \n",
    "        batch_size= 32,\n",
    "        image_size=(224, 224), \n",
    "        color_mode='rgb',\n",
    "        label_mode='binary',\n",
    "        shuffle = False,\n",
    "        seed = 7\n",
    "    )"
   ]
  },
  {
   "cell_type": "code",
   "execution_count": 51,
   "metadata": {},
   "outputs": [
    {
     "name": "stdout",
     "output_type": "stream",
     "text": [
      "605/605 [==============================] - 57s 92ms/step\n"
     ]
    }
   ],
   "source": [
    "# Chex = model.predict(test_dataset, verbose = 1)\n",
    "combined = model.predict(test_dataset, verbose = 1)"
   ]
  },
  {
   "cell_type": "code",
   "execution_count": 52,
   "metadata": {},
   "outputs": [
    {
     "data": {
      "text/plain": [
       "array([[1.],\n",
       "       [1.],\n",
       "       [1.],\n",
       "       ...,\n",
       "       [1.],\n",
       "       [0.],\n",
       "       [1.]], dtype=float32)"
      ]
     },
     "execution_count": 52,
     "metadata": {},
     "output_type": "execute_result"
    }
   ],
   "source": [
    "np.round(combined)"
   ]
  },
  {
   "cell_type": "code",
   "execution_count": 16,
   "metadata": {},
   "outputs": [],
   "source": [
    "def test_categorical(y_pred):\n",
    "    labels = np.array([])\n",
    "    for x, y in test_dataset:\n",
    "        # labels = np.concatenate([labels, np.argmax(y.numpy(), axis = -1)])\n",
    "        print(y)\n",
    "    # prediction = np.argmax(y_pred, axis = -1)\n",
    "    # # cm = sk.confusion_matrix(y_true = labels, y_pred = prediction)\n",
    "    # # return cm\n",
    "    # acc = sk.classification_report(labels, prediction)\n",
    "    # return acc"
   ]
  },
  {
   "cell_type": "code",
   "execution_count": 53,
   "metadata": {},
   "outputs": [],
   "source": [
    "from sklearn import metrics\n",
    "import seaborn as sns\n",
    "\n",
    "def test_binary(y_pred):\n",
    "    labels = np.array([])\n",
    "    for x, y in test_dataset:\n",
    "        for i in y:\n",
    "            labels = np.concatenate([labels, i])\n",
    "    prediction = np.round(y_pred)\n",
    "    # cm = sk.confusion_matrix(y_true = labels, y_pred = prediction)\n",
    "    # return cm\n",
    "    #old acc\n",
    "    #acc = sk.classification_report(labels, prediction)\n",
    "    \n",
    "    #NEW CODE\n",
    "    # Calculate accuracy, precision, recall, f1-score, and kappa score\n",
    "    acc = metrics.accuracy_score(labels, prediction)\n",
    "    prec = metrics.precision_score(labels, prediction)\n",
    "    rec = metrics.recall_score(labels, prediction)\n",
    "    f1 = metrics.f1_score(labels, prediction)\n",
    "    kappa = metrics.cohen_kappa_score(labels, prediction)\n",
    "\n",
    "    # Calculate area under curve (AUC)\n",
    "    y_pred_proba = model.predict_proba(labels)[::,1]\n",
    "    fpr, tpr, _ = metrics.roc_curve(labels, y_pred_proba)\n",
    "    auc = metrics.roc_auc_score(labels, y_pred_proba)\n",
    "\n",
    "    # Display confussion matrix\n",
    "    cm = metrics.confusion_matrix(labels, y_pred)\n",
    "\n",
    "    return {'acc': acc, 'prec': prec, 'rec': rec, 'f1': f1, 'kappa': kappa, \n",
    "            'fpr': fpr, 'tpr': tpr, 'auc': auc, 'cm': cm}\n",
    "\n",
    "    #END OF NEW CODE\n",
    "    #Old Return\n",
    "    #return acc\n",
    "\n",
    "#Example of using the code\n",
    "eval = test_binary(idk)\n",
    "\n",
    "print('Accuracy:', eval['acc'])\n",
    "print('Precision:', eval['prec'])\n",
    "print('Recall:', eval['rec'])\n",
    "print('F1 Score:', eval['f1'])\n",
    "print('Cohens Kappa Score:', eval['kappa'])\n",
    "print('Area Under Curve:', eval['auc'])\n",
    "print('Confusion Matrix:\\n', eval['cm'])\n",
    "sns.heatmap(eval['cm'], annot = True, cmap = 'YlOrBr')\n"
   ]
  },
  {
   "cell_type": "code",
   "execution_count": 54,
   "metadata": {},
   "outputs": [],
   "source": [
    "a = test_binary(combined)"
   ]
  },
  {
   "cell_type": "code",
   "execution_count": 36,
   "metadata": {},
   "outputs": [
    {
     "name": "stdout",
     "output_type": "stream",
     "text": [
      "              precision    recall  f1-score   support\n",
      "\n",
      "         0.0       0.54      0.41      0.47     10386\n",
      "         1.0       0.46      0.58      0.52      8960\n",
      "\n",
      "    accuracy                           0.49     19346\n",
      "   macro avg       0.50      0.50      0.49     19346\n",
      "weighted avg       0.50      0.49      0.49     19346\n",
      "\n"
     ]
    }
   ],
   "source": [
    "print(a)"
   ]
  },
  {
   "cell_type": "code",
   "execution_count": 16,
   "metadata": {},
   "outputs": [],
   "source": [
    "def plot_confusion_matrix(cm, classes,\n",
    "                        normalize=False,\n",
    "                        title='Confusion matrix',\n",
    "                        cmap=plt.cm.Blues):\n",
    "    \"\"\"\n",
    "    This function prints and plots the confusion matrix.\n",
    "    Normalization can be applied by setting `normalize=True`.\n",
    "    \"\"\"\n",
    "    plt.imshow(cm, interpolation='nearest', cmap=cmap)\n",
    "    plt.title(title)\n",
    "    plt.colorbar()\n",
    "    tick_marks = np.arange(len(classes))\n",
    "    plt.xticks(tick_marks, classes, rotation=45)\n",
    "    plt.yticks(tick_marks, classes)\n",
    "\n",
    "    if normalize:\n",
    "        cm = cm.astype('float') / cm.sum(axis=1)[:, np.newaxis]\n",
    "        print(\"Normalized confusion matrix\")\n",
    "    else:\n",
    "        print('Confusion matrix, without normalization')\n",
    "\n",
    "    thresh = cm.max() / 2.\n",
    "    for i, j in itertools.product(range(cm.shape[0]), range(cm.shape[1])):\n",
    "        plt.text(j, i, cm[i, j],\n",
    "            horizontalalignment=\"center\",\n",
    "            color=\"white\" if cm[i, j] > thresh else \"black\")\n",
    "\n",
    "    plt.tight_layout()\n",
    "    plt.ylabel('True label')\n",
    "    plt.xlabel('Predicted label')\n"
   ]
  },
  {
   "cell_type": "code",
   "execution_count": 17,
   "metadata": {},
   "outputs": [
    {
     "name": "stdout",
     "output_type": "stream",
     "text": [
      "Confusion matrix, without normalization\n"
     ]
    },
    {
     "data": {
      "image/png": "[encoded data removed]",
      "text/plain": [
       "<Figure size 1080x1080 with 2 Axes>"
      ]
     },
     "metadata": {
      "needs_background": "light"
     },
     "output_type": "display_data"
    }
   ],
   "source": [
    "folders = os.listdir(test_directory)\n",
    "plt.rcParams['figure.figsize'] = [15, 15]\n",
    "# plot_confusion_matrix(test(Chex), title = 'Confusion Matrix', classes = folders, normalize = False)"
   ]
  }
 ],
 "metadata": {
  "interpreter": {
   "hash": "f856784eb8dcf2d3e4c52606edc4be4ac4edabe0d9c38c60452d6d6a5cc1135f"
  },
  "kernelspec": {
   "display_name": "Python 3.9.0 ('deeplearningkeras')",
   "language": "python",
   "name": "python3"
  },
  "language_info": {
   "codemirror_mode": {
    "name": "ipython",
    "version": 3
   },
   "file_extension": ".py",
   "mimetype": "text/x-python",
   "name": "python",
   "nbconvert_exporter": "python",
   "pygments_lexer": "ipython3",
   "version": "3.8.12"
  },
  "orig_nbformat": 4
 },
 "nbformat": 4,
 "nbformat_minor": 2
}
