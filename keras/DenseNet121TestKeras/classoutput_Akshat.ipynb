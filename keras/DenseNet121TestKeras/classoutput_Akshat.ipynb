{
 "cells": [
  {
   "cell_type": "code",
   "execution_count": 8,
   "metadata": {},
   "outputs": [
    {
     "ename": "RuntimeError",
     "evalue": "ML Compute device must be set before initialization.",
     "output_type": "error",
     "traceback": [
      "\u001b[0;31m---------------------------------------------------------------------------\u001b[0m",
      "\u001b[0;31mRuntimeError\u001b[0m                              Traceback (most recent call last)",
      "\u001b[1;32m/Users/akshatchannashetti/Documents/VSCode_Projects/MSOE_ML/keras/DenseNet121TestKeras/classoutput_Akshat.ipynb Cell 1'\u001b[0m in \u001b[0;36m<module>\u001b[0;34m\u001b[0m\n\u001b[1;32m      <a href='vscode-notebook-cell:/Users/akshatchannashetti/Documents/VSCode_Projects/MSOE_ML/keras/DenseNet121TestKeras/classoutput_Akshat.ipynb#ch0000000?line=8'>9</a>\u001b[0m \u001b[39mfrom\u001b[39;00m \u001b[39mtensorflow\u001b[39;00m\u001b[39m.\u001b[39;00m\u001b[39mpython\u001b[39;00m\u001b[39m.\u001b[39;00m\u001b[39mcompiler\u001b[39;00m\u001b[39m.\u001b[39;00m\u001b[39mmlcompute\u001b[39;00m \u001b[39mimport\u001b[39;00m mlcompute\n\u001b[1;32m     <a href='vscode-notebook-cell:/Users/akshatchannashetti/Documents/VSCode_Projects/MSOE_ML/keras/DenseNet121TestKeras/classoutput_Akshat.ipynb#ch0000000?line=10'>11</a>\u001b[0m \u001b[39m# Select CPU device.\u001b[39;00m\n\u001b[0;32m---> <a href='vscode-notebook-cell:/Users/akshatchannashetti/Documents/VSCode_Projects/MSOE_ML/keras/DenseNet121TestKeras/classoutput_Akshat.ipynb#ch0000000?line=11'>12</a>\u001b[0m mlcompute\u001b[39m.\u001b[39;49mset_mlc_device(device_name\u001b[39m=\u001b[39;49m\u001b[39m'\u001b[39;49m\u001b[39mgpu\u001b[39;49m\u001b[39m'\u001b[39;49m)\n",
      "File \u001b[0;32m~/miniforge3/envs/apple_tensorflow/lib/python3.8/site-packages/tensorflow/python/compiler/mlcompute/mlcompute.py:178\u001b[0m, in \u001b[0;36mset_mlc_device\u001b[0;34m(device_name)\u001b[0m\n\u001b[1;32m    <a href='file:///Users/akshatchannashetti/miniforge3/envs/apple_tensorflow/lib/python3.8/site-packages/tensorflow/python/compiler/mlcompute/mlcompute.py?line=173'>174</a>\u001b[0m \u001b[39mtry\u001b[39;00m:\n\u001b[1;32m    <a href='file:///Users/akshatchannashetti/miniforge3/envs/apple_tensorflow/lib/python3.8/site-packages/tensorflow/python/compiler/mlcompute/mlcompute.py?line=174'>175</a>\u001b[0m   \u001b[39m# Ensure that this function is called once before all TF initialization,\u001b[39;00m\n\u001b[1;32m    <a href='file:///Users/akshatchannashetti/miniforge3/envs/apple_tensorflow/lib/python3.8/site-packages/tensorflow/python/compiler/mlcompute/mlcompute.py?line=175'>176</a>\u001b[0m   \u001b[39m# but unlike other similar functions, this code lives outside Context()\u001b[39;00m\n\u001b[1;32m    <a href='file:///Users/akshatchannashetti/miniforge3/envs/apple_tensorflow/lib/python3.8/site-packages/tensorflow/python/compiler/mlcompute/mlcompute.py?line=176'>177</a>\u001b[0m   context\u001b[39m.\u001b[39mcontext()\u001b[39m.\u001b[39m_handle\n\u001b[0;32m--> <a href='file:///Users/akshatchannashetti/miniforge3/envs/apple_tensorflow/lib/python3.8/site-packages/tensorflow/python/compiler/mlcompute/mlcompute.py?line=177'>178</a>\u001b[0m   \u001b[39mraise\u001b[39;00m \u001b[39mRuntimeError\u001b[39;00m(\u001b[39m\"\u001b[39m\u001b[39mML Compute device must be set before initialization.\u001b[39m\u001b[39m\"\u001b[39m)\n\u001b[1;32m    <a href='file:///Users/akshatchannashetti/miniforge3/envs/apple_tensorflow/lib/python3.8/site-packages/tensorflow/python/compiler/mlcompute/mlcompute.py?line=178'>179</a>\u001b[0m \u001b[39mexcept\u001b[39;00m \u001b[39mAssertionError\u001b[39;00m:\n\u001b[1;32m    <a href='file:///Users/akshatchannashetti/miniforge3/envs/apple_tensorflow/lib/python3.8/site-packages/tensorflow/python/compiler/mlcompute/mlcompute.py?line=179'>180</a>\u001b[0m   \u001b[39mpass\u001b[39;00m\n",
      "\u001b[0;31mRuntimeError\u001b[0m: ML Compute device must be set before initialization."
     ]
    }
   ],
   "source": [
    "from tensorflow import keras\n",
    "import numpy as np\n",
    "import sklearn.metrics as sk\n",
    "import matplotlib.pyplot as plt\n",
    "import itertools\n",
    "import os\n",
    "import environmentsettings"
   ]
  },
  {
   "cell_type": "code",
   "execution_count": 2,
   "metadata": {},
   "outputs": [],
   "source": [
    "from IPython.core.interactiveshell import InteractiveShell \n",
    "InteractiveShell.ast_node_interactivity = \"all\""
   ]
  },
  {
   "cell_type": "code",
   "execution_count": 4,
   "metadata": {},
   "outputs": [],
   "source": [
    "# Enter the path to the directory where the pb file is stored\n",
    "def create_model():\n",
    "    base_model = keras.applications.DenseNet121(\n",
    "        include_top=False,\n",
    "        weights='imagenet',\n",
    "        input_shape=(224, 224, 3)\n",
    "    )\n",
    "\n",
    "    # Next, we will freeze the base model so that all the learning from the ImageNet \n",
    "    # dataset does not get destroyed in the initial training.\n",
    "    base_model.trainable = False\n",
    "\n",
    "    # Create inputs with correct shape\n",
    "    inputs = keras.Input(shape=(224, 224, 3))\n",
    "    x = base_model(inputs, training=False)\n",
    "\n",
    "    # Add pooling layer or flatten layer\n",
    "    x =  keras.layers.GlobalAveragePooling2D()(x)\n",
    "\n",
    "    # Add final dense layer with 6 classes for the 6 types of fruit\n",
    "    outputs = keras.layers.Dense(1, activation = 'sigmoid')(x)\n",
    "\n",
    "    # Combine inputs and outputs to create model\n",
    "    model = keras.Model(inputs, outputs)\n",
    "\n",
    "    # uncomment the following code if you want to see the model\n",
    "    return model\n",
    "\n",
    "model = create_model()\n",
    "model.load_weights('/Volumes/90OL67YGN/saved_models/Adamax_L/21-1.82.h5')"
   ]
  },
  {
   "cell_type": "code",
   "execution_count": 5,
   "metadata": {},
   "outputs": [],
   "source": [
    "# Enter the path to the validation/test directory\n",
    "\n",
    "test_directory = environmentsettings.setting_categorical['TRAINING_DIRECTORY']"
   ]
  },
  {
   "cell_type": "code",
   "execution_count": 6,
   "metadata": {},
   "outputs": [
    {
     "name": "stdout",
     "output_type": "stream",
     "text": [
      "Found 21790 files belonging to 2 classes.\n",
      "Using 4358 files for validation.\n"
     ]
    }
   ],
   "source": [
    "test_dataset = keras.preprocessing.image_dataset_from_directory(\n",
    "        test_directory, \n",
    "        batch_size= 32,\n",
    "        image_size=(224, 224), \n",
    "        color_mode='rgb',\n",
    "        label_mode='binary',\n",
    "        shuffle = False,\n",
    "        seed = 7,\n",
    "        validation_split = 0.2,\n",
    "        subset = 'validation'\n",
    "    )"
   ]
  },
  {
   "cell_type": "code",
   "execution_count": 9,
   "metadata": {},
   "outputs": [
    {
     "name": "stdout",
     "output_type": "stream",
     "text": [
      "WARNING:tensorflow:AutoGraph could not transform <function Model.make_predict_function.<locals>.predict_function at 0x29ea89e50> and will run it as-is.\n",
      "Please report this to the TensorFlow team. When filing the bug, set the verbosity to 10 (on Linux, `export AUTOGRAPH_VERBOSITY=10`) and attach the full output.\n",
      "Cause: unsupported operand type(s) for -: 'NoneType' and 'int'\n",
      "To silence this warning, decorate the function with @tf.autograph.experimental.do_not_convert\n",
      "WARNING: AutoGraph could not transform <function Model.make_predict_function.<locals>.predict_function at 0x29ea89e50> and will run it as-is.\n",
      "Please report this to the TensorFlow team. When filing the bug, set the verbosity to 10 (on Linux, `export AUTOGRAPH_VERBOSITY=10`) and attach the full output.\n",
      "Cause: unsupported operand type(s) for -: 'NoneType' and 'int'\n",
      "To silence this warning, decorate the function with @tf.autograph.experimental.do_not_convert\n"
     ]
    },
    {
     "name": "stderr",
     "output_type": "stream",
     "text": [
      "2022-03-14 19:20:38.136263: I tensorflow/compiler/mlir/mlir_graph_optimization_pass.cc:116] None of the MLIR optimization passes are enabled (registered 2)\n",
      "2022-03-14 19:20:38.136857: W tensorflow/core/platform/profile_utils/cpu_utils.cc:126] Failed to get CPU frequency: 0 Hz\n"
     ]
    },
    {
     "name": "stdout",
     "output_type": "stream",
     "text": [
      "137/137 [==============================] - 100s 720ms/step\n"
     ]
    }
   ],
   "source": [
    "# Chex = model.predict(test_dataset, verbose = 1)\n",
    "combined = model.predict(test_dataset, verbose = 1)"
   ]
  },
  {
   "cell_type": "code",
   "execution_count": 10,
   "metadata": {},
   "outputs": [
    {
     "data": {
      "text/plain": [
       "array([[0.],\n",
       "       [0.],\n",
       "       [0.],\n",
       "       ...,\n",
       "       [0.],\n",
       "       [0.],\n",
       "       [0.]], dtype=float32)"
      ]
     },
     "execution_count": 10,
     "metadata": {},
     "output_type": "execute_result"
    }
   ],
   "source": [
    "np.round(combined)"
   ]
  },
  {
   "cell_type": "code",
   "execution_count": 11,
   "metadata": {},
   "outputs": [],
   "source": [
    "def test_categorical(y_pred):\n",
    "    labels = np.array([])\n",
    "    for x, y in test_dataset:\n",
    "        # labels = np.concatenate([labels, np.argmax(y.numpy(), axis = -1)])\n",
    "        print(y)\n",
    "    # prediction = np.argmax(y_pred, axis = -1)\n",
    "    # # cm = sk.confusion_matrix(y_true = labels, y_pred = prediction)\n",
    "    # # return cm\n",
    "    # acc = sk.classification_report(labels, prediction)\n",
    "    # return acc"
   ]
  },
  {
   "cell_type": "code",
   "execution_count": 12,
   "metadata": {},
   "outputs": [],
   "source": [
    "def test_binary(y_pred):\n",
    "    labels = np.array([])\n",
    "    for x, y in test_dataset:\n",
    "        for i in y:\n",
    "            labels = np.concatenate([labels, i])\n",
    "    prediction = np.round(y_pred)\n",
    "    # cm = sk.confusion_matrix(y_true = labels, y_pred = prediction)\n",
    "    # return cm\n",
    "    acc = sk.classification_report(labels, prediction)\n",
    "    return acc"
   ]
  },
  {
   "cell_type": "code",
   "execution_count": 13,
   "metadata": {},
   "outputs": [
    {
     "name": "stderr",
     "output_type": "stream",
     "text": [
      "/Users/akshatchannashetti/miniforge3/envs/apple_tensorflow/lib/python3.8/site-packages/sklearn/metrics/_classification.py:1318: UndefinedMetricWarning: Recall and F-score are ill-defined and being set to 0.0 in labels with no true samples. Use `zero_division` parameter to control this behavior.\n",
      "  _warn_prf(average, modifier, msg_start, len(result))\n",
      "/Users/akshatchannashetti/miniforge3/envs/apple_tensorflow/lib/python3.8/site-packages/sklearn/metrics/_classification.py:1318: UndefinedMetricWarning: Recall and F-score are ill-defined and being set to 0.0 in labels with no true samples. Use `zero_division` parameter to control this behavior.\n",
      "  _warn_prf(average, modifier, msg_start, len(result))\n",
      "/Users/akshatchannashetti/miniforge3/envs/apple_tensorflow/lib/python3.8/site-packages/sklearn/metrics/_classification.py:1318: UndefinedMetricWarning: Recall and F-score are ill-defined and being set to 0.0 in labels with no true samples. Use `zero_division` parameter to control this behavior.\n",
      "  _warn_prf(average, modifier, msg_start, len(result))\n"
     ]
    }
   ],
   "source": [
    "a = test_binary(combined)"
   ]
  },
  {
   "cell_type": "code",
   "execution_count": 14,
   "metadata": {},
   "outputs": [
    {
     "name": "stdout",
     "output_type": "stream",
     "text": [
      "              precision    recall  f1-score   support\n",
      "\n",
      "         0.0       0.00      0.00      0.00         0\n",
      "         1.0       1.00      0.07      0.12      4358\n",
      "\n",
      "    accuracy                           0.07      4358\n",
      "   macro avg       0.50      0.03      0.06      4358\n",
      "weighted avg       1.00      0.07      0.12      4358\n",
      "\n"
     ]
    }
   ],
   "source": [
    "print(a)"
   ]
  },
  {
   "cell_type": "code",
   "execution_count": 15,
   "metadata": {},
   "outputs": [],
   "source": [
    "def plot_confusion_matrix(cm, classes,\n",
    "                        normalize=False,\n",
    "                        title='Confusion matrix',\n",
    "                        cmap=plt.cm.Blues):\n",
    "    \"\"\"\n",
    "    This function prints and plots the confusion matrix.\n",
    "    Normalization can be applied by setting `normalize=True`.\n",
    "    \"\"\"\n",
    "    plt.imshow(cm, interpolation='nearest', cmap=cmap)\n",
    "    plt.title(title)\n",
    "    plt.colorbar()\n",
    "    tick_marks = np.arange(len(classes))\n",
    "    plt.xticks(tick_marks, classes, rotation=45)\n",
    "    plt.yticks(tick_marks, classes)\n",
    "\n",
    "    if normalize:\n",
    "        cm = cm.astype('float') / cm.sum(axis=1)[:, np.newaxis]\n",
    "        print(\"Normalized confusion matrix\")\n",
    "    else:\n",
    "        print('Confusion matrix, without normalization')\n",
    "\n",
    "    thresh = cm.max() / 2.\n",
    "    for i, j in itertools.product(range(cm.shape[0]), range(cm.shape[1])):\n",
    "        plt.text(j, i, cm[i, j],\n",
    "            horizontalalignment=\"center\",\n",
    "            color=\"white\" if cm[i, j] > thresh else \"black\")\n",
    "\n",
    "    plt.tight_layout()\n",
    "    plt.ylabel('True label')\n",
    "    plt.xlabel('Predicted label')\n"
   ]
  },
  {
   "cell_type": "code",
   "execution_count": 17,
   "metadata": {},
   "outputs": [
    {
     "ename": "TypeError",
     "evalue": "Image data of dtype <U326 cannot be converted to float",
     "output_type": "error",
     "traceback": [
      "\u001b[0;31m---------------------------------------------------------------------------\u001b[0m",
      "\u001b[0;31mTypeError\u001b[0m                                 Traceback (most recent call last)",
      "\u001b[1;32m/Users/akshatchannashetti/Documents/VSCode_Projects/MSOE_ML/keras/DenseNet121TestKeras/classoutput_Akshat.ipynb Cell 13'\u001b[0m in \u001b[0;36m<module>\u001b[0;34m\u001b[0m\n\u001b[1;32m      <a href='vscode-notebook-cell:/Users/akshatchannashetti/Documents/VSCode_Projects/MSOE_ML/keras/DenseNet121TestKeras/classoutput_Akshat.ipynb#ch0000012?line=0'>1</a>\u001b[0m folders \u001b[39m=\u001b[39m os\u001b[39m.\u001b[39mlistdir(test_directory)\n\u001b[1;32m      <a href='vscode-notebook-cell:/Users/akshatchannashetti/Documents/VSCode_Projects/MSOE_ML/keras/DenseNet121TestKeras/classoutput_Akshat.ipynb#ch0000012?line=1'>2</a>\u001b[0m plt\u001b[39m.\u001b[39mrcParams[\u001b[39m'\u001b[39m\u001b[39mfigure.figsize\u001b[39m\u001b[39m'\u001b[39m] \u001b[39m=\u001b[39m [\u001b[39m15\u001b[39m, \u001b[39m15\u001b[39m]\n\u001b[0;32m----> <a href='vscode-notebook-cell:/Users/akshatchannashetti/Documents/VSCode_Projects/MSOE_ML/keras/DenseNet121TestKeras/classoutput_Akshat.ipynb#ch0000012?line=2'>3</a>\u001b[0m plot_confusion_matrix(a, title \u001b[39m=\u001b[39;49m \u001b[39m'\u001b[39;49m\u001b[39mConfusion Matrix\u001b[39;49m\u001b[39m'\u001b[39;49m, classes \u001b[39m=\u001b[39;49m folders, normalize \u001b[39m=\u001b[39;49m \u001b[39mFalse\u001b[39;49;00m)\n",
      "\u001b[1;32m/Users/akshatchannashetti/Documents/VSCode_Projects/MSOE_ML/keras/DenseNet121TestKeras/classoutput_Akshat.ipynb Cell 12'\u001b[0m in \u001b[0;36mplot_confusion_matrix\u001b[0;34m(cm, classes, normalize, title, cmap)\u001b[0m\n\u001b[1;32m      <a href='vscode-notebook-cell:/Users/akshatchannashetti/Documents/VSCode_Projects/MSOE_ML/keras/DenseNet121TestKeras/classoutput_Akshat.ipynb#ch0000011?line=0'>1</a>\u001b[0m \u001b[39mdef\u001b[39;00m \u001b[39mplot_confusion_matrix\u001b[39m(cm, classes,\n\u001b[1;32m      <a href='vscode-notebook-cell:/Users/akshatchannashetti/Documents/VSCode_Projects/MSOE_ML/keras/DenseNet121TestKeras/classoutput_Akshat.ipynb#ch0000011?line=1'>2</a>\u001b[0m                         normalize\u001b[39m=\u001b[39m\u001b[39mFalse\u001b[39;00m,\n\u001b[1;32m      <a href='vscode-notebook-cell:/Users/akshatchannashetti/Documents/VSCode_Projects/MSOE_ML/keras/DenseNet121TestKeras/classoutput_Akshat.ipynb#ch0000011?line=2'>3</a>\u001b[0m                         title\u001b[39m=\u001b[39m\u001b[39m'\u001b[39m\u001b[39mConfusion matrix\u001b[39m\u001b[39m'\u001b[39m,\n\u001b[1;32m      <a href='vscode-notebook-cell:/Users/akshatchannashetti/Documents/VSCode_Projects/MSOE_ML/keras/DenseNet121TestKeras/classoutput_Akshat.ipynb#ch0000011?line=3'>4</a>\u001b[0m                         cmap\u001b[39m=\u001b[39mplt\u001b[39m.\u001b[39mcm\u001b[39m.\u001b[39mBlues):\n\u001b[1;32m      <a href='vscode-notebook-cell:/Users/akshatchannashetti/Documents/VSCode_Projects/MSOE_ML/keras/DenseNet121TestKeras/classoutput_Akshat.ipynb#ch0000011?line=4'>5</a>\u001b[0m     \u001b[39m\"\"\"\u001b[39;00m\n\u001b[1;32m      <a href='vscode-notebook-cell:/Users/akshatchannashetti/Documents/VSCode_Projects/MSOE_ML/keras/DenseNet121TestKeras/classoutput_Akshat.ipynb#ch0000011?line=5'>6</a>\u001b[0m \u001b[39m    This function prints and plots the confusion matrix.\u001b[39;00m\n\u001b[1;32m      <a href='vscode-notebook-cell:/Users/akshatchannashetti/Documents/VSCode_Projects/MSOE_ML/keras/DenseNet121TestKeras/classoutput_Akshat.ipynb#ch0000011?line=6'>7</a>\u001b[0m \u001b[39m    Normalization can be applied by setting `normalize=True`.\u001b[39;00m\n\u001b[1;32m      <a href='vscode-notebook-cell:/Users/akshatchannashetti/Documents/VSCode_Projects/MSOE_ML/keras/DenseNet121TestKeras/classoutput_Akshat.ipynb#ch0000011?line=7'>8</a>\u001b[0m \u001b[39m    \"\"\"\u001b[39;00m\n\u001b[0;32m----> <a href='vscode-notebook-cell:/Users/akshatchannashetti/Documents/VSCode_Projects/MSOE_ML/keras/DenseNet121TestKeras/classoutput_Akshat.ipynb#ch0000011?line=8'>9</a>\u001b[0m     plt\u001b[39m.\u001b[39;49mimshow(cm, interpolation\u001b[39m=\u001b[39;49m\u001b[39m'\u001b[39;49m\u001b[39mnearest\u001b[39;49m\u001b[39m'\u001b[39;49m, cmap\u001b[39m=\u001b[39;49mcmap)\n\u001b[1;32m     <a href='vscode-notebook-cell:/Users/akshatchannashetti/Documents/VSCode_Projects/MSOE_ML/keras/DenseNet121TestKeras/classoutput_Akshat.ipynb#ch0000011?line=9'>10</a>\u001b[0m     plt\u001b[39m.\u001b[39mtitle(title)\n\u001b[1;32m     <a href='vscode-notebook-cell:/Users/akshatchannashetti/Documents/VSCode_Projects/MSOE_ML/keras/DenseNet121TestKeras/classoutput_Akshat.ipynb#ch0000011?line=10'>11</a>\u001b[0m     plt\u001b[39m.\u001b[39mcolorbar()\n",
      "File \u001b[0;32m~/miniforge3/envs/apple_tensorflow/lib/python3.8/site-packages/matplotlib/_api/deprecation.py:456\u001b[0m, in \u001b[0;36mmake_keyword_only.<locals>.wrapper\u001b[0;34m(*args, **kwargs)\u001b[0m\n\u001b[1;32m    <a href='file:///Users/akshatchannashetti/miniforge3/envs/apple_tensorflow/lib/python3.8/site-packages/matplotlib/_api/deprecation.py?line=449'>450</a>\u001b[0m \u001b[39mif\u001b[39;00m \u001b[39mlen\u001b[39m(args) \u001b[39m>\u001b[39m name_idx:\n\u001b[1;32m    <a href='file:///Users/akshatchannashetti/miniforge3/envs/apple_tensorflow/lib/python3.8/site-packages/matplotlib/_api/deprecation.py?line=450'>451</a>\u001b[0m     warn_deprecated(\n\u001b[1;32m    <a href='file:///Users/akshatchannashetti/miniforge3/envs/apple_tensorflow/lib/python3.8/site-packages/matplotlib/_api/deprecation.py?line=451'>452</a>\u001b[0m         since, message\u001b[39m=\u001b[39m\u001b[39m\"\u001b[39m\u001b[39mPassing the \u001b[39m\u001b[39m%(name)s\u001b[39;00m\u001b[39m \u001b[39m\u001b[39m%(obj_type)s\u001b[39;00m\u001b[39m \u001b[39m\u001b[39m\"\u001b[39m\n\u001b[1;32m    <a href='file:///Users/akshatchannashetti/miniforge3/envs/apple_tensorflow/lib/python3.8/site-packages/matplotlib/_api/deprecation.py?line=452'>453</a>\u001b[0m         \u001b[39m\"\u001b[39m\u001b[39mpositionally is deprecated since Matplotlib \u001b[39m\u001b[39m%(since)s\u001b[39;00m\u001b[39m; the \u001b[39m\u001b[39m\"\u001b[39m\n\u001b[1;32m    <a href='file:///Users/akshatchannashetti/miniforge3/envs/apple_tensorflow/lib/python3.8/site-packages/matplotlib/_api/deprecation.py?line=453'>454</a>\u001b[0m         \u001b[39m\"\u001b[39m\u001b[39mparameter will become keyword-only \u001b[39m\u001b[39m%(removal)s\u001b[39;00m\u001b[39m.\u001b[39m\u001b[39m\"\u001b[39m,\n\u001b[1;32m    <a href='file:///Users/akshatchannashetti/miniforge3/envs/apple_tensorflow/lib/python3.8/site-packages/matplotlib/_api/deprecation.py?line=454'>455</a>\u001b[0m         name\u001b[39m=\u001b[39mname, obj_type\u001b[39m=\u001b[39m\u001b[39mf\u001b[39m\u001b[39m\"\u001b[39m\u001b[39mparameter of \u001b[39m\u001b[39m{\u001b[39;00mfunc\u001b[39m.\u001b[39m\u001b[39m__name__\u001b[39m\u001b[39m}\u001b[39;00m\u001b[39m()\u001b[39m\u001b[39m\"\u001b[39m)\n\u001b[0;32m--> <a href='file:///Users/akshatchannashetti/miniforge3/envs/apple_tensorflow/lib/python3.8/site-packages/matplotlib/_api/deprecation.py?line=455'>456</a>\u001b[0m \u001b[39mreturn\u001b[39;00m func(\u001b[39m*\u001b[39;49margs, \u001b[39m*\u001b[39;49m\u001b[39m*\u001b[39;49mkwargs)\n",
      "File \u001b[0;32m~/miniforge3/envs/apple_tensorflow/lib/python3.8/site-packages/matplotlib/pyplot.py:2640\u001b[0m, in \u001b[0;36mimshow\u001b[0;34m(X, cmap, norm, aspect, interpolation, alpha, vmin, vmax, origin, extent, interpolation_stage, filternorm, filterrad, resample, url, data, **kwargs)\u001b[0m\n\u001b[1;32m   <a href='file:///Users/akshatchannashetti/miniforge3/envs/apple_tensorflow/lib/python3.8/site-packages/matplotlib/pyplot.py?line=2633'>2634</a>\u001b[0m \u001b[39m@_copy_docstring_and_deprecators\u001b[39m(Axes\u001b[39m.\u001b[39mimshow)\n\u001b[1;32m   <a href='file:///Users/akshatchannashetti/miniforge3/envs/apple_tensorflow/lib/python3.8/site-packages/matplotlib/pyplot.py?line=2634'>2635</a>\u001b[0m \u001b[39mdef\u001b[39;00m \u001b[39mimshow\u001b[39m(\n\u001b[1;32m   <a href='file:///Users/akshatchannashetti/miniforge3/envs/apple_tensorflow/lib/python3.8/site-packages/matplotlib/pyplot.py?line=2635'>2636</a>\u001b[0m         X, cmap\u001b[39m=\u001b[39m\u001b[39mNone\u001b[39;00m, norm\u001b[39m=\u001b[39m\u001b[39mNone\u001b[39;00m, aspect\u001b[39m=\u001b[39m\u001b[39mNone\u001b[39;00m, interpolation\u001b[39m=\u001b[39m\u001b[39mNone\u001b[39;00m,\n\u001b[1;32m   <a href='file:///Users/akshatchannashetti/miniforge3/envs/apple_tensorflow/lib/python3.8/site-packages/matplotlib/pyplot.py?line=2636'>2637</a>\u001b[0m         alpha\u001b[39m=\u001b[39m\u001b[39mNone\u001b[39;00m, vmin\u001b[39m=\u001b[39m\u001b[39mNone\u001b[39;00m, vmax\u001b[39m=\u001b[39m\u001b[39mNone\u001b[39;00m, origin\u001b[39m=\u001b[39m\u001b[39mNone\u001b[39;00m, extent\u001b[39m=\u001b[39m\u001b[39mNone\u001b[39;00m, \u001b[39m*\u001b[39m,\n\u001b[1;32m   <a href='file:///Users/akshatchannashetti/miniforge3/envs/apple_tensorflow/lib/python3.8/site-packages/matplotlib/pyplot.py?line=2637'>2638</a>\u001b[0m         interpolation_stage\u001b[39m=\u001b[39m\u001b[39mNone\u001b[39;00m, filternorm\u001b[39m=\u001b[39m\u001b[39mTrue\u001b[39;00m, filterrad\u001b[39m=\u001b[39m\u001b[39m4.0\u001b[39m,\n\u001b[1;32m   <a href='file:///Users/akshatchannashetti/miniforge3/envs/apple_tensorflow/lib/python3.8/site-packages/matplotlib/pyplot.py?line=2638'>2639</a>\u001b[0m         resample\u001b[39m=\u001b[39m\u001b[39mNone\u001b[39;00m, url\u001b[39m=\u001b[39m\u001b[39mNone\u001b[39;00m, data\u001b[39m=\u001b[39m\u001b[39mNone\u001b[39;00m, \u001b[39m*\u001b[39m\u001b[39m*\u001b[39mkwargs):\n\u001b[0;32m-> <a href='file:///Users/akshatchannashetti/miniforge3/envs/apple_tensorflow/lib/python3.8/site-packages/matplotlib/pyplot.py?line=2639'>2640</a>\u001b[0m     __ret \u001b[39m=\u001b[39m gca()\u001b[39m.\u001b[39;49mimshow(\n\u001b[1;32m   <a href='file:///Users/akshatchannashetti/miniforge3/envs/apple_tensorflow/lib/python3.8/site-packages/matplotlib/pyplot.py?line=2640'>2641</a>\u001b[0m         X, cmap\u001b[39m=\u001b[39;49mcmap, norm\u001b[39m=\u001b[39;49mnorm, aspect\u001b[39m=\u001b[39;49maspect,\n\u001b[1;32m   <a href='file:///Users/akshatchannashetti/miniforge3/envs/apple_tensorflow/lib/python3.8/site-packages/matplotlib/pyplot.py?line=2641'>2642</a>\u001b[0m         interpolation\u001b[39m=\u001b[39;49minterpolation, alpha\u001b[39m=\u001b[39;49malpha, vmin\u001b[39m=\u001b[39;49mvmin,\n\u001b[1;32m   <a href='file:///Users/akshatchannashetti/miniforge3/envs/apple_tensorflow/lib/python3.8/site-packages/matplotlib/pyplot.py?line=2642'>2643</a>\u001b[0m         vmax\u001b[39m=\u001b[39;49mvmax, origin\u001b[39m=\u001b[39;49morigin, extent\u001b[39m=\u001b[39;49mextent,\n\u001b[1;32m   <a href='file:///Users/akshatchannashetti/miniforge3/envs/apple_tensorflow/lib/python3.8/site-packages/matplotlib/pyplot.py?line=2643'>2644</a>\u001b[0m         interpolation_stage\u001b[39m=\u001b[39;49minterpolation_stage,\n\u001b[1;32m   <a href='file:///Users/akshatchannashetti/miniforge3/envs/apple_tensorflow/lib/python3.8/site-packages/matplotlib/pyplot.py?line=2644'>2645</a>\u001b[0m         filternorm\u001b[39m=\u001b[39;49mfilternorm, filterrad\u001b[39m=\u001b[39;49mfilterrad, resample\u001b[39m=\u001b[39;49mresample,\n\u001b[1;32m   <a href='file:///Users/akshatchannashetti/miniforge3/envs/apple_tensorflow/lib/python3.8/site-packages/matplotlib/pyplot.py?line=2645'>2646</a>\u001b[0m         url\u001b[39m=\u001b[39;49murl, \u001b[39m*\u001b[39;49m\u001b[39m*\u001b[39;49m({\u001b[39m\"\u001b[39;49m\u001b[39mdata\u001b[39;49m\u001b[39m\"\u001b[39;49m: data} \u001b[39mif\u001b[39;49;00m data \u001b[39mis\u001b[39;49;00m \u001b[39mnot\u001b[39;49;00m \u001b[39mNone\u001b[39;49;00m \u001b[39melse\u001b[39;49;00m {}),\n\u001b[1;32m   <a href='file:///Users/akshatchannashetti/miniforge3/envs/apple_tensorflow/lib/python3.8/site-packages/matplotlib/pyplot.py?line=2646'>2647</a>\u001b[0m         \u001b[39m*\u001b[39;49m\u001b[39m*\u001b[39;49mkwargs)\n\u001b[1;32m   <a href='file:///Users/akshatchannashetti/miniforge3/envs/apple_tensorflow/lib/python3.8/site-packages/matplotlib/pyplot.py?line=2647'>2648</a>\u001b[0m     sci(__ret)\n\u001b[1;32m   <a href='file:///Users/akshatchannashetti/miniforge3/envs/apple_tensorflow/lib/python3.8/site-packages/matplotlib/pyplot.py?line=2648'>2649</a>\u001b[0m     \u001b[39mreturn\u001b[39;00m __ret\n",
      "File \u001b[0;32m~/miniforge3/envs/apple_tensorflow/lib/python3.8/site-packages/matplotlib/_api/deprecation.py:456\u001b[0m, in \u001b[0;36mmake_keyword_only.<locals>.wrapper\u001b[0;34m(*args, **kwargs)\u001b[0m\n\u001b[1;32m    <a href='file:///Users/akshatchannashetti/miniforge3/envs/apple_tensorflow/lib/python3.8/site-packages/matplotlib/_api/deprecation.py?line=449'>450</a>\u001b[0m \u001b[39mif\u001b[39;00m \u001b[39mlen\u001b[39m(args) \u001b[39m>\u001b[39m name_idx:\n\u001b[1;32m    <a href='file:///Users/akshatchannashetti/miniforge3/envs/apple_tensorflow/lib/python3.8/site-packages/matplotlib/_api/deprecation.py?line=450'>451</a>\u001b[0m     warn_deprecated(\n\u001b[1;32m    <a href='file:///Users/akshatchannashetti/miniforge3/envs/apple_tensorflow/lib/python3.8/site-packages/matplotlib/_api/deprecation.py?line=451'>452</a>\u001b[0m         since, message\u001b[39m=\u001b[39m\u001b[39m\"\u001b[39m\u001b[39mPassing the \u001b[39m\u001b[39m%(name)s\u001b[39;00m\u001b[39m \u001b[39m\u001b[39m%(obj_type)s\u001b[39;00m\u001b[39m \u001b[39m\u001b[39m\"\u001b[39m\n\u001b[1;32m    <a href='file:///Users/akshatchannashetti/miniforge3/envs/apple_tensorflow/lib/python3.8/site-packages/matplotlib/_api/deprecation.py?line=452'>453</a>\u001b[0m         \u001b[39m\"\u001b[39m\u001b[39mpositionally is deprecated since Matplotlib \u001b[39m\u001b[39m%(since)s\u001b[39;00m\u001b[39m; the \u001b[39m\u001b[39m\"\u001b[39m\n\u001b[1;32m    <a href='file:///Users/akshatchannashetti/miniforge3/envs/apple_tensorflow/lib/python3.8/site-packages/matplotlib/_api/deprecation.py?line=453'>454</a>\u001b[0m         \u001b[39m\"\u001b[39m\u001b[39mparameter will become keyword-only \u001b[39m\u001b[39m%(removal)s\u001b[39;00m\u001b[39m.\u001b[39m\u001b[39m\"\u001b[39m,\n\u001b[1;32m    <a href='file:///Users/akshatchannashetti/miniforge3/envs/apple_tensorflow/lib/python3.8/site-packages/matplotlib/_api/deprecation.py?line=454'>455</a>\u001b[0m         name\u001b[39m=\u001b[39mname, obj_type\u001b[39m=\u001b[39m\u001b[39mf\u001b[39m\u001b[39m\"\u001b[39m\u001b[39mparameter of \u001b[39m\u001b[39m{\u001b[39;00mfunc\u001b[39m.\u001b[39m\u001b[39m__name__\u001b[39m\u001b[39m}\u001b[39;00m\u001b[39m()\u001b[39m\u001b[39m\"\u001b[39m)\n\u001b[0;32m--> <a href='file:///Users/akshatchannashetti/miniforge3/envs/apple_tensorflow/lib/python3.8/site-packages/matplotlib/_api/deprecation.py?line=455'>456</a>\u001b[0m \u001b[39mreturn\u001b[39;00m func(\u001b[39m*\u001b[39;49margs, \u001b[39m*\u001b[39;49m\u001b[39m*\u001b[39;49mkwargs)\n",
      "File \u001b[0;32m~/miniforge3/envs/apple_tensorflow/lib/python3.8/site-packages/matplotlib/__init__.py:1412\u001b[0m, in \u001b[0;36m_preprocess_data.<locals>.inner\u001b[0;34m(ax, data, *args, **kwargs)\u001b[0m\n\u001b[1;32m   <a href='file:///Users/akshatchannashetti/miniforge3/envs/apple_tensorflow/lib/python3.8/site-packages/matplotlib/__init__.py?line=1408'>1409</a>\u001b[0m \u001b[39m@functools\u001b[39m\u001b[39m.\u001b[39mwraps(func)\n\u001b[1;32m   <a href='file:///Users/akshatchannashetti/miniforge3/envs/apple_tensorflow/lib/python3.8/site-packages/matplotlib/__init__.py?line=1409'>1410</a>\u001b[0m \u001b[39mdef\u001b[39;00m \u001b[39minner\u001b[39m(ax, \u001b[39m*\u001b[39margs, data\u001b[39m=\u001b[39m\u001b[39mNone\u001b[39;00m, \u001b[39m*\u001b[39m\u001b[39m*\u001b[39mkwargs):\n\u001b[1;32m   <a href='file:///Users/akshatchannashetti/miniforge3/envs/apple_tensorflow/lib/python3.8/site-packages/matplotlib/__init__.py?line=1410'>1411</a>\u001b[0m     \u001b[39mif\u001b[39;00m data \u001b[39mis\u001b[39;00m \u001b[39mNone\u001b[39;00m:\n\u001b[0;32m-> <a href='file:///Users/akshatchannashetti/miniforge3/envs/apple_tensorflow/lib/python3.8/site-packages/matplotlib/__init__.py?line=1411'>1412</a>\u001b[0m         \u001b[39mreturn\u001b[39;00m func(ax, \u001b[39m*\u001b[39;49m\u001b[39mmap\u001b[39;49m(sanitize_sequence, args), \u001b[39m*\u001b[39;49m\u001b[39m*\u001b[39;49mkwargs)\n\u001b[1;32m   <a href='file:///Users/akshatchannashetti/miniforge3/envs/apple_tensorflow/lib/python3.8/site-packages/matplotlib/__init__.py?line=1413'>1414</a>\u001b[0m     bound \u001b[39m=\u001b[39m new_sig\u001b[39m.\u001b[39mbind(ax, \u001b[39m*\u001b[39margs, \u001b[39m*\u001b[39m\u001b[39m*\u001b[39mkwargs)\n\u001b[1;32m   <a href='file:///Users/akshatchannashetti/miniforge3/envs/apple_tensorflow/lib/python3.8/site-packages/matplotlib/__init__.py?line=1414'>1415</a>\u001b[0m     auto_label \u001b[39m=\u001b[39m (bound\u001b[39m.\u001b[39marguments\u001b[39m.\u001b[39mget(label_namer)\n\u001b[1;32m   <a href='file:///Users/akshatchannashetti/miniforge3/envs/apple_tensorflow/lib/python3.8/site-packages/matplotlib/__init__.py?line=1415'>1416</a>\u001b[0m                   \u001b[39mor\u001b[39;00m bound\u001b[39m.\u001b[39mkwargs\u001b[39m.\u001b[39mget(label_namer))\n",
      "File \u001b[0;32m~/miniforge3/envs/apple_tensorflow/lib/python3.8/site-packages/matplotlib/axes/_axes.py:5488\u001b[0m, in \u001b[0;36mAxes.imshow\u001b[0;34m(self, X, cmap, norm, aspect, interpolation, alpha, vmin, vmax, origin, extent, interpolation_stage, filternorm, filterrad, resample, url, **kwargs)\u001b[0m\n\u001b[1;32m   <a href='file:///Users/akshatchannashetti/miniforge3/envs/apple_tensorflow/lib/python3.8/site-packages/matplotlib/axes/_axes.py?line=5480'>5481</a>\u001b[0m \u001b[39mself\u001b[39m\u001b[39m.\u001b[39mset_aspect(aspect)\n\u001b[1;32m   <a href='file:///Users/akshatchannashetti/miniforge3/envs/apple_tensorflow/lib/python3.8/site-packages/matplotlib/axes/_axes.py?line=5481'>5482</a>\u001b[0m im \u001b[39m=\u001b[39m mimage\u001b[39m.\u001b[39mAxesImage(\u001b[39mself\u001b[39m, cmap, norm, interpolation,\n\u001b[1;32m   <a href='file:///Users/akshatchannashetti/miniforge3/envs/apple_tensorflow/lib/python3.8/site-packages/matplotlib/axes/_axes.py?line=5482'>5483</a>\u001b[0m                       origin, extent, filternorm\u001b[39m=\u001b[39mfilternorm,\n\u001b[1;32m   <a href='file:///Users/akshatchannashetti/miniforge3/envs/apple_tensorflow/lib/python3.8/site-packages/matplotlib/axes/_axes.py?line=5483'>5484</a>\u001b[0m                       filterrad\u001b[39m=\u001b[39mfilterrad, resample\u001b[39m=\u001b[39mresample,\n\u001b[1;32m   <a href='file:///Users/akshatchannashetti/miniforge3/envs/apple_tensorflow/lib/python3.8/site-packages/matplotlib/axes/_axes.py?line=5484'>5485</a>\u001b[0m                       interpolation_stage\u001b[39m=\u001b[39minterpolation_stage,\n\u001b[1;32m   <a href='file:///Users/akshatchannashetti/miniforge3/envs/apple_tensorflow/lib/python3.8/site-packages/matplotlib/axes/_axes.py?line=5485'>5486</a>\u001b[0m                       \u001b[39m*\u001b[39m\u001b[39m*\u001b[39mkwargs)\n\u001b[0;32m-> <a href='file:///Users/akshatchannashetti/miniforge3/envs/apple_tensorflow/lib/python3.8/site-packages/matplotlib/axes/_axes.py?line=5487'>5488</a>\u001b[0m im\u001b[39m.\u001b[39;49mset_data(X)\n\u001b[1;32m   <a href='file:///Users/akshatchannashetti/miniforge3/envs/apple_tensorflow/lib/python3.8/site-packages/matplotlib/axes/_axes.py?line=5488'>5489</a>\u001b[0m im\u001b[39m.\u001b[39mset_alpha(alpha)\n\u001b[1;32m   <a href='file:///Users/akshatchannashetti/miniforge3/envs/apple_tensorflow/lib/python3.8/site-packages/matplotlib/axes/_axes.py?line=5489'>5490</a>\u001b[0m \u001b[39mif\u001b[39;00m im\u001b[39m.\u001b[39mget_clip_path() \u001b[39mis\u001b[39;00m \u001b[39mNone\u001b[39;00m:\n\u001b[1;32m   <a href='file:///Users/akshatchannashetti/miniforge3/envs/apple_tensorflow/lib/python3.8/site-packages/matplotlib/axes/_axes.py?line=5490'>5491</a>\u001b[0m     \u001b[39m# image does not already have clipping set, clip to axes patch\u001b[39;00m\n",
      "File \u001b[0;32m~/miniforge3/envs/apple_tensorflow/lib/python3.8/site-packages/matplotlib/image.py:706\u001b[0m, in \u001b[0;36m_ImageBase.set_data\u001b[0;34m(self, A)\u001b[0m\n\u001b[1;32m    <a href='file:///Users/akshatchannashetti/miniforge3/envs/apple_tensorflow/lib/python3.8/site-packages/matplotlib/image.py?line=701'>702</a>\u001b[0m \u001b[39mself\u001b[39m\u001b[39m.\u001b[39m_A \u001b[39m=\u001b[39m cbook\u001b[39m.\u001b[39msafe_masked_invalid(A, copy\u001b[39m=\u001b[39m\u001b[39mTrue\u001b[39;00m)\n\u001b[1;32m    <a href='file:///Users/akshatchannashetti/miniforge3/envs/apple_tensorflow/lib/python3.8/site-packages/matplotlib/image.py?line=703'>704</a>\u001b[0m \u001b[39mif\u001b[39;00m (\u001b[39mself\u001b[39m\u001b[39m.\u001b[39m_A\u001b[39m.\u001b[39mdtype \u001b[39m!=\u001b[39m np\u001b[39m.\u001b[39muint8 \u001b[39mand\u001b[39;00m\n\u001b[1;32m    <a href='file:///Users/akshatchannashetti/miniforge3/envs/apple_tensorflow/lib/python3.8/site-packages/matplotlib/image.py?line=704'>705</a>\u001b[0m         \u001b[39mnot\u001b[39;00m np\u001b[39m.\u001b[39mcan_cast(\u001b[39mself\u001b[39m\u001b[39m.\u001b[39m_A\u001b[39m.\u001b[39mdtype, \u001b[39mfloat\u001b[39m, \u001b[39m\"\u001b[39m\u001b[39msame_kind\u001b[39m\u001b[39m\"\u001b[39m)):\n\u001b[0;32m--> <a href='file:///Users/akshatchannashetti/miniforge3/envs/apple_tensorflow/lib/python3.8/site-packages/matplotlib/image.py?line=705'>706</a>\u001b[0m     \u001b[39mraise\u001b[39;00m \u001b[39mTypeError\u001b[39;00m(\u001b[39m\"\u001b[39m\u001b[39mImage data of dtype \u001b[39m\u001b[39m{}\u001b[39;00m\u001b[39m cannot be converted to \u001b[39m\u001b[39m\"\u001b[39m\n\u001b[1;32m    <a href='file:///Users/akshatchannashetti/miniforge3/envs/apple_tensorflow/lib/python3.8/site-packages/matplotlib/image.py?line=706'>707</a>\u001b[0m                     \u001b[39m\"\u001b[39m\u001b[39mfloat\u001b[39m\u001b[39m\"\u001b[39m\u001b[39m.\u001b[39mformat(\u001b[39mself\u001b[39m\u001b[39m.\u001b[39m_A\u001b[39m.\u001b[39mdtype))\n\u001b[1;32m    <a href='file:///Users/akshatchannashetti/miniforge3/envs/apple_tensorflow/lib/python3.8/site-packages/matplotlib/image.py?line=708'>709</a>\u001b[0m \u001b[39mif\u001b[39;00m \u001b[39mself\u001b[39m\u001b[39m.\u001b[39m_A\u001b[39m.\u001b[39mndim \u001b[39m==\u001b[39m \u001b[39m3\u001b[39m \u001b[39mand\u001b[39;00m \u001b[39mself\u001b[39m\u001b[39m.\u001b[39m_A\u001b[39m.\u001b[39mshape[\u001b[39m-\u001b[39m\u001b[39m1\u001b[39m] \u001b[39m==\u001b[39m \u001b[39m1\u001b[39m:\n\u001b[1;32m    <a href='file:///Users/akshatchannashetti/miniforge3/envs/apple_tensorflow/lib/python3.8/site-packages/matplotlib/image.py?line=709'>710</a>\u001b[0m     \u001b[39m# If just one dimension assume scalar and apply colormap\u001b[39;00m\n\u001b[1;32m    <a href='file:///Users/akshatchannashetti/miniforge3/envs/apple_tensorflow/lib/python3.8/site-packages/matplotlib/image.py?line=710'>711</a>\u001b[0m     \u001b[39mself\u001b[39m\u001b[39m.\u001b[39m_A \u001b[39m=\u001b[39m \u001b[39mself\u001b[39m\u001b[39m.\u001b[39m_A[:, :, \u001b[39m0\u001b[39m]\n",
      "\u001b[0;31mTypeError\u001b[0m: Image data of dtype <U326 cannot be converted to float"
     ]
    },
    {
     "data": {
      "image/png": "[encoded data removed]",
      "text/plain": [
       "<Figure size 1080x1080 with 1 Axes>"
      ]
     },
     "metadata": {
      "needs_background": "light"
     },
     "output_type": "display_data"
    }
   ],
   "source": [
    "folders = os.listdir(test_directory)\n",
    "plt.rcParams['figure.figsize'] = [15, 15]\n",
    "plot_confusion_matrix(a, title = 'Confusion Matrix', classes = folders, normalize = False)"
   ]
  }
 ],
 "metadata": {
  "interpreter": {
   "hash": "f856784eb8dcf2d3e4c52606edc4be4ac4edabe0d9c38c60452d6d6a5cc1135f"
  },
  "kernelspec": {
   "display_name": "Python 3.9.0 ('deeplearningkeras')",
   "language": "python",
   "name": "python3"
  },
  "language_info": {
   "codemirror_mode": {
    "name": "ipython",
    "version": 3
   },
   "file_extension": ".py",
   "mimetype": "text/x-python",
   "name": "python",
   "nbconvert_exporter": "python",
   "pygments_lexer": "ipython3",
   "version": "3.8.12"
  },
  "orig_nbformat": 4
 },
 "nbformat": 4,
 "nbformat_minor": 2
}
