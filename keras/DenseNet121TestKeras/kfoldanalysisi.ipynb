{
 "cells": [
  {
   "cell_type": "code",
   "execution_count": 1,
   "metadata": {},
   "outputs": [],
   "source": [
    "import pandas as pd\n",
    "import shutil\n",
    "import os\n",
    "import random\n",
    "import math\n",
    "import glob"
   ]
  },
  {
   "cell_type": "code",
   "execution_count": 4,
   "metadata": {},
   "outputs": [
    {
     "name": "stdout",
     "output_type": "stream",
     "text": [
      "Multiple outputs per cell\n"
     ]
    }
   ],
   "source": [
    "# allow multiple output per cell\n",
    "from IPython.core.interactiveshell import InteractiveShell\n",
    "InteractiveShell.ast_node_interactivity = \"all\"\n",
    "\n",
    "print(\"Multiple outputs per cell\")"
   ]
  },
  {
   "cell_type": "code",
   "execution_count": 2,
   "metadata": {},
   "outputs": [],
   "source": [
    "directory = 'C:\\\\Users\\\\samee\\\\Documents\\\\Imagine Cup Saved Models\\\\K-Fold with wrong images'"
   ]
  },
  {
   "cell_type": "code",
   "execution_count": 3,
   "metadata": {},
   "outputs": [],
   "source": [
    "lst_of_false_positives = []\n",
    "lst_of_false_negatives = []\n",
    "for epoch in os.listdir(directory):\n",
    "    for folder in os.listdir(os.path.join(directory, epoch)):\n",
    "        if 'Positives' in folder:\n",
    "            for file in os.listdir(os.path.join(directory, epoch, folder)):\n",
    "                lst_of_false_positives.append(file)\n",
    "        if 'Negatives' in folder:\n",
    "            for file in os.listdir(os.path.join(directory, epoch, folder)):\n",
    "                lst_of_false_negatives.append(file)"
   ]
  },
  {
   "cell_type": "code",
   "execution_count": 12,
   "metadata": {},
   "outputs": [
    {
     "data": {
      "text/plain": [
       "No_Finding 1007.png    1\n",
       "No_Finding 564.png     1\n",
       "No_Finding 582.png     1\n",
       "No_Finding 578.png     1\n",
       "No_Finding 577.png     1\n",
       "                      ..\n",
       "No_Finding 293.png     1\n",
       "No_Finding 288.png     1\n",
       "No_Finding 283.png     1\n",
       "No_Finding 242.png     1\n",
       "No_Finding 970.png     1\n",
       "Length: 118, dtype: int64"
      ]
     },
     "execution_count": 12,
     "metadata": {},
     "output_type": "execute_result"
    },
    {
     "data": {
      "text/plain": [
       "'C:\\\\Users\\\\samee\\\\Documents\\\\Imagine Cup Saved Models\\\\K-Fold with wrong images\\\\Images to give to Dr. Mannem\\\\False Positives\\\\No_Finding 590.png'"
      ]
     },
     "execution_count": 12,
     "metadata": {},
     "output_type": "execute_result"
    },
    {
     "data": {
      "text/plain": [
       "'C:\\\\Users\\\\samee\\\\Documents\\\\Imagine Cup Saved Models\\\\K-Fold with wrong images\\\\Images to give to Dr. Mannem\\\\False Positives\\\\No_Finding 854.png'"
      ]
     },
     "execution_count": 12,
     "metadata": {},
     "output_type": "execute_result"
    },
    {
     "data": {
      "text/plain": [
       "'C:\\\\Users\\\\samee\\\\Documents\\\\Imagine Cup Saved Models\\\\K-Fold with wrong images\\\\Images to give to Dr. Mannem\\\\False Positives\\\\No_Finding 1242.png'"
      ]
     },
     "execution_count": 12,
     "metadata": {},
     "output_type": "execute_result"
    },
    {
     "data": {
      "text/plain": [
       "'C:\\\\Users\\\\samee\\\\Documents\\\\Imagine Cup Saved Models\\\\K-Fold with wrong images\\\\Images to give to Dr. Mannem\\\\False Positives\\\\No_Finding 563.png'"
      ]
     },
     "execution_count": 12,
     "metadata": {},
     "output_type": "execute_result"
    },
    {
     "data": {
      "text/plain": [
       "'C:\\\\Users\\\\samee\\\\Documents\\\\Imagine Cup Saved Models\\\\K-Fold with wrong images\\\\Images to give to Dr. Mannem\\\\False Positives\\\\No_Finding 437.png'"
      ]
     },
     "execution_count": 12,
     "metadata": {},
     "output_type": "execute_result"
    },
    {
     "data": {
      "text/plain": [
       "'C:\\\\Users\\\\samee\\\\Documents\\\\Imagine Cup Saved Models\\\\K-Fold with wrong images\\\\Images to give to Dr. Mannem\\\\False Positives\\\\No_Finding 438.png'"
      ]
     },
     "execution_count": 12,
     "metadata": {},
     "output_type": "execute_result"
    },
    {
     "data": {
      "text/plain": [
       "'C:\\\\Users\\\\samee\\\\Documents\\\\Imagine Cup Saved Models\\\\K-Fold with wrong images\\\\Images to give to Dr. Mannem\\\\False Positives\\\\No_Finding 1209.png'"
      ]
     },
     "execution_count": 12,
     "metadata": {},
     "output_type": "execute_result"
    },
    {
     "data": {
      "text/plain": [
       "'C:\\\\Users\\\\samee\\\\Documents\\\\Imagine Cup Saved Models\\\\K-Fold with wrong images\\\\Images to give to Dr. Mannem\\\\False Positives\\\\No_Finding 1195.png'"
      ]
     },
     "execution_count": 12,
     "metadata": {},
     "output_type": "execute_result"
    },
    {
     "data": {
      "text/plain": [
       "'C:\\\\Users\\\\samee\\\\Documents\\\\Imagine Cup Saved Models\\\\K-Fold with wrong images\\\\Images to give to Dr. Mannem\\\\False Positives\\\\No_Finding 584.png'"
      ]
     },
     "execution_count": 12,
     "metadata": {},
     "output_type": "execute_result"
    },
    {
     "data": {
      "text/plain": [
       "'C:\\\\Users\\\\samee\\\\Documents\\\\Imagine Cup Saved Models\\\\K-Fold with wrong images\\\\Images to give to Dr. Mannem\\\\False Positives\\\\No_Finding 578.png'"
      ]
     },
     "execution_count": 12,
     "metadata": {},
     "output_type": "execute_result"
    },
    {
     "data": {
      "text/plain": [
       "'C:\\\\Users\\\\samee\\\\Documents\\\\Imagine Cup Saved Models\\\\K-Fold with wrong images\\\\Images to give to Dr. Mannem\\\\False Positives\\\\No_Finding 1064.png'"
      ]
     },
     "execution_count": 12,
     "metadata": {},
     "output_type": "execute_result"
    },
    {
     "data": {
      "text/plain": [
       "'C:\\\\Users\\\\samee\\\\Documents\\\\Imagine Cup Saved Models\\\\K-Fold with wrong images\\\\Images to give to Dr. Mannem\\\\False Positives\\\\No_Finding 1077.png'"
      ]
     },
     "execution_count": 12,
     "metadata": {},
     "output_type": "execute_result"
    },
    {
     "data": {
      "text/plain": [
       "'C:\\\\Users\\\\samee\\\\Documents\\\\Imagine Cup Saved Models\\\\K-Fold with wrong images\\\\Images to give to Dr. Mannem\\\\False Positives\\\\No_Finding 588.png'"
      ]
     },
     "execution_count": 12,
     "metadata": {},
     "output_type": "execute_result"
    },
    {
     "data": {
      "text/plain": [
       "'C:\\\\Users\\\\samee\\\\Documents\\\\Imagine Cup Saved Models\\\\K-Fold with wrong images\\\\Images to give to Dr. Mannem\\\\False Positives\\\\No_Finding 1268.png'"
      ]
     },
     "execution_count": 12,
     "metadata": {},
     "output_type": "execute_result"
    }
   ],
   "source": [
    "positives = pd.DataFrame(lst_of_false_positives)\n",
    "positives.value_counts()\n",
    "for file in random.sample(lst_of_false_positives, 14):\n",
    "    _ = shutil.copy('C:\\\\Users\\\\samee\\\\Downloads\\\\MIMIC\\\\Train\\\\No_Finding\\\\' + file, os.path.join(directory, 'Images to give to Dr. Mannem', 'False Positives', file))"
   ]
  },
  {
   "cell_type": "code",
   "execution_count": 9,
   "metadata": {},
   "outputs": [
    {
     "data": {
      "text/plain": [
       "Fracture 1080.png    1\n",
       "Fracture 1366.png    1\n",
       "Fracture 250.png     1\n",
       "Fracture 270.png     1\n",
       "Fracture 777.png     1\n",
       "Fracture 836.png     1\n",
       "dtype: int64"
      ]
     },
     "execution_count": 9,
     "metadata": {},
     "output_type": "execute_result"
    }
   ],
   "source": [
    "negatives = pd.DataFrame(lst_of_false_negatives)\n",
    "negatives.value_counts()"
   ]
  }
 ],
 "metadata": {
  "kernelspec": {
   "display_name": "Python 3.9.0 ('deeplearningkeras')",
   "language": "python",
   "name": "python3"
  },
  "language_info": {
   "codemirror_mode": {
    "name": "ipython",
    "version": 3
   },
   "file_extension": ".py",
   "mimetype": "text/x-python",
   "name": "python",
   "nbconvert_exporter": "python",
   "pygments_lexer": "ipython3",
   "version": "3.9.0"
  },
  "orig_nbformat": 4,
  "vscode": {
   "interpreter": {
    "hash": "1e533507eb76cbfb81c75639bacc8f460941550716639a402c578975cb3ec022"
   }
  }
 },
 "nbformat": 4,
 "nbformat_minor": 2
}
