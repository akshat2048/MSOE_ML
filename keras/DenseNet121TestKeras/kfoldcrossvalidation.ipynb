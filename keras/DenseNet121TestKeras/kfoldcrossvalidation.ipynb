{
 "cells": [
  {
   "cell_type": "code",
   "execution_count": 1,
   "metadata": {},
   "outputs": [],
   "source": [
    "\n",
    "import numpy as np\n",
    "import pandas as pd\n",
    "import os\n",
    "from sklearn.model_selection import KFold, StratifiedKFold\n",
    "import tensorflow as tf\n",
    "from tensorflow.keras.preprocessing.image import ImageDataGenerator\n",
    "from tensorflow import keras\n",
    "from keras_adabound import AdaBound\n",
    "from tensorflow.keras.applications import DenseNet121\n",
    "\n",
    "# Set up the dataframe\n",
    "# I just picked two random diseases and used them as normal and abnormal\n",
    "\n",
    "NAME_OF_TRAIN_FOLDER_CONTAINING_NORMAL_CLASSES = 'C:\\\\Users\\\\samee\\\\Downloads\\\\Fracture+Normal\\\\Normal'\n",
    "NAME_OF_TRAIN_FOLDER_CONTAINING_ABNORMAL_CLASSES = 'C:\\\\Users\\\\samee\\\\Downloads\\\\Fracture+Normal\\\\Fracture'\n",
    "\n",
    "lst_of_files_and_classes = []\n",
    "\n",
    "for root, dirs, files in os.walk('/Volumes/90OL67YGN/images/train'):\n",
    "    for file in files:\n",
    "        if (root == NAME_OF_TRAIN_FOLDER_CONTAINING_NORMAL_CLASSES):\n",
    "            lst_of_files_and_classes.append((os.path.join(root, file), \"Normal\"))\n",
    "        elif (root == NAME_OF_TRAIN_FOLDER_CONTAINING_ABNORMAL_CLASSES):\n",
    "            lst_of_files_and_classes.append((os.path.join(root, file), \"Abnormal\"))\n",
    "\n",
    "train_data = pd.DataFrame(lst_of_files_and_classes, columns =['filename', 'label'])\n",
    "train_data = train_data.sample(frac=1).reset_index(drop=True)\n",
    "\n",
    "# Set up the actual k-fold stuff\n",
    "\n",
    "Y = train_data[['label']]"
   ]
  },
  {
   "cell_type": "code",
   "execution_count": 2,
   "metadata": {},
   "outputs": [
    {
     "data": {
      "text/html": [
       "<div>\n",
       "<style scoped>\n",
       "    .dataframe tbody tr th:only-of-type {\n",
       "        vertical-align: middle;\n",
       "    }\n",
       "\n",
       "    .dataframe tbody tr th {\n",
       "        vertical-align: top;\n",
       "    }\n",
       "\n",
       "    .dataframe thead th {\n",
       "        text-align: right;\n",
       "    }\n",
       "</style>\n",
       "<table border=\"1\" class=\"dataframe\">\n",
       "  <thead>\n",
       "    <tr style=\"text-align: right;\">\n",
       "      <th></th>\n",
       "      <th>label</th>\n",
       "    </tr>\n",
       "  </thead>\n",
       "  <tbody>\n",
       "  </tbody>\n",
       "</table>\n",
       "</div>"
      ],
      "text/plain": [
       "Empty DataFrame\n",
       "Columns: [label]\n",
       "Index: []"
      ]
     },
     "execution_count": 2,
     "metadata": {},
     "output_type": "execute_result"
    }
   ],
   "source": [
    "train_data"
   ]
  }
 ],
 "metadata": {
  "kernelspec": {
   "display_name": "Python 3.9.0 ('deeplearningkeras')",
   "language": "python",
   "name": "python3"
  },
  "language_info": {
   "codemirror_mode": {
    "name": "ipython",
    "version": 3
   },
   "file_extension": ".py",
   "mimetype": "text/x-python",
   "name": "python",
   "nbconvert_exporter": "python",
   "pygments_lexer": "ipython3",
   "version": "3.9.0"
  },
  "orig_nbformat": 4,
  "vscode": {
   "interpreter": {
    "hash": "1e533507eb76cbfb81c75639bacc8f460941550716639a402c578975cb3ec022"
   }
  }
 },
 "nbformat": 4,
 "nbformat_minor": 2
}
